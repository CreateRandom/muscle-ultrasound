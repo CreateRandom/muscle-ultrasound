{
 "cells": [
  {
   "cell_type": "markdown",
   "metadata": {},
   "source": [
    "## Fetch experiments data from Neptune using [Query API](https://docs.neptune.ai/python-api/query-api.html)"
   ]
  },
  {
   "cell_type": "markdown",
   "metadata": {},
   "source": [
    "This notebook uses Neptune's query API, which is a set of Python methods that let you fetch experiments data from neptune.\n",
    "\n",
    "We fetch all experimental runs for a particular experiment and then go on to compare them.\n",
    "## Common methods of the API Methods\n",
    "This notebook covers most common methods like:\n",
    "\n",
    "1. [get_experiments()](https://docs.neptune.ai/neptune-client/docs/project.html#neptune.projects.Project.get_experiments) - get a list of the [Experiment objects](https://docs.neptune.ai/neptune-client/docs/experiment.html). We will need them to fetch data from selected experiments.\n",
    "1. [get_leaderboard()](https://docs.neptune.ai/neptune-client/docs/project.html#neptune.projects.Project.get_leaderboard) - get experiments table as a pandas DataFrame. Example experiment table is [here](https://ui.neptune.ai/o/USERNAME/org/example-project/experiments?viewId=6013ecbc-416d-4e5c-973e-871e5e9010e9).\n",
    "1. [get_hardware_utilization()](https://docs.neptune.ai/neptune-client/docs/experiment.html#neptune.experiments.Experiment.get_hardware_utilization) - for the Experiment in question, get hardware utilization metrics as pandas DataFrame ([example metrics](https://ui.neptune.ai/o/USERNAME/org/example-project/e/HELLO-177/monitoring)).\n",
    "1. [get_logs()](https://docs.neptune.ai/neptune-client/docs/experiment.html#neptune.experiments.Experiment.get_logs) - get dict, where keys are log names and values are Channel objects.\n",
    "1. [get_numeric_channels_values()](https://docs.neptune.ai/neptune-client/docs/experiment.html#neptune.experiments.Experiment.get_numeric_channels_values) - get values of numeric logs as pandas DataFrame ([example logs](https://ui.neptune.ai/o/USERNAME/org/example-project/e/HELLO-177/charts))."
   ]
  },
  {
   "cell_type": "code",
   "execution_count": 3,
   "metadata": {},
   "outputs": [
    {
     "name": "stdout",
     "output_type": "stream",
     "text": [
      "The autoreload extension is already loaded. To reload it, use:\n",
      "  %reload_ext autoreload\n"
     ]
    }
   ],
   "source": [
    "%matplotlib inline\n",
    "%load_ext autoreload\n",
    "%autoreload 2"
   ]
  },
  {
   "cell_type": "code",
   "execution_count": 1,
   "metadata": {},
   "outputs": [],
   "source": [
    "from utils.tokens import NEPTUNE_API_TOKEN\n",
    "import neptune\n",
    "from scipy.stats import hmean\n",
    "import pandas as pd\n",
    "import plotly.express as px\n",
    "import tqdm"
   ]
  },
  {
   "cell_type": "markdown",
   "metadata": {
    "pycharm": {
     "name": "#%% md\n"
    }
   },
   "source": [
    "# Set project to work with (as usual)"
   ]
  },
  {
   "cell_type": "code",
   "execution_count": 2,
   "metadata": {
    "pycharm": {
     "name": "#%%\n"
    }
   },
   "outputs": [
    {
     "name": "stderr",
     "output_type": "stream",
     "text": [
      "WARNING: There is a new version of neptune-client 0.4.116 (installed: 0.4.114).\n"
     ]
    }
   ],
   "source": [
    "project = neptune.init('createrandom/mus-coral',\n",
    "                       api_token=NEPTUNE_API_TOKEN)"
   ]
  },
  {
   "cell_type": "markdown",
   "metadata": {
    "pycharm": {
     "name": "#%% md\n"
    }
   },
   "source": [
    "# Visualize metrics"
   ]
  },
  {
   "cell_type": "markdown",
   "metadata": {},
   "source": [
    "`get_experiments()` below"
   ]
  },
  {
   "cell_type": "code",
   "execution_count": 3,
   "metadata": {
    "pycharm": {
     "name": "#%%\n"
    }
   },
   "outputs": [],
   "source": [
    "attribute = 'Class'\n",
    "#problem_type = problem_kind[attribute]\n",
    "#print(problem_type)\n",
    "# get experiments objects that satisfy all three conditions. Note that running time is in seconds.\n",
    "experiments = project.get_experiments()"
   ]
  },
  {
   "cell_type": "code",
   "execution_count": 4,
   "metadata": {},
   "outputs": [
    {
     "data": {
      "text/plain": [
       "82"
      ]
     },
     "execution_count": 4,
     "metadata": {},
     "output_type": "execute_result"
    }
   ],
   "source": [
    "len(experiments)"
   ]
  },
  {
   "cell_type": "code",
   "execution_count": 5,
   "metadata": {},
   "outputs": [],
   "source": [
    "problem_type = 'binary'\n",
    "machines = ['ESAOTE_6100/val/', 'Philips_iU22/val/']\n",
    "metric_mapping = {'regression': ['mae'],\n",
    "              'binary': ['auc']}\n",
    "\n",
    "metric_list = metric_mapping[problem_type]\n",
    "\n",
    "logs_names = []\n",
    "for machine in machines:\n",
    "    for metric in metric_list:\n",
    "        final_metric = machine + metric + '_Class'\n",
    "        logs_names.append(final_metric)\n"
   ]
  },
  {
   "cell_type": "code",
   "execution_count": 6,
   "metadata": {},
   "outputs": [],
   "source": [
    "logs_names\n",
    "logs_names.append('training/mean_coral_Class')"
   ]
  },
  {
   "cell_type": "code",
   "execution_count": null,
   "outputs": [],
   "source": [
    "experiments"
   ],
   "metadata": {
    "collapsed": false,
    "pycharm": {
     "name": "#%%\n"
    }
   }
  },
  {
   "cell_type": "code",
   "execution_count": null,
   "outputs": [],
   "source": [
    "philips_without_coral = experiments[-3].get_numeric_channels_values(*logs_names)\n",
    "philips_with_coral = experiments[-1].get_numeric_channels_values(*logs_names)"
   ],
   "metadata": {
    "collapsed": false,
    "pycharm": {
     "name": "#%%\n"
    }
   }
  },
  {
   "cell_type": "code",
   "execution_count": null,
   "outputs": [],
   "source": [
    "philips_merged = philips_with_coral.merge(philips_without_coral,on='x',suffixes=['_w', '_w/o'])\n",
    "pm = philips_merged.rename({'ESAOTE_6100/val/auc_Class_w': 'CORAL',\n",
    "                      'ESAOTE_6100/val/auc_Class_w/o': 'MIL'},axis=1)\n",
    "px.line(pm,x='x',y=['CORAL','MIL'],range_y=[0,1],labels={'value': 'Validation AUC','variable':'Condition','x':'Epoch'})"
   ],
   "metadata": {
    "collapsed": false,
    "pycharm": {
     "name": "#%%\n"
    }
   }
  },
  {
   "cell_type": "code",
   "execution_count": null,
   "outputs": [],
   "source": [
    "philips_merged"
   ],
   "metadata": {
    "collapsed": false,
    "pycharm": {
     "name": "#%%\n"
    }
   }
  },
  {
   "cell_type": "code",
   "execution_count": null,
   "outputs": [],
   "source": [
    "pm = philips_merged.rename({'training/mean_coral_Class_w': 'CORAL',\n",
    "                      'training/mean_coral_Class_w/o': 'MIL'},axis=1)\n",
    "px.line(pm,x='x',y=['CORAL','MIL'],labels={'value': 'Mean CORAL loss','variable':'Condition','x':'Epoch'})\n"
   ],
   "metadata": {
    "collapsed": false,
    "pycharm": {
     "name": "#%%\n"
    }
   }
  },
  {
   "cell_type": "code",
   "execution_count": 11,
   "metadata": {},
   "outputs": [
    {
     "data": {
      "text/plain": [
       "[Experiment(CORAL-14),\n",
       " Experiment(CORAL-15),\n",
       " Experiment(CORAL-16),\n",
       " Experiment(CORAL-17),\n",
       " Experiment(CORAL-18),\n",
       " Experiment(CORAL-19),\n",
       " Experiment(CORAL-47),\n",
       " Experiment(CORAL-48),\n",
       " Experiment(CORAL-49),\n",
       " Experiment(CORAL-50),\n",
       " Experiment(CORAL-51),\n",
       " Experiment(CORAL-52),\n",
       " Experiment(CORAL-53),\n",
       " Experiment(CORAL-54),\n",
       " Experiment(CORAL-55),\n",
       " Experiment(CORAL-56),\n",
       " Experiment(CORAL-57),\n",
       " Experiment(CORAL-58),\n",
       " Experiment(CORAL-59),\n",
       " Experiment(CORAL-60),\n",
       " Experiment(CORAL-61),\n",
       " Experiment(CORAL-62),\n",
       " Experiment(CORAL-63),\n",
       " Experiment(CORAL-64),\n",
       " Experiment(CORAL-65),\n",
       " Experiment(CORAL-66),\n",
       " Experiment(CORAL-67),\n",
       " Experiment(CORAL-68),\n",
       " Experiment(CORAL-69),\n",
       " Experiment(CORAL-70),\n",
       " Experiment(CORAL-71),\n",
       " Experiment(CORAL-72),\n",
       " Experiment(CORAL-73),\n",
       " Experiment(CORAL-74),\n",
       " Experiment(CORAL-75),\n",
       " Experiment(CORAL-76),\n",
       " Experiment(CORAL-77),\n",
       " Experiment(CORAL-78),\n",
       " Experiment(CORAL-79),\n",
       " Experiment(CORAL-80),\n",
       " Experiment(CORAL-81),\n",
       " Experiment(CORAL-82),\n",
       " Experiment(CORAL-83),\n",
       " Experiment(CORAL-84),\n",
       " Experiment(CORAL-85),\n",
       " Experiment(CORAL-86),\n",
       " Experiment(CORAL-87),\n",
       " Experiment(CORAL-88),\n",
       " Experiment(CORAL-89),\n",
       " Experiment(CORAL-90),\n",
       " Experiment(CORAL-91),\n",
       " Experiment(CORAL-92),\n",
       " Experiment(CORAL-93),\n",
       " Experiment(CORAL-94),\n",
       " Experiment(CORAL-95),\n",
       " Experiment(CORAL-96),\n",
       " Experiment(CORAL-97),\n",
       " Experiment(CORAL-98),\n",
       " Experiment(CORAL-99),\n",
       " Experiment(CORAL-100),\n",
       " Experiment(CORAL-101),\n",
       " Experiment(CORAL-102),\n",
       " Experiment(CORAL-103),\n",
       " Experiment(CORAL-104),\n",
       " Experiment(CORAL-105),\n",
       " Experiment(CORAL-106),\n",
       " Experiment(CORAL-107),\n",
       " Experiment(CORAL-108),\n",
       " Experiment(CORAL-109),\n",
       " Experiment(CORAL-110),\n",
       " Experiment(CORAL-111),\n",
       " Experiment(CORAL-112),\n",
       " Experiment(CORAL-113),\n",
       " Experiment(CORAL-114),\n",
       " Experiment(CORAL-115),\n",
       " Experiment(CORAL-116),\n",
       " Experiment(CORAL-117),\n",
       " Experiment(CORAL-118),\n",
       " Experiment(CORAL-123),\n",
       " Experiment(CORAL-124),\n",
       " Experiment(CORAL-133),\n",
       " Experiment(CORAL-134)]"
      ]
     },
     "execution_count": 11,
     "metadata": {},
     "output_type": "execute_result"
    }
   ],
   "source": [
    "metrics_df = pd.DataFrame(columns=['id', *logs_names])\n",
    "for experiment in tqdm.notebook.tqdm(experiments):\n",
    "    df = experiment.get_numeric_channels_values(*logs_names)  # get logs values\n",
    "    #print(df)\n",
    "   # df['tags'] = experiment.get_tags()\n",
    "   # params = experiment.get_parameters()\n",
    "    output = df.append(df, ignore_index=True)\n",
    "    df.insert(loc=0, column='id', value=experiment.id)\n",
    "    metrics_df = metrics_df.append(df, sort=True)\n"
   ]
  },
  {
   "cell_type": "code",
   "execution_count": 66,
   "metadata": {},
   "outputs": [],
   "source": [
    "philips_without_coral = experiments[-3].get_numeric_channels_values(*logs_names)\n",
    "philips_with_coral = experiments[-1].get_numeric_channels_values(*logs_names)"
   ]
  },
  {
   "cell_type": "code",
   "execution_count": 69,
   "metadata": {},
   "outputs": [
    {
     "data": {
      "application/vnd.plotly.v1+json": {
       "config": {
        "plotlyServerURL": "https://plot.ly"
       },
       "data": [
        {
         "hovertemplate": "Condition=CORAL<br>Epoch=%{x}<br>Validation AUC=%{y}<extra></extra>",
         "legendgroup": "CORAL",
         "line": {
          "color": "#636efa",
          "dash": "solid"
         },
         "mode": "lines",
         "name": "CORAL",
         "orientation": "v",
         "showlegend": true,
         "type": "scatter",
         "x": [
          1,
          2,
          3,
          4,
          5,
          6,
          7,
          8,
          9,
          10,
          11,
          12,
          13,
          14,
          15
         ],
         "xaxis": "x",
         "y": [
          0.6508901432913591,
          0.6845315904139434,
          0.7130434782608696,
          0.5607843137254902,
          0.4882608695652174,
          0.4867102396514161,
          0.5790849673202614,
          0.5647826086956521,
          0.688811188811189,
          0.4921739130434782,
          0.6247826086956522,
          0.5411764705882353,
          0.6018237082066871,
          0.4995652173913043,
          0.5749023013460703
         ],
         "yaxis": "y"
        },
        {
         "hovertemplate": "Condition=MIL<br>Epoch=%{x}<br>Validation AUC=%{y}<extra></extra>",
         "legendgroup": "MIL",
         "line": {
          "color": "#EF553B",
          "dash": "solid"
         },
         "mode": "lines",
         "name": "MIL",
         "orientation": "v",
         "showlegend": true,
         "type": "scatter",
         "x": [
          1,
          2,
          3,
          4,
          5,
          6,
          7,
          8,
          9,
          10,
          11,
          12,
          13,
          14,
          15
         ],
         "xaxis": "x",
         "y": [
          0.5844550586191923,
          0.5917211328976036,
          0.668695652173913,
          0.4457516339869281,
          0.576086956521739,
          0.5877995642701525,
          0.644880174291939,
          0.6047826086956521,
          0.7246503496503496,
          0.7247826086956521,
          0.5886956521739131,
          0.6941176470588235,
          0.4728614850195397,
          0.6708695652173912,
          0.6743378202344766
         ],
         "yaxis": "y"
        }
       ],
       "layout": {
        "legend": {
         "title": {
          "text": "Condition"
         },
         "tracegroupgap": 0
        },
        "margin": {
         "t": 60
        },
        "template": {
         "data": {
          "bar": [
           {
            "error_x": {
             "color": "#2a3f5f"
            },
            "error_y": {
             "color": "#2a3f5f"
            },
            "marker": {
             "line": {
              "color": "#E5ECF6",
              "width": 0.5
             }
            },
            "type": "bar"
           }
          ],
          "barpolar": [
           {
            "marker": {
             "line": {
              "color": "#E5ECF6",
              "width": 0.5
             }
            },
            "type": "barpolar"
           }
          ],
          "carpet": [
           {
            "aaxis": {
             "endlinecolor": "#2a3f5f",
             "gridcolor": "white",
             "linecolor": "white",
             "minorgridcolor": "white",
             "startlinecolor": "#2a3f5f"
            },
            "baxis": {
             "endlinecolor": "#2a3f5f",
             "gridcolor": "white",
             "linecolor": "white",
             "minorgridcolor": "white",
             "startlinecolor": "#2a3f5f"
            },
            "type": "carpet"
           }
          ],
          "choropleth": [
           {
            "colorbar": {
             "outlinewidth": 0,
             "ticks": ""
            },
            "type": "choropleth"
           }
          ],
          "contour": [
           {
            "colorbar": {
             "outlinewidth": 0,
             "ticks": ""
            },
            "colorscale": [
             [
              0,
              "#0d0887"
             ],
             [
              0.1111111111111111,
              "#46039f"
             ],
             [
              0.2222222222222222,
              "#7201a8"
             ],
             [
              0.3333333333333333,
              "#9c179e"
             ],
             [
              0.4444444444444444,
              "#bd3786"
             ],
             [
              0.5555555555555556,
              "#d8576b"
             ],
             [
              0.6666666666666666,
              "#ed7953"
             ],
             [
              0.7777777777777778,
              "#fb9f3a"
             ],
             [
              0.8888888888888888,
              "#fdca26"
             ],
             [
              1,
              "#f0f921"
             ]
            ],
            "type": "contour"
           }
          ],
          "contourcarpet": [
           {
            "colorbar": {
             "outlinewidth": 0,
             "ticks": ""
            },
            "type": "contourcarpet"
           }
          ],
          "heatmap": [
           {
            "colorbar": {
             "outlinewidth": 0,
             "ticks": ""
            },
            "colorscale": [
             [
              0,
              "#0d0887"
             ],
             [
              0.1111111111111111,
              "#46039f"
             ],
             [
              0.2222222222222222,
              "#7201a8"
             ],
             [
              0.3333333333333333,
              "#9c179e"
             ],
             [
              0.4444444444444444,
              "#bd3786"
             ],
             [
              0.5555555555555556,
              "#d8576b"
             ],
             [
              0.6666666666666666,
              "#ed7953"
             ],
             [
              0.7777777777777778,
              "#fb9f3a"
             ],
             [
              0.8888888888888888,
              "#fdca26"
             ],
             [
              1,
              "#f0f921"
             ]
            ],
            "type": "heatmap"
           }
          ],
          "heatmapgl": [
           {
            "colorbar": {
             "outlinewidth": 0,
             "ticks": ""
            },
            "colorscale": [
             [
              0,
              "#0d0887"
             ],
             [
              0.1111111111111111,
              "#46039f"
             ],
             [
              0.2222222222222222,
              "#7201a8"
             ],
             [
              0.3333333333333333,
              "#9c179e"
             ],
             [
              0.4444444444444444,
              "#bd3786"
             ],
             [
              0.5555555555555556,
              "#d8576b"
             ],
             [
              0.6666666666666666,
              "#ed7953"
             ],
             [
              0.7777777777777778,
              "#fb9f3a"
             ],
             [
              0.8888888888888888,
              "#fdca26"
             ],
             [
              1,
              "#f0f921"
             ]
            ],
            "type": "heatmapgl"
           }
          ],
          "histogram": [
           {
            "marker": {
             "colorbar": {
              "outlinewidth": 0,
              "ticks": ""
             }
            },
            "type": "histogram"
           }
          ],
          "histogram2d": [
           {
            "colorbar": {
             "outlinewidth": 0,
             "ticks": ""
            },
            "colorscale": [
             [
              0,
              "#0d0887"
             ],
             [
              0.1111111111111111,
              "#46039f"
             ],
             [
              0.2222222222222222,
              "#7201a8"
             ],
             [
              0.3333333333333333,
              "#9c179e"
             ],
             [
              0.4444444444444444,
              "#bd3786"
             ],
             [
              0.5555555555555556,
              "#d8576b"
             ],
             [
              0.6666666666666666,
              "#ed7953"
             ],
             [
              0.7777777777777778,
              "#fb9f3a"
             ],
             [
              0.8888888888888888,
              "#fdca26"
             ],
             [
              1,
              "#f0f921"
             ]
            ],
            "type": "histogram2d"
           }
          ],
          "histogram2dcontour": [
           {
            "colorbar": {
             "outlinewidth": 0,
             "ticks": ""
            },
            "colorscale": [
             [
              0,
              "#0d0887"
             ],
             [
              0.1111111111111111,
              "#46039f"
             ],
             [
              0.2222222222222222,
              "#7201a8"
             ],
             [
              0.3333333333333333,
              "#9c179e"
             ],
             [
              0.4444444444444444,
              "#bd3786"
             ],
             [
              0.5555555555555556,
              "#d8576b"
             ],
             [
              0.6666666666666666,
              "#ed7953"
             ],
             [
              0.7777777777777778,
              "#fb9f3a"
             ],
             [
              0.8888888888888888,
              "#fdca26"
             ],
             [
              1,
              "#f0f921"
             ]
            ],
            "type": "histogram2dcontour"
           }
          ],
          "mesh3d": [
           {
            "colorbar": {
             "outlinewidth": 0,
             "ticks": ""
            },
            "type": "mesh3d"
           }
          ],
          "parcoords": [
           {
            "line": {
             "colorbar": {
              "outlinewidth": 0,
              "ticks": ""
             }
            },
            "type": "parcoords"
           }
          ],
          "pie": [
           {
            "automargin": true,
            "type": "pie"
           }
          ],
          "scatter": [
           {
            "marker": {
             "colorbar": {
              "outlinewidth": 0,
              "ticks": ""
             }
            },
            "type": "scatter"
           }
          ],
          "scatter3d": [
           {
            "line": {
             "colorbar": {
              "outlinewidth": 0,
              "ticks": ""
             }
            },
            "marker": {
             "colorbar": {
              "outlinewidth": 0,
              "ticks": ""
             }
            },
            "type": "scatter3d"
           }
          ],
          "scattercarpet": [
           {
            "marker": {
             "colorbar": {
              "outlinewidth": 0,
              "ticks": ""
             }
            },
            "type": "scattercarpet"
           }
          ],
          "scattergeo": [
           {
            "marker": {
             "colorbar": {
              "outlinewidth": 0,
              "ticks": ""
             }
            },
            "type": "scattergeo"
           }
          ],
          "scattergl": [
           {
            "marker": {
             "colorbar": {
              "outlinewidth": 0,
              "ticks": ""
             }
            },
            "type": "scattergl"
           }
          ],
          "scattermapbox": [
           {
            "marker": {
             "colorbar": {
              "outlinewidth": 0,
              "ticks": ""
             }
            },
            "type": "scattermapbox"
           }
          ],
          "scatterpolar": [
           {
            "marker": {
             "colorbar": {
              "outlinewidth": 0,
              "ticks": ""
             }
            },
            "type": "scatterpolar"
           }
          ],
          "scatterpolargl": [
           {
            "marker": {
             "colorbar": {
              "outlinewidth": 0,
              "ticks": ""
             }
            },
            "type": "scatterpolargl"
           }
          ],
          "scatterternary": [
           {
            "marker": {
             "colorbar": {
              "outlinewidth": 0,
              "ticks": ""
             }
            },
            "type": "scatterternary"
           }
          ],
          "surface": [
           {
            "colorbar": {
             "outlinewidth": 0,
             "ticks": ""
            },
            "colorscale": [
             [
              0,
              "#0d0887"
             ],
             [
              0.1111111111111111,
              "#46039f"
             ],
             [
              0.2222222222222222,
              "#7201a8"
             ],
             [
              0.3333333333333333,
              "#9c179e"
             ],
             [
              0.4444444444444444,
              "#bd3786"
             ],
             [
              0.5555555555555556,
              "#d8576b"
             ],
             [
              0.6666666666666666,
              "#ed7953"
             ],
             [
              0.7777777777777778,
              "#fb9f3a"
             ],
             [
              0.8888888888888888,
              "#fdca26"
             ],
             [
              1,
              "#f0f921"
             ]
            ],
            "type": "surface"
           }
          ],
          "table": [
           {
            "cells": {
             "fill": {
              "color": "#EBF0F8"
             },
             "line": {
              "color": "white"
             }
            },
            "header": {
             "fill": {
              "color": "#C8D4E3"
             },
             "line": {
              "color": "white"
             }
            },
            "type": "table"
           }
          ]
         },
         "layout": {
          "annotationdefaults": {
           "arrowcolor": "#2a3f5f",
           "arrowhead": 0,
           "arrowwidth": 1
          },
          "coloraxis": {
           "colorbar": {
            "outlinewidth": 0,
            "ticks": ""
           }
          },
          "colorscale": {
           "diverging": [
            [
             0,
             "#8e0152"
            ],
            [
             0.1,
             "#c51b7d"
            ],
            [
             0.2,
             "#de77ae"
            ],
            [
             0.3,
             "#f1b6da"
            ],
            [
             0.4,
             "#fde0ef"
            ],
            [
             0.5,
             "#f7f7f7"
            ],
            [
             0.6,
             "#e6f5d0"
            ],
            [
             0.7,
             "#b8e186"
            ],
            [
             0.8,
             "#7fbc41"
            ],
            [
             0.9,
             "#4d9221"
            ],
            [
             1,
             "#276419"
            ]
           ],
           "sequential": [
            [
             0,
             "#0d0887"
            ],
            [
             0.1111111111111111,
             "#46039f"
            ],
            [
             0.2222222222222222,
             "#7201a8"
            ],
            [
             0.3333333333333333,
             "#9c179e"
            ],
            [
             0.4444444444444444,
             "#bd3786"
            ],
            [
             0.5555555555555556,
             "#d8576b"
            ],
            [
             0.6666666666666666,
             "#ed7953"
            ],
            [
             0.7777777777777778,
             "#fb9f3a"
            ],
            [
             0.8888888888888888,
             "#fdca26"
            ],
            [
             1,
             "#f0f921"
            ]
           ],
           "sequentialminus": [
            [
             0,
             "#0d0887"
            ],
            [
             0.1111111111111111,
             "#46039f"
            ],
            [
             0.2222222222222222,
             "#7201a8"
            ],
            [
             0.3333333333333333,
             "#9c179e"
            ],
            [
             0.4444444444444444,
             "#bd3786"
            ],
            [
             0.5555555555555556,
             "#d8576b"
            ],
            [
             0.6666666666666666,
             "#ed7953"
            ],
            [
             0.7777777777777778,
             "#fb9f3a"
            ],
            [
             0.8888888888888888,
             "#fdca26"
            ],
            [
             1,
             "#f0f921"
            ]
           ]
          },
          "colorway": [
           "#636efa",
           "#EF553B",
           "#00cc96",
           "#ab63fa",
           "#FFA15A",
           "#19d3f3",
           "#FF6692",
           "#B6E880",
           "#FF97FF",
           "#FECB52"
          ],
          "font": {
           "color": "#2a3f5f"
          },
          "geo": {
           "bgcolor": "white",
           "lakecolor": "white",
           "landcolor": "#E5ECF6",
           "showlakes": true,
           "showland": true,
           "subunitcolor": "white"
          },
          "hoverlabel": {
           "align": "left"
          },
          "hovermode": "closest",
          "mapbox": {
           "style": "light"
          },
          "paper_bgcolor": "white",
          "plot_bgcolor": "#E5ECF6",
          "polar": {
           "angularaxis": {
            "gridcolor": "white",
            "linecolor": "white",
            "ticks": ""
           },
           "bgcolor": "#E5ECF6",
           "radialaxis": {
            "gridcolor": "white",
            "linecolor": "white",
            "ticks": ""
           }
          },
          "scene": {
           "xaxis": {
            "backgroundcolor": "#E5ECF6",
            "gridcolor": "white",
            "gridwidth": 2,
            "linecolor": "white",
            "showbackground": true,
            "ticks": "",
            "zerolinecolor": "white"
           },
           "yaxis": {
            "backgroundcolor": "#E5ECF6",
            "gridcolor": "white",
            "gridwidth": 2,
            "linecolor": "white",
            "showbackground": true,
            "ticks": "",
            "zerolinecolor": "white"
           },
           "zaxis": {
            "backgroundcolor": "#E5ECF6",
            "gridcolor": "white",
            "gridwidth": 2,
            "linecolor": "white",
            "showbackground": true,
            "ticks": "",
            "zerolinecolor": "white"
           }
          },
          "shapedefaults": {
           "line": {
            "color": "#2a3f5f"
           }
          },
          "ternary": {
           "aaxis": {
            "gridcolor": "white",
            "linecolor": "white",
            "ticks": ""
           },
           "baxis": {
            "gridcolor": "white",
            "linecolor": "white",
            "ticks": ""
           },
           "bgcolor": "#E5ECF6",
           "caxis": {
            "gridcolor": "white",
            "linecolor": "white",
            "ticks": ""
           }
          },
          "title": {
           "x": 0.05
          },
          "xaxis": {
           "automargin": true,
           "gridcolor": "white",
           "linecolor": "white",
           "ticks": "",
           "title": {
            "standoff": 15
           },
           "zerolinecolor": "white",
           "zerolinewidth": 2
          },
          "yaxis": {
           "automargin": true,
           "gridcolor": "white",
           "linecolor": "white",
           "ticks": "",
           "title": {
            "standoff": 15
           },
           "zerolinecolor": "white",
           "zerolinewidth": 2
          }
         }
        },
        "xaxis": {
         "anchor": "y",
         "domain": [
          0,
          1
         ],
         "title": {
          "text": "Epoch"
         }
        },
        "yaxis": {
         "anchor": "x",
         "domain": [
          0,
          1
         ],
         "range": [
          0,
          1
         ],
         "title": {
          "text": "Validation AUC"
         }
        }
       }
      },
      "text/html": [
       "<div>\n",
       "        \n",
       "        \n",
       "            <div id=\"477a1bd2-31de-49e1-bbf3-08df53984846\" class=\"plotly-graph-div\" style=\"height:525px; width:100%;\"></div>\n",
       "            <script type=\"text/javascript\">\n",
       "                require([\"plotly\"], function(Plotly) {\n",
       "                    window.PLOTLYENV=window.PLOTLYENV || {};\n",
       "                    \n",
       "                if (document.getElementById(\"477a1bd2-31de-49e1-bbf3-08df53984846\")) {\n",
       "                    Plotly.newPlot(\n",
       "                        '477a1bd2-31de-49e1-bbf3-08df53984846',\n",
       "                        [{\"hovertemplate\": \"Condition=CORAL<br>Epoch=%{x}<br>Validation AUC=%{y}<extra></extra>\", \"legendgroup\": \"CORAL\", \"line\": {\"color\": \"#636efa\", \"dash\": \"solid\"}, \"mode\": \"lines\", \"name\": \"CORAL\", \"orientation\": \"v\", \"showlegend\": true, \"type\": \"scatter\", \"x\": [1.0, 2.0, 3.0, 4.0, 5.0, 6.0, 7.0, 8.0, 9.0, 10.0, 11.0, 12.0, 13.0, 14.0, 15.0], \"xaxis\": \"x\", \"y\": [0.6508901432913591, 0.6845315904139434, 0.7130434782608696, 0.5607843137254902, 0.4882608695652174, 0.4867102396514161, 0.5790849673202614, 0.5647826086956521, 0.688811188811189, 0.4921739130434782, 0.6247826086956522, 0.5411764705882353, 0.6018237082066871, 0.4995652173913043, 0.5749023013460703], \"yaxis\": \"y\"}, {\"hovertemplate\": \"Condition=MIL<br>Epoch=%{x}<br>Validation AUC=%{y}<extra></extra>\", \"legendgroup\": \"MIL\", \"line\": {\"color\": \"#EF553B\", \"dash\": \"solid\"}, \"mode\": \"lines\", \"name\": \"MIL\", \"orientation\": \"v\", \"showlegend\": true, \"type\": \"scatter\", \"x\": [1.0, 2.0, 3.0, 4.0, 5.0, 6.0, 7.0, 8.0, 9.0, 10.0, 11.0, 12.0, 13.0, 14.0, 15.0], \"xaxis\": \"x\", \"y\": [0.5844550586191923, 0.5917211328976036, 0.668695652173913, 0.4457516339869281, 0.576086956521739, 0.5877995642701525, 0.644880174291939, 0.6047826086956521, 0.7246503496503496, 0.7247826086956521, 0.5886956521739131, 0.6941176470588235, 0.4728614850195397, 0.6708695652173912, 0.6743378202344766], \"yaxis\": \"y\"}],\n",
       "                        {\"legend\": {\"title\": {\"text\": \"Condition\"}, \"tracegroupgap\": 0}, \"margin\": {\"t\": 60}, \"template\": {\"data\": {\"bar\": [{\"error_x\": {\"color\": \"#2a3f5f\"}, \"error_y\": {\"color\": \"#2a3f5f\"}, \"marker\": {\"line\": {\"color\": \"#E5ECF6\", \"width\": 0.5}}, \"type\": \"bar\"}], \"barpolar\": [{\"marker\": {\"line\": {\"color\": \"#E5ECF6\", \"width\": 0.5}}, \"type\": \"barpolar\"}], \"carpet\": [{\"aaxis\": {\"endlinecolor\": \"#2a3f5f\", \"gridcolor\": \"white\", \"linecolor\": \"white\", \"minorgridcolor\": \"white\", \"startlinecolor\": \"#2a3f5f\"}, \"baxis\": {\"endlinecolor\": \"#2a3f5f\", \"gridcolor\": \"white\", \"linecolor\": \"white\", \"minorgridcolor\": \"white\", \"startlinecolor\": \"#2a3f5f\"}, \"type\": \"carpet\"}], \"choropleth\": [{\"colorbar\": {\"outlinewidth\": 0, \"ticks\": \"\"}, \"type\": \"choropleth\"}], \"contour\": [{\"colorbar\": {\"outlinewidth\": 0, \"ticks\": \"\"}, \"colorscale\": [[0.0, \"#0d0887\"], [0.1111111111111111, \"#46039f\"], [0.2222222222222222, \"#7201a8\"], [0.3333333333333333, \"#9c179e\"], [0.4444444444444444, \"#bd3786\"], [0.5555555555555556, \"#d8576b\"], [0.6666666666666666, \"#ed7953\"], [0.7777777777777778, \"#fb9f3a\"], [0.8888888888888888, \"#fdca26\"], [1.0, \"#f0f921\"]], \"type\": \"contour\"}], \"contourcarpet\": [{\"colorbar\": {\"outlinewidth\": 0, \"ticks\": \"\"}, \"type\": \"contourcarpet\"}], \"heatmap\": [{\"colorbar\": {\"outlinewidth\": 0, \"ticks\": \"\"}, \"colorscale\": [[0.0, \"#0d0887\"], [0.1111111111111111, \"#46039f\"], [0.2222222222222222, \"#7201a8\"], [0.3333333333333333, \"#9c179e\"], [0.4444444444444444, \"#bd3786\"], [0.5555555555555556, \"#d8576b\"], [0.6666666666666666, \"#ed7953\"], [0.7777777777777778, \"#fb9f3a\"], [0.8888888888888888, \"#fdca26\"], [1.0, \"#f0f921\"]], \"type\": \"heatmap\"}], \"heatmapgl\": [{\"colorbar\": {\"outlinewidth\": 0, \"ticks\": \"\"}, \"colorscale\": [[0.0, \"#0d0887\"], [0.1111111111111111, \"#46039f\"], [0.2222222222222222, \"#7201a8\"], [0.3333333333333333, \"#9c179e\"], [0.4444444444444444, \"#bd3786\"], [0.5555555555555556, \"#d8576b\"], [0.6666666666666666, \"#ed7953\"], [0.7777777777777778, \"#fb9f3a\"], [0.8888888888888888, \"#fdca26\"], [1.0, \"#f0f921\"]], \"type\": \"heatmapgl\"}], \"histogram\": [{\"marker\": {\"colorbar\": {\"outlinewidth\": 0, \"ticks\": \"\"}}, \"type\": \"histogram\"}], \"histogram2d\": [{\"colorbar\": {\"outlinewidth\": 0, \"ticks\": \"\"}, \"colorscale\": [[0.0, \"#0d0887\"], [0.1111111111111111, \"#46039f\"], [0.2222222222222222, \"#7201a8\"], [0.3333333333333333, \"#9c179e\"], [0.4444444444444444, \"#bd3786\"], [0.5555555555555556, \"#d8576b\"], [0.6666666666666666, \"#ed7953\"], [0.7777777777777778, \"#fb9f3a\"], [0.8888888888888888, \"#fdca26\"], [1.0, \"#f0f921\"]], \"type\": \"histogram2d\"}], \"histogram2dcontour\": [{\"colorbar\": {\"outlinewidth\": 0, \"ticks\": \"\"}, \"colorscale\": [[0.0, \"#0d0887\"], [0.1111111111111111, \"#46039f\"], [0.2222222222222222, \"#7201a8\"], [0.3333333333333333, \"#9c179e\"], [0.4444444444444444, \"#bd3786\"], [0.5555555555555556, \"#d8576b\"], [0.6666666666666666, \"#ed7953\"], [0.7777777777777778, \"#fb9f3a\"], [0.8888888888888888, \"#fdca26\"], [1.0, \"#f0f921\"]], \"type\": \"histogram2dcontour\"}], \"mesh3d\": [{\"colorbar\": {\"outlinewidth\": 0, \"ticks\": \"\"}, \"type\": \"mesh3d\"}], \"parcoords\": [{\"line\": {\"colorbar\": {\"outlinewidth\": 0, \"ticks\": \"\"}}, \"type\": \"parcoords\"}], \"pie\": [{\"automargin\": true, \"type\": \"pie\"}], \"scatter\": [{\"marker\": {\"colorbar\": {\"outlinewidth\": 0, \"ticks\": \"\"}}, \"type\": \"scatter\"}], \"scatter3d\": [{\"line\": {\"colorbar\": {\"outlinewidth\": 0, \"ticks\": \"\"}}, \"marker\": {\"colorbar\": {\"outlinewidth\": 0, \"ticks\": \"\"}}, \"type\": \"scatter3d\"}], \"scattercarpet\": [{\"marker\": {\"colorbar\": {\"outlinewidth\": 0, \"ticks\": \"\"}}, \"type\": \"scattercarpet\"}], \"scattergeo\": [{\"marker\": {\"colorbar\": {\"outlinewidth\": 0, \"ticks\": \"\"}}, \"type\": \"scattergeo\"}], \"scattergl\": [{\"marker\": {\"colorbar\": {\"outlinewidth\": 0, \"ticks\": \"\"}}, \"type\": \"scattergl\"}], \"scattermapbox\": [{\"marker\": {\"colorbar\": {\"outlinewidth\": 0, \"ticks\": \"\"}}, \"type\": \"scattermapbox\"}], \"scatterpolar\": [{\"marker\": {\"colorbar\": {\"outlinewidth\": 0, \"ticks\": \"\"}}, \"type\": \"scatterpolar\"}], \"scatterpolargl\": [{\"marker\": {\"colorbar\": {\"outlinewidth\": 0, \"ticks\": \"\"}}, \"type\": \"scatterpolargl\"}], \"scatterternary\": [{\"marker\": {\"colorbar\": {\"outlinewidth\": 0, \"ticks\": \"\"}}, \"type\": \"scatterternary\"}], \"surface\": [{\"colorbar\": {\"outlinewidth\": 0, \"ticks\": \"\"}, \"colorscale\": [[0.0, \"#0d0887\"], [0.1111111111111111, \"#46039f\"], [0.2222222222222222, \"#7201a8\"], [0.3333333333333333, \"#9c179e\"], [0.4444444444444444, \"#bd3786\"], [0.5555555555555556, \"#d8576b\"], [0.6666666666666666, \"#ed7953\"], [0.7777777777777778, \"#fb9f3a\"], [0.8888888888888888, \"#fdca26\"], [1.0, \"#f0f921\"]], \"type\": \"surface\"}], \"table\": [{\"cells\": {\"fill\": {\"color\": \"#EBF0F8\"}, \"line\": {\"color\": \"white\"}}, \"header\": {\"fill\": {\"color\": \"#C8D4E3\"}, \"line\": {\"color\": \"white\"}}, \"type\": \"table\"}]}, \"layout\": {\"annotationdefaults\": {\"arrowcolor\": \"#2a3f5f\", \"arrowhead\": 0, \"arrowwidth\": 1}, \"coloraxis\": {\"colorbar\": {\"outlinewidth\": 0, \"ticks\": \"\"}}, \"colorscale\": {\"diverging\": [[0, \"#8e0152\"], [0.1, \"#c51b7d\"], [0.2, \"#de77ae\"], [0.3, \"#f1b6da\"], [0.4, \"#fde0ef\"], [0.5, \"#f7f7f7\"], [0.6, \"#e6f5d0\"], [0.7, \"#b8e186\"], [0.8, \"#7fbc41\"], [0.9, \"#4d9221\"], [1, \"#276419\"]], \"sequential\": [[0.0, \"#0d0887\"], [0.1111111111111111, \"#46039f\"], [0.2222222222222222, \"#7201a8\"], [0.3333333333333333, \"#9c179e\"], [0.4444444444444444, \"#bd3786\"], [0.5555555555555556, \"#d8576b\"], [0.6666666666666666, \"#ed7953\"], [0.7777777777777778, \"#fb9f3a\"], [0.8888888888888888, \"#fdca26\"], [1.0, \"#f0f921\"]], \"sequentialminus\": [[0.0, \"#0d0887\"], [0.1111111111111111, \"#46039f\"], [0.2222222222222222, \"#7201a8\"], [0.3333333333333333, \"#9c179e\"], [0.4444444444444444, \"#bd3786\"], [0.5555555555555556, \"#d8576b\"], [0.6666666666666666, \"#ed7953\"], [0.7777777777777778, \"#fb9f3a\"], [0.8888888888888888, \"#fdca26\"], [1.0, \"#f0f921\"]]}, \"colorway\": [\"#636efa\", \"#EF553B\", \"#00cc96\", \"#ab63fa\", \"#FFA15A\", \"#19d3f3\", \"#FF6692\", \"#B6E880\", \"#FF97FF\", \"#FECB52\"], \"font\": {\"color\": \"#2a3f5f\"}, \"geo\": {\"bgcolor\": \"white\", \"lakecolor\": \"white\", \"landcolor\": \"#E5ECF6\", \"showlakes\": true, \"showland\": true, \"subunitcolor\": \"white\"}, \"hoverlabel\": {\"align\": \"left\"}, \"hovermode\": \"closest\", \"mapbox\": {\"style\": \"light\"}, \"paper_bgcolor\": \"white\", \"plot_bgcolor\": \"#E5ECF6\", \"polar\": {\"angularaxis\": {\"gridcolor\": \"white\", \"linecolor\": \"white\", \"ticks\": \"\"}, \"bgcolor\": \"#E5ECF6\", \"radialaxis\": {\"gridcolor\": \"white\", \"linecolor\": \"white\", \"ticks\": \"\"}}, \"scene\": {\"xaxis\": {\"backgroundcolor\": \"#E5ECF6\", \"gridcolor\": \"white\", \"gridwidth\": 2, \"linecolor\": \"white\", \"showbackground\": true, \"ticks\": \"\", \"zerolinecolor\": \"white\"}, \"yaxis\": {\"backgroundcolor\": \"#E5ECF6\", \"gridcolor\": \"white\", \"gridwidth\": 2, \"linecolor\": \"white\", \"showbackground\": true, \"ticks\": \"\", \"zerolinecolor\": \"white\"}, \"zaxis\": {\"backgroundcolor\": \"#E5ECF6\", \"gridcolor\": \"white\", \"gridwidth\": 2, \"linecolor\": \"white\", \"showbackground\": true, \"ticks\": \"\", \"zerolinecolor\": \"white\"}}, \"shapedefaults\": {\"line\": {\"color\": \"#2a3f5f\"}}, \"ternary\": {\"aaxis\": {\"gridcolor\": \"white\", \"linecolor\": \"white\", \"ticks\": \"\"}, \"baxis\": {\"gridcolor\": \"white\", \"linecolor\": \"white\", \"ticks\": \"\"}, \"bgcolor\": \"#E5ECF6\", \"caxis\": {\"gridcolor\": \"white\", \"linecolor\": \"white\", \"ticks\": \"\"}}, \"title\": {\"x\": 0.05}, \"xaxis\": {\"automargin\": true, \"gridcolor\": \"white\", \"linecolor\": \"white\", \"ticks\": \"\", \"title\": {\"standoff\": 15}, \"zerolinecolor\": \"white\", \"zerolinewidth\": 2}, \"yaxis\": {\"automargin\": true, \"gridcolor\": \"white\", \"linecolor\": \"white\", \"ticks\": \"\", \"title\": {\"standoff\": 15}, \"zerolinecolor\": \"white\", \"zerolinewidth\": 2}}}, \"xaxis\": {\"anchor\": \"y\", \"domain\": [0.0, 1.0], \"title\": {\"text\": \"Epoch\"}}, \"yaxis\": {\"anchor\": \"x\", \"domain\": [0.0, 1.0], \"range\": [0, 1], \"title\": {\"text\": \"Validation AUC\"}}},\n",
       "                        {\"responsive\": true}\n",
       "                    ).then(function(){\n",
       "                            \n",
       "var gd = document.getElementById('477a1bd2-31de-49e1-bbf3-08df53984846');\n",
       "var x = new MutationObserver(function (mutations, observer) {{\n",
       "        var display = window.getComputedStyle(gd).display;\n",
       "        if (!display || display === 'none') {{\n",
       "            console.log([gd, 'removed!']);\n",
       "            Plotly.purge(gd);\n",
       "            observer.disconnect();\n",
       "        }}\n",
       "}});\n",
       "\n",
       "// Listen for the removal of the full notebook cells\n",
       "var notebookContainer = gd.closest('#notebook-container');\n",
       "if (notebookContainer) {{\n",
       "    x.observe(notebookContainer, {childList: true});\n",
       "}}\n",
       "\n",
       "// Listen for the clearing of the current output cell\n",
       "var outputEl = gd.closest('.output');\n",
       "if (outputEl) {{\n",
       "    x.observe(outputEl, {childList: true});\n",
       "}}\n",
       "\n",
       "                        })\n",
       "                };\n",
       "                });\n",
       "            </script>\n",
       "        </div>"
      ]
     },
     "metadata": {},
     "output_type": "display_data"
    }
   ],
   "source": [
    "philips_merged = philips_with_coral.merge(philips_without_coral,on='x',suffixes=['_w', '_w/o'])\n",
    "pm = philips_merged.rename({'ESAOTE_6100/val/auc_Class_w': 'CORAL',\n",
    "                      'ESAOTE_6100/val/auc_Class_w/o': 'MIL'},axis=1)\n",
    "px.line(pm,x='x',y=['CORAL','MIL'],range_y=[0,1],labels={'value': 'Validation AUC','variable':'Condition','x':'Epoch'})"
   ]
  },
  {
   "cell_type": "code",
   "execution_count": 70,
   "metadata": {},
   "outputs": [
    {
     "data": {
      "text/html": [
       "<div>\n",
       "<style scoped>\n",
       "    .dataframe tbody tr th:only-of-type {\n",
       "        vertical-align: middle;\n",
       "    }\n",
       "\n",
       "    .dataframe tbody tr th {\n",
       "        vertical-align: top;\n",
       "    }\n",
       "\n",
       "    .dataframe thead th {\n",
       "        text-align: right;\n",
       "    }\n",
       "</style>\n",
       "<table border=\"1\" class=\"dataframe\">\n",
       "  <thead>\n",
       "    <tr style=\"text-align: right;\">\n",
       "      <th></th>\n",
       "      <th>x</th>\n",
       "      <th>ESAOTE_6100/val/auc_Class_w</th>\n",
       "      <th>Philips_iU22/val/auc_Class_w</th>\n",
       "      <th>training/mean_coral_Class_w</th>\n",
       "      <th>ESAOTE_6100/val/auc_Class_w/o</th>\n",
       "      <th>Philips_iU22/val/auc_Class_w/o</th>\n",
       "      <th>training/mean_coral_Class_w/o</th>\n",
       "    </tr>\n",
       "  </thead>\n",
       "  <tbody>\n",
       "    <tr>\n",
       "      <th>0</th>\n",
       "      <td>1.0</td>\n",
       "      <td>0.650890</td>\n",
       "      <td>0.679983</td>\n",
       "      <td>0.001535</td>\n",
       "      <td>0.584455</td>\n",
       "      <td>0.769865</td>\n",
       "      <td>0.003903</td>\n",
       "    </tr>\n",
       "    <tr>\n",
       "      <th>1</th>\n",
       "      <td>2.0</td>\n",
       "      <td>0.684532</td>\n",
       "      <td>0.762174</td>\n",
       "      <td>0.001268</td>\n",
       "      <td>0.591721</td>\n",
       "      <td>0.790000</td>\n",
       "      <td>0.004115</td>\n",
       "    </tr>\n",
       "    <tr>\n",
       "      <th>2</th>\n",
       "      <td>3.0</td>\n",
       "      <td>0.713043</td>\n",
       "      <td>0.731771</td>\n",
       "      <td>0.001327</td>\n",
       "      <td>0.668696</td>\n",
       "      <td>0.751302</td>\n",
       "      <td>0.006941</td>\n",
       "    </tr>\n",
       "    <tr>\n",
       "      <th>3</th>\n",
       "      <td>4.0</td>\n",
       "      <td>0.560784</td>\n",
       "      <td>0.765089</td>\n",
       "      <td>0.001063</td>\n",
       "      <td>0.445752</td>\n",
       "      <td>0.699522</td>\n",
       "      <td>0.009052</td>\n",
       "    </tr>\n",
       "    <tr>\n",
       "      <th>4</th>\n",
       "      <td>5.0</td>\n",
       "      <td>0.488261</td>\n",
       "      <td>0.785931</td>\n",
       "      <td>0.001057</td>\n",
       "      <td>0.576087</td>\n",
       "      <td>0.749457</td>\n",
       "      <td>0.011405</td>\n",
       "    </tr>\n",
       "    <tr>\n",
       "      <th>5</th>\n",
       "      <td>6.0</td>\n",
       "      <td>0.486710</td>\n",
       "      <td>0.755970</td>\n",
       "      <td>0.001231</td>\n",
       "      <td>0.587800</td>\n",
       "      <td>0.693878</td>\n",
       "      <td>0.019008</td>\n",
       "    </tr>\n",
       "    <tr>\n",
       "      <th>6</th>\n",
       "      <td>7.0</td>\n",
       "      <td>0.579085</td>\n",
       "      <td>0.768997</td>\n",
       "      <td>0.001203</td>\n",
       "      <td>0.644880</td>\n",
       "      <td>0.703865</td>\n",
       "      <td>0.033346</td>\n",
       "    </tr>\n",
       "    <tr>\n",
       "      <th>7</th>\n",
       "      <td>8.0</td>\n",
       "      <td>0.564783</td>\n",
       "      <td>0.645833</td>\n",
       "      <td>0.001128</td>\n",
       "      <td>0.604783</td>\n",
       "      <td>0.734375</td>\n",
       "      <td>0.028849</td>\n",
       "    </tr>\n",
       "    <tr>\n",
       "      <th>8</th>\n",
       "      <td>9.0</td>\n",
       "      <td>0.688811</td>\n",
       "      <td>0.703430</td>\n",
       "      <td>0.001989</td>\n",
       "      <td>0.724650</td>\n",
       "      <td>0.716891</td>\n",
       "      <td>0.041753</td>\n",
       "    </tr>\n",
       "    <tr>\n",
       "      <th>9</th>\n",
       "      <td>10.0</td>\n",
       "      <td>0.492174</td>\n",
       "      <td>0.785156</td>\n",
       "      <td>0.001267</td>\n",
       "      <td>0.724783</td>\n",
       "      <td>0.724826</td>\n",
       "      <td>0.062680</td>\n",
       "    </tr>\n",
       "    <tr>\n",
       "      <th>10</th>\n",
       "      <td>11.0</td>\n",
       "      <td>0.624783</td>\n",
       "      <td>0.718628</td>\n",
       "      <td>0.000940</td>\n",
       "      <td>0.588696</td>\n",
       "      <td>0.633521</td>\n",
       "      <td>0.066482</td>\n",
       "    </tr>\n",
       "    <tr>\n",
       "      <th>11</th>\n",
       "      <td>12.0</td>\n",
       "      <td>0.541176</td>\n",
       "      <td>0.736431</td>\n",
       "      <td>0.001193</td>\n",
       "      <td>0.694118</td>\n",
       "      <td>0.706036</td>\n",
       "      <td>0.100675</td>\n",
       "    </tr>\n",
       "    <tr>\n",
       "      <th>12</th>\n",
       "      <td>13.0</td>\n",
       "      <td>0.601824</td>\n",
       "      <td>0.696957</td>\n",
       "      <td>0.001124</td>\n",
       "      <td>0.472861</td>\n",
       "      <td>0.660435</td>\n",
       "      <td>0.139808</td>\n",
       "    </tr>\n",
       "    <tr>\n",
       "      <th>13</th>\n",
       "      <td>14.0</td>\n",
       "      <td>0.499565</td>\n",
       "      <td>0.700435</td>\n",
       "      <td>0.001046</td>\n",
       "      <td>0.670870</td>\n",
       "      <td>0.639130</td>\n",
       "      <td>0.166326</td>\n",
       "    </tr>\n",
       "    <tr>\n",
       "      <th>14</th>\n",
       "      <td>15.0</td>\n",
       "      <td>0.574902</td>\n",
       "      <td>0.728105</td>\n",
       "      <td>0.001227</td>\n",
       "      <td>0.674338</td>\n",
       "      <td>0.755991</td>\n",
       "      <td>0.143565</td>\n",
       "    </tr>\n",
       "  </tbody>\n",
       "</table>\n",
       "</div>"
      ],
      "text/plain": [
       "       x  ESAOTE_6100/val/auc_Class_w  Philips_iU22/val/auc_Class_w  \\\n",
       "0    1.0                     0.650890                      0.679983   \n",
       "1    2.0                     0.684532                      0.762174   \n",
       "2    3.0                     0.713043                      0.731771   \n",
       "3    4.0                     0.560784                      0.765089   \n",
       "4    5.0                     0.488261                      0.785931   \n",
       "5    6.0                     0.486710                      0.755970   \n",
       "6    7.0                     0.579085                      0.768997   \n",
       "7    8.0                     0.564783                      0.645833   \n",
       "8    9.0                     0.688811                      0.703430   \n",
       "9   10.0                     0.492174                      0.785156   \n",
       "10  11.0                     0.624783                      0.718628   \n",
       "11  12.0                     0.541176                      0.736431   \n",
       "12  13.0                     0.601824                      0.696957   \n",
       "13  14.0                     0.499565                      0.700435   \n",
       "14  15.0                     0.574902                      0.728105   \n",
       "\n",
       "    training/mean_coral_Class_w  ESAOTE_6100/val/auc_Class_w/o  \\\n",
       "0                      0.001535                       0.584455   \n",
       "1                      0.001268                       0.591721   \n",
       "2                      0.001327                       0.668696   \n",
       "3                      0.001063                       0.445752   \n",
       "4                      0.001057                       0.576087   \n",
       "5                      0.001231                       0.587800   \n",
       "6                      0.001203                       0.644880   \n",
       "7                      0.001128                       0.604783   \n",
       "8                      0.001989                       0.724650   \n",
       "9                      0.001267                       0.724783   \n",
       "10                     0.000940                       0.588696   \n",
       "11                     0.001193                       0.694118   \n",
       "12                     0.001124                       0.472861   \n",
       "13                     0.001046                       0.670870   \n",
       "14                     0.001227                       0.674338   \n",
       "\n",
       "    Philips_iU22/val/auc_Class_w/o  training/mean_coral_Class_w/o  \n",
       "0                         0.769865                       0.003903  \n",
       "1                         0.790000                       0.004115  \n",
       "2                         0.751302                       0.006941  \n",
       "3                         0.699522                       0.009052  \n",
       "4                         0.749457                       0.011405  \n",
       "5                         0.693878                       0.019008  \n",
       "6                         0.703865                       0.033346  \n",
       "7                         0.734375                       0.028849  \n",
       "8                         0.716891                       0.041753  \n",
       "9                         0.724826                       0.062680  \n",
       "10                        0.633521                       0.066482  \n",
       "11                        0.706036                       0.100675  \n",
       "12                        0.660435                       0.139808  \n",
       "13                        0.639130                       0.166326  \n",
       "14                        0.755991                       0.143565  "
      ]
     },
     "execution_count": 70,
     "metadata": {},
     "output_type": "execute_result"
    }
   ],
   "source": [
    "philips_merged"
   ]
  },
  {
   "cell_type": "code",
   "execution_count": 71,
   "metadata": {},
   "outputs": [
    {
     "data": {
      "application/vnd.plotly.v1+json": {
       "config": {
        "plotlyServerURL": "https://plot.ly"
       },
       "data": [
        {
         "hovertemplate": "Condition=CORAL<br>Epoch=%{x}<br>Mean CORAL loss=%{y}<extra></extra>",
         "legendgroup": "CORAL",
         "line": {
          "color": "#636efa",
          "dash": "solid"
         },
         "mode": "lines",
         "name": "CORAL",
         "orientation": "v",
         "showlegend": true,
         "type": "scatter",
         "x": [
          1,
          2,
          3,
          4,
          5,
          6,
          7,
          8,
          9,
          10,
          11,
          12,
          13,
          14,
          15
         ],
         "xaxis": "x",
         "y": [
          0.0015348880551755428,
          0.001267877290956676,
          0.0013272860087454321,
          0.00106341193895787,
          0.0010569295845925806,
          0.001230508554726839,
          0.001203484833240509,
          0.001127821858972311,
          0.001989156473428011,
          0.001266533392481506,
          9.400707203894854E-4,
          0.00119295297190547,
          0.0011240307940170169,
          0.0010464650113135576,
          0.0012267709244042635
         ],
         "yaxis": "y"
        },
        {
         "hovertemplate": "Condition=MIL<br>Epoch=%{x}<br>Mean CORAL loss=%{y}<extra></extra>",
         "legendgroup": "MIL",
         "line": {
          "color": "#EF553B",
          "dash": "solid"
         },
         "mode": "lines",
         "name": "MIL",
         "orientation": "v",
         "showlegend": true,
         "type": "scatter",
         "x": [
          1,
          2,
          3,
          4,
          5,
          6,
          7,
          8,
          9,
          10,
          11,
          12,
          13,
          14,
          15
         ],
         "xaxis": "x",
         "y": [
          0.003903049044311047,
          0.004114620853215456,
          0.006941144820302725,
          0.009051982313394548,
          0.011405362747609615,
          0.019008349627256397,
          0.03334605321288109,
          0.028848938643932343,
          0.04175341129302978,
          0.06267983466386795,
          0.0664820671081543,
          0.1006753072142601,
          0.1398075968027115,
          0.16632601618766785,
          0.14356541633605954
         ],
         "yaxis": "y"
        }
       ],
       "layout": {
        "legend": {
         "title": {
          "text": "Condition"
         },
         "tracegroupgap": 0
        },
        "margin": {
         "t": 60
        },
        "template": {
         "data": {
          "bar": [
           {
            "error_x": {
             "color": "#2a3f5f"
            },
            "error_y": {
             "color": "#2a3f5f"
            },
            "marker": {
             "line": {
              "color": "#E5ECF6",
              "width": 0.5
             }
            },
            "type": "bar"
           }
          ],
          "barpolar": [
           {
            "marker": {
             "line": {
              "color": "#E5ECF6",
              "width": 0.5
             }
            },
            "type": "barpolar"
           }
          ],
          "carpet": [
           {
            "aaxis": {
             "endlinecolor": "#2a3f5f",
             "gridcolor": "white",
             "linecolor": "white",
             "minorgridcolor": "white",
             "startlinecolor": "#2a3f5f"
            },
            "baxis": {
             "endlinecolor": "#2a3f5f",
             "gridcolor": "white",
             "linecolor": "white",
             "minorgridcolor": "white",
             "startlinecolor": "#2a3f5f"
            },
            "type": "carpet"
           }
          ],
          "choropleth": [
           {
            "colorbar": {
             "outlinewidth": 0,
             "ticks": ""
            },
            "type": "choropleth"
           }
          ],
          "contour": [
           {
            "colorbar": {
             "outlinewidth": 0,
             "ticks": ""
            },
            "colorscale": [
             [
              0,
              "#0d0887"
             ],
             [
              0.1111111111111111,
              "#46039f"
             ],
             [
              0.2222222222222222,
              "#7201a8"
             ],
             [
              0.3333333333333333,
              "#9c179e"
             ],
             [
              0.4444444444444444,
              "#bd3786"
             ],
             [
              0.5555555555555556,
              "#d8576b"
             ],
             [
              0.6666666666666666,
              "#ed7953"
             ],
             [
              0.7777777777777778,
              "#fb9f3a"
             ],
             [
              0.8888888888888888,
              "#fdca26"
             ],
             [
              1,
              "#f0f921"
             ]
            ],
            "type": "contour"
           }
          ],
          "contourcarpet": [
           {
            "colorbar": {
             "outlinewidth": 0,
             "ticks": ""
            },
            "type": "contourcarpet"
           }
          ],
          "heatmap": [
           {
            "colorbar": {
             "outlinewidth": 0,
             "ticks": ""
            },
            "colorscale": [
             [
              0,
              "#0d0887"
             ],
             [
              0.1111111111111111,
              "#46039f"
             ],
             [
              0.2222222222222222,
              "#7201a8"
             ],
             [
              0.3333333333333333,
              "#9c179e"
             ],
             [
              0.4444444444444444,
              "#bd3786"
             ],
             [
              0.5555555555555556,
              "#d8576b"
             ],
             [
              0.6666666666666666,
              "#ed7953"
             ],
             [
              0.7777777777777778,
              "#fb9f3a"
             ],
             [
              0.8888888888888888,
              "#fdca26"
             ],
             [
              1,
              "#f0f921"
             ]
            ],
            "type": "heatmap"
           }
          ],
          "heatmapgl": [
           {
            "colorbar": {
             "outlinewidth": 0,
             "ticks": ""
            },
            "colorscale": [
             [
              0,
              "#0d0887"
             ],
             [
              0.1111111111111111,
              "#46039f"
             ],
             [
              0.2222222222222222,
              "#7201a8"
             ],
             [
              0.3333333333333333,
              "#9c179e"
             ],
             [
              0.4444444444444444,
              "#bd3786"
             ],
             [
              0.5555555555555556,
              "#d8576b"
             ],
             [
              0.6666666666666666,
              "#ed7953"
             ],
             [
              0.7777777777777778,
              "#fb9f3a"
             ],
             [
              0.8888888888888888,
              "#fdca26"
             ],
             [
              1,
              "#f0f921"
             ]
            ],
            "type": "heatmapgl"
           }
          ],
          "histogram": [
           {
            "marker": {
             "colorbar": {
              "outlinewidth": 0,
              "ticks": ""
             }
            },
            "type": "histogram"
           }
          ],
          "histogram2d": [
           {
            "colorbar": {
             "outlinewidth": 0,
             "ticks": ""
            },
            "colorscale": [
             [
              0,
              "#0d0887"
             ],
             [
              0.1111111111111111,
              "#46039f"
             ],
             [
              0.2222222222222222,
              "#7201a8"
             ],
             [
              0.3333333333333333,
              "#9c179e"
             ],
             [
              0.4444444444444444,
              "#bd3786"
             ],
             [
              0.5555555555555556,
              "#d8576b"
             ],
             [
              0.6666666666666666,
              "#ed7953"
             ],
             [
              0.7777777777777778,
              "#fb9f3a"
             ],
             [
              0.8888888888888888,
              "#fdca26"
             ],
             [
              1,
              "#f0f921"
             ]
            ],
            "type": "histogram2d"
           }
          ],
          "histogram2dcontour": [
           {
            "colorbar": {
             "outlinewidth": 0,
             "ticks": ""
            },
            "colorscale": [
             [
              0,
              "#0d0887"
             ],
             [
              0.1111111111111111,
              "#46039f"
             ],
             [
              0.2222222222222222,
              "#7201a8"
             ],
             [
              0.3333333333333333,
              "#9c179e"
             ],
             [
              0.4444444444444444,
              "#bd3786"
             ],
             [
              0.5555555555555556,
              "#d8576b"
             ],
             [
              0.6666666666666666,
              "#ed7953"
             ],
             [
              0.7777777777777778,
              "#fb9f3a"
             ],
             [
              0.8888888888888888,
              "#fdca26"
             ],
             [
              1,
              "#f0f921"
             ]
            ],
            "type": "histogram2dcontour"
           }
          ],
          "mesh3d": [
           {
            "colorbar": {
             "outlinewidth": 0,
             "ticks": ""
            },
            "type": "mesh3d"
           }
          ],
          "parcoords": [
           {
            "line": {
             "colorbar": {
              "outlinewidth": 0,
              "ticks": ""
             }
            },
            "type": "parcoords"
           }
          ],
          "pie": [
           {
            "automargin": true,
            "type": "pie"
           }
          ],
          "scatter": [
           {
            "marker": {
             "colorbar": {
              "outlinewidth": 0,
              "ticks": ""
             }
            },
            "type": "scatter"
           }
          ],
          "scatter3d": [
           {
            "line": {
             "colorbar": {
              "outlinewidth": 0,
              "ticks": ""
             }
            },
            "marker": {
             "colorbar": {
              "outlinewidth": 0,
              "ticks": ""
             }
            },
            "type": "scatter3d"
           }
          ],
          "scattercarpet": [
           {
            "marker": {
             "colorbar": {
              "outlinewidth": 0,
              "ticks": ""
             }
            },
            "type": "scattercarpet"
           }
          ],
          "scattergeo": [
           {
            "marker": {
             "colorbar": {
              "outlinewidth": 0,
              "ticks": ""
             }
            },
            "type": "scattergeo"
           }
          ],
          "scattergl": [
           {
            "marker": {
             "colorbar": {
              "outlinewidth": 0,
              "ticks": ""
             }
            },
            "type": "scattergl"
           }
          ],
          "scattermapbox": [
           {
            "marker": {
             "colorbar": {
              "outlinewidth": 0,
              "ticks": ""
             }
            },
            "type": "scattermapbox"
           }
          ],
          "scatterpolar": [
           {
            "marker": {
             "colorbar": {
              "outlinewidth": 0,
              "ticks": ""
             }
            },
            "type": "scatterpolar"
           }
          ],
          "scatterpolargl": [
           {
            "marker": {
             "colorbar": {
              "outlinewidth": 0,
              "ticks": ""
             }
            },
            "type": "scatterpolargl"
           }
          ],
          "scatterternary": [
           {
            "marker": {
             "colorbar": {
              "outlinewidth": 0,
              "ticks": ""
             }
            },
            "type": "scatterternary"
           }
          ],
          "surface": [
           {
            "colorbar": {
             "outlinewidth": 0,
             "ticks": ""
            },
            "colorscale": [
             [
              0,
              "#0d0887"
             ],
             [
              0.1111111111111111,
              "#46039f"
             ],
             [
              0.2222222222222222,
              "#7201a8"
             ],
             [
              0.3333333333333333,
              "#9c179e"
             ],
             [
              0.4444444444444444,
              "#bd3786"
             ],
             [
              0.5555555555555556,
              "#d8576b"
             ],
             [
              0.6666666666666666,
              "#ed7953"
             ],
             [
              0.7777777777777778,
              "#fb9f3a"
             ],
             [
              0.8888888888888888,
              "#fdca26"
             ],
             [
              1,
              "#f0f921"
             ]
            ],
            "type": "surface"
           }
          ],
          "table": [
           {
            "cells": {
             "fill": {
              "color": "#EBF0F8"
             },
             "line": {
              "color": "white"
             }
            },
            "header": {
             "fill": {
              "color": "#C8D4E3"
             },
             "line": {
              "color": "white"
             }
            },
            "type": "table"
           }
          ]
         },
         "layout": {
          "annotationdefaults": {
           "arrowcolor": "#2a3f5f",
           "arrowhead": 0,
           "arrowwidth": 1
          },
          "coloraxis": {
           "colorbar": {
            "outlinewidth": 0,
            "ticks": ""
           }
          },
          "colorscale": {
           "diverging": [
            [
             0,
             "#8e0152"
            ],
            [
             0.1,
             "#c51b7d"
            ],
            [
             0.2,
             "#de77ae"
            ],
            [
             0.3,
             "#f1b6da"
            ],
            [
             0.4,
             "#fde0ef"
            ],
            [
             0.5,
             "#f7f7f7"
            ],
            [
             0.6,
             "#e6f5d0"
            ],
            [
             0.7,
             "#b8e186"
            ],
            [
             0.8,
             "#7fbc41"
            ],
            [
             0.9,
             "#4d9221"
            ],
            [
             1,
             "#276419"
            ]
           ],
           "sequential": [
            [
             0,
             "#0d0887"
            ],
            [
             0.1111111111111111,
             "#46039f"
            ],
            [
             0.2222222222222222,
             "#7201a8"
            ],
            [
             0.3333333333333333,
             "#9c179e"
            ],
            [
             0.4444444444444444,
             "#bd3786"
            ],
            [
             0.5555555555555556,
             "#d8576b"
            ],
            [
             0.6666666666666666,
             "#ed7953"
            ],
            [
             0.7777777777777778,
             "#fb9f3a"
            ],
            [
             0.8888888888888888,
             "#fdca26"
            ],
            [
             1,
             "#f0f921"
            ]
           ],
           "sequentialminus": [
            [
             0,
             "#0d0887"
            ],
            [
             0.1111111111111111,
             "#46039f"
            ],
            [
             0.2222222222222222,
             "#7201a8"
            ],
            [
             0.3333333333333333,
             "#9c179e"
            ],
            [
             0.4444444444444444,
             "#bd3786"
            ],
            [
             0.5555555555555556,
             "#d8576b"
            ],
            [
             0.6666666666666666,
             "#ed7953"
            ],
            [
             0.7777777777777778,
             "#fb9f3a"
            ],
            [
             0.8888888888888888,
             "#fdca26"
            ],
            [
             1,
             "#f0f921"
            ]
           ]
          },
          "colorway": [
           "#636efa",
           "#EF553B",
           "#00cc96",
           "#ab63fa",
           "#FFA15A",
           "#19d3f3",
           "#FF6692",
           "#B6E880",
           "#FF97FF",
           "#FECB52"
          ],
          "font": {
           "color": "#2a3f5f"
          },
          "geo": {
           "bgcolor": "white",
           "lakecolor": "white",
           "landcolor": "#E5ECF6",
           "showlakes": true,
           "showland": true,
           "subunitcolor": "white"
          },
          "hoverlabel": {
           "align": "left"
          },
          "hovermode": "closest",
          "mapbox": {
           "style": "light"
          },
          "paper_bgcolor": "white",
          "plot_bgcolor": "#E5ECF6",
          "polar": {
           "angularaxis": {
            "gridcolor": "white",
            "linecolor": "white",
            "ticks": ""
           },
           "bgcolor": "#E5ECF6",
           "radialaxis": {
            "gridcolor": "white",
            "linecolor": "white",
            "ticks": ""
           }
          },
          "scene": {
           "xaxis": {
            "backgroundcolor": "#E5ECF6",
            "gridcolor": "white",
            "gridwidth": 2,
            "linecolor": "white",
            "showbackground": true,
            "ticks": "",
            "zerolinecolor": "white"
           },
           "yaxis": {
            "backgroundcolor": "#E5ECF6",
            "gridcolor": "white",
            "gridwidth": 2,
            "linecolor": "white",
            "showbackground": true,
            "ticks": "",
            "zerolinecolor": "white"
           },
           "zaxis": {
            "backgroundcolor": "#E5ECF6",
            "gridcolor": "white",
            "gridwidth": 2,
            "linecolor": "white",
            "showbackground": true,
            "ticks": "",
            "zerolinecolor": "white"
           }
          },
          "shapedefaults": {
           "line": {
            "color": "#2a3f5f"
           }
          },
          "ternary": {
           "aaxis": {
            "gridcolor": "white",
            "linecolor": "white",
            "ticks": ""
           },
           "baxis": {
            "gridcolor": "white",
            "linecolor": "white",
            "ticks": ""
           },
           "bgcolor": "#E5ECF6",
           "caxis": {
            "gridcolor": "white",
            "linecolor": "white",
            "ticks": ""
           }
          },
          "title": {
           "x": 0.05
          },
          "xaxis": {
           "automargin": true,
           "gridcolor": "white",
           "linecolor": "white",
           "ticks": "",
           "title": {
            "standoff": 15
           },
           "zerolinecolor": "white",
           "zerolinewidth": 2
          },
          "yaxis": {
           "automargin": true,
           "gridcolor": "white",
           "linecolor": "white",
           "ticks": "",
           "title": {
            "standoff": 15
           },
           "zerolinecolor": "white",
           "zerolinewidth": 2
          }
         }
        },
        "xaxis": {
         "anchor": "y",
         "domain": [
          0,
          1
         ],
         "title": {
          "text": "Epoch"
         }
        },
        "yaxis": {
         "anchor": "x",
         "domain": [
          0,
          1
         ],
         "title": {
          "text": "Mean CORAL loss"
         }
        }
       }
      },
      "text/html": [
       "<div>\n",
       "        \n",
       "        \n",
       "            <div id=\"dfa2b082-ce9c-487c-9f12-e518c18cd22e\" class=\"plotly-graph-div\" style=\"height:525px; width:100%;\"></div>\n",
       "            <script type=\"text/javascript\">\n",
       "                require([\"plotly\"], function(Plotly) {\n",
       "                    window.PLOTLYENV=window.PLOTLYENV || {};\n",
       "                    \n",
       "                if (document.getElementById(\"dfa2b082-ce9c-487c-9f12-e518c18cd22e\")) {\n",
       "                    Plotly.newPlot(\n",
       "                        'dfa2b082-ce9c-487c-9f12-e518c18cd22e',\n",
       "                        [{\"hovertemplate\": \"Condition=CORAL<br>Epoch=%{x}<br>Mean CORAL loss=%{y}<extra></extra>\", \"legendgroup\": \"CORAL\", \"line\": {\"color\": \"#636efa\", \"dash\": \"solid\"}, \"mode\": \"lines\", \"name\": \"CORAL\", \"orientation\": \"v\", \"showlegend\": true, \"type\": \"scatter\", \"x\": [1.0, 2.0, 3.0, 4.0, 5.0, 6.0, 7.0, 8.0, 9.0, 10.0, 11.0, 12.0, 13.0, 14.0, 15.0], \"xaxis\": \"x\", \"y\": [0.0015348880551755428, 0.001267877290956676, 0.0013272860087454321, 0.00106341193895787, 0.0010569295845925806, 0.001230508554726839, 0.001203484833240509, 0.001127821858972311, 0.001989156473428011, 0.001266533392481506, 0.0009400707203894854, 0.00119295297190547, 0.0011240307940170169, 0.0010464650113135576, 0.0012267709244042635], \"yaxis\": \"y\"}, {\"hovertemplate\": \"Condition=MIL<br>Epoch=%{x}<br>Mean CORAL loss=%{y}<extra></extra>\", \"legendgroup\": \"MIL\", \"line\": {\"color\": \"#EF553B\", \"dash\": \"solid\"}, \"mode\": \"lines\", \"name\": \"MIL\", \"orientation\": \"v\", \"showlegend\": true, \"type\": \"scatter\", \"x\": [1.0, 2.0, 3.0, 4.0, 5.0, 6.0, 7.0, 8.0, 9.0, 10.0, 11.0, 12.0, 13.0, 14.0, 15.0], \"xaxis\": \"x\", \"y\": [0.003903049044311047, 0.004114620853215456, 0.006941144820302725, 0.009051982313394548, 0.011405362747609615, 0.019008349627256397, 0.03334605321288109, 0.028848938643932343, 0.04175341129302978, 0.06267983466386795, 0.0664820671081543, 0.1006753072142601, 0.1398075968027115, 0.16632601618766785, 0.14356541633605954], \"yaxis\": \"y\"}],\n",
       "                        {\"legend\": {\"title\": {\"text\": \"Condition\"}, \"tracegroupgap\": 0}, \"margin\": {\"t\": 60}, \"template\": {\"data\": {\"bar\": [{\"error_x\": {\"color\": \"#2a3f5f\"}, \"error_y\": {\"color\": \"#2a3f5f\"}, \"marker\": {\"line\": {\"color\": \"#E5ECF6\", \"width\": 0.5}}, \"type\": \"bar\"}], \"barpolar\": [{\"marker\": {\"line\": {\"color\": \"#E5ECF6\", \"width\": 0.5}}, \"type\": \"barpolar\"}], \"carpet\": [{\"aaxis\": {\"endlinecolor\": \"#2a3f5f\", \"gridcolor\": \"white\", \"linecolor\": \"white\", \"minorgridcolor\": \"white\", \"startlinecolor\": \"#2a3f5f\"}, \"baxis\": {\"endlinecolor\": \"#2a3f5f\", \"gridcolor\": \"white\", \"linecolor\": \"white\", \"minorgridcolor\": \"white\", \"startlinecolor\": \"#2a3f5f\"}, \"type\": \"carpet\"}], \"choropleth\": [{\"colorbar\": {\"outlinewidth\": 0, \"ticks\": \"\"}, \"type\": \"choropleth\"}], \"contour\": [{\"colorbar\": {\"outlinewidth\": 0, \"ticks\": \"\"}, \"colorscale\": [[0.0, \"#0d0887\"], [0.1111111111111111, \"#46039f\"], [0.2222222222222222, \"#7201a8\"], [0.3333333333333333, \"#9c179e\"], [0.4444444444444444, \"#bd3786\"], [0.5555555555555556, \"#d8576b\"], [0.6666666666666666, \"#ed7953\"], [0.7777777777777778, \"#fb9f3a\"], [0.8888888888888888, \"#fdca26\"], [1.0, \"#f0f921\"]], \"type\": \"contour\"}], \"contourcarpet\": [{\"colorbar\": {\"outlinewidth\": 0, \"ticks\": \"\"}, \"type\": \"contourcarpet\"}], \"heatmap\": [{\"colorbar\": {\"outlinewidth\": 0, \"ticks\": \"\"}, \"colorscale\": [[0.0, \"#0d0887\"], [0.1111111111111111, \"#46039f\"], [0.2222222222222222, \"#7201a8\"], [0.3333333333333333, \"#9c179e\"], [0.4444444444444444, \"#bd3786\"], [0.5555555555555556, \"#d8576b\"], [0.6666666666666666, \"#ed7953\"], [0.7777777777777778, \"#fb9f3a\"], [0.8888888888888888, \"#fdca26\"], [1.0, \"#f0f921\"]], \"type\": \"heatmap\"}], \"heatmapgl\": [{\"colorbar\": {\"outlinewidth\": 0, \"ticks\": \"\"}, \"colorscale\": [[0.0, \"#0d0887\"], [0.1111111111111111, \"#46039f\"], [0.2222222222222222, \"#7201a8\"], [0.3333333333333333, \"#9c179e\"], [0.4444444444444444, \"#bd3786\"], [0.5555555555555556, \"#d8576b\"], [0.6666666666666666, \"#ed7953\"], [0.7777777777777778, \"#fb9f3a\"], [0.8888888888888888, \"#fdca26\"], [1.0, \"#f0f921\"]], \"type\": \"heatmapgl\"}], \"histogram\": [{\"marker\": {\"colorbar\": {\"outlinewidth\": 0, \"ticks\": \"\"}}, \"type\": \"histogram\"}], \"histogram2d\": [{\"colorbar\": {\"outlinewidth\": 0, \"ticks\": \"\"}, \"colorscale\": [[0.0, \"#0d0887\"], [0.1111111111111111, \"#46039f\"], [0.2222222222222222, \"#7201a8\"], [0.3333333333333333, \"#9c179e\"], [0.4444444444444444, \"#bd3786\"], [0.5555555555555556, \"#d8576b\"], [0.6666666666666666, \"#ed7953\"], [0.7777777777777778, \"#fb9f3a\"], [0.8888888888888888, \"#fdca26\"], [1.0, \"#f0f921\"]], \"type\": \"histogram2d\"}], \"histogram2dcontour\": [{\"colorbar\": {\"outlinewidth\": 0, \"ticks\": \"\"}, \"colorscale\": [[0.0, \"#0d0887\"], [0.1111111111111111, \"#46039f\"], [0.2222222222222222, \"#7201a8\"], [0.3333333333333333, \"#9c179e\"], [0.4444444444444444, \"#bd3786\"], [0.5555555555555556, \"#d8576b\"], [0.6666666666666666, \"#ed7953\"], [0.7777777777777778, \"#fb9f3a\"], [0.8888888888888888, \"#fdca26\"], [1.0, \"#f0f921\"]], \"type\": \"histogram2dcontour\"}], \"mesh3d\": [{\"colorbar\": {\"outlinewidth\": 0, \"ticks\": \"\"}, \"type\": \"mesh3d\"}], \"parcoords\": [{\"line\": {\"colorbar\": {\"outlinewidth\": 0, \"ticks\": \"\"}}, \"type\": \"parcoords\"}], \"pie\": [{\"automargin\": true, \"type\": \"pie\"}], \"scatter\": [{\"marker\": {\"colorbar\": {\"outlinewidth\": 0, \"ticks\": \"\"}}, \"type\": \"scatter\"}], \"scatter3d\": [{\"line\": {\"colorbar\": {\"outlinewidth\": 0, \"ticks\": \"\"}}, \"marker\": {\"colorbar\": {\"outlinewidth\": 0, \"ticks\": \"\"}}, \"type\": \"scatter3d\"}], \"scattercarpet\": [{\"marker\": {\"colorbar\": {\"outlinewidth\": 0, \"ticks\": \"\"}}, \"type\": \"scattercarpet\"}], \"scattergeo\": [{\"marker\": {\"colorbar\": {\"outlinewidth\": 0, \"ticks\": \"\"}}, \"type\": \"scattergeo\"}], \"scattergl\": [{\"marker\": {\"colorbar\": {\"outlinewidth\": 0, \"ticks\": \"\"}}, \"type\": \"scattergl\"}], \"scattermapbox\": [{\"marker\": {\"colorbar\": {\"outlinewidth\": 0, \"ticks\": \"\"}}, \"type\": \"scattermapbox\"}], \"scatterpolar\": [{\"marker\": {\"colorbar\": {\"outlinewidth\": 0, \"ticks\": \"\"}}, \"type\": \"scatterpolar\"}], \"scatterpolargl\": [{\"marker\": {\"colorbar\": {\"outlinewidth\": 0, \"ticks\": \"\"}}, \"type\": \"scatterpolargl\"}], \"scatterternary\": [{\"marker\": {\"colorbar\": {\"outlinewidth\": 0, \"ticks\": \"\"}}, \"type\": \"scatterternary\"}], \"surface\": [{\"colorbar\": {\"outlinewidth\": 0, \"ticks\": \"\"}, \"colorscale\": [[0.0, \"#0d0887\"], [0.1111111111111111, \"#46039f\"], [0.2222222222222222, \"#7201a8\"], [0.3333333333333333, \"#9c179e\"], [0.4444444444444444, \"#bd3786\"], [0.5555555555555556, \"#d8576b\"], [0.6666666666666666, \"#ed7953\"], [0.7777777777777778, \"#fb9f3a\"], [0.8888888888888888, \"#fdca26\"], [1.0, \"#f0f921\"]], \"type\": \"surface\"}], \"table\": [{\"cells\": {\"fill\": {\"color\": \"#EBF0F8\"}, \"line\": {\"color\": \"white\"}}, \"header\": {\"fill\": {\"color\": \"#C8D4E3\"}, \"line\": {\"color\": \"white\"}}, \"type\": \"table\"}]}, \"layout\": {\"annotationdefaults\": {\"arrowcolor\": \"#2a3f5f\", \"arrowhead\": 0, \"arrowwidth\": 1}, \"coloraxis\": {\"colorbar\": {\"outlinewidth\": 0, \"ticks\": \"\"}}, \"colorscale\": {\"diverging\": [[0, \"#8e0152\"], [0.1, \"#c51b7d\"], [0.2, \"#de77ae\"], [0.3, \"#f1b6da\"], [0.4, \"#fde0ef\"], [0.5, \"#f7f7f7\"], [0.6, \"#e6f5d0\"], [0.7, \"#b8e186\"], [0.8, \"#7fbc41\"], [0.9, \"#4d9221\"], [1, \"#276419\"]], \"sequential\": [[0.0, \"#0d0887\"], [0.1111111111111111, \"#46039f\"], [0.2222222222222222, \"#7201a8\"], [0.3333333333333333, \"#9c179e\"], [0.4444444444444444, \"#bd3786\"], [0.5555555555555556, \"#d8576b\"], [0.6666666666666666, \"#ed7953\"], [0.7777777777777778, \"#fb9f3a\"], [0.8888888888888888, \"#fdca26\"], [1.0, \"#f0f921\"]], \"sequentialminus\": [[0.0, \"#0d0887\"], [0.1111111111111111, \"#46039f\"], [0.2222222222222222, \"#7201a8\"], [0.3333333333333333, \"#9c179e\"], [0.4444444444444444, \"#bd3786\"], [0.5555555555555556, \"#d8576b\"], [0.6666666666666666, \"#ed7953\"], [0.7777777777777778, \"#fb9f3a\"], [0.8888888888888888, \"#fdca26\"], [1.0, \"#f0f921\"]]}, \"colorway\": [\"#636efa\", \"#EF553B\", \"#00cc96\", \"#ab63fa\", \"#FFA15A\", \"#19d3f3\", \"#FF6692\", \"#B6E880\", \"#FF97FF\", \"#FECB52\"], \"font\": {\"color\": \"#2a3f5f\"}, \"geo\": {\"bgcolor\": \"white\", \"lakecolor\": \"white\", \"landcolor\": \"#E5ECF6\", \"showlakes\": true, \"showland\": true, \"subunitcolor\": \"white\"}, \"hoverlabel\": {\"align\": \"left\"}, \"hovermode\": \"closest\", \"mapbox\": {\"style\": \"light\"}, \"paper_bgcolor\": \"white\", \"plot_bgcolor\": \"#E5ECF6\", \"polar\": {\"angularaxis\": {\"gridcolor\": \"white\", \"linecolor\": \"white\", \"ticks\": \"\"}, \"bgcolor\": \"#E5ECF6\", \"radialaxis\": {\"gridcolor\": \"white\", \"linecolor\": \"white\", \"ticks\": \"\"}}, \"scene\": {\"xaxis\": {\"backgroundcolor\": \"#E5ECF6\", \"gridcolor\": \"white\", \"gridwidth\": 2, \"linecolor\": \"white\", \"showbackground\": true, \"ticks\": \"\", \"zerolinecolor\": \"white\"}, \"yaxis\": {\"backgroundcolor\": \"#E5ECF6\", \"gridcolor\": \"white\", \"gridwidth\": 2, \"linecolor\": \"white\", \"showbackground\": true, \"ticks\": \"\", \"zerolinecolor\": \"white\"}, \"zaxis\": {\"backgroundcolor\": \"#E5ECF6\", \"gridcolor\": \"white\", \"gridwidth\": 2, \"linecolor\": \"white\", \"showbackground\": true, \"ticks\": \"\", \"zerolinecolor\": \"white\"}}, \"shapedefaults\": {\"line\": {\"color\": \"#2a3f5f\"}}, \"ternary\": {\"aaxis\": {\"gridcolor\": \"white\", \"linecolor\": \"white\", \"ticks\": \"\"}, \"baxis\": {\"gridcolor\": \"white\", \"linecolor\": \"white\", \"ticks\": \"\"}, \"bgcolor\": \"#E5ECF6\", \"caxis\": {\"gridcolor\": \"white\", \"linecolor\": \"white\", \"ticks\": \"\"}}, \"title\": {\"x\": 0.05}, \"xaxis\": {\"automargin\": true, \"gridcolor\": \"white\", \"linecolor\": \"white\", \"ticks\": \"\", \"title\": {\"standoff\": 15}, \"zerolinecolor\": \"white\", \"zerolinewidth\": 2}, \"yaxis\": {\"automargin\": true, \"gridcolor\": \"white\", \"linecolor\": \"white\", \"ticks\": \"\", \"title\": {\"standoff\": 15}, \"zerolinecolor\": \"white\", \"zerolinewidth\": 2}}}, \"xaxis\": {\"anchor\": \"y\", \"domain\": [0.0, 1.0], \"title\": {\"text\": \"Epoch\"}}, \"yaxis\": {\"anchor\": \"x\", \"domain\": [0.0, 1.0], \"title\": {\"text\": \"Mean CORAL loss\"}}},\n",
       "                        {\"responsive\": true}\n",
       "                    ).then(function(){\n",
       "                            \n",
       "var gd = document.getElementById('dfa2b082-ce9c-487c-9f12-e518c18cd22e');\n",
       "var x = new MutationObserver(function (mutations, observer) {{\n",
       "        var display = window.getComputedStyle(gd).display;\n",
       "        if (!display || display === 'none') {{\n",
       "            console.log([gd, 'removed!']);\n",
       "            Plotly.purge(gd);\n",
       "            observer.disconnect();\n",
       "        }}\n",
       "}});\n",
       "\n",
       "// Listen for the removal of the full notebook cells\n",
       "var notebookContainer = gd.closest('#notebook-container');\n",
       "if (notebookContainer) {{\n",
       "    x.observe(notebookContainer, {childList: true});\n",
       "}}\n",
       "\n",
       "// Listen for the clearing of the current output cell\n",
       "var outputEl = gd.closest('.output');\n",
       "if (outputEl) {{\n",
       "    x.observe(outputEl, {childList: true});\n",
       "}}\n",
       "\n",
       "                        })\n",
       "                };\n",
       "                });\n",
       "            </script>\n",
       "        </div>"
      ]
     },
     "metadata": {},
     "output_type": "display_data"
    }
   ],
   "source": [
    "pm = philips_merged.rename({'training/mean_coral_Class_w': 'CORAL',\n",
    "                      'training/mean_coral_Class_w/o': 'MIL'},axis=1)\n",
    "px.line(pm,x='x',y=['CORAL','MIL'],labels={'value': 'Mean CORAL loss','variable':'Condition','x':'Epoch'})\n"
   ]
  },
  {
   "cell_type": "code",
   "execution_count": 55,
   "metadata": {},
   "outputs": [
    {
     "data": {
      "application/vnd.jupyter.widget-view+json": {
       "model_id": "94a4154925214d71b1ac96032a5ed1ec",
       "version_major": 2,
       "version_minor": 0
      },
      "text/plain": [
       "HBox(children=(FloatProgress(value=0.0, max=78.0), HTML(value='')))"
      ]
     },
     "metadata": {},
     "output_type": "display_data"
    },
    {
     "name": "stdout",
     "output_type": "stream",
     "text": [
      "\n"
     ]
    }
   ],
   "source": [
    "metrics_df = pd.DataFrame(columns=['id', *logs_names])\n",
    "for experiment in tqdm.notebook.tqdm(experiments):\n",
    "    df = experiment.get_numeric_channels_values(*logs_names)  # get logs values\n",
    "    #print(df)\n",
    "   # df['tags'] = experiment.get_tags()\n",
    "   # params = experiment.get_parameters()\n",
    "    output = df.append(df, ignore_index=True)\n",
    "    df.insert(loc=0, column='id', value=experiment.id)\n",
    "    metrics_df = metrics_df.append(df, sort=True)\n"
   ]
  },
  {
   "cell_type": "code",
   "execution_count": 51,
   "metadata": {
    "pycharm": {
     "name": "#%%\n"
    }
   },
   "outputs": [
    {
     "data": {
      "text/html": [
       "<div>\n",
       "<style scoped>\n",
       "    .dataframe tbody tr th:only-of-type {\n",
       "        vertical-align: middle;\n",
       "    }\n",
       "\n",
       "    .dataframe tbody tr th {\n",
       "        vertical-align: top;\n",
       "    }\n",
       "\n",
       "    .dataframe thead th {\n",
       "        text-align: right;\n",
       "    }\n",
       "</style>\n",
       "<table border=\"1\" class=\"dataframe\">\n",
       "  <thead>\n",
       "    <tr style=\"text-align: right;\">\n",
       "      <th></th>\n",
       "      <th>ESAOTE_6100/val/accuracy</th>\n",
       "      <th>ESAOTE_6100/val/p</th>\n",
       "      <th>ESAOTE_6100/val/r</th>\n",
       "      <th>Philips_iU22/val/accuracy</th>\n",
       "      <th>Philips_iU22/val/p</th>\n",
       "      <th>Philips_iU22/val/r</th>\n",
       "      <th>id</th>\n",
       "      <th>epoch</th>\n",
       "      <th>ESAOTE_6100/val/f1</th>\n",
       "      <th>Philips_iU22/val/f1</th>\n",
       "    </tr>\n",
       "  </thead>\n",
       "  <tbody>\n",
       "    <tr>\n",
       "      <th>0</th>\n",
       "      <td>0.774510</td>\n",
       "      <td>0.785047</td>\n",
       "      <td>0.785047</td>\n",
       "      <td>0.504630</td>\n",
       "      <td>0.528205</td>\n",
       "      <td>0.872881</td>\n",
       "      <td>MUS1-464</td>\n",
       "      <td>1.0</td>\n",
       "      <td>0.785047</td>\n",
       "      <td>0.658147</td>\n",
       "    </tr>\n",
       "    <tr>\n",
       "      <th>1</th>\n",
       "      <td>0.769608</td>\n",
       "      <td>0.800000</td>\n",
       "      <td>0.747664</td>\n",
       "      <td>0.638889</td>\n",
       "      <td>0.803030</td>\n",
       "      <td>0.449153</td>\n",
       "      <td>MUS1-464</td>\n",
       "      <td>2.0</td>\n",
       "      <td>0.772947</td>\n",
       "      <td>0.576087</td>\n",
       "    </tr>\n",
       "    <tr>\n",
       "      <th>2</th>\n",
       "      <td>0.764706</td>\n",
       "      <td>0.790476</td>\n",
       "      <td>0.761468</td>\n",
       "      <td>0.611111</td>\n",
       "      <td>0.646552</td>\n",
       "      <td>0.635593</td>\n",
       "      <td>MUS1-464</td>\n",
       "      <td>3.0</td>\n",
       "      <td>0.775701</td>\n",
       "      <td>0.641026</td>\n",
       "    </tr>\n",
       "    <tr>\n",
       "      <th>3</th>\n",
       "      <td>0.794118</td>\n",
       "      <td>0.761905</td>\n",
       "      <td>0.888889</td>\n",
       "      <td>0.560185</td>\n",
       "      <td>0.567251</td>\n",
       "      <td>0.822034</td>\n",
       "      <td>MUS1-464</td>\n",
       "      <td>4.0</td>\n",
       "      <td>0.820513</td>\n",
       "      <td>0.671280</td>\n",
       "    </tr>\n",
       "    <tr>\n",
       "      <th>4</th>\n",
       "      <td>0.789216</td>\n",
       "      <td>0.762295</td>\n",
       "      <td>0.869159</td>\n",
       "      <td>0.583333</td>\n",
       "      <td>0.584337</td>\n",
       "      <td>0.822034</td>\n",
       "      <td>MUS1-464</td>\n",
       "      <td>5.0</td>\n",
       "      <td>0.812227</td>\n",
       "      <td>0.683099</td>\n",
       "    </tr>\n",
       "  </tbody>\n",
       "</table>\n",
       "</div>"
      ],
      "text/plain": [
       "   ESAOTE_6100/val/accuracy  ESAOTE_6100/val/p  ESAOTE_6100/val/r  \\\n",
       "0                  0.774510           0.785047           0.785047   \n",
       "1                  0.769608           0.800000           0.747664   \n",
       "2                  0.764706           0.790476           0.761468   \n",
       "3                  0.794118           0.761905           0.888889   \n",
       "4                  0.789216           0.762295           0.869159   \n",
       "\n",
       "   Philips_iU22/val/accuracy  Philips_iU22/val/p  Philips_iU22/val/r  \\\n",
       "0                   0.504630            0.528205            0.872881   \n",
       "1                   0.638889            0.803030            0.449153   \n",
       "2                   0.611111            0.646552            0.635593   \n",
       "3                   0.560185            0.567251            0.822034   \n",
       "4                   0.583333            0.584337            0.822034   \n",
       "\n",
       "         id  epoch  ESAOTE_6100/val/f1  Philips_iU22/val/f1  \n",
       "0  MUS1-464    1.0            0.785047             0.658147  \n",
       "1  MUS1-464    2.0            0.772947             0.576087  \n",
       "2  MUS1-464    3.0            0.775701             0.641026  \n",
       "3  MUS1-464    4.0            0.820513             0.671280  \n",
       "4  MUS1-464    5.0            0.812227             0.683099  "
      ]
     },
     "execution_count": 51,
     "metadata": {},
     "output_type": "execute_result"
    }
   ],
   "source": [
    "def compute_f1_esaote(entry):\n",
    "    return hmean([entry['ESAOTE_6100/val/p'], entry['ESAOTE_6100/val/r']])\n",
    "\n",
    "def compute_f1_philips(entry):\n",
    "    return hmean([entry['Philips_iU22/val/p'], entry['Philips_iU22/val/r']])\n",
    "\n",
    "if problem_type == 'binary':\n",
    "    metrics_df['ESAOTE_6100/val/f1'] = metrics_df.apply(compute_f1_esaote, axis=1)\n",
    "    metrics_df['Philips_iU22/val/f1'] = metrics_df.apply(compute_f1_philips, axis=1)\n",
    "  #  metrics_df['val_f1_gap'] = metrics_df['ESAOTE_6100/val/f1']  -metrics_df['Philips_iU22/val/f1']\n",
    "else:\n",
    "    metrics_df['val_mae_gap'] = metrics_df['ESAOTE_6100/val/mae']  -metrics_df['Philips_iU22/val/mae']"
   ]
  },
  {
   "cell_type": "code",
   "execution_count": 56,
   "metadata": {},
   "outputs": [
    {
     "data": {
      "text/html": [
       "<div>\n",
       "<style scoped>\n",
       "    .dataframe tbody tr th:only-of-type {\n",
       "        vertical-align: middle;\n",
       "    }\n",
       "\n",
       "    .dataframe tbody tr th {\n",
       "        vertical-align: top;\n",
       "    }\n",
       "\n",
       "    .dataframe thead th {\n",
       "        text-align: right;\n",
       "    }\n",
       "</style>\n",
       "<table border=\"1\" class=\"dataframe\">\n",
       "  <thead>\n",
       "    <tr style=\"text-align: right;\">\n",
       "      <th></th>\n",
       "      <th>ESAOTE_6100/val/auc_Class</th>\n",
       "      <th>Philips_iU22/val/auc_Class</th>\n",
       "      <th>id</th>\n",
       "      <th>training/mean_coral_Class</th>\n",
       "      <th>epoch</th>\n",
       "    </tr>\n",
       "  </thead>\n",
       "  <tbody>\n",
       "    <tr>\n",
       "      <th>0</th>\n",
       "      <td>0.720799</td>\n",
       "      <td>0.368215</td>\n",
       "      <td>CORAL-14</td>\n",
       "      <td>0.000621</td>\n",
       "      <td>1.0</td>\n",
       "    </tr>\n",
       "    <tr>\n",
       "      <th>1</th>\n",
       "      <td>0.772113</td>\n",
       "      <td>0.479565</td>\n",
       "      <td>CORAL-14</td>\n",
       "      <td>0.000672</td>\n",
       "      <td>2.0</td>\n",
       "    </tr>\n",
       "    <tr>\n",
       "      <th>2</th>\n",
       "      <td>0.791739</td>\n",
       "      <td>0.549479</td>\n",
       "      <td>CORAL-14</td>\n",
       "      <td>0.000547</td>\n",
       "      <td>3.0</td>\n",
       "    </tr>\n",
       "    <tr>\n",
       "      <th>3</th>\n",
       "      <td>0.705882</td>\n",
       "      <td>0.755102</td>\n",
       "      <td>CORAL-14</td>\n",
       "      <td>0.000582</td>\n",
       "      <td>4.0</td>\n",
       "    </tr>\n",
       "    <tr>\n",
       "      <th>4</th>\n",
       "      <td>0.810435</td>\n",
       "      <td>0.683891</td>\n",
       "      <td>CORAL-14</td>\n",
       "      <td>0.000513</td>\n",
       "      <td>5.0</td>\n",
       "    </tr>\n",
       "  </tbody>\n",
       "</table>\n",
       "</div>"
      ],
      "text/plain": [
       "   ESAOTE_6100/val/auc_Class  Philips_iU22/val/auc_Class        id  \\\n",
       "0                   0.720799                    0.368215  CORAL-14   \n",
       "1                   0.772113                    0.479565  CORAL-14   \n",
       "2                   0.791739                    0.549479  CORAL-14   \n",
       "3                   0.705882                    0.755102  CORAL-14   \n",
       "4                   0.810435                    0.683891  CORAL-14   \n",
       "\n",
       "   training/mean_coral_Class  epoch  \n",
       "0                   0.000621    1.0  \n",
       "1                   0.000672    2.0  \n",
       "2                   0.000547    3.0  \n",
       "3                   0.000582    4.0  \n",
       "4                   0.000513    5.0  "
      ]
     },
     "execution_count": 56,
     "metadata": {},
     "output_type": "execute_result"
    }
   ],
   "source": [
    "metrics_df.rename(columns={'x': 'epoch'},inplace=True)\n",
    "metrics_df.head(n=5)"
   ]
  },
  {
   "cell_type": "code",
   "execution_count": 28,
   "metadata": {},
   "outputs": [],
   "source": [
    "# grab the best scoring epoch for each experiment\n",
    "if problem_type == 'binary':\n",
    "    best_scores = metrics_df.sort_values(['ESAOTE_6100/val/auc_Class'], ascending=[False]).groupby('id').first()\n",
    "else:\n",
    "    best_scores = metrics_df.sort_values(['ESAOTE_6100/val/mae'], ascending=[True]).groupby('id').first()"
   ]
  },
  {
   "cell_type": "code",
   "execution_count": 29,
   "metadata": {},
   "outputs": [
    {
     "data": {
      "text/html": [
       "<div>\n",
       "<style scoped>\n",
       "    .dataframe tbody tr th:only-of-type {\n",
       "        vertical-align: middle;\n",
       "    }\n",
       "\n",
       "    .dataframe tbody tr th {\n",
       "        vertical-align: top;\n",
       "    }\n",
       "\n",
       "    .dataframe thead th {\n",
       "        text-align: right;\n",
       "    }\n",
       "</style>\n",
       "<table border=\"1\" class=\"dataframe\">\n",
       "  <thead>\n",
       "    <tr style=\"text-align: right;\">\n",
       "      <th></th>\n",
       "      <th>ESAOTE_6100/val/auc_Class</th>\n",
       "      <th>Philips_iU22/val/auc_Class</th>\n",
       "      <th>training/mean_coral_Class</th>\n",
       "      <th>epoch</th>\n",
       "      <th>name</th>\n",
       "      <th>created</th>\n",
       "      <th>finished</th>\n",
       "      <th>owner</th>\n",
       "      <th>notes</th>\n",
       "      <th>running_time</th>\n",
       "      <th>...</th>\n",
       "      <th>parameter_n_epochs</th>\n",
       "      <th>parameter_n_params_backend</th>\n",
       "      <th>parameter_n_params_classifier</th>\n",
       "      <th>parameter_n_params_pooling</th>\n",
       "      <th>parameter_prediction_target</th>\n",
       "      <th>parameter_problem_type</th>\n",
       "      <th>parameter_source_train</th>\n",
       "      <th>parameter_target_train</th>\n",
       "      <th>parameter_use_pseudopatients</th>\n",
       "      <th>parameter_val</th>\n",
       "    </tr>\n",
       "    <tr>\n",
       "      <th>id</th>\n",
       "      <th></th>\n",
       "      <th></th>\n",
       "      <th></th>\n",
       "      <th></th>\n",
       "      <th></th>\n",
       "      <th></th>\n",
       "      <th></th>\n",
       "      <th></th>\n",
       "      <th></th>\n",
       "      <th></th>\n",
       "      <th></th>\n",
       "      <th></th>\n",
       "      <th></th>\n",
       "      <th></th>\n",
       "      <th></th>\n",
       "      <th></th>\n",
       "      <th></th>\n",
       "      <th></th>\n",
       "      <th></th>\n",
       "      <th></th>\n",
       "      <th></th>\n",
       "    </tr>\n",
       "  </thead>\n",
       "  <tbody>\n",
       "    <tr>\n",
       "      <th>CORAL-71</th>\n",
       "      <td>0.818301</td>\n",
       "      <td>0.690404</td>\n",
       "      <td>0.000245</td>\n",
       "      <td>7.0</td>\n",
       "      <td>Untitled</td>\n",
       "      <td>2020-09-08 20:12:57.019000+00:00</td>\n",
       "      <td>2020-09-08 20:44:31.989000+00:00</td>\n",
       "      <td>createrandom</td>\n",
       "      <td></td>\n",
       "      <td>1894</td>\n",
       "      <td>...</td>\n",
       "      <td>15.0</td>\n",
       "      <td>1.1176512E7</td>\n",
       "      <td>165121.0</td>\n",
       "      <td>65793.0</td>\n",
       "      <td>Class</td>\n",
       "      <td>bag</td>\n",
       "      <td>ESAOTE_6100_train</td>\n",
       "      <td>Philips_iU22_train</td>\n",
       "      <td>True</td>\n",
       "      <td>['ESAOTE_6100_val', 'Philips_iU22_val']</td>\n",
       "    </tr>\n",
       "  </tbody>\n",
       "</table>\n",
       "<p>1 rows × 81 columns</p>\n",
       "</div>"
      ],
      "text/plain": [
       "          ESAOTE_6100/val/auc_Class  Philips_iU22/val/auc_Class  \\\n",
       "id                                                                \n",
       "CORAL-71                   0.818301                    0.690404   \n",
       "\n",
       "          training/mean_coral_Class  epoch      name  \\\n",
       "id                                                     \n",
       "CORAL-71                   0.000245    7.0  Untitled   \n",
       "\n",
       "                                  created                         finished  \\\n",
       "id                                                                           \n",
       "CORAL-71 2020-09-08 20:12:57.019000+00:00 2020-09-08 20:44:31.989000+00:00   \n",
       "\n",
       "                 owner notes  running_time  ...  parameter_n_epochs  \\\n",
       "id                                          ...                       \n",
       "CORAL-71  createrandom                1894  ...                15.0   \n",
       "\n",
       "         parameter_n_params_backend parameter_n_params_classifier  \\\n",
       "id                                                                  \n",
       "CORAL-71                1.1176512E7                      165121.0   \n",
       "\n",
       "         parameter_n_params_pooling parameter_prediction_target  \\\n",
       "id                                                                \n",
       "CORAL-71                    65793.0                       Class   \n",
       "\n",
       "         parameter_problem_type parameter_source_train parameter_target_train  \\\n",
       "id                                                                              \n",
       "CORAL-71                    bag      ESAOTE_6100_train     Philips_iU22_train   \n",
       "\n",
       "         parameter_use_pseudopatients                            parameter_val  \n",
       "id                                                                              \n",
       "CORAL-71                         True  ['ESAOTE_6100_val', 'Philips_iU22_val']  \n",
       "\n",
       "[1 rows x 81 columns]"
      ]
     },
     "execution_count": 29,
     "metadata": {},
     "output_type": "execute_result"
    }
   ],
   "source": [
    "all_data = project.get_leaderboard(tag=attribute).set_index('id').convert_dtypes()\n",
    "metrics_df['id']=metrics_df['id'].astype(str)\n",
    "plot_frame = best_scores.join(all_data)\n",
    "plot_frame.head(n=10)"
   ]
  },
  {
   "cell_type": "code",
   "execution_count": 65,
   "metadata": {},
   "outputs": [
    {
     "data": {
      "text/html": [
       "<div>\n",
       "<style scoped>\n",
       "    .dataframe tbody tr th:only-of-type {\n",
       "        vertical-align: middle;\n",
       "    }\n",
       "\n",
       "    .dataframe tbody tr th {\n",
       "        vertical-align: top;\n",
       "    }\n",
       "\n",
       "    .dataframe thead th {\n",
       "        text-align: right;\n",
       "    }\n",
       "</style>\n",
       "<table border=\"1\" class=\"dataframe\">\n",
       "  <thead>\n",
       "    <tr style=\"text-align: right;\">\n",
       "      <th></th>\n",
       "      <th>ESAOTE_6100/val/auc_Class</th>\n",
       "      <th>Philips_iU22/val/auc_Class</th>\n",
       "      <th>id</th>\n",
       "      <th>training/mean_coral_Class</th>\n",
       "      <th>epoch</th>\n",
       "      <th>name</th>\n",
       "      <th>created</th>\n",
       "      <th>finished</th>\n",
       "      <th>owner</th>\n",
       "      <th>notes</th>\n",
       "      <th>...</th>\n",
       "      <th>parameter_n_epochs</th>\n",
       "      <th>parameter_n_params_backend</th>\n",
       "      <th>parameter_n_params_classifier</th>\n",
       "      <th>parameter_n_params_pooling</th>\n",
       "      <th>parameter_prediction_target</th>\n",
       "      <th>parameter_problem_type</th>\n",
       "      <th>parameter_source_train</th>\n",
       "      <th>parameter_target_train</th>\n",
       "      <th>parameter_use_pseudopatients</th>\n",
       "      <th>parameter_val</th>\n",
       "    </tr>\n",
       "  </thead>\n",
       "  <tbody>\n",
       "    <tr>\n",
       "      <th>2</th>\n",
       "      <td>0.776522</td>\n",
       "      <td>0.812066</td>\n",
       "      <td>CORAL-96</td>\n",
       "      <td>0.001860</td>\n",
       "      <td>3.0</td>\n",
       "      <td>Untitled</td>\n",
       "      <td>2020-09-09 00:16:08.041000+00:00</td>\n",
       "      <td>2020-09-09 00:45:31.174000+00:00</td>\n",
       "      <td>createrandom</td>\n",
       "      <td></td>\n",
       "      <td>...</td>\n",
       "      <td>15.0</td>\n",
       "      <td>1.1176512E7</td>\n",
       "      <td>165121.0</td>\n",
       "      <td>65793.0</td>\n",
       "      <td>Class</td>\n",
       "      <td>bag</td>\n",
       "      <td>ESAOTE_6100_train</td>\n",
       "      <td>Philips_iU22_train</td>\n",
       "      <td>True</td>\n",
       "      <td>['ESAOTE_6100_val', 'Philips_iU22_val']</td>\n",
       "    </tr>\n",
       "    <tr>\n",
       "      <th>8</th>\n",
       "      <td>0.826486</td>\n",
       "      <td>0.809813</td>\n",
       "      <td>CORAL-54</td>\n",
       "      <td>0.090980</td>\n",
       "      <td>9.0</td>\n",
       "      <td>Untitled</td>\n",
       "      <td>2020-08-29 13:56:52.617000+00:00</td>\n",
       "      <td>2020-08-29 14:26:15.749000+00:00</td>\n",
       "      <td>createrandom</td>\n",
       "      <td></td>\n",
       "      <td>...</td>\n",
       "      <td>15.0</td>\n",
       "      <td>1.1176512E7</td>\n",
       "      <td>165121.0</td>\n",
       "      <td>65793.0</td>\n",
       "      <td>Class</td>\n",
       "      <td>bag</td>\n",
       "      <td>ESAOTE_6100_train</td>\n",
       "      <td>Philips_iU22_train</td>\n",
       "      <td>True</td>\n",
       "      <td>['ESAOTE_6100_val', 'Philips_iU22_val']</td>\n",
       "    </tr>\n",
       "    <tr>\n",
       "      <th>4</th>\n",
       "      <td>0.750000</td>\n",
       "      <td>0.808511</td>\n",
       "      <td>CORAL-100</td>\n",
       "      <td>0.001288</td>\n",
       "      <td>5.0</td>\n",
       "      <td>Untitled</td>\n",
       "      <td>2020-09-09 00:46:43.623000+00:00</td>\n",
       "      <td>2020-09-09 01:15:54.803000+00:00</td>\n",
       "      <td>createrandom</td>\n",
       "      <td></td>\n",
       "      <td>...</td>\n",
       "      <td>15.0</td>\n",
       "      <td>1.1176512E7</td>\n",
       "      <td>165121.0</td>\n",
       "      <td>65793.0</td>\n",
       "      <td>Class</td>\n",
       "      <td>bag</td>\n",
       "      <td>ESAOTE_6100_train</td>\n",
       "      <td>Philips_iU22_train</td>\n",
       "      <td>True</td>\n",
       "      <td>['ESAOTE_6100_val', 'Philips_iU22_val']</td>\n",
       "    </tr>\n",
       "    <tr>\n",
       "      <th>6</th>\n",
       "      <td>0.827015</td>\n",
       "      <td>0.808076</td>\n",
       "      <td>CORAL-54</td>\n",
       "      <td>0.044692</td>\n",
       "      <td>7.0</td>\n",
       "      <td>Untitled</td>\n",
       "      <td>2020-08-29 13:56:52.617000+00:00</td>\n",
       "      <td>2020-08-29 14:26:15.749000+00:00</td>\n",
       "      <td>createrandom</td>\n",
       "      <td></td>\n",
       "      <td>...</td>\n",
       "      <td>15.0</td>\n",
       "      <td>1.1176512E7</td>\n",
       "      <td>165121.0</td>\n",
       "      <td>65793.0</td>\n",
       "      <td>Class</td>\n",
       "      <td>bag</td>\n",
       "      <td>ESAOTE_6100_train</td>\n",
       "      <td>Philips_iU22_train</td>\n",
       "      <td>True</td>\n",
       "      <td>['ESAOTE_6100_val', 'Philips_iU22_val']</td>\n",
       "    </tr>\n",
       "    <tr>\n",
       "      <th>1</th>\n",
       "      <td>0.742048</td>\n",
       "      <td>0.803913</td>\n",
       "      <td>CORAL-104</td>\n",
       "      <td>0.003109</td>\n",
       "      <td>2.0</td>\n",
       "      <td>Untitled</td>\n",
       "      <td>2020-09-09 01:46:17.852000+00:00</td>\n",
       "      <td>2020-09-09 02:15:54.135000+00:00</td>\n",
       "      <td>createrandom</td>\n",
       "      <td></td>\n",
       "      <td>...</td>\n",
       "      <td>15.0</td>\n",
       "      <td>1.1176512E7</td>\n",
       "      <td>165121.0</td>\n",
       "      <td>65793.0</td>\n",
       "      <td>Class</td>\n",
       "      <td>bag</td>\n",
       "      <td>ESAOTE_6100_train</td>\n",
       "      <td>Philips_iU22_train</td>\n",
       "      <td>True</td>\n",
       "      <td>['ESAOTE_6100_val', 'Philips_iU22_val']</td>\n",
       "    </tr>\n",
       "    <tr>\n",
       "      <th>...</th>\n",
       "      <td>...</td>\n",
       "      <td>...</td>\n",
       "      <td>...</td>\n",
       "      <td>...</td>\n",
       "      <td>...</td>\n",
       "      <td>...</td>\n",
       "      <td>...</td>\n",
       "      <td>...</td>\n",
       "      <td>...</td>\n",
       "      <td>...</td>\n",
       "      <td>...</td>\n",
       "      <td>...</td>\n",
       "      <td>...</td>\n",
       "      <td>...</td>\n",
       "      <td>...</td>\n",
       "      <td>...</td>\n",
       "      <td>...</td>\n",
       "      <td>...</td>\n",
       "      <td>...</td>\n",
       "      <td>...</td>\n",
       "      <td>...</td>\n",
       "    </tr>\n",
       "    <tr>\n",
       "      <th>0</th>\n",
       "      <td>0.745983</td>\n",
       "      <td>0.336518</td>\n",
       "      <td>CORAL-55</td>\n",
       "      <td>0.013752</td>\n",
       "      <td>1.0</td>\n",
       "      <td>Untitled</td>\n",
       "      <td>2020-08-29 13:58:20.191000+00:00</td>\n",
       "      <td>2020-08-29 14:28:31.433000+00:00</td>\n",
       "      <td>createrandom</td>\n",
       "      <td></td>\n",
       "      <td>...</td>\n",
       "      <td>15.0</td>\n",
       "      <td>1.1176512E7</td>\n",
       "      <td>165121.0</td>\n",
       "      <td>65793.0</td>\n",
       "      <td>Class</td>\n",
       "      <td>bag</td>\n",
       "      <td>ESAOTE_6100_train</td>\n",
       "      <td>Philips_iU22_train</td>\n",
       "      <td>True</td>\n",
       "      <td>['ESAOTE_6100_val', 'Philips_iU22_val']</td>\n",
       "    </tr>\n",
       "    <tr>\n",
       "      <th>0</th>\n",
       "      <td>0.709075</td>\n",
       "      <td>0.328702</td>\n",
       "      <td>CORAL-98</td>\n",
       "      <td>0.001081</td>\n",
       "      <td>1.0</td>\n",
       "      <td>Untitled</td>\n",
       "      <td>2020-09-09 00:46:12.699000+00:00</td>\n",
       "      <td>2020-09-09 01:15:39.785000+00:00</td>\n",
       "      <td>createrandom</td>\n",
       "      <td></td>\n",
       "      <td>...</td>\n",
       "      <td>15.0</td>\n",
       "      <td>1.1176512E7</td>\n",
       "      <td>165121.0</td>\n",
       "      <td>65793.0</td>\n",
       "      <td>Class</td>\n",
       "      <td>bag</td>\n",
       "      <td>ESAOTE_6100_train</td>\n",
       "      <td>Philips_iU22_train</td>\n",
       "      <td>True</td>\n",
       "      <td>['ESAOTE_6100_val', 'Philips_iU22_val']</td>\n",
       "    </tr>\n",
       "    <tr>\n",
       "      <th>8</th>\n",
       "      <td>0.812937</td>\n",
       "      <td>0.244464</td>\n",
       "      <td>CORAL-96</td>\n",
       "      <td>0.002683</td>\n",
       "      <td>9.0</td>\n",
       "      <td>Untitled</td>\n",
       "      <td>2020-09-09 00:16:08.041000+00:00</td>\n",
       "      <td>2020-09-09 00:45:31.174000+00:00</td>\n",
       "      <td>createrandom</td>\n",
       "      <td></td>\n",
       "      <td>...</td>\n",
       "      <td>15.0</td>\n",
       "      <td>1.1176512E7</td>\n",
       "      <td>165121.0</td>\n",
       "      <td>65793.0</td>\n",
       "      <td>Class</td>\n",
       "      <td>bag</td>\n",
       "      <td>ESAOTE_6100_train</td>\n",
       "      <td>Philips_iU22_train</td>\n",
       "      <td>True</td>\n",
       "      <td>['ESAOTE_6100_val', 'Philips_iU22_val']</td>\n",
       "    </tr>\n",
       "    <tr>\n",
       "      <th>0</th>\n",
       "      <td>0.556665</td>\n",
       "      <td>0.191924</td>\n",
       "      <td>CORAL-103</td>\n",
       "      <td>0.000880</td>\n",
       "      <td>1.0</td>\n",
       "      <td>Untitled</td>\n",
       "      <td>2020-09-09 01:16:34.172000+00:00</td>\n",
       "      <td>2020-09-09 01:45:55.525000+00:00</td>\n",
       "      <td>createrandom</td>\n",
       "      <td></td>\n",
       "      <td>...</td>\n",
       "      <td>15.0</td>\n",
       "      <td>1.1176512E7</td>\n",
       "      <td>165121.0</td>\n",
       "      <td>65793.0</td>\n",
       "      <td>Class</td>\n",
       "      <td>bag</td>\n",
       "      <td>ESAOTE_6100_train</td>\n",
       "      <td>Philips_iU22_train</td>\n",
       "      <td>True</td>\n",
       "      <td>['ESAOTE_6100_val', 'Philips_iU22_val']</td>\n",
       "    </tr>\n",
       "    <tr>\n",
       "      <th>1</th>\n",
       "      <td>0.714597</td>\n",
       "      <td>0.179130</td>\n",
       "      <td>CORAL-100</td>\n",
       "      <td>0.002044</td>\n",
       "      <td>2.0</td>\n",
       "      <td>Untitled</td>\n",
       "      <td>2020-09-09 00:46:43.623000+00:00</td>\n",
       "      <td>2020-09-09 01:15:54.803000+00:00</td>\n",
       "      <td>createrandom</td>\n",
       "      <td></td>\n",
       "      <td>...</td>\n",
       "      <td>15.0</td>\n",
       "      <td>1.1176512E7</td>\n",
       "      <td>165121.0</td>\n",
       "      <td>65793.0</td>\n",
       "      <td>Class</td>\n",
       "      <td>bag</td>\n",
       "      <td>ESAOTE_6100_train</td>\n",
       "      <td>Philips_iU22_train</td>\n",
       "      <td>True</td>\n",
       "      <td>['ESAOTE_6100_val', 'Philips_iU22_val']</td>\n",
       "    </tr>\n",
       "  </tbody>\n",
       "</table>\n",
       "<p>225 rows × 82 columns</p>\n",
       "</div>"
      ],
      "text/plain": [
       "    ESAOTE_6100/val/auc_Class  Philips_iU22/val/auc_Class         id  \\\n",
       "2                    0.776522                    0.812066   CORAL-96   \n",
       "8                    0.826486                    0.809813   CORAL-54   \n",
       "4                    0.750000                    0.808511  CORAL-100   \n",
       "6                    0.827015                    0.808076   CORAL-54   \n",
       "1                    0.742048                    0.803913  CORAL-104   \n",
       "..                        ...                         ...        ...   \n",
       "0                    0.745983                    0.336518   CORAL-55   \n",
       "0                    0.709075                    0.328702   CORAL-98   \n",
       "8                    0.812937                    0.244464   CORAL-96   \n",
       "0                    0.556665                    0.191924  CORAL-103   \n",
       "1                    0.714597                    0.179130  CORAL-100   \n",
       "\n",
       "    training/mean_coral_Class  epoch      name  \\\n",
       "2                    0.001860    3.0  Untitled   \n",
       "8                    0.090980    9.0  Untitled   \n",
       "4                    0.001288    5.0  Untitled   \n",
       "6                    0.044692    7.0  Untitled   \n",
       "1                    0.003109    2.0  Untitled   \n",
       "..                        ...    ...       ...   \n",
       "0                    0.013752    1.0  Untitled   \n",
       "0                    0.001081    1.0  Untitled   \n",
       "8                    0.002683    9.0  Untitled   \n",
       "0                    0.000880    1.0  Untitled   \n",
       "1                    0.002044    2.0  Untitled   \n",
       "\n",
       "                            created                         finished  \\\n",
       "2  2020-09-09 00:16:08.041000+00:00 2020-09-09 00:45:31.174000+00:00   \n",
       "8  2020-08-29 13:56:52.617000+00:00 2020-08-29 14:26:15.749000+00:00   \n",
       "4  2020-09-09 00:46:43.623000+00:00 2020-09-09 01:15:54.803000+00:00   \n",
       "6  2020-08-29 13:56:52.617000+00:00 2020-08-29 14:26:15.749000+00:00   \n",
       "1  2020-09-09 01:46:17.852000+00:00 2020-09-09 02:15:54.135000+00:00   \n",
       "..                              ...                              ...   \n",
       "0  2020-08-29 13:58:20.191000+00:00 2020-08-29 14:28:31.433000+00:00   \n",
       "0  2020-09-09 00:46:12.699000+00:00 2020-09-09 01:15:39.785000+00:00   \n",
       "8  2020-09-09 00:16:08.041000+00:00 2020-09-09 00:45:31.174000+00:00   \n",
       "0  2020-09-09 01:16:34.172000+00:00 2020-09-09 01:45:55.525000+00:00   \n",
       "1  2020-09-09 00:46:43.623000+00:00 2020-09-09 01:15:54.803000+00:00   \n",
       "\n",
       "           owner notes  ...  parameter_n_epochs  parameter_n_params_backend  \\\n",
       "2   createrandom        ...                15.0                 1.1176512E7   \n",
       "8   createrandom        ...                15.0                 1.1176512E7   \n",
       "4   createrandom        ...                15.0                 1.1176512E7   \n",
       "6   createrandom        ...                15.0                 1.1176512E7   \n",
       "1   createrandom        ...                15.0                 1.1176512E7   \n",
       "..           ...   ...  ...                 ...                         ...   \n",
       "0   createrandom        ...                15.0                 1.1176512E7   \n",
       "0   createrandom        ...                15.0                 1.1176512E7   \n",
       "8   createrandom        ...                15.0                 1.1176512E7   \n",
       "0   createrandom        ...                15.0                 1.1176512E7   \n",
       "1   createrandom        ...                15.0                 1.1176512E7   \n",
       "\n",
       "   parameter_n_params_classifier parameter_n_params_pooling  \\\n",
       "2                       165121.0                    65793.0   \n",
       "8                       165121.0                    65793.0   \n",
       "4                       165121.0                    65793.0   \n",
       "6                       165121.0                    65793.0   \n",
       "1                       165121.0                    65793.0   \n",
       "..                           ...                        ...   \n",
       "0                       165121.0                    65793.0   \n",
       "0                       165121.0                    65793.0   \n",
       "8                       165121.0                    65793.0   \n",
       "0                       165121.0                    65793.0   \n",
       "1                       165121.0                    65793.0   \n",
       "\n",
       "   parameter_prediction_target parameter_problem_type parameter_source_train  \\\n",
       "2                        Class                    bag      ESAOTE_6100_train   \n",
       "8                        Class                    bag      ESAOTE_6100_train   \n",
       "4                        Class                    bag      ESAOTE_6100_train   \n",
       "6                        Class                    bag      ESAOTE_6100_train   \n",
       "1                        Class                    bag      ESAOTE_6100_train   \n",
       "..                         ...                    ...                    ...   \n",
       "0                        Class                    bag      ESAOTE_6100_train   \n",
       "0                        Class                    bag      ESAOTE_6100_train   \n",
       "8                        Class                    bag      ESAOTE_6100_train   \n",
       "0                        Class                    bag      ESAOTE_6100_train   \n",
       "1                        Class                    bag      ESAOTE_6100_train   \n",
       "\n",
       "   parameter_target_train parameter_use_pseudopatients  \\\n",
       "2      Philips_iU22_train                         True   \n",
       "8      Philips_iU22_train                         True   \n",
       "4      Philips_iU22_train                         True   \n",
       "6      Philips_iU22_train                         True   \n",
       "1      Philips_iU22_train                         True   \n",
       "..                    ...                          ...   \n",
       "0      Philips_iU22_train                         True   \n",
       "0      Philips_iU22_train                         True   \n",
       "8      Philips_iU22_train                         True   \n",
       "0      Philips_iU22_train                         True   \n",
       "1      Philips_iU22_train                         True   \n",
       "\n",
       "                              parameter_val  \n",
       "2   ['ESAOTE_6100_val', 'Philips_iU22_val']  \n",
       "8   ['ESAOTE_6100_val', 'Philips_iU22_val']  \n",
       "4   ['ESAOTE_6100_val', 'Philips_iU22_val']  \n",
       "6   ['ESAOTE_6100_val', 'Philips_iU22_val']  \n",
       "1   ['ESAOTE_6100_val', 'Philips_iU22_val']  \n",
       "..                                      ...  \n",
       "0   ['ESAOTE_6100_val', 'Philips_iU22_val']  \n",
       "0   ['ESAOTE_6100_val', 'Philips_iU22_val']  \n",
       "8   ['ESAOTE_6100_val', 'Philips_iU22_val']  \n",
       "0   ['ESAOTE_6100_val', 'Philips_iU22_val']  \n",
       "1   ['ESAOTE_6100_val', 'Philips_iU22_val']  \n",
       "\n",
       "[225 rows x 82 columns]"
      ]
     },
     "execution_count": 65,
     "metadata": {},
     "output_type": "execute_result"
    }
   ],
   "source": [
    "test_frame = metrics_df.join(all_data,on='id')\n",
    "# filter on machine\n",
    "is_layer_of_interest = test_frame['parameter_layers_to_compute_da_on'] == '[2]'\n",
    "is_machine = test_frame['parameter_source_train'] == 'ESAOTE_6100_train'\n",
    "filtered = test_frame[is_machine & is_layer_of_interest]\n",
    "filtered.sort_values(by=['Philips_iU22/val/auc_Class','training/mean_coral_Class'],ascending=[False, True])\n",
    "#filtered.sort_values(by=['training/mean_coral_Class'],ascending=[True])"
   ]
  },
  {
   "cell_type": "code",
   "execution_count": 54,
   "metadata": {},
   "outputs": [
    {
     "data": {
      "text/html": [
       "<div>\n",
       "<style scoped>\n",
       "    .dataframe tbody tr th:only-of-type {\n",
       "        vertical-align: middle;\n",
       "    }\n",
       "\n",
       "    .dataframe tbody tr th {\n",
       "        vertical-align: top;\n",
       "    }\n",
       "\n",
       "    .dataframe thead th {\n",
       "        text-align: right;\n",
       "    }\n",
       "</style>\n",
       "<table border=\"1\" class=\"dataframe\">\n",
       "  <thead>\n",
       "    <tr style=\"text-align: right;\">\n",
       "      <th></th>\n",
       "      <th>epoch</th>\n",
       "      <th>parameter_problem_type</th>\n",
       "      <th>parameter_mil_pooling</th>\n",
       "      <th>parameter_lr</th>\n",
       "      <th>ESAOTE_6100/val/accuracy</th>\n",
       "      <th>ESAOTE_6100/val/p</th>\n",
       "      <th>ESAOTE_6100/val/r</th>\n",
       "      <th>Philips_iU22/val/accuracy</th>\n",
       "      <th>Philips_iU22/val/p</th>\n",
       "      <th>Philips_iU22/val/r</th>\n",
       "      <th>ESAOTE_6100/val/f1</th>\n",
       "      <th>Philips_iU22/val/f1</th>\n",
       "    </tr>\n",
       "    <tr>\n",
       "      <th>id</th>\n",
       "      <th></th>\n",
       "      <th></th>\n",
       "      <th></th>\n",
       "      <th></th>\n",
       "      <th></th>\n",
       "      <th></th>\n",
       "      <th></th>\n",
       "      <th></th>\n",
       "      <th></th>\n",
       "      <th></th>\n",
       "      <th></th>\n",
       "      <th></th>\n",
       "    </tr>\n",
       "  </thead>\n",
       "  <tbody>\n",
       "    <tr>\n",
       "      <th>MUS1-465</th>\n",
       "      <td>5.0</td>\n",
       "      <td>image</td>\n",
       "      <td>NA</td>\n",
       "      <td>0.07884803771142498</td>\n",
       "      <td>0.897059</td>\n",
       "      <td>0.880000</td>\n",
       "      <td>0.907216</td>\n",
       "      <td>0.606481</td>\n",
       "      <td>0.569892</td>\n",
       "      <td>0.540816</td>\n",
       "      <td>0.893401</td>\n",
       "      <td>0.554974</td>\n",
       "    </tr>\n",
       "    <tr>\n",
       "      <th>MUS1-475</th>\n",
       "      <td>10.0</td>\n",
       "      <td>image</td>\n",
       "      <td>NA</td>\n",
       "      <td>0.034727911182045275</td>\n",
       "      <td>0.897059</td>\n",
       "      <td>0.870000</td>\n",
       "      <td>0.915789</td>\n",
       "      <td>0.606481</td>\n",
       "      <td>0.651163</td>\n",
       "      <td>0.285714</td>\n",
       "      <td>0.892308</td>\n",
       "      <td>0.397163</td>\n",
       "    </tr>\n",
       "    <tr>\n",
       "      <th>MUS1-466</th>\n",
       "      <td>5.0</td>\n",
       "      <td>image</td>\n",
       "      <td>NA</td>\n",
       "      <td>0.09290424844470349</td>\n",
       "      <td>0.877451</td>\n",
       "      <td>0.846154</td>\n",
       "      <td>0.907216</td>\n",
       "      <td>0.564815</td>\n",
       "      <td>0.700000</td>\n",
       "      <td>0.071429</td>\n",
       "      <td>0.875622</td>\n",
       "      <td>0.129630</td>\n",
       "    </tr>\n",
       "    <tr>\n",
       "      <th>MUS1-469</th>\n",
       "      <td>5.0</td>\n",
       "      <td>image</td>\n",
       "      <td>NA</td>\n",
       "      <td>0.03512612009680869</td>\n",
       "      <td>0.872549</td>\n",
       "      <td>0.900990</td>\n",
       "      <td>0.850467</td>\n",
       "      <td>0.648148</td>\n",
       "      <td>0.659091</td>\n",
       "      <td>0.737288</td>\n",
       "      <td>0.875000</td>\n",
       "      <td>0.696000</td>\n",
       "    </tr>\n",
       "    <tr>\n",
       "      <th>MUS1-478</th>\n",
       "      <td>8.0</td>\n",
       "      <td>bag</td>\n",
       "      <td>mean</td>\n",
       "      <td>0.013850773307231088</td>\n",
       "      <td>0.860000</td>\n",
       "      <td>0.861111</td>\n",
       "      <td>0.877358</td>\n",
       "      <td>0.569444</td>\n",
       "      <td>0.569832</td>\n",
       "      <td>0.864407</td>\n",
       "      <td>0.869159</td>\n",
       "      <td>0.686869</td>\n",
       "    </tr>\n",
       "    <tr>\n",
       "      <th>MUS1-467</th>\n",
       "      <td>10.0</td>\n",
       "      <td>image</td>\n",
       "      <td>NA</td>\n",
       "      <td>0.05468682801848703</td>\n",
       "      <td>0.867647</td>\n",
       "      <td>0.927083</td>\n",
       "      <td>0.816514</td>\n",
       "      <td>0.620370</td>\n",
       "      <td>0.669811</td>\n",
       "      <td>0.601695</td>\n",
       "      <td>0.868293</td>\n",
       "      <td>0.633929</td>\n",
       "    </tr>\n",
       "    <tr>\n",
       "      <th>MUS1-473</th>\n",
       "      <td>9.0</td>\n",
       "      <td>image</td>\n",
       "      <td>NA</td>\n",
       "      <td>0.08776218762611263</td>\n",
       "      <td>0.862745</td>\n",
       "      <td>0.893204</td>\n",
       "      <td>0.844037</td>\n",
       "      <td>0.601852</td>\n",
       "      <td>0.591954</td>\n",
       "      <td>0.872881</td>\n",
       "      <td>0.867925</td>\n",
       "      <td>0.705479</td>\n",
       "    </tr>\n",
       "    <tr>\n",
       "      <th>MUS1-485</th>\n",
       "      <td>10.0</td>\n",
       "      <td>bag</td>\n",
       "      <td>mean</td>\n",
       "      <td>0.018394030587917828</td>\n",
       "      <td>0.840000</td>\n",
       "      <td>0.781955</td>\n",
       "      <td>0.971963</td>\n",
       "      <td>0.652778</td>\n",
       "      <td>0.686957</td>\n",
       "      <td>0.669492</td>\n",
       "      <td>0.866667</td>\n",
       "      <td>0.678112</td>\n",
       "    </tr>\n",
       "    <tr>\n",
       "      <th>MUS1-472</th>\n",
       "      <td>9.0</td>\n",
       "      <td>image</td>\n",
       "      <td>NA</td>\n",
       "      <td>0.07945127344357629</td>\n",
       "      <td>0.857843</td>\n",
       "      <td>0.884615</td>\n",
       "      <td>0.844037</td>\n",
       "      <td>0.606481</td>\n",
       "      <td>0.620438</td>\n",
       "      <td>0.720339</td>\n",
       "      <td>0.863850</td>\n",
       "      <td>0.666667</td>\n",
       "    </tr>\n",
       "    <tr>\n",
       "      <th>MUS1-464</th>\n",
       "      <td>9.0</td>\n",
       "      <td>image</td>\n",
       "      <td>NA</td>\n",
       "      <td>0.09675396694217302</td>\n",
       "      <td>0.848039</td>\n",
       "      <td>0.848214</td>\n",
       "      <td>0.871560</td>\n",
       "      <td>0.569444</td>\n",
       "      <td>0.567568</td>\n",
       "      <td>0.889831</td>\n",
       "      <td>0.859729</td>\n",
       "      <td>0.693069</td>\n",
       "    </tr>\n",
       "    <tr>\n",
       "      <th>MUS1-474</th>\n",
       "      <td>9.0</td>\n",
       "      <td>image</td>\n",
       "      <td>NA</td>\n",
       "      <td>0.08728850456094311</td>\n",
       "      <td>0.872549</td>\n",
       "      <td>0.887640</td>\n",
       "      <td>0.831579</td>\n",
       "      <td>0.634259</td>\n",
       "      <td>0.771429</td>\n",
       "      <td>0.275510</td>\n",
       "      <td>0.858696</td>\n",
       "      <td>0.406015</td>\n",
       "    </tr>\n",
       "    <tr>\n",
       "      <th>MUS1-468</th>\n",
       "      <td>9.0</td>\n",
       "      <td>image</td>\n",
       "      <td>NA</td>\n",
       "      <td>0.07034016102626098</td>\n",
       "      <td>0.862745</td>\n",
       "      <td>0.831683</td>\n",
       "      <td>0.884211</td>\n",
       "      <td>0.587963</td>\n",
       "      <td>0.666667</td>\n",
       "      <td>0.183673</td>\n",
       "      <td>0.857143</td>\n",
       "      <td>0.288000</td>\n",
       "    </tr>\n",
       "    <tr>\n",
       "      <th>MUS1-476</th>\n",
       "      <td>10.0</td>\n",
       "      <td>bag</td>\n",
       "      <td>mean</td>\n",
       "      <td>0.039988519691310356</td>\n",
       "      <td>0.835000</td>\n",
       "      <td>0.808333</td>\n",
       "      <td>0.906542</td>\n",
       "      <td>0.462963</td>\n",
       "      <td>1.000000</td>\n",
       "      <td>0.016949</td>\n",
       "      <td>0.854626</td>\n",
       "      <td>0.033333</td>\n",
       "    </tr>\n",
       "    <tr>\n",
       "      <th>MUS1-471</th>\n",
       "      <td>10.0</td>\n",
       "      <td>image</td>\n",
       "      <td>NA</td>\n",
       "      <td>0.061271817654313235</td>\n",
       "      <td>0.857843</td>\n",
       "      <td>0.976190</td>\n",
       "      <td>0.752294</td>\n",
       "      <td>0.587963</td>\n",
       "      <td>0.808511</td>\n",
       "      <td>0.322034</td>\n",
       "      <td>0.849741</td>\n",
       "      <td>0.460606</td>\n",
       "    </tr>\n",
       "    <tr>\n",
       "      <th>MUS1-470</th>\n",
       "      <td>10.0</td>\n",
       "      <td>image</td>\n",
       "      <td>NA</td>\n",
       "      <td>0.07350721935327556</td>\n",
       "      <td>0.852941</td>\n",
       "      <td>0.943820</td>\n",
       "      <td>0.770642</td>\n",
       "      <td>0.615741</td>\n",
       "      <td>0.619048</td>\n",
       "      <td>0.771186</td>\n",
       "      <td>0.848485</td>\n",
       "      <td>0.686792</td>\n",
       "    </tr>\n",
       "    <tr>\n",
       "      <th>MUS1-488</th>\n",
       "      <td>10.0</td>\n",
       "      <td>bag</td>\n",
       "      <td>attention</td>\n",
       "      <td>0.07311304267310911</td>\n",
       "      <td>0.820000</td>\n",
       "      <td>0.791667</td>\n",
       "      <td>0.896226</td>\n",
       "      <td>0.546296</td>\n",
       "      <td>0.546296</td>\n",
       "      <td>1.000000</td>\n",
       "      <td>0.840708</td>\n",
       "      <td>0.706587</td>\n",
       "    </tr>\n",
       "    <tr>\n",
       "      <th>MUS1-484</th>\n",
       "      <td>9.0</td>\n",
       "      <td>bag</td>\n",
       "      <td>mean</td>\n",
       "      <td>0.04545373319737111</td>\n",
       "      <td>0.840000</td>\n",
       "      <td>0.785047</td>\n",
       "      <td>0.903226</td>\n",
       "      <td>0.560185</td>\n",
       "      <td>0.518519</td>\n",
       "      <td>0.428571</td>\n",
       "      <td>0.840000</td>\n",
       "      <td>0.469274</td>\n",
       "    </tr>\n",
       "    <tr>\n",
       "      <th>MUS1-487</th>\n",
       "      <td>4.0</td>\n",
       "      <td>bag</td>\n",
       "      <td>mean</td>\n",
       "      <td>0.02564962901905009</td>\n",
       "      <td>0.845000</td>\n",
       "      <td>0.824742</td>\n",
       "      <td>0.851064</td>\n",
       "      <td>0.546296</td>\n",
       "      <td>0.000000</td>\n",
       "      <td>0.000000</td>\n",
       "      <td>0.837696</td>\n",
       "      <td>0.000000</td>\n",
       "    </tr>\n",
       "    <tr>\n",
       "      <th>MUS1-481</th>\n",
       "      <td>6.0</td>\n",
       "      <td>bag</td>\n",
       "      <td>mean</td>\n",
       "      <td>0.08779294758302639</td>\n",
       "      <td>0.825000</td>\n",
       "      <td>0.868687</td>\n",
       "      <td>0.796296</td>\n",
       "      <td>0.546296</td>\n",
       "      <td>0.547619</td>\n",
       "      <td>0.974576</td>\n",
       "      <td>0.830918</td>\n",
       "      <td>0.701220</td>\n",
       "    </tr>\n",
       "    <tr>\n",
       "      <th>MUS1-483</th>\n",
       "      <td>9.0</td>\n",
       "      <td>bag</td>\n",
       "      <td>mean</td>\n",
       "      <td>0.02309497844378327</td>\n",
       "      <td>0.845000</td>\n",
       "      <td>0.844444</td>\n",
       "      <td>0.817204</td>\n",
       "      <td>0.518519</td>\n",
       "      <td>0.200000</td>\n",
       "      <td>0.020408</td>\n",
       "      <td>0.830601</td>\n",
       "      <td>0.037037</td>\n",
       "    </tr>\n",
       "    <tr>\n",
       "      <th>MUS1-490</th>\n",
       "      <td>5.0</td>\n",
       "      <td>bag</td>\n",
       "      <td>attention</td>\n",
       "      <td>0.05136064819099455</td>\n",
       "      <td>0.835000</td>\n",
       "      <td>0.814433</td>\n",
       "      <td>0.840426</td>\n",
       "      <td>0.546296</td>\n",
       "      <td>0.000000</td>\n",
       "      <td>0.000000</td>\n",
       "      <td>0.827225</td>\n",
       "      <td>0.000000</td>\n",
       "    </tr>\n",
       "    <tr>\n",
       "      <th>MUS1-489</th>\n",
       "      <td>8.0</td>\n",
       "      <td>bag</td>\n",
       "      <td>attention</td>\n",
       "      <td>0.07458360053414405</td>\n",
       "      <td>0.810000</td>\n",
       "      <td>0.739496</td>\n",
       "      <td>0.926316</td>\n",
       "      <td>0.587963</td>\n",
       "      <td>0.645161</td>\n",
       "      <td>0.204082</td>\n",
       "      <td>0.822430</td>\n",
       "      <td>0.310078</td>\n",
       "    </tr>\n",
       "    <tr>\n",
       "      <th>MUS1-482</th>\n",
       "      <td>9.0</td>\n",
       "      <td>bag</td>\n",
       "      <td>mean</td>\n",
       "      <td>0.09003549155356137</td>\n",
       "      <td>0.825000</td>\n",
       "      <td>0.900000</td>\n",
       "      <td>0.757009</td>\n",
       "      <td>0.611111</td>\n",
       "      <td>0.972222</td>\n",
       "      <td>0.296610</td>\n",
       "      <td>0.822335</td>\n",
       "      <td>0.454545</td>\n",
       "    </tr>\n",
       "    <tr>\n",
       "      <th>MUS1-479</th>\n",
       "      <td>3.0</td>\n",
       "      <td>bag</td>\n",
       "      <td>mean</td>\n",
       "      <td>0.09572521799369989</td>\n",
       "      <td>0.805000</td>\n",
       "      <td>0.811321</td>\n",
       "      <td>0.819048</td>\n",
       "      <td>0.583333</td>\n",
       "      <td>0.571429</td>\n",
       "      <td>0.949153</td>\n",
       "      <td>0.815166</td>\n",
       "      <td>0.713376</td>\n",
       "    </tr>\n",
       "    <tr>\n",
       "      <th>MUS1-477</th>\n",
       "      <td>7.0</td>\n",
       "      <td>bag</td>\n",
       "      <td>mean</td>\n",
       "      <td>0.0832270044553627</td>\n",
       "      <td>0.800000</td>\n",
       "      <td>0.727273</td>\n",
       "      <td>0.926316</td>\n",
       "      <td>0.611111</td>\n",
       "      <td>0.581395</td>\n",
       "      <td>0.510204</td>\n",
       "      <td>0.814815</td>\n",
       "      <td>0.543478</td>\n",
       "    </tr>\n",
       "    <tr>\n",
       "      <th>MUS1-480</th>\n",
       "      <td>7.0</td>\n",
       "      <td>bag</td>\n",
       "      <td>mean</td>\n",
       "      <td>0.07881949262172504</td>\n",
       "      <td>0.805000</td>\n",
       "      <td>0.759259</td>\n",
       "      <td>0.863158</td>\n",
       "      <td>0.648148</td>\n",
       "      <td>0.610000</td>\n",
       "      <td>0.622449</td>\n",
       "      <td>0.807882</td>\n",
       "      <td>0.616162</td>\n",
       "    </tr>\n",
       "    <tr>\n",
       "      <th>MUS1-486</th>\n",
       "      <td>10.0</td>\n",
       "      <td>bag</td>\n",
       "      <td>mean</td>\n",
       "      <td>0.08756455277193333</td>\n",
       "      <td>0.795000</td>\n",
       "      <td>0.724138</td>\n",
       "      <td>0.903226</td>\n",
       "      <td>0.643519</td>\n",
       "      <td>0.580153</td>\n",
       "      <td>0.775510</td>\n",
       "      <td>0.803828</td>\n",
       "      <td>0.663755</td>\n",
       "    </tr>\n",
       "  </tbody>\n",
       "</table>\n",
       "</div>"
      ],
      "text/plain": [
       "          epoch parameter_problem_type parameter_mil_pooling  \\\n",
       "id                                                             \n",
       "MUS1-465    5.0                  image                    NA   \n",
       "MUS1-475   10.0                  image                    NA   \n",
       "MUS1-466    5.0                  image                    NA   \n",
       "MUS1-469    5.0                  image                    NA   \n",
       "MUS1-478    8.0                    bag                  mean   \n",
       "MUS1-467   10.0                  image                    NA   \n",
       "MUS1-473    9.0                  image                    NA   \n",
       "MUS1-485   10.0                    bag                  mean   \n",
       "MUS1-472    9.0                  image                    NA   \n",
       "MUS1-464    9.0                  image                    NA   \n",
       "MUS1-474    9.0                  image                    NA   \n",
       "MUS1-468    9.0                  image                    NA   \n",
       "MUS1-476   10.0                    bag                  mean   \n",
       "MUS1-471   10.0                  image                    NA   \n",
       "MUS1-470   10.0                  image                    NA   \n",
       "MUS1-488   10.0                    bag             attention   \n",
       "MUS1-484    9.0                    bag                  mean   \n",
       "MUS1-487    4.0                    bag                  mean   \n",
       "MUS1-481    6.0                    bag                  mean   \n",
       "MUS1-483    9.0                    bag                  mean   \n",
       "MUS1-490    5.0                    bag             attention   \n",
       "MUS1-489    8.0                    bag             attention   \n",
       "MUS1-482    9.0                    bag                  mean   \n",
       "MUS1-479    3.0                    bag                  mean   \n",
       "MUS1-477    7.0                    bag                  mean   \n",
       "MUS1-480    7.0                    bag                  mean   \n",
       "MUS1-486   10.0                    bag                  mean   \n",
       "\n",
       "                  parameter_lr  ESAOTE_6100/val/accuracy  ESAOTE_6100/val/p  \\\n",
       "id                                                                            \n",
       "MUS1-465   0.07884803771142498                  0.897059           0.880000   \n",
       "MUS1-475  0.034727911182045275                  0.897059           0.870000   \n",
       "MUS1-466   0.09290424844470349                  0.877451           0.846154   \n",
       "MUS1-469   0.03512612009680869                  0.872549           0.900990   \n",
       "MUS1-478  0.013850773307231088                  0.860000           0.861111   \n",
       "MUS1-467   0.05468682801848703                  0.867647           0.927083   \n",
       "MUS1-473   0.08776218762611263                  0.862745           0.893204   \n",
       "MUS1-485  0.018394030587917828                  0.840000           0.781955   \n",
       "MUS1-472   0.07945127344357629                  0.857843           0.884615   \n",
       "MUS1-464   0.09675396694217302                  0.848039           0.848214   \n",
       "MUS1-474   0.08728850456094311                  0.872549           0.887640   \n",
       "MUS1-468   0.07034016102626098                  0.862745           0.831683   \n",
       "MUS1-476  0.039988519691310356                  0.835000           0.808333   \n",
       "MUS1-471  0.061271817654313235                  0.857843           0.976190   \n",
       "MUS1-470   0.07350721935327556                  0.852941           0.943820   \n",
       "MUS1-488   0.07311304267310911                  0.820000           0.791667   \n",
       "MUS1-484   0.04545373319737111                  0.840000           0.785047   \n",
       "MUS1-487   0.02564962901905009                  0.845000           0.824742   \n",
       "MUS1-481   0.08779294758302639                  0.825000           0.868687   \n",
       "MUS1-483   0.02309497844378327                  0.845000           0.844444   \n",
       "MUS1-490   0.05136064819099455                  0.835000           0.814433   \n",
       "MUS1-489   0.07458360053414405                  0.810000           0.739496   \n",
       "MUS1-482   0.09003549155356137                  0.825000           0.900000   \n",
       "MUS1-479   0.09572521799369989                  0.805000           0.811321   \n",
       "MUS1-477    0.0832270044553627                  0.800000           0.727273   \n",
       "MUS1-480   0.07881949262172504                  0.805000           0.759259   \n",
       "MUS1-486   0.08756455277193333                  0.795000           0.724138   \n",
       "\n",
       "          ESAOTE_6100/val/r  Philips_iU22/val/accuracy  Philips_iU22/val/p  \\\n",
       "id                                                                           \n",
       "MUS1-465           0.907216                   0.606481            0.569892   \n",
       "MUS1-475           0.915789                   0.606481            0.651163   \n",
       "MUS1-466           0.907216                   0.564815            0.700000   \n",
       "MUS1-469           0.850467                   0.648148            0.659091   \n",
       "MUS1-478           0.877358                   0.569444            0.569832   \n",
       "MUS1-467           0.816514                   0.620370            0.669811   \n",
       "MUS1-473           0.844037                   0.601852            0.591954   \n",
       "MUS1-485           0.971963                   0.652778            0.686957   \n",
       "MUS1-472           0.844037                   0.606481            0.620438   \n",
       "MUS1-464           0.871560                   0.569444            0.567568   \n",
       "MUS1-474           0.831579                   0.634259            0.771429   \n",
       "MUS1-468           0.884211                   0.587963            0.666667   \n",
       "MUS1-476           0.906542                   0.462963            1.000000   \n",
       "MUS1-471           0.752294                   0.587963            0.808511   \n",
       "MUS1-470           0.770642                   0.615741            0.619048   \n",
       "MUS1-488           0.896226                   0.546296            0.546296   \n",
       "MUS1-484           0.903226                   0.560185            0.518519   \n",
       "MUS1-487           0.851064                   0.546296            0.000000   \n",
       "MUS1-481           0.796296                   0.546296            0.547619   \n",
       "MUS1-483           0.817204                   0.518519            0.200000   \n",
       "MUS1-490           0.840426                   0.546296            0.000000   \n",
       "MUS1-489           0.926316                   0.587963            0.645161   \n",
       "MUS1-482           0.757009                   0.611111            0.972222   \n",
       "MUS1-479           0.819048                   0.583333            0.571429   \n",
       "MUS1-477           0.926316                   0.611111            0.581395   \n",
       "MUS1-480           0.863158                   0.648148            0.610000   \n",
       "MUS1-486           0.903226                   0.643519            0.580153   \n",
       "\n",
       "          Philips_iU22/val/r  ESAOTE_6100/val/f1  Philips_iU22/val/f1  \n",
       "id                                                                     \n",
       "MUS1-465            0.540816            0.893401             0.554974  \n",
       "MUS1-475            0.285714            0.892308             0.397163  \n",
       "MUS1-466            0.071429            0.875622             0.129630  \n",
       "MUS1-469            0.737288            0.875000             0.696000  \n",
       "MUS1-478            0.864407            0.869159             0.686869  \n",
       "MUS1-467            0.601695            0.868293             0.633929  \n",
       "MUS1-473            0.872881            0.867925             0.705479  \n",
       "MUS1-485            0.669492            0.866667             0.678112  \n",
       "MUS1-472            0.720339            0.863850             0.666667  \n",
       "MUS1-464            0.889831            0.859729             0.693069  \n",
       "MUS1-474            0.275510            0.858696             0.406015  \n",
       "MUS1-468            0.183673            0.857143             0.288000  \n",
       "MUS1-476            0.016949            0.854626             0.033333  \n",
       "MUS1-471            0.322034            0.849741             0.460606  \n",
       "MUS1-470            0.771186            0.848485             0.686792  \n",
       "MUS1-488            1.000000            0.840708             0.706587  \n",
       "MUS1-484            0.428571            0.840000             0.469274  \n",
       "MUS1-487            0.000000            0.837696             0.000000  \n",
       "MUS1-481            0.974576            0.830918             0.701220  \n",
       "MUS1-483            0.020408            0.830601             0.037037  \n",
       "MUS1-490            0.000000            0.827225             0.000000  \n",
       "MUS1-489            0.204082            0.822430             0.310078  \n",
       "MUS1-482            0.296610            0.822335             0.454545  \n",
       "MUS1-479            0.949153            0.815166             0.713376  \n",
       "MUS1-477            0.510204            0.814815             0.543478  \n",
       "MUS1-480            0.622449            0.807882             0.616162  \n",
       "MUS1-486            0.775510            0.803828             0.663755  "
      ]
     },
     "execution_count": 54,
     "metadata": {},
     "output_type": "execute_result"
    }
   ],
   "source": [
    "params_of_interest = ['epoch', 'parameter_problem_type', 'parameter_mil_pooling', 'parameter_lr']\n",
    "to_include =  params_of_interest + logs_names\n",
    "# TODO add the gaps back in\n",
    "if problem_type == 'binary':\n",
    "    to_include.append('ESAOTE_6100/val/f1')\n",
    "    to_include.append('Philips_iU22/val/f1')\n",
    "    comp_frame = plot_frame.sort_values('ESAOTE_6100/val/f1', ascending=False)[to_include]\n",
    "else:\n",
    "    comp_frame = plot_frame.sort_values('ESAOTE_6100/val/mae')[to_include]\n",
    "    \n",
    "\n",
    "comp_frame['parameter_mil_pooling'] = comp_frame['parameter_mil_pooling'].fillna('NA')\n",
    "comp_frame"
   ]
  },
  {
   "cell_type": "code",
   "execution_count": 40,
   "metadata": {},
   "outputs": [
    {
     "ename": "KeyError",
     "evalue": "'val_mae_gap'",
     "output_type": "error",
     "traceback": [
      "\u001B[0;31m---------------------------------------------------------------------------\u001B[0m",
      "\u001B[0;31mKeyError\u001B[0m                                  Traceback (most recent call last)",
      "\u001B[0;32m~/PycharmProjects/muscle-ultrasound/venv2/lib/python3.8/site-packages/pandas/core/indexes/base.py\u001B[0m in \u001B[0;36mget_loc\u001B[0;34m(self, key, method, tolerance)\u001B[0m\n\u001B[1;32m   2645\u001B[0m             \u001B[0;32mtry\u001B[0m\u001B[0;34m:\u001B[0m\u001B[0;34m\u001B[0m\u001B[0;34m\u001B[0m\u001B[0m\n\u001B[0;32m-> 2646\u001B[0;31m                 \u001B[0;32mreturn\u001B[0m \u001B[0mself\u001B[0m\u001B[0;34m.\u001B[0m\u001B[0m_engine\u001B[0m\u001B[0;34m.\u001B[0m\u001B[0mget_loc\u001B[0m\u001B[0;34m(\u001B[0m\u001B[0mkey\u001B[0m\u001B[0;34m)\u001B[0m\u001B[0;34m\u001B[0m\u001B[0;34m\u001B[0m\u001B[0m\n\u001B[0m\u001B[1;32m   2647\u001B[0m             \u001B[0;32mexcept\u001B[0m \u001B[0mKeyError\u001B[0m\u001B[0;34m:\u001B[0m\u001B[0;34m\u001B[0m\u001B[0;34m\u001B[0m\u001B[0m\n",
      "\u001B[0;32mpandas/_libs/index.pyx\u001B[0m in \u001B[0;36mpandas._libs.index.IndexEngine.get_loc\u001B[0;34m()\u001B[0m\n",
      "\u001B[0;32mpandas/_libs/index.pyx\u001B[0m in \u001B[0;36mpandas._libs.index.IndexEngine.get_loc\u001B[0;34m()\u001B[0m\n",
      "\u001B[0;32mpandas/_libs/hashtable_class_helper.pxi\u001B[0m in \u001B[0;36mpandas._libs.hashtable.PyObjectHashTable.get_item\u001B[0;34m()\u001B[0m\n",
      "\u001B[0;32mpandas/_libs/hashtable_class_helper.pxi\u001B[0m in \u001B[0;36mpandas._libs.hashtable.PyObjectHashTable.get_item\u001B[0;34m()\u001B[0m\n",
      "\u001B[0;31mKeyError\u001B[0m: 'val_mae_gap'",
      "\nDuring handling of the above exception, another exception occurred:\n",
      "\u001B[0;31mKeyError\u001B[0m                                  Traceback (most recent call last)",
      "\u001B[0;32m<ipython-input-40-8889aadb4d23>\u001B[0m in \u001B[0;36m<module>\u001B[0;34m\u001B[0m\n\u001B[1;32m      2\u001B[0m     \u001B[0mprint\u001B[0m\u001B[0;34m(\u001B[0m\u001B[0mcomp_frame\u001B[0m\u001B[0;34m.\u001B[0m\u001B[0mgroupby\u001B[0m\u001B[0;34m(\u001B[0m\u001B[0;34m[\u001B[0m\u001B[0;34m'parameter_problem_type'\u001B[0m\u001B[0;34m,\u001B[0m\u001B[0;34m'parameter_mil_pooling'\u001B[0m\u001B[0;34m]\u001B[0m\u001B[0;34m)\u001B[0m\u001B[0;34m.\u001B[0m\u001B[0mmin\u001B[0m\u001B[0;34m(\u001B[0m\u001B[0;34m)\u001B[0m\u001B[0;34m[\u001B[0m\u001B[0;34m'val_f1_gap'\u001B[0m\u001B[0;34m]\u001B[0m\u001B[0;34m)\u001B[0m\u001B[0;34m\u001B[0m\u001B[0;34m\u001B[0m\u001B[0m\n\u001B[1;32m      3\u001B[0m \u001B[0;32melse\u001B[0m\u001B[0;34m:\u001B[0m\u001B[0;34m\u001B[0m\u001B[0;34m\u001B[0m\u001B[0m\n\u001B[0;32m----> 4\u001B[0;31m     \u001B[0mprint\u001B[0m\u001B[0;34m(\u001B[0m\u001B[0mcomp_frame\u001B[0m\u001B[0;34m.\u001B[0m\u001B[0mgroupby\u001B[0m\u001B[0;34m(\u001B[0m\u001B[0;34m[\u001B[0m\u001B[0;34m'parameter_problem_type'\u001B[0m\u001B[0;34m,\u001B[0m\u001B[0;34m'parameter_mil_pooling'\u001B[0m\u001B[0;34m]\u001B[0m\u001B[0;34m)\u001B[0m\u001B[0;34m.\u001B[0m\u001B[0mmax\u001B[0m\u001B[0;34m(\u001B[0m\u001B[0;34m)\u001B[0m\u001B[0;34m[\u001B[0m\u001B[0;34m'val_mae_gap'\u001B[0m\u001B[0;34m]\u001B[0m\u001B[0;34m)\u001B[0m\u001B[0;34m\u001B[0m\u001B[0;34m\u001B[0m\u001B[0m\n\u001B[0m\u001B[1;32m      5\u001B[0m \u001B[0;34m\u001B[0m\u001B[0m\n",
      "\u001B[0;32m~/PycharmProjects/muscle-ultrasound/venv2/lib/python3.8/site-packages/pandas/core/frame.py\u001B[0m in \u001B[0;36m__getitem__\u001B[0;34m(self, key)\u001B[0m\n\u001B[1;32m   2798\u001B[0m             \u001B[0;32mif\u001B[0m \u001B[0mself\u001B[0m\u001B[0;34m.\u001B[0m\u001B[0mcolumns\u001B[0m\u001B[0;34m.\u001B[0m\u001B[0mnlevels\u001B[0m \u001B[0;34m>\u001B[0m \u001B[0;36m1\u001B[0m\u001B[0;34m:\u001B[0m\u001B[0;34m\u001B[0m\u001B[0;34m\u001B[0m\u001B[0m\n\u001B[1;32m   2799\u001B[0m                 \u001B[0;32mreturn\u001B[0m \u001B[0mself\u001B[0m\u001B[0;34m.\u001B[0m\u001B[0m_getitem_multilevel\u001B[0m\u001B[0;34m(\u001B[0m\u001B[0mkey\u001B[0m\u001B[0;34m)\u001B[0m\u001B[0;34m\u001B[0m\u001B[0;34m\u001B[0m\u001B[0m\n\u001B[0;32m-> 2800\u001B[0;31m             \u001B[0mindexer\u001B[0m \u001B[0;34m=\u001B[0m \u001B[0mself\u001B[0m\u001B[0;34m.\u001B[0m\u001B[0mcolumns\u001B[0m\u001B[0;34m.\u001B[0m\u001B[0mget_loc\u001B[0m\u001B[0;34m(\u001B[0m\u001B[0mkey\u001B[0m\u001B[0;34m)\u001B[0m\u001B[0;34m\u001B[0m\u001B[0;34m\u001B[0m\u001B[0m\n\u001B[0m\u001B[1;32m   2801\u001B[0m             \u001B[0;32mif\u001B[0m \u001B[0mis_integer\u001B[0m\u001B[0;34m(\u001B[0m\u001B[0mindexer\u001B[0m\u001B[0;34m)\u001B[0m\u001B[0;34m:\u001B[0m\u001B[0;34m\u001B[0m\u001B[0;34m\u001B[0m\u001B[0m\n\u001B[1;32m   2802\u001B[0m                 \u001B[0mindexer\u001B[0m \u001B[0;34m=\u001B[0m \u001B[0;34m[\u001B[0m\u001B[0mindexer\u001B[0m\u001B[0;34m]\u001B[0m\u001B[0;34m\u001B[0m\u001B[0;34m\u001B[0m\u001B[0m\n",
      "\u001B[0;32m~/PycharmProjects/muscle-ultrasound/venv2/lib/python3.8/site-packages/pandas/core/indexes/base.py\u001B[0m in \u001B[0;36mget_loc\u001B[0;34m(self, key, method, tolerance)\u001B[0m\n\u001B[1;32m   2646\u001B[0m                 \u001B[0;32mreturn\u001B[0m \u001B[0mself\u001B[0m\u001B[0;34m.\u001B[0m\u001B[0m_engine\u001B[0m\u001B[0;34m.\u001B[0m\u001B[0mget_loc\u001B[0m\u001B[0;34m(\u001B[0m\u001B[0mkey\u001B[0m\u001B[0;34m)\u001B[0m\u001B[0;34m\u001B[0m\u001B[0;34m\u001B[0m\u001B[0m\n\u001B[1;32m   2647\u001B[0m             \u001B[0;32mexcept\u001B[0m \u001B[0mKeyError\u001B[0m\u001B[0;34m:\u001B[0m\u001B[0;34m\u001B[0m\u001B[0;34m\u001B[0m\u001B[0m\n\u001B[0;32m-> 2648\u001B[0;31m                 \u001B[0;32mreturn\u001B[0m \u001B[0mself\u001B[0m\u001B[0;34m.\u001B[0m\u001B[0m_engine\u001B[0m\u001B[0;34m.\u001B[0m\u001B[0mget_loc\u001B[0m\u001B[0;34m(\u001B[0m\u001B[0mself\u001B[0m\u001B[0;34m.\u001B[0m\u001B[0m_maybe_cast_indexer\u001B[0m\u001B[0;34m(\u001B[0m\u001B[0mkey\u001B[0m\u001B[0;34m)\u001B[0m\u001B[0;34m)\u001B[0m\u001B[0;34m\u001B[0m\u001B[0;34m\u001B[0m\u001B[0m\n\u001B[0m\u001B[1;32m   2649\u001B[0m         \u001B[0mindexer\u001B[0m \u001B[0;34m=\u001B[0m \u001B[0mself\u001B[0m\u001B[0;34m.\u001B[0m\u001B[0mget_indexer\u001B[0m\u001B[0;34m(\u001B[0m\u001B[0;34m[\u001B[0m\u001B[0mkey\u001B[0m\u001B[0;34m]\u001B[0m\u001B[0;34m,\u001B[0m \u001B[0mmethod\u001B[0m\u001B[0;34m=\u001B[0m\u001B[0mmethod\u001B[0m\u001B[0;34m,\u001B[0m \u001B[0mtolerance\u001B[0m\u001B[0;34m=\u001B[0m\u001B[0mtolerance\u001B[0m\u001B[0;34m)\u001B[0m\u001B[0;34m\u001B[0m\u001B[0;34m\u001B[0m\u001B[0m\n\u001B[1;32m   2650\u001B[0m         \u001B[0;32mif\u001B[0m \u001B[0mindexer\u001B[0m\u001B[0;34m.\u001B[0m\u001B[0mndim\u001B[0m \u001B[0;34m>\u001B[0m \u001B[0;36m1\u001B[0m \u001B[0;32mor\u001B[0m \u001B[0mindexer\u001B[0m\u001B[0;34m.\u001B[0m\u001B[0msize\u001B[0m \u001B[0;34m>\u001B[0m \u001B[0;36m1\u001B[0m\u001B[0;34m:\u001B[0m\u001B[0;34m\u001B[0m\u001B[0;34m\u001B[0m\u001B[0m\n",
      "\u001B[0;32mpandas/_libs/index.pyx\u001B[0m in \u001B[0;36mpandas._libs.index.IndexEngine.get_loc\u001B[0;34m()\u001B[0m\n",
      "\u001B[0;32mpandas/_libs/index.pyx\u001B[0m in \u001B[0;36mpandas._libs.index.IndexEngine.get_loc\u001B[0;34m()\u001B[0m\n",
      "\u001B[0;32mpandas/_libs/hashtable_class_helper.pxi\u001B[0m in \u001B[0;36mpandas._libs.hashtable.PyObjectHashTable.get_item\u001B[0;34m()\u001B[0m\n",
      "\u001B[0;32mpandas/_libs/hashtable_class_helper.pxi\u001B[0m in \u001B[0;36mpandas._libs.hashtable.PyObjectHashTable.get_item\u001B[0;34m()\u001B[0m\n",
      "\u001B[0;31mKeyError\u001B[0m: 'val_mae_gap'"
     ]
    }
   ],
   "source": [
    "if problem_type == 'binary':\n",
    "    print(comp_frame.groupby(['parameter_problem_type','parameter_mil_pooling']).min()['val_f1_gap'])\n",
    "else:\n",
    "    print(comp_frame.groupby(['parameter_problem_type','parameter_mil_pooling']).max()['val_mae_gap'])"
   ]
  },
  {
   "cell_type": "code",
   "execution_count": 78,
   "metadata": {},
   "outputs": [
    {
     "ename": "ValueError",
     "evalue": "Value of 'dimensions_1' is not the name of a column in 'data_frame'. Expected one of ['ESAOTE_6100/val/mae', 'Philips_iU22/val/mae', 'epoch', 'val_mae_gap', 'name', 'created', 'finished', 'owner', 'notes', 'running_time', 'size', 'tags', 'channel_ESAOTE_6100/val/loss', 'channel_ESAOTE_6100/val/mae', 'channel_ESAOTE_6100/val/max_att', 'channel_ESAOTE_6100/val/mean', 'channel_ESAOTE_6100/val/mean_att', 'channel_ESAOTE_6100/val/min_att', 'channel_ESAOTE_6100/val/var', 'channel_ESAOTE_6100/val/var_att', 'channel_ESAOTE_6100/val_image/loss', 'channel_ESAOTE_6100/val_image/mae', 'channel_ESAOTE_6100/val_image/mean', 'channel_ESAOTE_6100/val_image/var', 'channel_Philips_iU22/val/loss', 'channel_Philips_iU22/val/mae', 'channel_Philips_iU22/val/max_att', 'channel_Philips_iU22/val/mean', 'channel_Philips_iU22/val/mean_att', 'channel_Philips_iU22/val/min_att', 'channel_Philips_iU22/val/var', 'channel_Philips_iU22/val/var_att', 'channel_Philips_iU22/val_image/loss', 'channel_Philips_iU22/val_image/mae', 'channel_Philips_iU22/val_image/mean', 'channel_Philips_iU22/val_image/var', 'channel_stderr', 'channel_stdout', 'channel_training/loss', 'channel_training/mae', 'channel_training/max_att', 'channel_training/mean', 'channel_training/mean_att', 'channel_training/min_att', 'channel_training/var', 'channel_training/var_att', 'parameter_attention_mode', 'parameter_backend', 'parameter_backend_cutoff', 'parameter_backend_lr', 'parameter_backend_mode', 'parameter_batch_size', 'parameter_fc_hidden_layers', 'parameter_fc_use_bn', 'parameter_lr', 'parameter_mil_mode', 'parameter_mil_pooling', 'parameter_n_epochs', 'parameter_n_params_backend', 'parameter_n_params_classifier', 'parameter_n_params_pooling', 'parameter_prediction_target', 'parameter_problem_type', 'parameter_source_train', 'parameter_use_pseudopatients', 'parameter_val'] but received: ESAOTE_6100/val/f1",
     "output_type": "error",
     "traceback": [
      "\u001B[0;31m---------------------------------------------------------------------------\u001B[0m",
      "\u001B[0;31mValueError\u001B[0m                                Traceback (most recent call last)",
      "\u001B[0;32m<ipython-input-78-ed5e3e143a4f>\u001B[0m in \u001B[0;36m<module>\u001B[0;34m\u001B[0m\n\u001B[1;32m      4\u001B[0m \u001B[0;34m\u001B[0m\u001B[0m\n\u001B[1;32m      5\u001B[0m \u001B[0;31m#plot_frame.drop(columns=['tags'], inplace=True)\u001B[0m\u001B[0;34m\u001B[0m\u001B[0;34m\u001B[0m\u001B[0;34m\u001B[0m\u001B[0m\n\u001B[0;32m----> 6\u001B[0;31m \u001B[0mfig\u001B[0m \u001B[0;34m=\u001B[0m \u001B[0mpx\u001B[0m\u001B[0;34m.\u001B[0m\u001B[0mparallel_coordinates\u001B[0m\u001B[0;34m(\u001B[0m\u001B[0mplot_frame\u001B[0m\u001B[0;34m,\u001B[0m \u001B[0mdimensions\u001B[0m\u001B[0;34m=\u001B[0m\u001B[0;34m[\u001B[0m\u001B[0;34m'parameter_lr'\u001B[0m\u001B[0;34m,\u001B[0m \u001B[0;34m'ESAOTE_6100/val/f1'\u001B[0m\u001B[0;34m]\u001B[0m\u001B[0;34m)\u001B[0m\u001B[0;34m\u001B[0m\u001B[0;34m\u001B[0m\u001B[0m\n\u001B[0m\u001B[1;32m      7\u001B[0m \u001B[0mfig\u001B[0m\u001B[0;34m.\u001B[0m\u001B[0mshow\u001B[0m\u001B[0;34m(\u001B[0m\u001B[0;34m)\u001B[0m\u001B[0;34m\u001B[0m\u001B[0;34m\u001B[0m\u001B[0m\n\u001B[1;32m      8\u001B[0m \u001B[0;34m\u001B[0m\u001B[0m\n",
      "\u001B[0;32m~/PycharmProjects/muscle-ultrasound/venv2/lib/python3.8/site-packages/plotly/express/_chart_types.py\u001B[0m in \u001B[0;36mparallel_coordinates\u001B[0;34m(data_frame, dimensions, color, labels, color_continuous_scale, range_color, color_continuous_midpoint, title, template, width, height)\u001B[0m\n\u001B[1;32m   1213\u001B[0m     \u001B[0mof\u001B[0m \u001B[0mthe\u001B[0m\u001B[0;31m \u001B[0m\u001B[0;31m`\u001B[0m\u001B[0mdimensions\u001B[0m\u001B[0;31m`\u001B[0m\u001B[0;34m.\u001B[0m\u001B[0;34m\u001B[0m\u001B[0;34m\u001B[0m\u001B[0m\n\u001B[1;32m   1214\u001B[0m     \"\"\"\n\u001B[0;32m-> 1215\u001B[0;31m     \u001B[0;32mreturn\u001B[0m \u001B[0mmake_figure\u001B[0m\u001B[0;34m(\u001B[0m\u001B[0margs\u001B[0m\u001B[0;34m=\u001B[0m\u001B[0mlocals\u001B[0m\u001B[0;34m(\u001B[0m\u001B[0;34m)\u001B[0m\u001B[0;34m,\u001B[0m \u001B[0mconstructor\u001B[0m\u001B[0;34m=\u001B[0m\u001B[0mgo\u001B[0m\u001B[0;34m.\u001B[0m\u001B[0mParcoords\u001B[0m\u001B[0;34m)\u001B[0m\u001B[0;34m\u001B[0m\u001B[0;34m\u001B[0m\u001B[0m\n\u001B[0m\u001B[1;32m   1216\u001B[0m \u001B[0;34m\u001B[0m\u001B[0m\n\u001B[1;32m   1217\u001B[0m \u001B[0;34m\u001B[0m\u001B[0m\n",
      "\u001B[0;32m~/PycharmProjects/muscle-ultrasound/venv2/lib/python3.8/site-packages/plotly/express/_core.py\u001B[0m in \u001B[0;36mmake_figure\u001B[0;34m(args, constructor, trace_patch, layout_patch)\u001B[0m\n\u001B[1;32m   1753\u001B[0m     \u001B[0mapply_default_cascade\u001B[0m\u001B[0;34m(\u001B[0m\u001B[0margs\u001B[0m\u001B[0;34m)\u001B[0m\u001B[0;34m\u001B[0m\u001B[0;34m\u001B[0m\u001B[0m\n\u001B[1;32m   1754\u001B[0m \u001B[0;34m\u001B[0m\u001B[0m\n\u001B[0;32m-> 1755\u001B[0;31m     \u001B[0margs\u001B[0m \u001B[0;34m=\u001B[0m \u001B[0mbuild_dataframe\u001B[0m\u001B[0;34m(\u001B[0m\u001B[0margs\u001B[0m\u001B[0;34m,\u001B[0m \u001B[0mconstructor\u001B[0m\u001B[0;34m)\u001B[0m\u001B[0;34m\u001B[0m\u001B[0;34m\u001B[0m\u001B[0m\n\u001B[0m\u001B[1;32m   1756\u001B[0m     \u001B[0;32mif\u001B[0m \u001B[0mconstructor\u001B[0m \u001B[0;32min\u001B[0m \u001B[0;34m[\u001B[0m\u001B[0mgo\u001B[0m\u001B[0;34m.\u001B[0m\u001B[0mTreemap\u001B[0m\u001B[0;34m,\u001B[0m \u001B[0mgo\u001B[0m\u001B[0;34m.\u001B[0m\u001B[0mSunburst\u001B[0m\u001B[0;34m]\u001B[0m \u001B[0;32mand\u001B[0m \u001B[0margs\u001B[0m\u001B[0;34m[\u001B[0m\u001B[0;34m\"path\"\u001B[0m\u001B[0;34m]\u001B[0m \u001B[0;32mis\u001B[0m \u001B[0;32mnot\u001B[0m \u001B[0;32mNone\u001B[0m\u001B[0;34m:\u001B[0m\u001B[0;34m\u001B[0m\u001B[0;34m\u001B[0m\u001B[0m\n\u001B[1;32m   1757\u001B[0m         \u001B[0margs\u001B[0m \u001B[0;34m=\u001B[0m \u001B[0mprocess_dataframe_hierarchy\u001B[0m\u001B[0;34m(\u001B[0m\u001B[0margs\u001B[0m\u001B[0;34m)\u001B[0m\u001B[0;34m\u001B[0m\u001B[0;34m\u001B[0m\u001B[0m\n",
      "\u001B[0;32m~/PycharmProjects/muscle-ultrasound/venv2/lib/python3.8/site-packages/plotly/express/_core.py\u001B[0m in \u001B[0;36mbuild_dataframe\u001B[0;34m(args, constructor)\u001B[0m\n\u001B[1;32m   1310\u001B[0m     \u001B[0;31m# now that things have been prepped, we do the systematic rewriting of `args`\u001B[0m\u001B[0;34m\u001B[0m\u001B[0;34m\u001B[0m\u001B[0;34m\u001B[0m\u001B[0m\n\u001B[1;32m   1311\u001B[0m \u001B[0;34m\u001B[0m\u001B[0m\n\u001B[0;32m-> 1312\u001B[0;31m     df_output, wide_id_vars = process_args_into_dataframe(\n\u001B[0m\u001B[1;32m   1313\u001B[0m         \u001B[0margs\u001B[0m\u001B[0;34m,\u001B[0m \u001B[0mwide_mode\u001B[0m\u001B[0;34m,\u001B[0m \u001B[0mvar_name\u001B[0m\u001B[0;34m,\u001B[0m \u001B[0mvalue_name\u001B[0m\u001B[0;34m\u001B[0m\u001B[0;34m\u001B[0m\u001B[0m\n\u001B[1;32m   1314\u001B[0m     )\n",
      "\u001B[0;32m~/PycharmProjects/muscle-ultrasound/venv2/lib/python3.8/site-packages/plotly/express/_core.py\u001B[0m in \u001B[0;36mprocess_args_into_dataframe\u001B[0;34m(args, wide_mode, var_name, value_name)\u001B[0m\n\u001B[1;32m   1117\u001B[0m                         \u001B[0;32mif\u001B[0m \u001B[0margument\u001B[0m \u001B[0;34m==\u001B[0m \u001B[0;34m\"index\"\u001B[0m\u001B[0;34m:\u001B[0m\u001B[0;34m\u001B[0m\u001B[0;34m\u001B[0m\u001B[0m\n\u001B[1;32m   1118\u001B[0m                             \u001B[0merr_msg\u001B[0m \u001B[0;34m+=\u001B[0m \u001B[0;34m\"\\n To use the index, pass it in directly as `df.index`.\"\u001B[0m\u001B[0;34m\u001B[0m\u001B[0;34m\u001B[0m\u001B[0m\n\u001B[0;32m-> 1119\u001B[0;31m                         \u001B[0;32mraise\u001B[0m \u001B[0mValueError\u001B[0m\u001B[0;34m(\u001B[0m\u001B[0merr_msg\u001B[0m\u001B[0;34m)\u001B[0m\u001B[0;34m\u001B[0m\u001B[0;34m\u001B[0m\u001B[0m\n\u001B[0m\u001B[1;32m   1120\u001B[0m                 \u001B[0;32melif\u001B[0m \u001B[0mlength\u001B[0m \u001B[0;32mand\u001B[0m \u001B[0mlen\u001B[0m\u001B[0;34m(\u001B[0m\u001B[0mdf_input\u001B[0m\u001B[0;34m[\u001B[0m\u001B[0margument\u001B[0m\u001B[0;34m]\u001B[0m\u001B[0;34m)\u001B[0m \u001B[0;34m!=\u001B[0m \u001B[0mlength\u001B[0m\u001B[0;34m:\u001B[0m\u001B[0;34m\u001B[0m\u001B[0;34m\u001B[0m\u001B[0m\n\u001B[1;32m   1121\u001B[0m                     raise ValueError(\n",
      "\u001B[0;31mValueError\u001B[0m: Value of 'dimensions_1' is not the name of a column in 'data_frame'. Expected one of ['ESAOTE_6100/val/mae', 'Philips_iU22/val/mae', 'epoch', 'val_mae_gap', 'name', 'created', 'finished', 'owner', 'notes', 'running_time', 'size', 'tags', 'channel_ESAOTE_6100/val/loss', 'channel_ESAOTE_6100/val/mae', 'channel_ESAOTE_6100/val/max_att', 'channel_ESAOTE_6100/val/mean', 'channel_ESAOTE_6100/val/mean_att', 'channel_ESAOTE_6100/val/min_att', 'channel_ESAOTE_6100/val/var', 'channel_ESAOTE_6100/val/var_att', 'channel_ESAOTE_6100/val_image/loss', 'channel_ESAOTE_6100/val_image/mae', 'channel_ESAOTE_6100/val_image/mean', 'channel_ESAOTE_6100/val_image/var', 'channel_Philips_iU22/val/loss', 'channel_Philips_iU22/val/mae', 'channel_Philips_iU22/val/max_att', 'channel_Philips_iU22/val/mean', 'channel_Philips_iU22/val/mean_att', 'channel_Philips_iU22/val/min_att', 'channel_Philips_iU22/val/var', 'channel_Philips_iU22/val/var_att', 'channel_Philips_iU22/val_image/loss', 'channel_Philips_iU22/val_image/mae', 'channel_Philips_iU22/val_image/mean', 'channel_Philips_iU22/val_image/var', 'channel_stderr', 'channel_stdout', 'channel_training/loss', 'channel_training/mae', 'channel_training/max_att', 'channel_training/mean', 'channel_training/mean_att', 'channel_training/min_att', 'channel_training/var', 'channel_training/var_att', 'parameter_attention_mode', 'parameter_backend', 'parameter_backend_cutoff', 'parameter_backend_lr', 'parameter_backend_mode', 'parameter_batch_size', 'parameter_fc_hidden_layers', 'parameter_fc_use_bn', 'parameter_lr', 'parameter_mil_mode', 'parameter_mil_pooling', 'parameter_n_epochs', 'parameter_n_params_backend', 'parameter_n_params_classifier', 'parameter_n_params_pooling', 'parameter_prediction_target', 'parameter_problem_type', 'parameter_source_train', 'parameter_use_pseudopatients', 'parameter_val'] but received: ESAOTE_6100/val/f1"
     ]
    }
   ],
   "source": [
    "plot_frame['parameter_lr'] = plot_frame['parameter_lr'].astype(float)\n",
    "#plot_frame['parameter_backend_lr'] = plot_frame['parameter_backend_lr'].astype(float)\n",
    "\n",
    "#plot_frame.drop(columns=['tags'], inplace=True)\n",
    "fig = px.parallel_coordinates(plot_frame, dimensions=['parameter_lr', 'ESAOTE_6100/val/f1'])\n",
    "fig.show()\n",
    "\n"
   ]
  },
  {
   "cell_type": "code",
   "execution_count": null,
   "metadata": {},
   "outputs": [],
   "source": []
  }
 ],
 "metadata": {
  "kernelspec": {
   "display_name": "Python 3",
   "language": "python",
   "name": "python3"
  },
  "language_info": {
   "codemirror_mode": {
    "name": "ipython",
    "version": 3
   },
   "file_extension": ".py",
   "mimetype": "text/x-python",
   "name": "python",
   "nbconvert_exporter": "python",
   "pygments_lexer": "ipython3",
   "version": "3.8.2"
  },
  "neptune": {
   "notebookId": "31510158-04e2-47a5-a823-1cd97a0d8fcd"
  }
 },
 "nbformat": 4,
 "nbformat_minor": 4
}