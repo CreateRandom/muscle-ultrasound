{
 "cells": [
  {
   "cell_type": "markdown",
   "metadata": {},
   "source": [
    "# Fetch experiments data from Neptune using [Query API](https://docs.neptune.ai/python-api/query-api.html)"
   ]
  },
  {
   "cell_type": "markdown",
   "metadata": {},
   "source": [
    "This notebooks show example usage of the query API. It is set of Python methods that let you fetch experiments data from neptune. This notebook presents some use cases of analysis with the data downloaded from Neptune system.\n",
    "\n",
    "## Methods\n",
    "This notebook covers most common methods like:\n",
    "\n",
    "1. [get_experiments()](https://docs.neptune.ai/neptune-client/docs/project.html#neptune.projects.Project.get_experiments) - get a list of the [Experiment objects](https://docs.neptune.ai/neptune-client/docs/experiment.html). We will need them to fetch data from selected experiments.\n",
    "1. [get_leaderboard()](https://docs.neptune.ai/neptune-client/docs/project.html#neptune.projects.Project.get_leaderboard) - get experiments table as a pandas DataFrame. Example experiment table is [here](https://ui.neptune.ai/o/USERNAME/org/example-project/experiments?viewId=6013ecbc-416d-4e5c-973e-871e5e9010e9).\n",
    "1. [get_hardware_utilization()](https://docs.neptune.ai/neptune-client/docs/experiment.html#neptune.experiments.Experiment.get_hardware_utilization) - for the Experiment in question, get hardware utilization metrics as pandas DataFrame ([example metrics](https://ui.neptune.ai/o/USERNAME/org/example-project/e/HELLO-177/monitoring)).\n",
    "1. [get_logs()](https://docs.neptune.ai/neptune-client/docs/experiment.html#neptune.experiments.Experiment.get_logs) - get dict, where keys are log names and values are Channel objects.\n",
    "1. [get_numeric_channels_values()](https://docs.neptune.ai/neptune-client/docs/experiment.html#neptune.experiments.Experiment.get_numeric_channels_values) - get values of numeric logs as pandas DataFrame ([example logs](https://ui.neptune.ai/o/USERNAME/org/example-project/e/HELLO-177/charts))."
   ]
  },
  {
   "cell_type": "code",
   "execution_count": 1,
   "metadata": {},
   "outputs": [],
   "source": [
    "%matplotlib inline\n",
    "%load_ext autoreload\n",
    "%autoreload 2"
   ]
  },
  {
   "cell_type": "code",
   "execution_count": 2,
   "metadata": {},
   "outputs": [],
   "source": [
    "from utils.tokens import NEPTUNE_API_TOKEN\n",
    "import neptune\n",
    "from scipy.stats import hmean\n",
    "import pandas as pd\n",
    "from training_utils import problem_kind\n",
    "import plotly.express as px"
   ]
  },
  {
   "cell_type": "markdown",
   "metadata": {
    "pycharm": {
     "name": "#%% md\n"
    }
   },
   "source": [
    "# Set project to work with (as usual)"
   ]
  },
  {
   "cell_type": "code",
   "execution_count": 3,
   "metadata": {
    "pycharm": {
     "name": "#%%\n"
    }
   },
   "outputs": [
    {
     "name": "stderr",
     "output_type": "stream",
     "text": [
      "WARNING: There is a new version of neptune-client 0.4.116 (installed: 0.4.114).\n"
     ]
    }
   ],
   "source": [
    "project = neptune.init('createrandom/mus-RQ1',\n",
    "                       api_token=NEPTUNE_API_TOKEN)"
   ]
  },
  {
   "cell_type": "markdown",
   "metadata": {
    "pycharm": {
     "name": "#%% md\n"
    }
   },
   "source": [
    "# Visualize metrics"
   ]
  },
  {
   "cell_type": "markdown",
   "metadata": {},
   "source": [
    "`get_experiments()` below"
   ]
  },
  {
   "cell_type": "code",
   "execution_count": 41,
   "metadata": {
    "pycharm": {
     "name": "#%%\n"
    }
   },
   "outputs": [
    {
     "name": "stdout",
     "output_type": "stream",
     "text": [
      "binary\n"
     ]
    }
   ],
   "source": [
    "attribute = 'Sex'\n",
    "problem_type = problem_kind[attribute]\n",
    "print(problem_type)\n",
    "# get experiments objects that satisfy all three conditions. Note that running time is in seconds.\n",
    "experiments = project.get_experiments(tag=attribute)"
   ]
  },
  {
   "cell_type": "code",
   "execution_count": 42,
   "metadata": {},
   "outputs": [
    {
     "data": {
      "text/plain": "27"
     },
     "execution_count": 42,
     "metadata": {},
     "output_type": "execute_result"
    }
   ],
   "source": [
    "len(experiments)"
   ]
  },
  {
   "cell_type": "code",
   "execution_count": 43,
   "metadata": {},
   "outputs": [],
   "source": [
    "machines = ['ESAOTE_6100/val/', 'Philips_iU22/val/']\n",
    "metric_mapping = {'regression': ['mae'],\n",
    "              'binary': ['accuracy', 'p', 'r']}\n",
    "\n",
    "metric_list = metric_mapping[problem_type]\n",
    "\n",
    "logs_names = []\n",
    "for machine in machines:\n",
    "    for metric in metric_list:\n",
    "        final_metric = machine + metric\n",
    "        logs_names.append(final_metric)\n"
   ]
  },
  {
   "cell_type": "code",
   "execution_count": 44,
   "metadata": {},
   "outputs": [],
   "source": [
    "metrics_df = pd.DataFrame(columns=['id', *logs_names])\n",
    "for experiment in experiments:\n",
    "    df = experiment.get_numeric_channels_values(*logs_names)  # get logs values\n",
    "   # print(df)\n",
    "   # df['tags'] = experiment.get_tags()\n",
    "   # params = experiment.get_parameters()\n",
    "    output = df.append(df, ignore_index=True)\n",
    "    df.insert(loc=0, column='id', value=experiment.id)\n",
    "    metrics_df = metrics_df.append(df, sort=True)\n"
   ]
  },
  {
   "cell_type": "code",
   "execution_count": 51,
   "metadata": {
    "pycharm": {
     "name": "#%%\n"
    }
   },
   "outputs": [
    {
     "data": {
      "text/plain": "   ESAOTE_6100/val/accuracy  ESAOTE_6100/val/p  ESAOTE_6100/val/r  \\\n0                  0.774510           0.785047           0.785047   \n1                  0.769608           0.800000           0.747664   \n2                  0.764706           0.790476           0.761468   \n3                  0.794118           0.761905           0.888889   \n4                  0.789216           0.762295           0.869159   \n\n   Philips_iU22/val/accuracy  Philips_iU22/val/p  Philips_iU22/val/r  \\\n0                   0.504630            0.528205            0.872881   \n1                   0.638889            0.803030            0.449153   \n2                   0.611111            0.646552            0.635593   \n3                   0.560185            0.567251            0.822034   \n4                   0.583333            0.584337            0.822034   \n\n         id  epoch  ESAOTE_6100/val/f1  Philips_iU22/val/f1  \n0  MUS1-464    1.0            0.785047             0.658147  \n1  MUS1-464    2.0            0.772947             0.576087  \n2  MUS1-464    3.0            0.775701             0.641026  \n3  MUS1-464    4.0            0.820513             0.671280  \n4  MUS1-464    5.0            0.812227             0.683099  ",
      "text/html": "<div>\n<style scoped>\n    .dataframe tbody tr th:only-of-type {\n        vertical-align: middle;\n    }\n\n    .dataframe tbody tr th {\n        vertical-align: top;\n    }\n\n    .dataframe thead th {\n        text-align: right;\n    }\n</style>\n<table border=\"1\" class=\"dataframe\">\n  <thead>\n    <tr style=\"text-align: right;\">\n      <th></th>\n      <th>ESAOTE_6100/val/accuracy</th>\n      <th>ESAOTE_6100/val/p</th>\n      <th>ESAOTE_6100/val/r</th>\n      <th>Philips_iU22/val/accuracy</th>\n      <th>Philips_iU22/val/p</th>\n      <th>Philips_iU22/val/r</th>\n      <th>id</th>\n      <th>epoch</th>\n      <th>ESAOTE_6100/val/f1</th>\n      <th>Philips_iU22/val/f1</th>\n    </tr>\n  </thead>\n  <tbody>\n    <tr>\n      <th>0</th>\n      <td>0.774510</td>\n      <td>0.785047</td>\n      <td>0.785047</td>\n      <td>0.504630</td>\n      <td>0.528205</td>\n      <td>0.872881</td>\n      <td>MUS1-464</td>\n      <td>1.0</td>\n      <td>0.785047</td>\n      <td>0.658147</td>\n    </tr>\n    <tr>\n      <th>1</th>\n      <td>0.769608</td>\n      <td>0.800000</td>\n      <td>0.747664</td>\n      <td>0.638889</td>\n      <td>0.803030</td>\n      <td>0.449153</td>\n      <td>MUS1-464</td>\n      <td>2.0</td>\n      <td>0.772947</td>\n      <td>0.576087</td>\n    </tr>\n    <tr>\n      <th>2</th>\n      <td>0.764706</td>\n      <td>0.790476</td>\n      <td>0.761468</td>\n      <td>0.611111</td>\n      <td>0.646552</td>\n      <td>0.635593</td>\n      <td>MUS1-464</td>\n      <td>3.0</td>\n      <td>0.775701</td>\n      <td>0.641026</td>\n    </tr>\n    <tr>\n      <th>3</th>\n      <td>0.794118</td>\n      <td>0.761905</td>\n      <td>0.888889</td>\n      <td>0.560185</td>\n      <td>0.567251</td>\n      <td>0.822034</td>\n      <td>MUS1-464</td>\n      <td>4.0</td>\n      <td>0.820513</td>\n      <td>0.671280</td>\n    </tr>\n    <tr>\n      <th>4</th>\n      <td>0.789216</td>\n      <td>0.762295</td>\n      <td>0.869159</td>\n      <td>0.583333</td>\n      <td>0.584337</td>\n      <td>0.822034</td>\n      <td>MUS1-464</td>\n      <td>5.0</td>\n      <td>0.812227</td>\n      <td>0.683099</td>\n    </tr>\n  </tbody>\n</table>\n</div>"
     },
     "execution_count": 51,
     "metadata": {},
     "output_type": "execute_result"
    }
   ],
   "source": [
    "def compute_f1_esaote(entry):\n",
    "    return hmean([entry['ESAOTE_6100/val/p'], entry['ESAOTE_6100/val/r']])\n",
    "\n",
    "def compute_f1_philips(entry):\n",
    "    return hmean([entry['Philips_iU22/val/p'], entry['Philips_iU22/val/r']])\n",
    "\n",
    "if problem_type == 'binary':\n",
    "    metrics_df['ESAOTE_6100/val/f1'] = metrics_df.apply(compute_f1_esaote, axis=1)\n",
    "    metrics_df['Philips_iU22/val/f1'] = metrics_df.apply(compute_f1_philips, axis=1)\n",
    "  #  metrics_df['val_f1_gap'] = metrics_df['ESAOTE_6100/val/f1']  -metrics_df['Philips_iU22/val/f1']\n",
    "else:\n",
    "    metrics_df['val_mae_gap'] = metrics_df['ESAOTE_6100/val/mae']  -metrics_df['Philips_iU22/val/mae']\n",
    "\n",
    "metrics_df.rename(columns={'x': 'epoch'},inplace=True)\n",
    "metrics_df.head(n=5)"
   ]
  },
  {
   "cell_type": "code",
   "execution_count": 52,
   "metadata": {},
   "outputs": [],
   "source": [
    "# grab the best scoring epoch for each experiment\n",
    "if problem_type == 'binary':\n",
    "    best_scores = metrics_df.sort_values(['ESAOTE_6100/val/f1'], ascending=[False]).groupby('id').first()\n",
    "else:\n",
    "    best_scores = metrics_df.sort_values(['ESAOTE_6100/val/mae'], ascending=[True]).groupby('id').first()"
   ]
  },
  {
   "cell_type": "code",
   "execution_count": 53,
   "metadata": {},
   "outputs": [
    {
     "data": {
      "text/plain": "          ESAOTE_6100/val/accuracy  ESAOTE_6100/val/p  ESAOTE_6100/val/r  \\\nid                                                                         \nMUS1-464                  0.848039           0.848214           0.871560   \nMUS1-465                  0.897059           0.880000           0.907216   \nMUS1-466                  0.877451           0.846154           0.907216   \nMUS1-467                  0.867647           0.927083           0.816514   \nMUS1-468                  0.862745           0.831683           0.884211   \nMUS1-469                  0.872549           0.900990           0.850467   \nMUS1-470                  0.852941           0.943820           0.770642   \nMUS1-471                  0.857843           0.976190           0.752294   \nMUS1-472                  0.857843           0.884615           0.844037   \nMUS1-473                  0.862745           0.893204           0.844037   \n\n          Philips_iU22/val/accuracy  Philips_iU22/val/p  Philips_iU22/val/r  \\\nid                                                                            \nMUS1-464                   0.569444            0.567568            0.889831   \nMUS1-465                   0.606481            0.569892            0.540816   \nMUS1-466                   0.564815            0.700000            0.071429   \nMUS1-467                   0.620370            0.669811            0.601695   \nMUS1-468                   0.587963            0.666667            0.183673   \nMUS1-469                   0.648148            0.659091            0.737288   \nMUS1-470                   0.615741            0.619048            0.771186   \nMUS1-471                   0.587963            0.808511            0.322034   \nMUS1-472                   0.606481            0.620438            0.720339   \nMUS1-473                   0.601852            0.591954            0.872881   \n\n          epoch  ESAOTE_6100/val/f1  Philips_iU22/val/f1      name  ...  \\\nid                                                                  ...   \nMUS1-464    9.0            0.859729             0.693069  Untitled  ...   \nMUS1-465    5.0            0.893401             0.554974  Untitled  ...   \nMUS1-466    5.0            0.875622             0.129630  Untitled  ...   \nMUS1-467   10.0            0.868293             0.633929  Untitled  ...   \nMUS1-468    9.0            0.857143             0.288000  Untitled  ...   \nMUS1-469    5.0            0.875000             0.696000  Untitled  ...   \nMUS1-470   10.0            0.848485             0.686792  Untitled  ...   \nMUS1-471   10.0            0.849741             0.460606  Untitled  ...   \nMUS1-472    9.0            0.863850             0.666667  Untitled  ...   \nMUS1-473    9.0            0.867925             0.705479  Untitled  ...   \n\n         parameter_mil_pooling parameter_n_epochs parameter_n_params_backend  \\\nid                                                                             \nMUS1-464                  <NA>               10.0                1.1177025E7   \nMUS1-465                  <NA>               10.0                1.1177025E7   \nMUS1-466                  <NA>               10.0                1.1177025E7   \nMUS1-467                  <NA>               10.0                1.1177025E7   \nMUS1-468                  <NA>               10.0                1.1177025E7   \nMUS1-469                  <NA>               10.0                1.1177025E7   \nMUS1-470                  <NA>               10.0                1.1177025E7   \nMUS1-471                  <NA>               10.0                1.1177025E7   \nMUS1-472                  <NA>               10.0                1.1177025E7   \nMUS1-473                  <NA>               10.0                1.1177025E7   \n\n         parameter_n_params_classifier  parameter_n_params_pooling  \\\nid                                                                   \nMUS1-464                          <NA>                        <NA>   \nMUS1-465                          <NA>                        <NA>   \nMUS1-466                          <NA>                        <NA>   \nMUS1-467                          <NA>                        <NA>   \nMUS1-468                          <NA>                        <NA>   \nMUS1-469                          <NA>                        <NA>   \nMUS1-470                          <NA>                        <NA>   \nMUS1-471                          <NA>                        <NA>   \nMUS1-472                          <NA>                        <NA>   \nMUS1-473                          <NA>                        <NA>   \n\n          parameter_prediction_target parameter_problem_type  \\\nid                                                             \nMUS1-464                          Sex                  image   \nMUS1-465                          Sex                  image   \nMUS1-466                          Sex                  image   \nMUS1-467                          Sex                  image   \nMUS1-468                          Sex                  image   \nMUS1-469                          Sex                  image   \nMUS1-470                          Sex                  image   \nMUS1-471                          Sex                  image   \nMUS1-472                          Sex                  image   \nMUS1-473                          Sex                  image   \n\n         parameter_source_train parameter_use_pseudopatients  \\\nid                                                             \nMUS1-464      ESAOTE_6100_train                         <NA>   \nMUS1-465      ESAOTE_6100_train                         <NA>   \nMUS1-466      ESAOTE_6100_train                         <NA>   \nMUS1-467      ESAOTE_6100_train                         <NA>   \nMUS1-468      ESAOTE_6100_train                         <NA>   \nMUS1-469      ESAOTE_6100_train                         <NA>   \nMUS1-470      ESAOTE_6100_train                         <NA>   \nMUS1-471      ESAOTE_6100_train                         <NA>   \nMUS1-472      ESAOTE_6100_train                         <NA>   \nMUS1-473      ESAOTE_6100_train                         <NA>   \n\n                                    parameter_val  \nid                                                 \nMUS1-464  ['ESAOTE_6100_val', 'Philips_iU22_val']  \nMUS1-465  ['ESAOTE_6100_val', 'Philips_iU22_val']  \nMUS1-466  ['ESAOTE_6100_val', 'Philips_iU22_val']  \nMUS1-467  ['ESAOTE_6100_val', 'Philips_iU22_val']  \nMUS1-468  ['ESAOTE_6100_val', 'Philips_iU22_val']  \nMUS1-469  ['ESAOTE_6100_val', 'Philips_iU22_val']  \nMUS1-470  ['ESAOTE_6100_val', 'Philips_iU22_val']  \nMUS1-471  ['ESAOTE_6100_val', 'Philips_iU22_val']  \nMUS1-472  ['ESAOTE_6100_val', 'Philips_iU22_val']  \nMUS1-473  ['ESAOTE_6100_val', 'Philips_iU22_val']  \n\n[10 rows x 76 columns]",
      "text/html": "<div>\n<style scoped>\n    .dataframe tbody tr th:only-of-type {\n        vertical-align: middle;\n    }\n\n    .dataframe tbody tr th {\n        vertical-align: top;\n    }\n\n    .dataframe thead th {\n        text-align: right;\n    }\n</style>\n<table border=\"1\" class=\"dataframe\">\n  <thead>\n    <tr style=\"text-align: right;\">\n      <th></th>\n      <th>ESAOTE_6100/val/accuracy</th>\n      <th>ESAOTE_6100/val/p</th>\n      <th>ESAOTE_6100/val/r</th>\n      <th>Philips_iU22/val/accuracy</th>\n      <th>Philips_iU22/val/p</th>\n      <th>Philips_iU22/val/r</th>\n      <th>epoch</th>\n      <th>ESAOTE_6100/val/f1</th>\n      <th>Philips_iU22/val/f1</th>\n      <th>name</th>\n      <th>...</th>\n      <th>parameter_mil_pooling</th>\n      <th>parameter_n_epochs</th>\n      <th>parameter_n_params_backend</th>\n      <th>parameter_n_params_classifier</th>\n      <th>parameter_n_params_pooling</th>\n      <th>parameter_prediction_target</th>\n      <th>parameter_problem_type</th>\n      <th>parameter_source_train</th>\n      <th>parameter_use_pseudopatients</th>\n      <th>parameter_val</th>\n    </tr>\n    <tr>\n      <th>id</th>\n      <th></th>\n      <th></th>\n      <th></th>\n      <th></th>\n      <th></th>\n      <th></th>\n      <th></th>\n      <th></th>\n      <th></th>\n      <th></th>\n      <th></th>\n      <th></th>\n      <th></th>\n      <th></th>\n      <th></th>\n      <th></th>\n      <th></th>\n      <th></th>\n      <th></th>\n      <th></th>\n      <th></th>\n    </tr>\n  </thead>\n  <tbody>\n    <tr>\n      <th>MUS1-464</th>\n      <td>0.848039</td>\n      <td>0.848214</td>\n      <td>0.871560</td>\n      <td>0.569444</td>\n      <td>0.567568</td>\n      <td>0.889831</td>\n      <td>9.0</td>\n      <td>0.859729</td>\n      <td>0.693069</td>\n      <td>Untitled</td>\n      <td>...</td>\n      <td>&lt;NA&gt;</td>\n      <td>10.0</td>\n      <td>1.1177025E7</td>\n      <td>&lt;NA&gt;</td>\n      <td>&lt;NA&gt;</td>\n      <td>Sex</td>\n      <td>image</td>\n      <td>ESAOTE_6100_train</td>\n      <td>&lt;NA&gt;</td>\n      <td>['ESAOTE_6100_val', 'Philips_iU22_val']</td>\n    </tr>\n    <tr>\n      <th>MUS1-465</th>\n      <td>0.897059</td>\n      <td>0.880000</td>\n      <td>0.907216</td>\n      <td>0.606481</td>\n      <td>0.569892</td>\n      <td>0.540816</td>\n      <td>5.0</td>\n      <td>0.893401</td>\n      <td>0.554974</td>\n      <td>Untitled</td>\n      <td>...</td>\n      <td>&lt;NA&gt;</td>\n      <td>10.0</td>\n      <td>1.1177025E7</td>\n      <td>&lt;NA&gt;</td>\n      <td>&lt;NA&gt;</td>\n      <td>Sex</td>\n      <td>image</td>\n      <td>ESAOTE_6100_train</td>\n      <td>&lt;NA&gt;</td>\n      <td>['ESAOTE_6100_val', 'Philips_iU22_val']</td>\n    </tr>\n    <tr>\n      <th>MUS1-466</th>\n      <td>0.877451</td>\n      <td>0.846154</td>\n      <td>0.907216</td>\n      <td>0.564815</td>\n      <td>0.700000</td>\n      <td>0.071429</td>\n      <td>5.0</td>\n      <td>0.875622</td>\n      <td>0.129630</td>\n      <td>Untitled</td>\n      <td>...</td>\n      <td>&lt;NA&gt;</td>\n      <td>10.0</td>\n      <td>1.1177025E7</td>\n      <td>&lt;NA&gt;</td>\n      <td>&lt;NA&gt;</td>\n      <td>Sex</td>\n      <td>image</td>\n      <td>ESAOTE_6100_train</td>\n      <td>&lt;NA&gt;</td>\n      <td>['ESAOTE_6100_val', 'Philips_iU22_val']</td>\n    </tr>\n    <tr>\n      <th>MUS1-467</th>\n      <td>0.867647</td>\n      <td>0.927083</td>\n      <td>0.816514</td>\n      <td>0.620370</td>\n      <td>0.669811</td>\n      <td>0.601695</td>\n      <td>10.0</td>\n      <td>0.868293</td>\n      <td>0.633929</td>\n      <td>Untitled</td>\n      <td>...</td>\n      <td>&lt;NA&gt;</td>\n      <td>10.0</td>\n      <td>1.1177025E7</td>\n      <td>&lt;NA&gt;</td>\n      <td>&lt;NA&gt;</td>\n      <td>Sex</td>\n      <td>image</td>\n      <td>ESAOTE_6100_train</td>\n      <td>&lt;NA&gt;</td>\n      <td>['ESAOTE_6100_val', 'Philips_iU22_val']</td>\n    </tr>\n    <tr>\n      <th>MUS1-468</th>\n      <td>0.862745</td>\n      <td>0.831683</td>\n      <td>0.884211</td>\n      <td>0.587963</td>\n      <td>0.666667</td>\n      <td>0.183673</td>\n      <td>9.0</td>\n      <td>0.857143</td>\n      <td>0.288000</td>\n      <td>Untitled</td>\n      <td>...</td>\n      <td>&lt;NA&gt;</td>\n      <td>10.0</td>\n      <td>1.1177025E7</td>\n      <td>&lt;NA&gt;</td>\n      <td>&lt;NA&gt;</td>\n      <td>Sex</td>\n      <td>image</td>\n      <td>ESAOTE_6100_train</td>\n      <td>&lt;NA&gt;</td>\n      <td>['ESAOTE_6100_val', 'Philips_iU22_val']</td>\n    </tr>\n    <tr>\n      <th>MUS1-469</th>\n      <td>0.872549</td>\n      <td>0.900990</td>\n      <td>0.850467</td>\n      <td>0.648148</td>\n      <td>0.659091</td>\n      <td>0.737288</td>\n      <td>5.0</td>\n      <td>0.875000</td>\n      <td>0.696000</td>\n      <td>Untitled</td>\n      <td>...</td>\n      <td>&lt;NA&gt;</td>\n      <td>10.0</td>\n      <td>1.1177025E7</td>\n      <td>&lt;NA&gt;</td>\n      <td>&lt;NA&gt;</td>\n      <td>Sex</td>\n      <td>image</td>\n      <td>ESAOTE_6100_train</td>\n      <td>&lt;NA&gt;</td>\n      <td>['ESAOTE_6100_val', 'Philips_iU22_val']</td>\n    </tr>\n    <tr>\n      <th>MUS1-470</th>\n      <td>0.852941</td>\n      <td>0.943820</td>\n      <td>0.770642</td>\n      <td>0.615741</td>\n      <td>0.619048</td>\n      <td>0.771186</td>\n      <td>10.0</td>\n      <td>0.848485</td>\n      <td>0.686792</td>\n      <td>Untitled</td>\n      <td>...</td>\n      <td>&lt;NA&gt;</td>\n      <td>10.0</td>\n      <td>1.1177025E7</td>\n      <td>&lt;NA&gt;</td>\n      <td>&lt;NA&gt;</td>\n      <td>Sex</td>\n      <td>image</td>\n      <td>ESAOTE_6100_train</td>\n      <td>&lt;NA&gt;</td>\n      <td>['ESAOTE_6100_val', 'Philips_iU22_val']</td>\n    </tr>\n    <tr>\n      <th>MUS1-471</th>\n      <td>0.857843</td>\n      <td>0.976190</td>\n      <td>0.752294</td>\n      <td>0.587963</td>\n      <td>0.808511</td>\n      <td>0.322034</td>\n      <td>10.0</td>\n      <td>0.849741</td>\n      <td>0.460606</td>\n      <td>Untitled</td>\n      <td>...</td>\n      <td>&lt;NA&gt;</td>\n      <td>10.0</td>\n      <td>1.1177025E7</td>\n      <td>&lt;NA&gt;</td>\n      <td>&lt;NA&gt;</td>\n      <td>Sex</td>\n      <td>image</td>\n      <td>ESAOTE_6100_train</td>\n      <td>&lt;NA&gt;</td>\n      <td>['ESAOTE_6100_val', 'Philips_iU22_val']</td>\n    </tr>\n    <tr>\n      <th>MUS1-472</th>\n      <td>0.857843</td>\n      <td>0.884615</td>\n      <td>0.844037</td>\n      <td>0.606481</td>\n      <td>0.620438</td>\n      <td>0.720339</td>\n      <td>9.0</td>\n      <td>0.863850</td>\n      <td>0.666667</td>\n      <td>Untitled</td>\n      <td>...</td>\n      <td>&lt;NA&gt;</td>\n      <td>10.0</td>\n      <td>1.1177025E7</td>\n      <td>&lt;NA&gt;</td>\n      <td>&lt;NA&gt;</td>\n      <td>Sex</td>\n      <td>image</td>\n      <td>ESAOTE_6100_train</td>\n      <td>&lt;NA&gt;</td>\n      <td>['ESAOTE_6100_val', 'Philips_iU22_val']</td>\n    </tr>\n    <tr>\n      <th>MUS1-473</th>\n      <td>0.862745</td>\n      <td>0.893204</td>\n      <td>0.844037</td>\n      <td>0.601852</td>\n      <td>0.591954</td>\n      <td>0.872881</td>\n      <td>9.0</td>\n      <td>0.867925</td>\n      <td>0.705479</td>\n      <td>Untitled</td>\n      <td>...</td>\n      <td>&lt;NA&gt;</td>\n      <td>10.0</td>\n      <td>1.1177025E7</td>\n      <td>&lt;NA&gt;</td>\n      <td>&lt;NA&gt;</td>\n      <td>Sex</td>\n      <td>image</td>\n      <td>ESAOTE_6100_train</td>\n      <td>&lt;NA&gt;</td>\n      <td>['ESAOTE_6100_val', 'Philips_iU22_val']</td>\n    </tr>\n  </tbody>\n</table>\n<p>10 rows × 76 columns</p>\n</div>"
     },
     "execution_count": 53,
     "metadata": {},
     "output_type": "execute_result"
    }
   ],
   "source": [
    "all_data = project.get_leaderboard(tag=attribute).set_index('id').convert_dtypes()\n",
    "metrics_df['id']=metrics_df['id'].astype(str)\n",
    "plot_frame = best_scores.join(all_data)\n",
    "plot_frame.head(n=10)"
   ]
  },
  {
   "cell_type": "code",
   "execution_count": 54,
   "metadata": {},
   "outputs": [
    {
     "data": {
      "text/plain": "          epoch parameter_problem_type parameter_mil_pooling  \\\nid                                                             \nMUS1-465    5.0                  image                    NA   \nMUS1-475   10.0                  image                    NA   \nMUS1-466    5.0                  image                    NA   \nMUS1-469    5.0                  image                    NA   \nMUS1-478    8.0                    bag                  mean   \nMUS1-467   10.0                  image                    NA   \nMUS1-473    9.0                  image                    NA   \nMUS1-485   10.0                    bag                  mean   \nMUS1-472    9.0                  image                    NA   \nMUS1-464    9.0                  image                    NA   \nMUS1-474    9.0                  image                    NA   \nMUS1-468    9.0                  image                    NA   \nMUS1-476   10.0                    bag                  mean   \nMUS1-471   10.0                  image                    NA   \nMUS1-470   10.0                  image                    NA   \nMUS1-488   10.0                    bag             attention   \nMUS1-484    9.0                    bag                  mean   \nMUS1-487    4.0                    bag                  mean   \nMUS1-481    6.0                    bag                  mean   \nMUS1-483    9.0                    bag                  mean   \nMUS1-490    5.0                    bag             attention   \nMUS1-489    8.0                    bag             attention   \nMUS1-482    9.0                    bag                  mean   \nMUS1-479    3.0                    bag                  mean   \nMUS1-477    7.0                    bag                  mean   \nMUS1-480    7.0                    bag                  mean   \nMUS1-486   10.0                    bag                  mean   \n\n                  parameter_lr  ESAOTE_6100/val/accuracy  ESAOTE_6100/val/p  \\\nid                                                                            \nMUS1-465   0.07884803771142498                  0.897059           0.880000   \nMUS1-475  0.034727911182045275                  0.897059           0.870000   \nMUS1-466   0.09290424844470349                  0.877451           0.846154   \nMUS1-469   0.03512612009680869                  0.872549           0.900990   \nMUS1-478  0.013850773307231088                  0.860000           0.861111   \nMUS1-467   0.05468682801848703                  0.867647           0.927083   \nMUS1-473   0.08776218762611263                  0.862745           0.893204   \nMUS1-485  0.018394030587917828                  0.840000           0.781955   \nMUS1-472   0.07945127344357629                  0.857843           0.884615   \nMUS1-464   0.09675396694217302                  0.848039           0.848214   \nMUS1-474   0.08728850456094311                  0.872549           0.887640   \nMUS1-468   0.07034016102626098                  0.862745           0.831683   \nMUS1-476  0.039988519691310356                  0.835000           0.808333   \nMUS1-471  0.061271817654313235                  0.857843           0.976190   \nMUS1-470   0.07350721935327556                  0.852941           0.943820   \nMUS1-488   0.07311304267310911                  0.820000           0.791667   \nMUS1-484   0.04545373319737111                  0.840000           0.785047   \nMUS1-487   0.02564962901905009                  0.845000           0.824742   \nMUS1-481   0.08779294758302639                  0.825000           0.868687   \nMUS1-483   0.02309497844378327                  0.845000           0.844444   \nMUS1-490   0.05136064819099455                  0.835000           0.814433   \nMUS1-489   0.07458360053414405                  0.810000           0.739496   \nMUS1-482   0.09003549155356137                  0.825000           0.900000   \nMUS1-479   0.09572521799369989                  0.805000           0.811321   \nMUS1-477    0.0832270044553627                  0.800000           0.727273   \nMUS1-480   0.07881949262172504                  0.805000           0.759259   \nMUS1-486   0.08756455277193333                  0.795000           0.724138   \n\n          ESAOTE_6100/val/r  Philips_iU22/val/accuracy  Philips_iU22/val/p  \\\nid                                                                           \nMUS1-465           0.907216                   0.606481            0.569892   \nMUS1-475           0.915789                   0.606481            0.651163   \nMUS1-466           0.907216                   0.564815            0.700000   \nMUS1-469           0.850467                   0.648148            0.659091   \nMUS1-478           0.877358                   0.569444            0.569832   \nMUS1-467           0.816514                   0.620370            0.669811   \nMUS1-473           0.844037                   0.601852            0.591954   \nMUS1-485           0.971963                   0.652778            0.686957   \nMUS1-472           0.844037                   0.606481            0.620438   \nMUS1-464           0.871560                   0.569444            0.567568   \nMUS1-474           0.831579                   0.634259            0.771429   \nMUS1-468           0.884211                   0.587963            0.666667   \nMUS1-476           0.906542                   0.462963            1.000000   \nMUS1-471           0.752294                   0.587963            0.808511   \nMUS1-470           0.770642                   0.615741            0.619048   \nMUS1-488           0.896226                   0.546296            0.546296   \nMUS1-484           0.903226                   0.560185            0.518519   \nMUS1-487           0.851064                   0.546296            0.000000   \nMUS1-481           0.796296                   0.546296            0.547619   \nMUS1-483           0.817204                   0.518519            0.200000   \nMUS1-490           0.840426                   0.546296            0.000000   \nMUS1-489           0.926316                   0.587963            0.645161   \nMUS1-482           0.757009                   0.611111            0.972222   \nMUS1-479           0.819048                   0.583333            0.571429   \nMUS1-477           0.926316                   0.611111            0.581395   \nMUS1-480           0.863158                   0.648148            0.610000   \nMUS1-486           0.903226                   0.643519            0.580153   \n\n          Philips_iU22/val/r  ESAOTE_6100/val/f1  Philips_iU22/val/f1  \nid                                                                     \nMUS1-465            0.540816            0.893401             0.554974  \nMUS1-475            0.285714            0.892308             0.397163  \nMUS1-466            0.071429            0.875622             0.129630  \nMUS1-469            0.737288            0.875000             0.696000  \nMUS1-478            0.864407            0.869159             0.686869  \nMUS1-467            0.601695            0.868293             0.633929  \nMUS1-473            0.872881            0.867925             0.705479  \nMUS1-485            0.669492            0.866667             0.678112  \nMUS1-472            0.720339            0.863850             0.666667  \nMUS1-464            0.889831            0.859729             0.693069  \nMUS1-474            0.275510            0.858696             0.406015  \nMUS1-468            0.183673            0.857143             0.288000  \nMUS1-476            0.016949            0.854626             0.033333  \nMUS1-471            0.322034            0.849741             0.460606  \nMUS1-470            0.771186            0.848485             0.686792  \nMUS1-488            1.000000            0.840708             0.706587  \nMUS1-484            0.428571            0.840000             0.469274  \nMUS1-487            0.000000            0.837696             0.000000  \nMUS1-481            0.974576            0.830918             0.701220  \nMUS1-483            0.020408            0.830601             0.037037  \nMUS1-490            0.000000            0.827225             0.000000  \nMUS1-489            0.204082            0.822430             0.310078  \nMUS1-482            0.296610            0.822335             0.454545  \nMUS1-479            0.949153            0.815166             0.713376  \nMUS1-477            0.510204            0.814815             0.543478  \nMUS1-480            0.622449            0.807882             0.616162  \nMUS1-486            0.775510            0.803828             0.663755  ",
      "text/html": "<div>\n<style scoped>\n    .dataframe tbody tr th:only-of-type {\n        vertical-align: middle;\n    }\n\n    .dataframe tbody tr th {\n        vertical-align: top;\n    }\n\n    .dataframe thead th {\n        text-align: right;\n    }\n</style>\n<table border=\"1\" class=\"dataframe\">\n  <thead>\n    <tr style=\"text-align: right;\">\n      <th></th>\n      <th>epoch</th>\n      <th>parameter_problem_type</th>\n      <th>parameter_mil_pooling</th>\n      <th>parameter_lr</th>\n      <th>ESAOTE_6100/val/accuracy</th>\n      <th>ESAOTE_6100/val/p</th>\n      <th>ESAOTE_6100/val/r</th>\n      <th>Philips_iU22/val/accuracy</th>\n      <th>Philips_iU22/val/p</th>\n      <th>Philips_iU22/val/r</th>\n      <th>ESAOTE_6100/val/f1</th>\n      <th>Philips_iU22/val/f1</th>\n    </tr>\n    <tr>\n      <th>id</th>\n      <th></th>\n      <th></th>\n      <th></th>\n      <th></th>\n      <th></th>\n      <th></th>\n      <th></th>\n      <th></th>\n      <th></th>\n      <th></th>\n      <th></th>\n      <th></th>\n    </tr>\n  </thead>\n  <tbody>\n    <tr>\n      <th>MUS1-465</th>\n      <td>5.0</td>\n      <td>image</td>\n      <td>NA</td>\n      <td>0.07884803771142498</td>\n      <td>0.897059</td>\n      <td>0.880000</td>\n      <td>0.907216</td>\n      <td>0.606481</td>\n      <td>0.569892</td>\n      <td>0.540816</td>\n      <td>0.893401</td>\n      <td>0.554974</td>\n    </tr>\n    <tr>\n      <th>MUS1-475</th>\n      <td>10.0</td>\n      <td>image</td>\n      <td>NA</td>\n      <td>0.034727911182045275</td>\n      <td>0.897059</td>\n      <td>0.870000</td>\n      <td>0.915789</td>\n      <td>0.606481</td>\n      <td>0.651163</td>\n      <td>0.285714</td>\n      <td>0.892308</td>\n      <td>0.397163</td>\n    </tr>\n    <tr>\n      <th>MUS1-466</th>\n      <td>5.0</td>\n      <td>image</td>\n      <td>NA</td>\n      <td>0.09290424844470349</td>\n      <td>0.877451</td>\n      <td>0.846154</td>\n      <td>0.907216</td>\n      <td>0.564815</td>\n      <td>0.700000</td>\n      <td>0.071429</td>\n      <td>0.875622</td>\n      <td>0.129630</td>\n    </tr>\n    <tr>\n      <th>MUS1-469</th>\n      <td>5.0</td>\n      <td>image</td>\n      <td>NA</td>\n      <td>0.03512612009680869</td>\n      <td>0.872549</td>\n      <td>0.900990</td>\n      <td>0.850467</td>\n      <td>0.648148</td>\n      <td>0.659091</td>\n      <td>0.737288</td>\n      <td>0.875000</td>\n      <td>0.696000</td>\n    </tr>\n    <tr>\n      <th>MUS1-478</th>\n      <td>8.0</td>\n      <td>bag</td>\n      <td>mean</td>\n      <td>0.013850773307231088</td>\n      <td>0.860000</td>\n      <td>0.861111</td>\n      <td>0.877358</td>\n      <td>0.569444</td>\n      <td>0.569832</td>\n      <td>0.864407</td>\n      <td>0.869159</td>\n      <td>0.686869</td>\n    </tr>\n    <tr>\n      <th>MUS1-467</th>\n      <td>10.0</td>\n      <td>image</td>\n      <td>NA</td>\n      <td>0.05468682801848703</td>\n      <td>0.867647</td>\n      <td>0.927083</td>\n      <td>0.816514</td>\n      <td>0.620370</td>\n      <td>0.669811</td>\n      <td>0.601695</td>\n      <td>0.868293</td>\n      <td>0.633929</td>\n    </tr>\n    <tr>\n      <th>MUS1-473</th>\n      <td>9.0</td>\n      <td>image</td>\n      <td>NA</td>\n      <td>0.08776218762611263</td>\n      <td>0.862745</td>\n      <td>0.893204</td>\n      <td>0.844037</td>\n      <td>0.601852</td>\n      <td>0.591954</td>\n      <td>0.872881</td>\n      <td>0.867925</td>\n      <td>0.705479</td>\n    </tr>\n    <tr>\n      <th>MUS1-485</th>\n      <td>10.0</td>\n      <td>bag</td>\n      <td>mean</td>\n      <td>0.018394030587917828</td>\n      <td>0.840000</td>\n      <td>0.781955</td>\n      <td>0.971963</td>\n      <td>0.652778</td>\n      <td>0.686957</td>\n      <td>0.669492</td>\n      <td>0.866667</td>\n      <td>0.678112</td>\n    </tr>\n    <tr>\n      <th>MUS1-472</th>\n      <td>9.0</td>\n      <td>image</td>\n      <td>NA</td>\n      <td>0.07945127344357629</td>\n      <td>0.857843</td>\n      <td>0.884615</td>\n      <td>0.844037</td>\n      <td>0.606481</td>\n      <td>0.620438</td>\n      <td>0.720339</td>\n      <td>0.863850</td>\n      <td>0.666667</td>\n    </tr>\n    <tr>\n      <th>MUS1-464</th>\n      <td>9.0</td>\n      <td>image</td>\n      <td>NA</td>\n      <td>0.09675396694217302</td>\n      <td>0.848039</td>\n      <td>0.848214</td>\n      <td>0.871560</td>\n      <td>0.569444</td>\n      <td>0.567568</td>\n      <td>0.889831</td>\n      <td>0.859729</td>\n      <td>0.693069</td>\n    </tr>\n    <tr>\n      <th>MUS1-474</th>\n      <td>9.0</td>\n      <td>image</td>\n      <td>NA</td>\n      <td>0.08728850456094311</td>\n      <td>0.872549</td>\n      <td>0.887640</td>\n      <td>0.831579</td>\n      <td>0.634259</td>\n      <td>0.771429</td>\n      <td>0.275510</td>\n      <td>0.858696</td>\n      <td>0.406015</td>\n    </tr>\n    <tr>\n      <th>MUS1-468</th>\n      <td>9.0</td>\n      <td>image</td>\n      <td>NA</td>\n      <td>0.07034016102626098</td>\n      <td>0.862745</td>\n      <td>0.831683</td>\n      <td>0.884211</td>\n      <td>0.587963</td>\n      <td>0.666667</td>\n      <td>0.183673</td>\n      <td>0.857143</td>\n      <td>0.288000</td>\n    </tr>\n    <tr>\n      <th>MUS1-476</th>\n      <td>10.0</td>\n      <td>bag</td>\n      <td>mean</td>\n      <td>0.039988519691310356</td>\n      <td>0.835000</td>\n      <td>0.808333</td>\n      <td>0.906542</td>\n      <td>0.462963</td>\n      <td>1.000000</td>\n      <td>0.016949</td>\n      <td>0.854626</td>\n      <td>0.033333</td>\n    </tr>\n    <tr>\n      <th>MUS1-471</th>\n      <td>10.0</td>\n      <td>image</td>\n      <td>NA</td>\n      <td>0.061271817654313235</td>\n      <td>0.857843</td>\n      <td>0.976190</td>\n      <td>0.752294</td>\n      <td>0.587963</td>\n      <td>0.808511</td>\n      <td>0.322034</td>\n      <td>0.849741</td>\n      <td>0.460606</td>\n    </tr>\n    <tr>\n      <th>MUS1-470</th>\n      <td>10.0</td>\n      <td>image</td>\n      <td>NA</td>\n      <td>0.07350721935327556</td>\n      <td>0.852941</td>\n      <td>0.943820</td>\n      <td>0.770642</td>\n      <td>0.615741</td>\n      <td>0.619048</td>\n      <td>0.771186</td>\n      <td>0.848485</td>\n      <td>0.686792</td>\n    </tr>\n    <tr>\n      <th>MUS1-488</th>\n      <td>10.0</td>\n      <td>bag</td>\n      <td>attention</td>\n      <td>0.07311304267310911</td>\n      <td>0.820000</td>\n      <td>0.791667</td>\n      <td>0.896226</td>\n      <td>0.546296</td>\n      <td>0.546296</td>\n      <td>1.000000</td>\n      <td>0.840708</td>\n      <td>0.706587</td>\n    </tr>\n    <tr>\n      <th>MUS1-484</th>\n      <td>9.0</td>\n      <td>bag</td>\n      <td>mean</td>\n      <td>0.04545373319737111</td>\n      <td>0.840000</td>\n      <td>0.785047</td>\n      <td>0.903226</td>\n      <td>0.560185</td>\n      <td>0.518519</td>\n      <td>0.428571</td>\n      <td>0.840000</td>\n      <td>0.469274</td>\n    </tr>\n    <tr>\n      <th>MUS1-487</th>\n      <td>4.0</td>\n      <td>bag</td>\n      <td>mean</td>\n      <td>0.02564962901905009</td>\n      <td>0.845000</td>\n      <td>0.824742</td>\n      <td>0.851064</td>\n      <td>0.546296</td>\n      <td>0.000000</td>\n      <td>0.000000</td>\n      <td>0.837696</td>\n      <td>0.000000</td>\n    </tr>\n    <tr>\n      <th>MUS1-481</th>\n      <td>6.0</td>\n      <td>bag</td>\n      <td>mean</td>\n      <td>0.08779294758302639</td>\n      <td>0.825000</td>\n      <td>0.868687</td>\n      <td>0.796296</td>\n      <td>0.546296</td>\n      <td>0.547619</td>\n      <td>0.974576</td>\n      <td>0.830918</td>\n      <td>0.701220</td>\n    </tr>\n    <tr>\n      <th>MUS1-483</th>\n      <td>9.0</td>\n      <td>bag</td>\n      <td>mean</td>\n      <td>0.02309497844378327</td>\n      <td>0.845000</td>\n      <td>0.844444</td>\n      <td>0.817204</td>\n      <td>0.518519</td>\n      <td>0.200000</td>\n      <td>0.020408</td>\n      <td>0.830601</td>\n      <td>0.037037</td>\n    </tr>\n    <tr>\n      <th>MUS1-490</th>\n      <td>5.0</td>\n      <td>bag</td>\n      <td>attention</td>\n      <td>0.05136064819099455</td>\n      <td>0.835000</td>\n      <td>0.814433</td>\n      <td>0.840426</td>\n      <td>0.546296</td>\n      <td>0.000000</td>\n      <td>0.000000</td>\n      <td>0.827225</td>\n      <td>0.000000</td>\n    </tr>\n    <tr>\n      <th>MUS1-489</th>\n      <td>8.0</td>\n      <td>bag</td>\n      <td>attention</td>\n      <td>0.07458360053414405</td>\n      <td>0.810000</td>\n      <td>0.739496</td>\n      <td>0.926316</td>\n      <td>0.587963</td>\n      <td>0.645161</td>\n      <td>0.204082</td>\n      <td>0.822430</td>\n      <td>0.310078</td>\n    </tr>\n    <tr>\n      <th>MUS1-482</th>\n      <td>9.0</td>\n      <td>bag</td>\n      <td>mean</td>\n      <td>0.09003549155356137</td>\n      <td>0.825000</td>\n      <td>0.900000</td>\n      <td>0.757009</td>\n      <td>0.611111</td>\n      <td>0.972222</td>\n      <td>0.296610</td>\n      <td>0.822335</td>\n      <td>0.454545</td>\n    </tr>\n    <tr>\n      <th>MUS1-479</th>\n      <td>3.0</td>\n      <td>bag</td>\n      <td>mean</td>\n      <td>0.09572521799369989</td>\n      <td>0.805000</td>\n      <td>0.811321</td>\n      <td>0.819048</td>\n      <td>0.583333</td>\n      <td>0.571429</td>\n      <td>0.949153</td>\n      <td>0.815166</td>\n      <td>0.713376</td>\n    </tr>\n    <tr>\n      <th>MUS1-477</th>\n      <td>7.0</td>\n      <td>bag</td>\n      <td>mean</td>\n      <td>0.0832270044553627</td>\n      <td>0.800000</td>\n      <td>0.727273</td>\n      <td>0.926316</td>\n      <td>0.611111</td>\n      <td>0.581395</td>\n      <td>0.510204</td>\n      <td>0.814815</td>\n      <td>0.543478</td>\n    </tr>\n    <tr>\n      <th>MUS1-480</th>\n      <td>7.0</td>\n      <td>bag</td>\n      <td>mean</td>\n      <td>0.07881949262172504</td>\n      <td>0.805000</td>\n      <td>0.759259</td>\n      <td>0.863158</td>\n      <td>0.648148</td>\n      <td>0.610000</td>\n      <td>0.622449</td>\n      <td>0.807882</td>\n      <td>0.616162</td>\n    </tr>\n    <tr>\n      <th>MUS1-486</th>\n      <td>10.0</td>\n      <td>bag</td>\n      <td>mean</td>\n      <td>0.08756455277193333</td>\n      <td>0.795000</td>\n      <td>0.724138</td>\n      <td>0.903226</td>\n      <td>0.643519</td>\n      <td>0.580153</td>\n      <td>0.775510</td>\n      <td>0.803828</td>\n      <td>0.663755</td>\n    </tr>\n  </tbody>\n</table>\n</div>"
     },
     "execution_count": 54,
     "metadata": {},
     "output_type": "execute_result"
    }
   ],
   "source": [
    "params_of_interest = ['epoch', 'parameter_problem_type', 'parameter_mil_pooling', 'parameter_lr']\n",
    "to_include =  params_of_interest + logs_names\n",
    "# TODO add the gaps back in\n",
    "if problem_type == 'binary':\n",
    "    to_include.append('ESAOTE_6100/val/f1')\n",
    "    to_include.append('Philips_iU22/val/f1')\n",
    "    comp_frame = plot_frame.sort_values('ESAOTE_6100/val/f1', ascending=False)[to_include]\n",
    "else:\n",
    "    comp_frame = plot_frame.sort_values('ESAOTE_6100/val/mae')[to_include]\n",
    "    \n",
    "\n",
    "comp_frame['parameter_mil_pooling'] = comp_frame['parameter_mil_pooling'].fillna('NA')\n",
    "comp_frame"
   ]
  },
  {
   "cell_type": "code",
   "execution_count": 40,
   "metadata": {},
   "outputs": [
    {
     "ename": "KeyError",
     "evalue": "'val_mae_gap'",
     "output_type": "error",
     "traceback": [
      "\u001B[0;31m---------------------------------------------------------------------------\u001B[0m",
      "\u001B[0;31mKeyError\u001B[0m                                  Traceback (most recent call last)",
      "\u001B[0;32m~/PycharmProjects/muscle-ultrasound/venv2/lib/python3.8/site-packages/pandas/core/indexes/base.py\u001B[0m in \u001B[0;36mget_loc\u001B[0;34m(self, key, method, tolerance)\u001B[0m\n\u001B[1;32m   2645\u001B[0m             \u001B[0;32mtry\u001B[0m\u001B[0;34m:\u001B[0m\u001B[0;34m\u001B[0m\u001B[0;34m\u001B[0m\u001B[0m\n\u001B[0;32m-> 2646\u001B[0;31m                 \u001B[0;32mreturn\u001B[0m \u001B[0mself\u001B[0m\u001B[0;34m.\u001B[0m\u001B[0m_engine\u001B[0m\u001B[0;34m.\u001B[0m\u001B[0mget_loc\u001B[0m\u001B[0;34m(\u001B[0m\u001B[0mkey\u001B[0m\u001B[0;34m)\u001B[0m\u001B[0;34m\u001B[0m\u001B[0;34m\u001B[0m\u001B[0m\n\u001B[0m\u001B[1;32m   2647\u001B[0m             \u001B[0;32mexcept\u001B[0m \u001B[0mKeyError\u001B[0m\u001B[0;34m:\u001B[0m\u001B[0;34m\u001B[0m\u001B[0;34m\u001B[0m\u001B[0m\n",
      "\u001B[0;32mpandas/_libs/index.pyx\u001B[0m in \u001B[0;36mpandas._libs.index.IndexEngine.get_loc\u001B[0;34m()\u001B[0m\n",
      "\u001B[0;32mpandas/_libs/index.pyx\u001B[0m in \u001B[0;36mpandas._libs.index.IndexEngine.get_loc\u001B[0;34m()\u001B[0m\n",
      "\u001B[0;32mpandas/_libs/hashtable_class_helper.pxi\u001B[0m in \u001B[0;36mpandas._libs.hashtable.PyObjectHashTable.get_item\u001B[0;34m()\u001B[0m\n",
      "\u001B[0;32mpandas/_libs/hashtable_class_helper.pxi\u001B[0m in \u001B[0;36mpandas._libs.hashtable.PyObjectHashTable.get_item\u001B[0;34m()\u001B[0m\n",
      "\u001B[0;31mKeyError\u001B[0m: 'val_mae_gap'",
      "\nDuring handling of the above exception, another exception occurred:\n",
      "\u001B[0;31mKeyError\u001B[0m                                  Traceback (most recent call last)",
      "\u001B[0;32m<ipython-input-40-8889aadb4d23>\u001B[0m in \u001B[0;36m<module>\u001B[0;34m\u001B[0m\n\u001B[1;32m      2\u001B[0m     \u001B[0mprint\u001B[0m\u001B[0;34m(\u001B[0m\u001B[0mcomp_frame\u001B[0m\u001B[0;34m.\u001B[0m\u001B[0mgroupby\u001B[0m\u001B[0;34m(\u001B[0m\u001B[0;34m[\u001B[0m\u001B[0;34m'parameter_problem_type'\u001B[0m\u001B[0;34m,\u001B[0m\u001B[0;34m'parameter_mil_pooling'\u001B[0m\u001B[0;34m]\u001B[0m\u001B[0;34m)\u001B[0m\u001B[0;34m.\u001B[0m\u001B[0mmin\u001B[0m\u001B[0;34m(\u001B[0m\u001B[0;34m)\u001B[0m\u001B[0;34m[\u001B[0m\u001B[0;34m'val_f1_gap'\u001B[0m\u001B[0;34m]\u001B[0m\u001B[0;34m)\u001B[0m\u001B[0;34m\u001B[0m\u001B[0;34m\u001B[0m\u001B[0m\n\u001B[1;32m      3\u001B[0m \u001B[0;32melse\u001B[0m\u001B[0;34m:\u001B[0m\u001B[0;34m\u001B[0m\u001B[0;34m\u001B[0m\u001B[0m\n\u001B[0;32m----> 4\u001B[0;31m     \u001B[0mprint\u001B[0m\u001B[0;34m(\u001B[0m\u001B[0mcomp_frame\u001B[0m\u001B[0;34m.\u001B[0m\u001B[0mgroupby\u001B[0m\u001B[0;34m(\u001B[0m\u001B[0;34m[\u001B[0m\u001B[0;34m'parameter_problem_type'\u001B[0m\u001B[0;34m,\u001B[0m\u001B[0;34m'parameter_mil_pooling'\u001B[0m\u001B[0;34m]\u001B[0m\u001B[0;34m)\u001B[0m\u001B[0;34m.\u001B[0m\u001B[0mmax\u001B[0m\u001B[0;34m(\u001B[0m\u001B[0;34m)\u001B[0m\u001B[0;34m[\u001B[0m\u001B[0;34m'val_mae_gap'\u001B[0m\u001B[0;34m]\u001B[0m\u001B[0;34m)\u001B[0m\u001B[0;34m\u001B[0m\u001B[0;34m\u001B[0m\u001B[0m\n\u001B[0m\u001B[1;32m      5\u001B[0m \u001B[0;34m\u001B[0m\u001B[0m\n",
      "\u001B[0;32m~/PycharmProjects/muscle-ultrasound/venv2/lib/python3.8/site-packages/pandas/core/frame.py\u001B[0m in \u001B[0;36m__getitem__\u001B[0;34m(self, key)\u001B[0m\n\u001B[1;32m   2798\u001B[0m             \u001B[0;32mif\u001B[0m \u001B[0mself\u001B[0m\u001B[0;34m.\u001B[0m\u001B[0mcolumns\u001B[0m\u001B[0;34m.\u001B[0m\u001B[0mnlevels\u001B[0m \u001B[0;34m>\u001B[0m \u001B[0;36m1\u001B[0m\u001B[0;34m:\u001B[0m\u001B[0;34m\u001B[0m\u001B[0;34m\u001B[0m\u001B[0m\n\u001B[1;32m   2799\u001B[0m                 \u001B[0;32mreturn\u001B[0m \u001B[0mself\u001B[0m\u001B[0;34m.\u001B[0m\u001B[0m_getitem_multilevel\u001B[0m\u001B[0;34m(\u001B[0m\u001B[0mkey\u001B[0m\u001B[0;34m)\u001B[0m\u001B[0;34m\u001B[0m\u001B[0;34m\u001B[0m\u001B[0m\n\u001B[0;32m-> 2800\u001B[0;31m             \u001B[0mindexer\u001B[0m \u001B[0;34m=\u001B[0m \u001B[0mself\u001B[0m\u001B[0;34m.\u001B[0m\u001B[0mcolumns\u001B[0m\u001B[0;34m.\u001B[0m\u001B[0mget_loc\u001B[0m\u001B[0;34m(\u001B[0m\u001B[0mkey\u001B[0m\u001B[0;34m)\u001B[0m\u001B[0;34m\u001B[0m\u001B[0;34m\u001B[0m\u001B[0m\n\u001B[0m\u001B[1;32m   2801\u001B[0m             \u001B[0;32mif\u001B[0m \u001B[0mis_integer\u001B[0m\u001B[0;34m(\u001B[0m\u001B[0mindexer\u001B[0m\u001B[0;34m)\u001B[0m\u001B[0;34m:\u001B[0m\u001B[0;34m\u001B[0m\u001B[0;34m\u001B[0m\u001B[0m\n\u001B[1;32m   2802\u001B[0m                 \u001B[0mindexer\u001B[0m \u001B[0;34m=\u001B[0m \u001B[0;34m[\u001B[0m\u001B[0mindexer\u001B[0m\u001B[0;34m]\u001B[0m\u001B[0;34m\u001B[0m\u001B[0;34m\u001B[0m\u001B[0m\n",
      "\u001B[0;32m~/PycharmProjects/muscle-ultrasound/venv2/lib/python3.8/site-packages/pandas/core/indexes/base.py\u001B[0m in \u001B[0;36mget_loc\u001B[0;34m(self, key, method, tolerance)\u001B[0m\n\u001B[1;32m   2646\u001B[0m                 \u001B[0;32mreturn\u001B[0m \u001B[0mself\u001B[0m\u001B[0;34m.\u001B[0m\u001B[0m_engine\u001B[0m\u001B[0;34m.\u001B[0m\u001B[0mget_loc\u001B[0m\u001B[0;34m(\u001B[0m\u001B[0mkey\u001B[0m\u001B[0;34m)\u001B[0m\u001B[0;34m\u001B[0m\u001B[0;34m\u001B[0m\u001B[0m\n\u001B[1;32m   2647\u001B[0m             \u001B[0;32mexcept\u001B[0m \u001B[0mKeyError\u001B[0m\u001B[0;34m:\u001B[0m\u001B[0;34m\u001B[0m\u001B[0;34m\u001B[0m\u001B[0m\n\u001B[0;32m-> 2648\u001B[0;31m                 \u001B[0;32mreturn\u001B[0m \u001B[0mself\u001B[0m\u001B[0;34m.\u001B[0m\u001B[0m_engine\u001B[0m\u001B[0;34m.\u001B[0m\u001B[0mget_loc\u001B[0m\u001B[0;34m(\u001B[0m\u001B[0mself\u001B[0m\u001B[0;34m.\u001B[0m\u001B[0m_maybe_cast_indexer\u001B[0m\u001B[0;34m(\u001B[0m\u001B[0mkey\u001B[0m\u001B[0;34m)\u001B[0m\u001B[0;34m)\u001B[0m\u001B[0;34m\u001B[0m\u001B[0;34m\u001B[0m\u001B[0m\n\u001B[0m\u001B[1;32m   2649\u001B[0m         \u001B[0mindexer\u001B[0m \u001B[0;34m=\u001B[0m \u001B[0mself\u001B[0m\u001B[0;34m.\u001B[0m\u001B[0mget_indexer\u001B[0m\u001B[0;34m(\u001B[0m\u001B[0;34m[\u001B[0m\u001B[0mkey\u001B[0m\u001B[0;34m]\u001B[0m\u001B[0;34m,\u001B[0m \u001B[0mmethod\u001B[0m\u001B[0;34m=\u001B[0m\u001B[0mmethod\u001B[0m\u001B[0;34m,\u001B[0m \u001B[0mtolerance\u001B[0m\u001B[0;34m=\u001B[0m\u001B[0mtolerance\u001B[0m\u001B[0;34m)\u001B[0m\u001B[0;34m\u001B[0m\u001B[0;34m\u001B[0m\u001B[0m\n\u001B[1;32m   2650\u001B[0m         \u001B[0;32mif\u001B[0m \u001B[0mindexer\u001B[0m\u001B[0;34m.\u001B[0m\u001B[0mndim\u001B[0m \u001B[0;34m>\u001B[0m \u001B[0;36m1\u001B[0m \u001B[0;32mor\u001B[0m \u001B[0mindexer\u001B[0m\u001B[0;34m.\u001B[0m\u001B[0msize\u001B[0m \u001B[0;34m>\u001B[0m \u001B[0;36m1\u001B[0m\u001B[0;34m:\u001B[0m\u001B[0;34m\u001B[0m\u001B[0;34m\u001B[0m\u001B[0m\n",
      "\u001B[0;32mpandas/_libs/index.pyx\u001B[0m in \u001B[0;36mpandas._libs.index.IndexEngine.get_loc\u001B[0;34m()\u001B[0m\n",
      "\u001B[0;32mpandas/_libs/index.pyx\u001B[0m in \u001B[0;36mpandas._libs.index.IndexEngine.get_loc\u001B[0;34m()\u001B[0m\n",
      "\u001B[0;32mpandas/_libs/hashtable_class_helper.pxi\u001B[0m in \u001B[0;36mpandas._libs.hashtable.PyObjectHashTable.get_item\u001B[0;34m()\u001B[0m\n",
      "\u001B[0;32mpandas/_libs/hashtable_class_helper.pxi\u001B[0m in \u001B[0;36mpandas._libs.hashtable.PyObjectHashTable.get_item\u001B[0;34m()\u001B[0m\n",
      "\u001B[0;31mKeyError\u001B[0m: 'val_mae_gap'"
     ]
    }
   ],
   "source": [
    "if problem_type == 'binary':\n",
    "    print(comp_frame.groupby(['parameter_problem_type','parameter_mil_pooling']).min()['val_f1_gap'])\n",
    "else:\n",
    "    print(comp_frame.groupby(['parameter_problem_type','parameter_mil_pooling']).max()['val_mae_gap'])"
   ]
  },
  {
   "cell_type": "code",
   "execution_count": 78,
   "metadata": {},
   "outputs": [
    {
     "ename": "ValueError",
     "evalue": "Value of 'dimensions_1' is not the name of a column in 'data_frame'. Expected one of ['ESAOTE_6100/val/mae', 'Philips_iU22/val/mae', 'epoch', 'val_mae_gap', 'name', 'created', 'finished', 'owner', 'notes', 'running_time', 'size', 'tags', 'channel_ESAOTE_6100/val/loss', 'channel_ESAOTE_6100/val/mae', 'channel_ESAOTE_6100/val/max_att', 'channel_ESAOTE_6100/val/mean', 'channel_ESAOTE_6100/val/mean_att', 'channel_ESAOTE_6100/val/min_att', 'channel_ESAOTE_6100/val/var', 'channel_ESAOTE_6100/val/var_att', 'channel_ESAOTE_6100/val_image/loss', 'channel_ESAOTE_6100/val_image/mae', 'channel_ESAOTE_6100/val_image/mean', 'channel_ESAOTE_6100/val_image/var', 'channel_Philips_iU22/val/loss', 'channel_Philips_iU22/val/mae', 'channel_Philips_iU22/val/max_att', 'channel_Philips_iU22/val/mean', 'channel_Philips_iU22/val/mean_att', 'channel_Philips_iU22/val/min_att', 'channel_Philips_iU22/val/var', 'channel_Philips_iU22/val/var_att', 'channel_Philips_iU22/val_image/loss', 'channel_Philips_iU22/val_image/mae', 'channel_Philips_iU22/val_image/mean', 'channel_Philips_iU22/val_image/var', 'channel_stderr', 'channel_stdout', 'channel_training/loss', 'channel_training/mae', 'channel_training/max_att', 'channel_training/mean', 'channel_training/mean_att', 'channel_training/min_att', 'channel_training/var', 'channel_training/var_att', 'parameter_attention_mode', 'parameter_backend', 'parameter_backend_cutoff', 'parameter_backend_lr', 'parameter_backend_mode', 'parameter_batch_size', 'parameter_fc_hidden_layers', 'parameter_fc_use_bn', 'parameter_lr', 'parameter_mil_mode', 'parameter_mil_pooling', 'parameter_n_epochs', 'parameter_n_params_backend', 'parameter_n_params_classifier', 'parameter_n_params_pooling', 'parameter_prediction_target', 'parameter_problem_type', 'parameter_source_train', 'parameter_use_pseudopatients', 'parameter_val'] but received: ESAOTE_6100/val/f1",
     "output_type": "error",
     "traceback": [
      "\u001B[0;31m---------------------------------------------------------------------------\u001B[0m",
      "\u001B[0;31mValueError\u001B[0m                                Traceback (most recent call last)",
      "\u001B[0;32m<ipython-input-78-ed5e3e143a4f>\u001B[0m in \u001B[0;36m<module>\u001B[0;34m\u001B[0m\n\u001B[1;32m      4\u001B[0m \u001B[0;34m\u001B[0m\u001B[0m\n\u001B[1;32m      5\u001B[0m \u001B[0;31m#plot_frame.drop(columns=['tags'], inplace=True)\u001B[0m\u001B[0;34m\u001B[0m\u001B[0;34m\u001B[0m\u001B[0;34m\u001B[0m\u001B[0m\n\u001B[0;32m----> 6\u001B[0;31m \u001B[0mfig\u001B[0m \u001B[0;34m=\u001B[0m \u001B[0mpx\u001B[0m\u001B[0;34m.\u001B[0m\u001B[0mparallel_coordinates\u001B[0m\u001B[0;34m(\u001B[0m\u001B[0mplot_frame\u001B[0m\u001B[0;34m,\u001B[0m \u001B[0mdimensions\u001B[0m\u001B[0;34m=\u001B[0m\u001B[0;34m[\u001B[0m\u001B[0;34m'parameter_lr'\u001B[0m\u001B[0;34m,\u001B[0m \u001B[0;34m'ESAOTE_6100/val/f1'\u001B[0m\u001B[0;34m]\u001B[0m\u001B[0;34m)\u001B[0m\u001B[0;34m\u001B[0m\u001B[0;34m\u001B[0m\u001B[0m\n\u001B[0m\u001B[1;32m      7\u001B[0m \u001B[0mfig\u001B[0m\u001B[0;34m.\u001B[0m\u001B[0mshow\u001B[0m\u001B[0;34m(\u001B[0m\u001B[0;34m)\u001B[0m\u001B[0;34m\u001B[0m\u001B[0;34m\u001B[0m\u001B[0m\n\u001B[1;32m      8\u001B[0m \u001B[0;34m\u001B[0m\u001B[0m\n",
      "\u001B[0;32m~/PycharmProjects/muscle-ultrasound/venv2/lib/python3.8/site-packages/plotly/express/_chart_types.py\u001B[0m in \u001B[0;36mparallel_coordinates\u001B[0;34m(data_frame, dimensions, color, labels, color_continuous_scale, range_color, color_continuous_midpoint, title, template, width, height)\u001B[0m\n\u001B[1;32m   1213\u001B[0m     \u001B[0mof\u001B[0m \u001B[0mthe\u001B[0m\u001B[0;31m \u001B[0m\u001B[0;31m`\u001B[0m\u001B[0mdimensions\u001B[0m\u001B[0;31m`\u001B[0m\u001B[0;34m.\u001B[0m\u001B[0;34m\u001B[0m\u001B[0;34m\u001B[0m\u001B[0m\n\u001B[1;32m   1214\u001B[0m     \"\"\"\n\u001B[0;32m-> 1215\u001B[0;31m     \u001B[0;32mreturn\u001B[0m \u001B[0mmake_figure\u001B[0m\u001B[0;34m(\u001B[0m\u001B[0margs\u001B[0m\u001B[0;34m=\u001B[0m\u001B[0mlocals\u001B[0m\u001B[0;34m(\u001B[0m\u001B[0;34m)\u001B[0m\u001B[0;34m,\u001B[0m \u001B[0mconstructor\u001B[0m\u001B[0;34m=\u001B[0m\u001B[0mgo\u001B[0m\u001B[0;34m.\u001B[0m\u001B[0mParcoords\u001B[0m\u001B[0;34m)\u001B[0m\u001B[0;34m\u001B[0m\u001B[0;34m\u001B[0m\u001B[0m\n\u001B[0m\u001B[1;32m   1216\u001B[0m \u001B[0;34m\u001B[0m\u001B[0m\n\u001B[1;32m   1217\u001B[0m \u001B[0;34m\u001B[0m\u001B[0m\n",
      "\u001B[0;32m~/PycharmProjects/muscle-ultrasound/venv2/lib/python3.8/site-packages/plotly/express/_core.py\u001B[0m in \u001B[0;36mmake_figure\u001B[0;34m(args, constructor, trace_patch, layout_patch)\u001B[0m\n\u001B[1;32m   1753\u001B[0m     \u001B[0mapply_default_cascade\u001B[0m\u001B[0;34m(\u001B[0m\u001B[0margs\u001B[0m\u001B[0;34m)\u001B[0m\u001B[0;34m\u001B[0m\u001B[0;34m\u001B[0m\u001B[0m\n\u001B[1;32m   1754\u001B[0m \u001B[0;34m\u001B[0m\u001B[0m\n\u001B[0;32m-> 1755\u001B[0;31m     \u001B[0margs\u001B[0m \u001B[0;34m=\u001B[0m \u001B[0mbuild_dataframe\u001B[0m\u001B[0;34m(\u001B[0m\u001B[0margs\u001B[0m\u001B[0;34m,\u001B[0m \u001B[0mconstructor\u001B[0m\u001B[0;34m)\u001B[0m\u001B[0;34m\u001B[0m\u001B[0;34m\u001B[0m\u001B[0m\n\u001B[0m\u001B[1;32m   1756\u001B[0m     \u001B[0;32mif\u001B[0m \u001B[0mconstructor\u001B[0m \u001B[0;32min\u001B[0m \u001B[0;34m[\u001B[0m\u001B[0mgo\u001B[0m\u001B[0;34m.\u001B[0m\u001B[0mTreemap\u001B[0m\u001B[0;34m,\u001B[0m \u001B[0mgo\u001B[0m\u001B[0;34m.\u001B[0m\u001B[0mSunburst\u001B[0m\u001B[0;34m]\u001B[0m \u001B[0;32mand\u001B[0m \u001B[0margs\u001B[0m\u001B[0;34m[\u001B[0m\u001B[0;34m\"path\"\u001B[0m\u001B[0;34m]\u001B[0m \u001B[0;32mis\u001B[0m \u001B[0;32mnot\u001B[0m \u001B[0;32mNone\u001B[0m\u001B[0;34m:\u001B[0m\u001B[0;34m\u001B[0m\u001B[0;34m\u001B[0m\u001B[0m\n\u001B[1;32m   1757\u001B[0m         \u001B[0margs\u001B[0m \u001B[0;34m=\u001B[0m \u001B[0mprocess_dataframe_hierarchy\u001B[0m\u001B[0;34m(\u001B[0m\u001B[0margs\u001B[0m\u001B[0;34m)\u001B[0m\u001B[0;34m\u001B[0m\u001B[0;34m\u001B[0m\u001B[0m\n",
      "\u001B[0;32m~/PycharmProjects/muscle-ultrasound/venv2/lib/python3.8/site-packages/plotly/express/_core.py\u001B[0m in \u001B[0;36mbuild_dataframe\u001B[0;34m(args, constructor)\u001B[0m\n\u001B[1;32m   1310\u001B[0m     \u001B[0;31m# now that things have been prepped, we do the systematic rewriting of `args`\u001B[0m\u001B[0;34m\u001B[0m\u001B[0;34m\u001B[0m\u001B[0;34m\u001B[0m\u001B[0m\n\u001B[1;32m   1311\u001B[0m \u001B[0;34m\u001B[0m\u001B[0m\n\u001B[0;32m-> 1312\u001B[0;31m     df_output, wide_id_vars = process_args_into_dataframe(\n\u001B[0m\u001B[1;32m   1313\u001B[0m         \u001B[0margs\u001B[0m\u001B[0;34m,\u001B[0m \u001B[0mwide_mode\u001B[0m\u001B[0;34m,\u001B[0m \u001B[0mvar_name\u001B[0m\u001B[0;34m,\u001B[0m \u001B[0mvalue_name\u001B[0m\u001B[0;34m\u001B[0m\u001B[0;34m\u001B[0m\u001B[0m\n\u001B[1;32m   1314\u001B[0m     )\n",
      "\u001B[0;32m~/PycharmProjects/muscle-ultrasound/venv2/lib/python3.8/site-packages/plotly/express/_core.py\u001B[0m in \u001B[0;36mprocess_args_into_dataframe\u001B[0;34m(args, wide_mode, var_name, value_name)\u001B[0m\n\u001B[1;32m   1117\u001B[0m                         \u001B[0;32mif\u001B[0m \u001B[0margument\u001B[0m \u001B[0;34m==\u001B[0m \u001B[0;34m\"index\"\u001B[0m\u001B[0;34m:\u001B[0m\u001B[0;34m\u001B[0m\u001B[0;34m\u001B[0m\u001B[0m\n\u001B[1;32m   1118\u001B[0m                             \u001B[0merr_msg\u001B[0m \u001B[0;34m+=\u001B[0m \u001B[0;34m\"\\n To use the index, pass it in directly as `df.index`.\"\u001B[0m\u001B[0;34m\u001B[0m\u001B[0;34m\u001B[0m\u001B[0m\n\u001B[0;32m-> 1119\u001B[0;31m                         \u001B[0;32mraise\u001B[0m \u001B[0mValueError\u001B[0m\u001B[0;34m(\u001B[0m\u001B[0merr_msg\u001B[0m\u001B[0;34m)\u001B[0m\u001B[0;34m\u001B[0m\u001B[0;34m\u001B[0m\u001B[0m\n\u001B[0m\u001B[1;32m   1120\u001B[0m                 \u001B[0;32melif\u001B[0m \u001B[0mlength\u001B[0m \u001B[0;32mand\u001B[0m \u001B[0mlen\u001B[0m\u001B[0;34m(\u001B[0m\u001B[0mdf_input\u001B[0m\u001B[0;34m[\u001B[0m\u001B[0margument\u001B[0m\u001B[0;34m]\u001B[0m\u001B[0;34m)\u001B[0m \u001B[0;34m!=\u001B[0m \u001B[0mlength\u001B[0m\u001B[0;34m:\u001B[0m\u001B[0;34m\u001B[0m\u001B[0;34m\u001B[0m\u001B[0m\n\u001B[1;32m   1121\u001B[0m                     raise ValueError(\n",
      "\u001B[0;31mValueError\u001B[0m: Value of 'dimensions_1' is not the name of a column in 'data_frame'. Expected one of ['ESAOTE_6100/val/mae', 'Philips_iU22/val/mae', 'epoch', 'val_mae_gap', 'name', 'created', 'finished', 'owner', 'notes', 'running_time', 'size', 'tags', 'channel_ESAOTE_6100/val/loss', 'channel_ESAOTE_6100/val/mae', 'channel_ESAOTE_6100/val/max_att', 'channel_ESAOTE_6100/val/mean', 'channel_ESAOTE_6100/val/mean_att', 'channel_ESAOTE_6100/val/min_att', 'channel_ESAOTE_6100/val/var', 'channel_ESAOTE_6100/val/var_att', 'channel_ESAOTE_6100/val_image/loss', 'channel_ESAOTE_6100/val_image/mae', 'channel_ESAOTE_6100/val_image/mean', 'channel_ESAOTE_6100/val_image/var', 'channel_Philips_iU22/val/loss', 'channel_Philips_iU22/val/mae', 'channel_Philips_iU22/val/max_att', 'channel_Philips_iU22/val/mean', 'channel_Philips_iU22/val/mean_att', 'channel_Philips_iU22/val/min_att', 'channel_Philips_iU22/val/var', 'channel_Philips_iU22/val/var_att', 'channel_Philips_iU22/val_image/loss', 'channel_Philips_iU22/val_image/mae', 'channel_Philips_iU22/val_image/mean', 'channel_Philips_iU22/val_image/var', 'channel_stderr', 'channel_stdout', 'channel_training/loss', 'channel_training/mae', 'channel_training/max_att', 'channel_training/mean', 'channel_training/mean_att', 'channel_training/min_att', 'channel_training/var', 'channel_training/var_att', 'parameter_attention_mode', 'parameter_backend', 'parameter_backend_cutoff', 'parameter_backend_lr', 'parameter_backend_mode', 'parameter_batch_size', 'parameter_fc_hidden_layers', 'parameter_fc_use_bn', 'parameter_lr', 'parameter_mil_mode', 'parameter_mil_pooling', 'parameter_n_epochs', 'parameter_n_params_backend', 'parameter_n_params_classifier', 'parameter_n_params_pooling', 'parameter_prediction_target', 'parameter_problem_type', 'parameter_source_train', 'parameter_use_pseudopatients', 'parameter_val'] but received: ESAOTE_6100/val/f1"
     ]
    }
   ],
   "source": [
    "plot_frame['parameter_lr'] = plot_frame['parameter_lr'].astype(float)\n",
    "#plot_frame['parameter_backend_lr'] = plot_frame['parameter_backend_lr'].astype(float)\n",
    "\n",
    "#plot_frame.drop(columns=['tags'], inplace=True)\n",
    "fig = px.parallel_coordinates(plot_frame, dimensions=['parameter_lr', 'ESAOTE_6100/val/f1'])\n",
    "fig.show()\n",
    "\n"
   ]
  },
  {
   "cell_type": "code",
   "execution_count": null,
   "metadata": {},
   "outputs": [],
   "source": []
  }
 ],
 "metadata": {
  "kernelspec": {
   "display_name": "Python 3",
   "language": "python",
   "name": "python3"
  },
  "language_info": {
   "codemirror_mode": {
    "name": "ipython",
    "version": 3
   },
   "file_extension": ".py",
   "mimetype": "text/x-python",
   "name": "python",
   "nbconvert_exporter": "python",
   "pygments_lexer": "ipython3",
   "version": "3.8.2"
  },
  "neptune": {
   "notebookId": "31510158-04e2-47a5-a823-1cd97a0d8fcd"
  }
 },
 "nbformat": 4,
 "nbformat_minor": 4
}