{
 "nbformat": 4,
 "nbformat_minor": 0,
 "metadata": {
  "colab": {
   "name": "Merge_labels.ipynb",
   "provenance": [],
   "collapsed_sections": []
  },
  "kernelspec": {
   "name": "python3",
   "display_name": "Python 3"
  }
 },
 "cells": [
  {
   "cell_type": "markdown",
   "source": [
    "Merger notebook for combining the initially provided labels from different sources into\n",
    "one file that can be iterated over by the MATLAB copying script.\n",
    "Also contains some preliminary analysis of the labels."
   ],
   "metadata": {
    "collapsed": false
   }
  },
  {
   "cell_type": "code",
   "metadata": {
    "id": "28ImFNJPLrUY"
   },
   "source": [
    "import pandas as pd\n",
    "import numpy as np\n",
    "import matplotlib.pyplot as plt\n",
    "from functools import partial"
   ],
   "execution_count": null,
   "outputs": []
  },
  {
   "cell_type": "markdown",
   "metadata": {
    "id": "tf14B_LUzwEt"
   },
   "source": [
    "Root level (Diag1): \n",
    "\n",
    "1. Spinal muscular atrophies and other disorders\n",
    "of the motor neurons\n",
    "2. Disorders of motor nerve roots\n",
    "3. Disorders of peripheral nerve\n",
    "4. Disorders of neuromuscular transmission\n",
    "5. Disorders of muscle"
   ]
  },
  {
   "cell_type": "code",
   "metadata": {
    "id": "HQH0c-K6zvmX"
   },
   "source": [
    "def merge_diag(row, include_three=True):\n",
    "  if np.isnan(row['Diag1']) | np.isnan(row['Diag2']):\n",
    "    return np.nan\n",
    "  \n",
    "  diag_1 = str(int(row['Diag1'])) \n",
    "  diag_2 = str(int(row['Diag2']))\n",
    "\n",
    "  if include_three:\n",
    "    if np.isnan(row['Diag3']):\n",
    "      return np.nan\n",
    "      \n",
    "    diag_3 = str(int(row['Diag3']))\n",
    "    return diag_1 + '.' + diag_2 + '.' + diag_3\n",
    "  return diag_1 + '.' + diag_2"
   ],
   "execution_count": null,
   "outputs": []
  },
  {
   "cell_type": "code",
   "metadata": {
    "id": "TP66PzAHzzoF"
   },
   "source": [
    "def set_relations(a,b):\n",
    "  print(f'There are {len(a)} items in set a.')\n",
    "  print(f'There are {len(b)} items in set b.')\n",
    "  print(f'There are {len(a.intersection(b))} items that overlap.')\n",
    "  print(f'There are {len(a.difference(b))} items only in a.')\n",
    "  print(f'There are {len(b.difference(a))} items only in b.')"
   ],
   "execution_count": null,
   "outputs": []
  },
  {
   "cell_type": "code",
   "metadata": {
    "id": "_A7YH4LMz1Kv",
    "colab": {
     "base_uri": "https://localhost:8080/"
    },
    "outputId": "2af4af54-38bd-4c12-9031-42aed2ea6cfd"
   },
   "source": [
    "cramp_patients = pd.read_excel('CRAMP_patients.xlsx')\n",
    "cramp_patients.rename(inplace=True,columns={'Registratienummer' : 'pid'})\n",
    "\n",
    "print(cramp_patients.shape)\n",
    "cramp_patients.dropna(subset=['Diag1'],inplace=True)\n",
    "print(cramp_patients.shape)\n",
    "\n",
    "zero_patients = cramp_patients[cramp_patients['Diag1'] == 0]\n",
    "zero_ids = set(zero_patients.pid)\n",
    "\n",
    "\n",
    "# merge the diags \n",
    "\n",
    "cramp_patients['fullDiag'] = cramp_patients.apply(merge_diag,axis=1)\n",
    "func = partial(merge_diag, include_three=False)\n",
    "cramp_patients['halfDiag'] = cramp_patients.apply(func,axis=1)\n",
    "\n",
    "\n",
    "duplicate_entries = cramp_patients[cramp_patients.duplicated(subset=['pid'], keep=False)]\n",
    "duplicate_ids = set(duplicate_entries.pid)\n",
    "\n",
    "set_relations(duplicate_ids,zero_ids)"
   ],
   "execution_count": null,
   "outputs": [
    {
     "output_type": "stream",
     "text": [
      "(7280, 4)\n",
      "(7245, 4)\n",
      "There are 216 items in set a.\n",
      "There are 51 items in set b.\n",
      "There are 35 items that overlap.\n",
      "There are 181 items only in a.\n",
      "There are 16 items only in b.\n"
     ],
     "name": "stdout"
    }
   ]
  },
  {
   "cell_type": "markdown",
   "metadata": {
    "id": "AX_rMK-dz5Ip"
   },
   "source": [
    "There appear to be rather many duplicates, sometimes, patients have two diagnoses with correct codes, sometimes one of the entries is just totally empty. We'll just get rid of these entries entirely for now. We also need some way to prioritize the more specific diagnosis in case patients have multiple. If both are similarly specific, we just need to drop one. Depending on what we decide to do with the data downstream, it might be worth looking into this aspect further."
   ]
  },
  {
   "cell_type": "code",
   "metadata": {
    "id": "kZqsr1dUz3GH",
    "colab": {
     "base_uri": "https://localhost:8080/"
    },
    "outputId": "df2be64a-53bb-4e86-9559-c563d9a1708f"
   },
   "source": [
    "def is_specific(row):\n",
    "  # specific on all levels\n",
    "  if (row['Diag1'] != 0) & (row['Diag2'] != 0) & (row['Diag2'] != 99):\n",
    "    return 2\n",
    "  # specific at least at the top level\n",
    "  if (row['Diag1'] != 0):\n",
    "    return 1\n",
    "  # not specific at all\n",
    "  return 0\n",
    "\n",
    "cramp_patients['is_specific'] = cramp_patients.apply(is_specific,axis=1)\n",
    "print(sum(cramp_patients['is_specific']))\n",
    "\n",
    "# print(cramp_patients[cramp_patients['pid'] == '8622895'])\n",
    "cramp_patients.sort_values(by=['pid', 'is_specific'], inplace=True, ascending = [True, True])\n",
    "\n",
    "# print(cramp_patients[cramp_patients['pid'] == '8622895'])\n",
    "# now if we keep the last duplicate, we should have the one with the specific diagnosis\n",
    "tester = cramp_patients.drop_duplicates(subset=['pid'], keep='last')\n",
    "\n",
    "duplicate_entries = cramp_patients[cramp_patients.duplicated(subset=['pid'], keep='first')]\n",
    "\n",
    "print(tester['halfDiag'].value_counts())\n",
    "still_zero = set(tester[tester['halfDiag'] =='0.0'].index)\n",
    "set_relations(duplicate_ids, still_zero)\n",
    "cramp_patients = tester"
   ],
   "execution_count": null,
   "outputs": [
    {
     "output_type": "stream",
     "text": [
      "14062\n",
      "5.1     1913\n",
      "2.2     1526\n",
      "3.1      498\n",
      "1.7      457\n",
      "5.4      444\n",
      "5.3      413\n",
      "3.3      406\n",
      "5.99     275\n",
      "4.3      206\n",
      "3.5      184\n",
      "1.1      125\n",
      "3.13     120\n",
      "3.11      77\n",
      "3.8       65\n",
      "1.5       59\n",
      "3.9       53\n",
      "3.6       50\n",
      "5.2       18\n",
      "3.10      17\n",
      "0.0       16\n",
      "3.7       11\n",
      "5.8       11\n",
      "4.1       11\n",
      "3.4       10\n",
      "1.2        8\n",
      "5.0        7\n",
      "5.5        6\n",
      "1.9        5\n",
      "3.0        4\n",
      "3.12       4\n",
      "1.6        3\n",
      "3.2        2\n",
      "2.0        2\n",
      "1.0        2\n",
      "1.8        2\n",
      "1.3        1\n",
      "5.9        1\n",
      "4.0        1\n",
      "22.2       1\n",
      "1.4        1\n",
      "Name: halfDiag, dtype: int64\n",
      "There are 216 items in set a.\n",
      "There are 16 items in set b.\n",
      "There are 0 items that overlap.\n",
      "There are 216 items only in a.\n",
      "There are 16 items only in b.\n"
     ],
     "name": "stdout"
    }
   ]
  },
  {
   "cell_type": "code",
   "metadata": {
    "id": "rnpdTkj0z7dV",
    "colab": {
     "base_uri": "https://localhost:8080/"
    },
    "outputId": "e6939386-ee75-4f48-f3c1-a74c47acad17"
   },
   "source": [
    "cramp_patients.set_index(inplace=True, keys='pid')\n",
    "\n",
    "\n",
    "print(len(cramp_patients['fullDiag'].value_counts()))\n",
    "print(len(cramp_patients['halfDiag'].value_counts()))\n",
    "\n",
    "\n",
    "print(cramp_patients['Diag1'].value_counts())\n",
    "\n",
    "print(cramp_patients[cramp_patients['Diag1'] == 5]['Diag2'].value_counts())\n",
    "\n",
    "print(cramp_patients[(cramp_patients['Diag1'] == 5) & (cramp_patients['Diag2'] == 99)]['Diag3'].value_counts())"
   ],
   "execution_count": null,
   "outputs": [
    {
     "output_type": "stream",
     "text": [
      "115\n",
      "40\n",
      "5.0     3089\n",
      "2.0     1528\n",
      "3.0     1501\n",
      "1.0      663\n",
      "4.0      218\n",
      "0.0       16\n",
      "22.0       1\n",
      "Name: Diag1, dtype: int64\n",
      "1.0     1913\n",
      "4.0      444\n",
      "3.0      413\n",
      "99.0     275\n",
      "2.0       18\n",
      "8.0       11\n",
      "0.0        7\n",
      "5.0        6\n",
      "9.0        1\n",
      "Name: Diag2, dtype: int64\n",
      "6.0    83\n",
      "7.0    67\n",
      "2.0    59\n",
      "1.0    35\n",
      "0.0    17\n",
      "4.0     6\n",
      "5.0     4\n",
      "3.0     3\n",
      "Name: Diag3, dtype: int64\n"
     ],
     "name": "stdout"
    }
   ]
  },
  {
   "cell_type": "code",
   "metadata": {
    "id": "W_kPwQs8z9Vm"
   },
   "source": [
    "# export strange_cases\n",
    "strange_cases = cramp_patients[(cramp_patients['Diag1'] == 0) | (cramp_patients['Diag1'] == 22)]\n",
    "strange_cases.to_excel('strange_cases.xlsx')"
   ],
   "execution_count": null,
   "outputs": []
  },
  {
   "cell_type": "markdown",
   "metadata": {
    "id": "fSGZ6ajvz_jd"
   },
   "source": [
    "5.0 --> Within this category, no further classification: 9 cases\n",
    "\n",
    "5.1 --> **Heritable myopathies**: 1953 cases\n",
    "\n",
    "*   5.1.1 Muscular dystrophies: 830\n",
    "*   5.1.2 Congenital myopathies of unknown origin: 305\n",
    "*   5.1.3 Myotonic disorders: 818\n",
    "\n",
    "5.2 --> Trauma to muscle: 20 cases\n",
    "\n",
    "5.3 --> **Inflammatory**: 424 cases\n",
    "\n",
    "*   5.3.2: Other inflammatory diseases: 421 cases\n",
    "*   5.3.3: Unknown etiology: 3 cases\n",
    "\n",
    "5.4 --> **Metabolic myopathies**: 459 cases\n",
    "\n",
    "*   5.4.0: ?\n",
    "*   5.4.1: Associated with endocrine disease: 8 cases\n",
    "*   5.4.2: Heritable myopathies, biochemical abnormality known: 431 cases\n",
    "*   5.4.3: Other metabolic myopathies: 18 cases\n",
    "\n",
    "5.5 --> Myopathy associated with malignant disease: 6 cases\n",
    "\n",
    "5.6 --> 0 cases\n",
    "\n",
    "5.7 --> 0 cases\n",
    "\n",
    "5.8 --> Other disorders of unknown origin: 11 cases\n",
    "\n",
    "5.9 --> Tumours of muscle: 1 case\n",
    "\n",
    "5.99 --> **\"Within the category\"**: 302 cases\n",
    "\n",
    "--> these also have a diag3, this ranges from 0 to 7, it indicates the symptoms the patients has reported"
   ]
  },
  {
   "cell_type": "code",
   "metadata": {
    "id": "LKp5o9nU0BwC",
    "colab": {
     "base_uri": "https://localhost:8080/"
    },
    "outputId": "54d9397e-a158-462f-f671-e525ec69548b"
   },
   "source": [
    "for i in range(0,6):\n",
    "  print(i)\n",
    "  print(cramp_patients[cramp_patients['Diag1'] == i]['Diag2'].value_counts())\n"
   ],
   "execution_count": null,
   "outputs": [
    {
     "output_type": "stream",
     "text": [
      "0\n",
      "0.0    16\n",
      "Name: Diag2, dtype: int64\n",
      "1\n",
      "7.0    457\n",
      "1.0    125\n",
      "5.0     59\n",
      "2.0      8\n",
      "9.0      5\n",
      "6.0      3\n",
      "8.0      2\n",
      "0.0      2\n",
      "4.0      1\n",
      "3.0      1\n",
      "Name: Diag2, dtype: int64\n",
      "2\n",
      "2.0    1526\n",
      "0.0       2\n",
      "Name: Diag2, dtype: int64\n",
      "3\n",
      "1.0     498\n",
      "3.0     406\n",
      "5.0     184\n",
      "13.0    120\n",
      "11.0     77\n",
      "8.0      65\n",
      "9.0      53\n",
      "6.0      50\n",
      "10.0     17\n",
      "7.0      11\n",
      "4.0      10\n",
      "0.0       4\n",
      "12.0      4\n",
      "2.0       2\n",
      "Name: Diag2, dtype: int64\n",
      "4\n",
      "3.0    206\n",
      "1.0     11\n",
      "0.0      1\n",
      "Name: Diag2, dtype: int64\n",
      "5\n",
      "1.0     1913\n",
      "4.0      444\n",
      "3.0      413\n",
      "99.0     275\n",
      "2.0       18\n",
      "8.0       11\n",
      "0.0        7\n",
      "5.0        6\n",
      "9.0        1\n",
      "Name: Diag2, dtype: int64\n"
     ],
     "name": "stdout"
    }
   ]
  },
  {
   "cell_type": "code",
   "metadata": {
    "id": "IQxAOhjz0Dlj"
   },
   "source": [
    "def pad_pid(pid):\n",
    "  to_pad = 7 - len(pid)\n",
    "  new_pid = ''.join([*([to_pad * '0']),pid])\n",
    "  return new_pid\n",
    "\n",
    "all_patients = pd.read_csv('patients.csv') # pd.concat([initial_patients, archive_patients])\n",
    "all_patients.pid = all_patients.pid.astype(str)\n",
    "all_patients.pid = all_patients.pid.apply(pad_pid)\n",
    "#print(all_patients.pid)\n",
    "\n",
    "all_patients = all_patients.groupby('pid').max()\n",
    "\n",
    "#print(all_patients.index)\n",
    "all_patients['Sex'] = all_patients['Sex'].apply(lambda x : x.upper())\n",
    "all_patients['Sex'] = all_patients['Sex'].replace({'V': 'F', 'W': 'F'})\n",
    "all_patients['RecordingDate'] = pd.to_datetime(all_patients['RecordingDate'])\n",
    "all_patients['Side'] = all_patients['Side'].replace({'-': np.NaN})\n",
    "all_patients['BMI'] = all_patients.Weight / np.square(all_patients.Height /100)\n",
    "# there are multiple records for each patient, merge these based on the id"
   ],
   "execution_count": null,
   "outputs": []
  },
  {
   "cell_type": "code",
   "metadata": {
    "id": "G2gpTp-Y0F9u",
    "colab": {
     "base_uri": "https://localhost:8080/",
     "height": 1000
    },
    "outputId": "1c375ad3-37b3-4218-d839-12e91fc09240"
   },
   "source": [
    "all_patients_merged = all_patients.join(other=cramp_patients)\n",
    "\n",
    "both_types = all_patients_merged[~(all_patients_merged['Class'].isna()) & ~(all_patients_merged['fullDiag'].isna())]\n",
    "print(both_types.groupby(['Class', 'fullDiag']).size())\n",
    "print(both_types.shape)\n",
    "\n",
    "disagreement = both_types[(both_types['Class'] == 'no NMD') | (both_types['Class'] == 'unknown or uncertain')]\n",
    "disagreement.to_excel('disagreement.xlsx')\n",
    "\n",
    "cramp_label_available = all_patients_merged[(all_patients_merged['Class'].isna()) & ~(all_patients_merged['Diag1'].isna())]\n",
    "\n",
    "print(cramp_label_available)\n",
    "\n",
    "print(cramp_label_available['Diag1'].value_counts())\n",
    "\n",
    "cramp_label_available['RecordingDate'].hist()\n"
   ],
   "execution_count": null,
   "outputs": [
    {
     "output_type": "stream",
     "text": [
      "Class                 fullDiag\n",
      "NMD                   1.1.1        1\n",
      "                      1.7.1        4\n",
      "                      2.2.6        7\n",
      "                      3.1.1        1\n",
      "                      3.1.4        1\n",
      "                      4.3.3        1\n",
      "                      5.1.1       20\n",
      "                      5.1.2        6\n",
      "                      5.1.3        3\n",
      "                      5.3.2       13\n",
      "                      5.4.2        1\n",
      "                      5.99.2       1\n",
      "no NMD                5.1.2        2\n",
      "                      5.4.2        2\n",
      "unknown or uncertain  5.1.1        1\n",
      "                      5.4.2        2\n",
      "                      5.99.6       1\n",
      "dtype: int64\n",
      "(67, 14)\n",
      "         Height  Weight Sex       Age  ... Diag3 fullDiag halfDiag  is_specific\n",
      "pid                                    ...                                     \n",
      "0041033   186.0    96.0   M  45.19640  ...   3.0    5.1.3      5.1          2.0\n",
      "0052301   189.0   110.0   M  49.85080  ...   1.0    5.1.1      5.1          2.0\n",
      "0095808   171.0    76.0   F  57.07600  ...   1.0    1.7.1      1.7          2.0\n",
      "0121665   188.0    84.0   M  76.19990  ...   1.0    1.7.1      1.7          2.0\n",
      "0139981   175.0    86.5   M  71.39490  ...   2.0    1.5.2      1.5          2.0\n",
      "...         ...     ...  ..       ...  ...   ...      ...      ...          ...\n",
      "9870066   166.0    73.0   F  45.68930  ...   2.0    1.1.2      1.1          2.0\n",
      "9872067   178.0    92.0   M  36.77750  ...   1.0    3.1.1      3.1          2.0\n",
      "9872579   159.0    65.0   F  49.91380  ...   6.0    2.2.6      2.2          2.0\n",
      "9887240    87.0    11.0   M   1.78234  ...   6.0    2.2.6      2.2          2.0\n",
      "9910576   162.0    73.8   F  62.54070  ...   2.0    5.4.2      5.4          2.0\n",
      "\n",
      "[718 rows x 14 columns]\n",
      "5.0    445\n",
      "1.0    172\n",
      "3.0     57\n",
      "2.0     33\n",
      "4.0     10\n",
      "0.0      1\n",
      "Name: Diag1, dtype: int64\n"
     ],
     "name": "stdout"
    },
    {
     "output_type": "execute_result",
     "data": {
      "text/plain": [
       "<matplotlib.axes._subplots.AxesSubplot at 0x7f3ac98f2630>"
      ]
     },
     "metadata": {
      "tags": []
     },
     "execution_count": 12
    },
    {
     "output_type": "display_data",
     "data": {
      "image/png": "[encoded data removed]",
      "text/plain": [
       "<Figure size 432x288 with 1 Axes>"
      ]
     },
     "metadata": {
      "tags": [],
      "needs_background": "light"
     }
    }
   ]
  },
  {
   "cell_type": "code",
   "metadata": {
    "id": "q--fLhl70IK_",
    "colab": {
     "base_uri": "https://localhost:8080/",
     "height": 282
    },
    "outputId": "b1c886e5-d0d9-4a16-f160-efb1ec3b6034"
   },
   "source": [
    "all_patients['RecordingDate'].hist()"
   ],
   "execution_count": null,
   "outputs": [
    {
     "output_type": "execute_result",
     "data": {
      "text/plain": [
       "<matplotlib.axes._subplots.AxesSubplot at 0x7f3ac992c4e0>"
      ]
     },
     "metadata": {
      "tags": []
     },
     "execution_count": 13
    },
    {
     "output_type": "display_data",
     "data": {
      "image/png": "[encoded data removed]",
      "text/plain": [
       "<Figure size 432x288 with 1 Axes>"
      ]
     },
     "metadata": {
      "tags": [],
      "needs_background": "light"
     }
    }
   ]
  },
  {
   "cell_type": "code",
   "metadata": {
    "id": "5Dx841jY0Kpq",
    "colab": {
     "base_uri": "https://localhost:8080/"
    },
    "outputId": "a52c6e96-7830-461a-ac01-eb108893198c"
   },
   "source": [
    "# export the totality of labeled patients (from both sources)\n",
    "\n",
    "all_labeled = all_patients_merged[(~all_patients_merged['Class'].isna()) | ~(all_patients_merged['Diag1'].isna())]\n",
    "\n",
    "def consolidate_class(row):\n",
    "  if not pd.isnull(row['Class']):\n",
    "    return row['Class']\n",
    "  if not pd.isnull(row['halfDiag']):\n",
    "    return 'cramp_' + str(row['halfDiag'])\n",
    "  return np.nan\n",
    "\n",
    "all_labeled['exportClass'] = all_labeled.apply(consolidate_class,axis=1)\n",
    "all_labeled[(all_labeled['Class'].isna())]['halfDiag'].value_counts()\n",
    "\n",
    "all_labeled.drop(all_labeled.columns.difference(['pid','exportClass']), 1, inplace=True)"
   ],
   "execution_count": null,
   "outputs": [
    {
     "output_type": "stream",
     "text": [
      "/usr/local/lib/python3.6/dist-packages/ipykernel_launcher.py:12: SettingWithCopyWarning: \n",
      "A value is trying to be set on a copy of a slice from a DataFrame.\n",
      "Try using .loc[row_indexer,col_indexer] = value instead\n",
      "\n",
      "See the caveats in the documentation: https://pandas.pydata.org/pandas-docs/stable/user_guide/indexing.html#returning-a-view-versus-a-copy\n",
      "  if sys.path[0] == '':\n",
      "/usr/local/lib/python3.6/dist-packages/pandas/core/frame.py:4174: SettingWithCopyWarning: \n",
      "A value is trying to be set on a copy of a slice from a DataFrame\n",
      "\n",
      "See the caveats in the documentation: https://pandas.pydata.org/pandas-docs/stable/user_guide/indexing.html#returning-a-view-versus-a-copy\n",
      "  errors=errors,\n"
     ],
     "name": "stderr"
    }
   ]
  },
  {
   "cell_type": "code",
   "metadata": {
    "id": "-1ri8_Ce0Ma9",
    "colab": {
     "base_uri": "https://localhost:8080/"
    },
    "outputId": "666f4eba-babe-4be1-a5f3-12e444f85cfa"
   },
   "source": [
    "controls = pd.read_csv('controls.csv')\n",
    "controls['Class'].value_counts()\n",
    "controls.rename(inplace=True,columns={'Class' : 'exportClass'})\n",
    "controls.set_index(inplace=True, keys='pid')\n",
    "\n",
    "all_labeled = pd.concat([all_labeled, controls])\n",
    "print(all_labeled.head())\n",
    "\n",
    "all_labeled.rename(inplace=True,columns={'exportClass' : 'class'})\n",
    "\n",
    "all_labeled.to_excel('labeledPatients_cramp_controls.xlsx')"
   ],
   "execution_count": null,
   "outputs": [
    {
     "output_type": "stream",
     "text": [
      "        exportClass\n",
      "pid                \n",
      "0007036      no NMD\n",
      "0019520      no NMD\n",
      "0041033   cramp_5.1\n",
      "0052301   cramp_5.1\n",
      "0095808   cramp_1.7\n"
     ],
     "name": "stdout"
    }
   ]
  },
  {
   "cell_type": "code",
   "metadata": {
    "id": "1gjjsehz0Ydh",
    "colab": {
     "base_uri": "https://localhost:8080/",
     "height": 237
    },
    "outputId": "1ae161e9-24ee-44fd-9a83-7c716fea9645"
   },
   "source": [
    "all_labeled.head()"
   ],
   "execution_count": null,
   "outputs": [
    {
     "output_type": "execute_result",
     "data": {
      "text/html": [
       "<div>\n",
       "<style scoped>\n",
       "    .dataframe tbody tr th:only-of-type {\n",
       "        vertical-align: middle;\n",
       "    }\n",
       "\n",
       "    .dataframe tbody tr th {\n",
       "        vertical-align: top;\n",
       "    }\n",
       "\n",
       "    .dataframe thead th {\n",
       "        text-align: right;\n",
       "    }\n",
       "</style>\n",
       "<table border=\"1\" class=\"dataframe\">\n",
       "  <thead>\n",
       "    <tr style=\"text-align: right;\">\n",
       "      <th></th>\n",
       "      <th>class</th>\n",
       "    </tr>\n",
       "    <tr>\n",
       "      <th>pid</th>\n",
       "      <th></th>\n",
       "    </tr>\n",
       "  </thead>\n",
       "  <tbody>\n",
       "    <tr>\n",
       "      <th>0007036</th>\n",
       "      <td>no NMD</td>\n",
       "    </tr>\n",
       "    <tr>\n",
       "      <th>0019520</th>\n",
       "      <td>no NMD</td>\n",
       "    </tr>\n",
       "    <tr>\n",
       "      <th>0041033</th>\n",
       "      <td>cramp_5.1</td>\n",
       "    </tr>\n",
       "    <tr>\n",
       "      <th>0052301</th>\n",
       "      <td>cramp_5.1</td>\n",
       "    </tr>\n",
       "    <tr>\n",
       "      <th>0095808</th>\n",
       "      <td>cramp_1.7</td>\n",
       "    </tr>\n",
       "  </tbody>\n",
       "</table>\n",
       "</div>"
      ],
      "text/plain": [
       "             class\n",
       "pid               \n",
       "0007036     no NMD\n",
       "0019520     no NMD\n",
       "0041033  cramp_5.1\n",
       "0052301  cramp_5.1\n",
       "0095808  cramp_1.7"
      ]
     },
     "metadata": {
      "tags": []
     },
     "execution_count": 16
    }
   ]
  },
  {
   "cell_type": "code",
   "metadata": {
    "id": "iF1Zcovq0cjj"
   },
   "source": [
    "#!pip install pandas-profiling==2.6.0\n",
    "\n",
    "from pandas_profiling import ProfileReport"
   ],
   "execution_count": null,
   "outputs": []
  },
  {
   "cell_type": "code",
   "metadata": {
    "id": "X51nSRH00ek1"
   },
   "source": [
    "profile = ProfileReport(all_patients, title='All patients')"
   ],
   "execution_count": null,
   "outputs": []
  },
  {
   "cell_type": "code",
   "metadata": {
    "id": "itUBhkmA0qeM"
   },
   "source": [
    "profile.to_file(output_file=\"patient_report.html\")"
   ],
   "execution_count": null,
   "outputs": []
  }
 ]
}