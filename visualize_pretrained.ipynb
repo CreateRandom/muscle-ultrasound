{
 "cells": [
  {
   "cell_type": "code",
   "execution_count": 22,
   "metadata": {},
   "outputs": [],
   "source": [
    "from torchvision.datasets import ImageFolder\n",
    "from loading.datasets import CustomLabelEncoder\n",
    "from loading.loaders import SetSpec, get_data_for_spec, get_classes, make_image_loader\n",
    "import os\n",
    "from sklearn.manifold import TSNE\n",
    "from sklearn.decomposition import PCA\n",
    "from torch.utils.data import DataLoader\n",
    "import numpy as np\n",
    "import pandas as pd\n",
    "import plotly.express as px\n",
    "import torchvision.models as models\n",
    "import ast\n",
    "from torchvision.transforms import transforms"
   ]
  },
  {
   "cell_type": "code",
   "execution_count": 23,
   "metadata": {},
   "outputs": [],
   "source": [
    "\n",
    "image_net_transform = transforms.Compose([\n",
    "        transforms.Resize(256),\n",
    "        transforms.CenterCrop(224),\n",
    "        transforms.ToTensor(),\n",
    "        transforms.Normalize([0.485, 0.456, 0.406], [0.229, 0.224, 0.225])\n",
    "    ])\n",
    "\n",
    "class_dictionary = {}\n",
    "with open(\"imagenet/image_idx_to_label.txt\", \"r\") as f:\n",
    "    contents= f.read()\n",
    "    class_dictionary = ast.literal_eval(contents)\n"
   ]
  },
  {
   "cell_type": "code",
   "execution_count": 24,
   "metadata": {
    "pycharm": {
     "is_executing": true
    }
   },
   "outputs": [
    {
     "name": "stdout",
     "output_type": "stream",
     "text": [
      "ESAOTE_6100/train\n",
      "Found a total of 82258 images.\n",
      "Retained 82258 images after dropping null values.\n",
      "Loaded 82258 elements.\n",
      "Biceps brachii                9049\n",
      "Tibialis anterior             8960\n",
      "Gastrocnemius medial head     8259\n",
      "Flexor carpi radialis         8232\n",
      "Vastus lateralis              5962\n",
      "Rectus femoris                5190\n",
      "Deltoideus                    4963\n",
      "Interosseus dorsalis I        4631\n",
      "Rectus abdominis              3475\n",
      "Trapezius                     3402\n",
      "Masseter                      3020\n",
      "Digastricus                   2994\n",
      "Sterno cleido                 2782\n",
      "Flexor digitorum profundus    2328\n",
      "Peroneus tertius              2194\n",
      "Geniohyoideus                 1611\n",
      "Depressor anguli oris          681\n",
      "Zygomaticus major              519\n",
      "Temporalis                     509\n",
      "Orbicularis oris               441\n",
      "Extensors underarm             435\n",
      "Rectus femoris prox            329\n",
      "Vastus lateralis prox          322\n",
      "Mentalis                       315\n",
      "Biceps femoris                 220\n",
      "Iliopsoas                      203\n",
      "Soleus                         188\n",
      "Vastus lateralis dist          183\n",
      "Levator labii superior         158\n",
      "Nasalis                        155\n",
      "Procerus                       150\n",
      "Tongue                         134\n",
      "Extensor digitorum brevis       76\n",
      "Paraspinaal lumbal              29\n",
      "Hamstrings                      19\n",
      "Infraspinatus                   18\n",
      "Triceps                         15\n",
      "Obliquus ext. abdominus         14\n",
      "Obliquus int. abdominus         14\n",
      "Transversus abdominus           13\n",
      "Abductor hallucis               12\n",
      "Abductor digiti minimi          12\n",
      "Paraspinaal thoracal            10\n",
      "Supraspinatus                    9\n",
      "Gluteus maximus                  6\n",
      "Gastrocnemius lateral head       6\n",
      "Diafragma                        6\n",
      "Peroneus longus                  3\n",
      "Pectoralis                       2\n",
      "Name: Muscle, dtype: int64\n",
      "{'Obliquus ext. abdominus', 'Tongue', 'Vastus lateralis dist', 'Iliopsoas', 'Obliquus int. abdominus', 'Mentalis', 'Trapezius', 'Infraspinatus', 'Tibialis anterior', 'Extensor digitorum brevis', 'Temporalis', 'Orbicularis oris', 'Flexor digitorum profundus', 'Interosseus dorsalis I', 'Abductor digiti minimi', 'Pectoralis', 'Zygomaticus major', 'Gluteus maximus', 'Gastrocnemius lateral head', 'Supraspinatus', 'Depressor anguli oris', 'Rectus femoris', 'Vastus lateralis', 'Gastrocnemius medial head', 'Digastricus', 'Peroneus tertius', 'Abductor hallucis', 'Biceps femoris', 'Rectus femoris prox', 'Rectus abdominis', 'Vastus lateralis prox', 'Flexor carpi radialis', 'Levator labii superior', 'Hamstrings', 'Deltoideus', 'Biceps brachii', 'Triceps', 'Nasalis', 'Paraspinaal thoracal', 'Transversus abdominus', 'Extensors underarm', 'Geniohyoideus', 'Masseter', 'Sterno cleido', 'Peroneus longus', 'Soleus', 'Diafragma', 'Paraspinaal lumbal', 'Procerus'}\n",
      "Biceps brachii                9049\n",
      "Tibialis anterior             8960\n",
      "Gastrocnemius medial head     8259\n",
      "Flexor carpi radialis         8232\n",
      "Vastus lateralis              5962\n",
      "Rectus femoris                5190\n",
      "Deltoideus                    4963\n",
      "Interosseus dorsalis I        4631\n",
      "Rectus abdominis              3475\n",
      "Trapezius                     3402\n",
      "Masseter                      3020\n",
      "Digastricus                   2994\n",
      "Sterno cleido                 2782\n",
      "Flexor digitorum profundus    2328\n",
      "Peroneus tertius              2194\n",
      "Geniohyoideus                 1611\n",
      "Depressor anguli oris          681\n",
      "Zygomaticus major              519\n",
      "Temporalis                     509\n",
      "Orbicularis oris               441\n",
      "Extensors underarm             435\n",
      "Rectus femoris prox            329\n",
      "Vastus lateralis prox          322\n",
      "Mentalis                       315\n",
      "Biceps femoris                 220\n",
      "Iliopsoas                      203\n",
      "Soleus                         188\n",
      "Vastus lateralis dist          183\n",
      "Levator labii superior         158\n",
      "Nasalis                        155\n",
      "Procerus                       150\n",
      "Tongue                         134\n",
      "Extensor digitorum brevis       76\n",
      "Paraspinaal lumbal              29\n",
      "Hamstrings                      19\n",
      "Infraspinatus                   18\n",
      "Triceps                         15\n",
      "Obliquus ext. abdominus         14\n",
      "Obliquus int. abdominus         14\n",
      "Transversus abdominus           13\n",
      "Abductor hallucis               12\n",
      "Abductor digiti minimi          12\n",
      "Paraspinaal thoracal            10\n",
      "Supraspinatus                    9\n",
      "Gluteus maximus                  6\n",
      "Gastrocnemius lateral head       6\n",
      "Diafragma                        6\n",
      "Peroneus longus                  3\n",
      "Pectoralis                       2\n",
      "Name: Muscle, dtype: int64\n",
      "{'Obliquus ext. abdominus', 'Tongue', 'Vastus lateralis dist', 'Iliopsoas', 'Obliquus int. abdominus', 'Mentalis', 'Trapezius', 'Infraspinatus', 'Tibialis anterior', 'Extensor digitorum brevis', 'Temporalis', 'Orbicularis oris', 'Flexor digitorum profundus', 'Interosseus dorsalis I', 'Abductor digiti minimi', 'Pectoralis', 'Zygomaticus major', 'Gluteus maximus', 'Gastrocnemius lateral head', 'Supraspinatus', 'Depressor anguli oris', 'Rectus femoris', 'Vastus lateralis', 'Gastrocnemius medial head', 'Digastricus', 'Peroneus tertius', 'Abductor hallucis', 'Biceps femoris', 'Rectus femoris prox', 'Rectus abdominis', 'Vastus lateralis prox', 'Flexor carpi radialis', 'Levator labii superior', 'Hamstrings', 'Deltoideus', 'Biceps brachii', 'Triceps', 'Nasalis', 'Paraspinaal thoracal', 'Transversus abdominus', 'Extensors underarm', 'Geniohyoideus', 'Masseter', 'Sterno cleido', 'Peroneus longus', 'Soleus', 'Diafragma', 'Paraspinaal lumbal', 'Procerus'}\n",
      "Using 8 workers for data loading.\n",
      "Philips_iU22/train\n",
      "Found a total of 48981 images.\n",
      "Retained 48981 images after dropping null values.\n",
      "Retained 44825 images after dropping {'Vastus medialis', 'Quadriceps', 'Adductor brevis', 'Gluteus medius', 'Other', 'Deltoideus prox', 'Extensor hallucis longus', 'Flexor hallucis longus', 'Lingualis', 'Paraspinaal cervical', 'Adductor magnus'}.\n",
      "Loaded 48981 elements.\n",
      "Flexor carpi radialis         9549\n",
      "Biceps brachii                9536\n",
      "Tibialis anterior             9342\n",
      "Rectus femoris                5166\n",
      "Sterno cleido                 4258\n",
      "Quadriceps                    4062\n",
      "Rectus abdominis              1832\n",
      "Gastrocnemius medial head     1348\n",
      "Masseter                      1087\n",
      "Extensor digitorum brevis     1035\n",
      "Extensors underarm             649\n",
      "Vastus lateralis               562\n",
      "Deltoideus                     205\n",
      "Peroneus longus                118\n",
      "Gastrocnemius lateral head      51\n",
      "Vastus medialis                 44\n",
      "Interosseus dorsalis I          23\n",
      "Biceps femoris                  15\n",
      "Trapezius                       13\n",
      "Adductor brevis                 12\n",
      "Other                           10\n",
      "Paraspinaal lumbal              10\n",
      "Paraspinaal thoracal             7\n",
      "Gluteus maximus                  7\n",
      "Adductor magnus                  6\n",
      "Gluteus medius                   6\n",
      "Infraspinatus                    4\n",
      "Paraspinaal cervical             4\n",
      "Abductor hallucis                4\n",
      "Flexor hallucis longus           4\n",
      "Extensor hallucis longus         3\n",
      "Deltoideus prox                  3\n",
      "Hamstrings                       2\n",
      "Triceps                          2\n",
      "Lingualis                        2\n",
      "Name: Muscle, dtype: int64\n",
      "{'Vastus medialis', 'Other', 'Adductor magnus', 'Trapezius', 'Infraspinatus', 'Tibialis anterior', 'Extensor digitorum brevis', 'Quadriceps', 'Interosseus dorsalis I', 'Gluteus medius', 'Deltoideus prox', 'Gastrocnemius lateral head', 'Gluteus maximus', 'Extensor hallucis longus', 'Rectus femoris', 'Vastus lateralis', 'Gastrocnemius medial head', 'Abductor hallucis', 'Biceps femoris', 'Rectus abdominis', 'Flexor carpi radialis', 'Hamstrings', 'Deltoideus', 'Biceps brachii', 'Triceps', 'Flexor hallucis longus', 'Paraspinaal cervical', 'Paraspinaal thoracal', 'Extensors underarm', 'Masseter', 'Adductor brevis', 'Sterno cleido', 'Peroneus longus', 'Lingualis', 'Paraspinaal lumbal'}\n",
      "Using 8 workers for data loading.\n"
     ]
    }
   ],
   "source": [
    "mnt_path = '/mnt/chansey/'\n",
    "umc_data_path = os.path.join(mnt_path, 'klaus/data/devices/')\n",
    "umc_img_root = os.path.join(mnt_path, 'klaus/total_patients/')\n",
    "\n",
    "\n",
    "desired_set_specs = {'source_train': [SetSpec('ESAOTE_6100', 'umc', 'train', umc_data_path, umc_img_root)],\n",
    "                    'target_train': [SetSpec('Philips_iU22', 'umc', 'train', umc_data_path, umc_img_root)]}\n",
    "attribute = 'Muscle'\n",
    "is_multi = False\n",
    "use_one_channel = False\n",
    "normalizer_name = 'ESAOTE_6100'\n",
    "batch_size = 8\n",
    "train_classes = None\n",
    "is_classification = True\n",
    "label_encoder = None\n",
    "set_loaders = {}\n",
    "for set_name, set_spec_list in desired_set_specs.items():\n",
    "\n",
    "    loaders = []\n",
    "    for set_spec in set_spec_list:\n",
    "        print(set_spec)\n",
    "        # pass the classes in to ensure that only those are present in all the sets\n",
    "        data = get_data_for_spec(set_spec, loader_type='image', attribute=attribute, class_values=train_classes)\n",
    "        print(f'Loaded {len(data)} elements.')\n",
    "\n",
    "        # if classification and this is the train set, we want to fit the label encoder on this\n",
    "        if is_classification & (set_name == 'source_train'):\n",
    "            train_classes = get_classes(data, attribute)\n",
    "            print(train_classes)\n",
    "            label_encoder = CustomLabelEncoder(train_classes, one_hot_encode=False)\n",
    "        print(get_classes(data, attribute))\n",
    "        img_path = set_spec.img_root_path\n",
    "        loader = make_image_loader(data, img_path, use_one_channel, normalizer_name,\n",
    "                                       attribute, batch_size, set_spec.device, limit_image_size=True,\n",
    "                                       label_encoder=label_encoder, pin_memory=False, is_multi=is_multi)\n",
    "\n",
    "        loaders.append(loader)\n",
    "\n",
    "    set_loaders[set_name] = loaders"
   ]
  },
  {
   "cell_type": "code",
   "execution_count": 25,
   "metadata": {},
   "outputs": [
    {
     "data": {
      "text/plain": [
       "ResNet(\n",
       "  (conv1): Conv2d(3, 64, kernel_size=(7, 7), stride=(2, 2), padding=(3, 3), bias=False)\n",
       "  (bn1): BatchNorm2d(64, eps=1e-05, momentum=0.1, affine=True, track_running_stats=True)\n",
       "  (relu): ReLU(inplace=True)\n",
       "  (maxpool): MaxPool2d(kernel_size=3, stride=2, padding=1, dilation=1, ceil_mode=False)\n",
       "  (layer1): Sequential(\n",
       "    (0): BasicBlock(\n",
       "      (conv1): Conv2d(64, 64, kernel_size=(3, 3), stride=(1, 1), padding=(1, 1), bias=False)\n",
       "      (bn1): BatchNorm2d(64, eps=1e-05, momentum=0.1, affine=True, track_running_stats=True)\n",
       "      (relu): ReLU(inplace=True)\n",
       "      (conv2): Conv2d(64, 64, kernel_size=(3, 3), stride=(1, 1), padding=(1, 1), bias=False)\n",
       "      (bn2): BatchNorm2d(64, eps=1e-05, momentum=0.1, affine=True, track_running_stats=True)\n",
       "    )\n",
       "    (1): BasicBlock(\n",
       "      (conv1): Conv2d(64, 64, kernel_size=(3, 3), stride=(1, 1), padding=(1, 1), bias=False)\n",
       "      (bn1): BatchNorm2d(64, eps=1e-05, momentum=0.1, affine=True, track_running_stats=True)\n",
       "      (relu): ReLU(inplace=True)\n",
       "      (conv2): Conv2d(64, 64, kernel_size=(3, 3), stride=(1, 1), padding=(1, 1), bias=False)\n",
       "      (bn2): BatchNorm2d(64, eps=1e-05, momentum=0.1, affine=True, track_running_stats=True)\n",
       "    )\n",
       "  )\n",
       "  (layer2): Sequential(\n",
       "    (0): BasicBlock(\n",
       "      (conv1): Conv2d(64, 128, kernel_size=(3, 3), stride=(2, 2), padding=(1, 1), bias=False)\n",
       "      (bn1): BatchNorm2d(128, eps=1e-05, momentum=0.1, affine=True, track_running_stats=True)\n",
       "      (relu): ReLU(inplace=True)\n",
       "      (conv2): Conv2d(128, 128, kernel_size=(3, 3), stride=(1, 1), padding=(1, 1), bias=False)\n",
       "      (bn2): BatchNorm2d(128, eps=1e-05, momentum=0.1, affine=True, track_running_stats=True)\n",
       "      (downsample): Sequential(\n",
       "        (0): Conv2d(64, 128, kernel_size=(1, 1), stride=(2, 2), bias=False)\n",
       "        (1): BatchNorm2d(128, eps=1e-05, momentum=0.1, affine=True, track_running_stats=True)\n",
       "      )\n",
       "    )\n",
       "    (1): BasicBlock(\n",
       "      (conv1): Conv2d(128, 128, kernel_size=(3, 3), stride=(1, 1), padding=(1, 1), bias=False)\n",
       "      (bn1): BatchNorm2d(128, eps=1e-05, momentum=0.1, affine=True, track_running_stats=True)\n",
       "      (relu): ReLU(inplace=True)\n",
       "      (conv2): Conv2d(128, 128, kernel_size=(3, 3), stride=(1, 1), padding=(1, 1), bias=False)\n",
       "      (bn2): BatchNorm2d(128, eps=1e-05, momentum=0.1, affine=True, track_running_stats=True)\n",
       "    )\n",
       "  )\n",
       "  (layer3): Sequential(\n",
       "    (0): BasicBlock(\n",
       "      (conv1): Conv2d(128, 256, kernel_size=(3, 3), stride=(2, 2), padding=(1, 1), bias=False)\n",
       "      (bn1): BatchNorm2d(256, eps=1e-05, momentum=0.1, affine=True, track_running_stats=True)\n",
       "      (relu): ReLU(inplace=True)\n",
       "      (conv2): Conv2d(256, 256, kernel_size=(3, 3), stride=(1, 1), padding=(1, 1), bias=False)\n",
       "      (bn2): BatchNorm2d(256, eps=1e-05, momentum=0.1, affine=True, track_running_stats=True)\n",
       "      (downsample): Sequential(\n",
       "        (0): Conv2d(128, 256, kernel_size=(1, 1), stride=(2, 2), bias=False)\n",
       "        (1): BatchNorm2d(256, eps=1e-05, momentum=0.1, affine=True, track_running_stats=True)\n",
       "      )\n",
       "    )\n",
       "    (1): BasicBlock(\n",
       "      (conv1): Conv2d(256, 256, kernel_size=(3, 3), stride=(1, 1), padding=(1, 1), bias=False)\n",
       "      (bn1): BatchNorm2d(256, eps=1e-05, momentum=0.1, affine=True, track_running_stats=True)\n",
       "      (relu): ReLU(inplace=True)\n",
       "      (conv2): Conv2d(256, 256, kernel_size=(3, 3), stride=(1, 1), padding=(1, 1), bias=False)\n",
       "      (bn2): BatchNorm2d(256, eps=1e-05, momentum=0.1, affine=True, track_running_stats=True)\n",
       "    )\n",
       "  )\n",
       "  (layer4): Sequential(\n",
       "    (0): BasicBlock(\n",
       "      (conv1): Conv2d(256, 512, kernel_size=(3, 3), stride=(2, 2), padding=(1, 1), bias=False)\n",
       "      (bn1): BatchNorm2d(512, eps=1e-05, momentum=0.1, affine=True, track_running_stats=True)\n",
       "      (relu): ReLU(inplace=True)\n",
       "      (conv2): Conv2d(512, 512, kernel_size=(3, 3), stride=(1, 1), padding=(1, 1), bias=False)\n",
       "      (bn2): BatchNorm2d(512, eps=1e-05, momentum=0.1, affine=True, track_running_stats=True)\n",
       "      (downsample): Sequential(\n",
       "        (0): Conv2d(256, 512, kernel_size=(1, 1), stride=(2, 2), bias=False)\n",
       "        (1): BatchNorm2d(512, eps=1e-05, momentum=0.1, affine=True, track_running_stats=True)\n",
       "      )\n",
       "    )\n",
       "    (1): BasicBlock(\n",
       "      (conv1): Conv2d(512, 512, kernel_size=(3, 3), stride=(1, 1), padding=(1, 1), bias=False)\n",
       "      (bn1): BatchNorm2d(512, eps=1e-05, momentum=0.1, affine=True, track_running_stats=True)\n",
       "      (relu): ReLU(inplace=True)\n",
       "      (conv2): Conv2d(512, 512, kernel_size=(3, 3), stride=(1, 1), padding=(1, 1), bias=False)\n",
       "      (bn2): BatchNorm2d(512, eps=1e-05, momentum=0.1, affine=True, track_running_stats=True)\n",
       "    )\n",
       "  )\n",
       "  (avgpool): AdaptiveAvgPool2d(output_size=(1, 1))\n",
       "  (fc): Linear(in_features=512, out_features=1000, bias=True)\n",
       ")"
      ]
     },
     "execution_count": 25,
     "metadata": {},
     "output_type": "execute_result"
    }
   ],
   "source": [
    "model = models.resnet18(pretrained=True)\n",
    "model.to('cuda')\n",
    "model.eval()"
   ]
  },
  {
   "cell_type": "code",
   "execution_count": 26,
   "metadata": {
    "pycharm": {
     "is_executing": true
    }
   },
   "outputs": [
    {
     "name": "stdout",
     "output_type": "stream",
     "text": [
      "imagenet\n",
      "esaote\n",
      "philips\n"
     ]
    }
   ],
   "source": [
    "def get_n_images_from_loader(n, loader, name):\n",
    "    print(name)\n",
    "    esaote_images = []\n",
    "    esaote_labels = []\n",
    "    all_outputs = []\n",
    "\n",
    "    for images, labels in loader:\n",
    "        esaote_images.extend(images.cpu())\n",
    "        outputs = model(images.to('cuda')).detach().cpu().numpy()\n",
    "        all_outputs.extend(outputs)\n",
    "        if hasattr(loader.dataset, 'targets'):\n",
    "            labels = [loader.dataset.classes[int(label)] for label in labels]\n",
    "        elif hasattr(loader.dataset, 'label_encoder'):\n",
    "            labels = [loader.dataset.label_encoder.classes[int(label)] for label in labels]\n",
    "        esaote_labels.extend(labels)\n",
    "        if len(esaote_images) > n:\n",
    "            break\n",
    "            \n",
    "    esaote_images = [elem[0].squeeze().flatten().numpy() for elem in esaote_images]\n",
    "            \n",
    "    return esaote_images, esaote_labels, [name] * len(esaote_images), all_outputs\n",
    "\n",
    "n_images_per_set = 100\n",
    "esaote_loader = set_loaders['source_train'][0]\n",
    "philips_loader = set_loaders['target_train'][0]\n",
    "\n",
    "\n",
    "e_images, e_labels, e_names, e_outputs = get_n_images_from_loader(n_images_per_set, esaote_loader, 'esaote')\n",
    "p_images, p_labels, p_names, p_outputs = get_n_images_from_loader(n_images_per_set, philips_loader, 'philips')"
   ]
  },
  {
   "cell_type": "code",
   "execution_count": 44,
   "metadata": {},
   "outputs": [
    {
     "name": "stdout",
     "output_type": "stream",
     "text": [
      "imagenet\n",
      "140\n"
     ]
    }
   ],
   "source": [
    "imagenet_sample = ImageFolder('~/Thesis_2/ImageNet-Datasets-Downloader/images/imagenet_images', transform=image_net_transform)\n",
    "imagenet_loader = DataLoader(imagenet_sample, num_workers=8, batch_size=batch_size)\n",
    "i_images, i_labels, i_names, i_outputs = get_n_images_from_loader(n_images_per_set, imagenet_loader, 'imagenet')"
   ]
  },
  {
   "cell_type": "code",
   "execution_count": 45,
   "metadata": {
    "pycharm": {
     "is_executing": true,
     "name": "#%%\n"
    }
   },
   "outputs": [],
   "source": [
    "all_images = np.concatenate([i_images, e_images, p_images])\n",
    "sources = np.concatenate([i_names, e_names, p_names])\n",
    "classes = np.concatenate([i_labels, e_labels, p_labels])\n",
    "outputs = np.concatenate([i_outputs, e_outputs, p_outputs])"
   ]
  },
  {
   "cell_type": "code",
   "execution_count": 46,
   "metadata": {
    "pycharm": {
     "name": "#%%\n"
    }
   },
   "outputs": [],
   "source": [
    "tsne = TSNE(n_iter=1000, learning_rate=10, perplexity=5)\n",
    "pca = PCA()\n",
    "fit_coordinates = pca.fit_transform(outputs)"
   ]
  },
  {
   "cell_type": "code",
   "execution_count": 47,
   "metadata": {
    "pycharm": {
     "name": "#%%\n"
    }
   },
   "outputs": [],
   "source": [
    "d = {'x': fit_coordinates[:,0], 'y' : fit_coordinates[:,1], 'source': sources, 'class': classes}\n",
    "tsne_frame = pd.DataFrame(d)"
   ]
  },
  {
   "cell_type": "code",
   "execution_count": 48,
   "metadata": {
    "pycharm": {
     "name": "#%%\n"
    }
   },
   "outputs": [
    {
     "data": {
      "application/vnd.plotly.v1+json": {
       "config": {
        "plotlyServerURL": "https://plot.ly"
       },
       "data": [
        {
         "hovertemplate": "source=imagenet<br>x=%{x}<br>y=%{y}<extra></extra>",
         "legendgroup": "imagenet",
         "marker": {
          "color": "#636efa",
          "symbol": "circle"
         },
         "mode": "markers",
         "name": "imagenet",
         "orientation": "v",
         "showlegend": true,
         "type": "scatter",
         "x": [
          46.945091247558594,
          38.30917739868164,
          56.023555755615234,
          39.826194763183594,
          37.110843658447266,
          53.1511116027832,
          77.65992736816406,
          64.72183990478516,
          61.32585144042969,
          73.65863800048828,
          63.209503173828125,
          43.0703010559082,
          84.3115005493164,
          56.156551361083984,
          49.288002014160156,
          51.78585433959961,
          58.650787353515625,
          88.8566665649414,
          53.838539123535156,
          60.07549285888672,
          54.276031494140625,
          58.09584426879883,
          66.99211120605469,
          36.95122146606445,
          69.87217712402344,
          62.93629837036133,
          51.79142761230469,
          58.8600959777832,
          104.566650390625,
          78.91046142578125,
          36.704803466796875,
          69.30226135253906,
          61.721923828125,
          65.5546646118164,
          85.28874969482422,
          60.41987991333008,
          47.92056655883789,
          65.86193084716797,
          48.44105911254883,
          82.772705078125,
          60.09468078613281,
          65.08956909179688,
          76.07379150390625,
          76.1195297241211,
          58.717613220214844,
          63.131160736083984,
          65.47477722167969,
          52.03092956542969,
          50.6025276184082,
          61.37923812866211,
          62.33649826049805,
          83.6378173828125,
          63.13877487182617,
          38.75616455078125,
          61.88683319091797,
          52.17493438720703,
          55.12889862060547,
          54.534122467041016,
          19.609411239624023,
          55.62885665893555,
          80.5978775024414,
          60.18286895751953,
          48.1196174621582,
          57.282352447509766,
          41.808048248291016,
          43.99637985229492,
          42.90673065185547,
          65.4328384399414,
          55.1036376953125,
          46.28172302246094,
          66.7165298461914,
          64.96306610107422,
          64.4837875366211,
          63.6070556640625,
          49.53968048095703,
          78.40311431884766,
          57.78889846801758,
          56.160255432128906,
          21.19266700744629,
          48.49999237060547,
          60.45698928833008,
          33.11846923828125,
          50.594303131103516,
          39.790496826171875,
          54.78496551513672,
          36.00013732910156,
          28.83890724182129,
          72.0814437866211,
          71.4376449584961,
          64.10331726074219,
          61.1395378112793,
          61.66483688354492,
          85.4635009765625,
          55.14073944091797,
          77.64714813232422,
          70.88040161132812,
          55.79759979248047,
          63.977447509765625,
          67.69706726074219,
          73.3558349609375,
          65.17243194580078,
          67.84990692138672,
          70.15408325195312,
          51.275936126708984,
          57.30952453613281,
          64.12715148925781,
          71.2728271484375,
          60.70272445678711,
          79.1037826538086,
          70.90351104736328,
          58.67216110229492,
          86.1844482421875,
          71.64987182617188,
          43.22150802612305,
          66.65748596191406,
          64.2817611694336,
          69.2624282836914,
          60.64712142944336,
          60.642616271972656,
          62.07280349731445,
          78.55885314941406,
          52.56358337402344,
          76.52421569824219,
          59.02223205566406,
          76.93962097167969,
          55.88239669799805,
          66.82634735107422,
          35.8381233215332,
          81.79003143310547,
          51.02452850341797,
          50.127647399902344,
          77.15240478515625,
          78.66142272949219,
          65.42472839355469,
          72.40320587158203,
          70.3931655883789,
          58.09231948852539,
          53.715606689453125,
          57.69440460205078,
          84.25882720947266
         ],
         "xaxis": "x",
         "y": [
          49.17988204956055,
          13.425861358642578,
          21.175256729125977,
          28.468631744384766,
          28.006601333618164,
          13.317190170288086,
          2.5148985385894775,
          1.0669047832489014,
          -21.657297134399414,
          30.549488067626953,
          -5.550909042358398,
          4.749303817749023,
          12.457887649536133,
          46.081459045410156,
          30.158674240112305,
          28.845333099365234,
          50.216434478759766,
          39.2873420715332,
          40.38904571533203,
          27.931331634521484,
          38.66682052612305,
          37.519798278808594,
          40.62598419189453,
          28.375505447387695,
          18.743938446044922,
          41.64251708984375,
          40.18054962158203,
          36.10408401489258,
          32.45367431640625,
          39.49898147583008,
          43.79785919189453,
          31.987327575683594,
          49.7701301574707,
          38.2690544128418,
          29.437406539916992,
          30.10546112060547,
          12.016016006469727,
          -31.319522857666016,
          -34.4869384765625,
          -36.839725494384766,
          -42.38905334472656,
          -52.07199478149414,
          -41.81719207763672,
          -46.951988220214844,
          -26.679494857788086,
          -41.91489791870117,
          -38.61705017089844,
          -26.665149688720703,
          -24.81235122680664,
          -35.28451919555664,
          -38.22606658935547,
          -44.497901916503906,
          -24.07310676574707,
          -16.39552879333496,
          -19.479700088500977,
          -47.092567443847656,
          -23.429533004760742,
          -10.588050842285156,
          -3.806135654449463,
          -38.055503845214844,
          -39.94535446166992,
          -28.44605827331543,
          -25.616910934448242,
          -24.61777687072754,
          -10.565634727478027,
          -21.21586036682129,
          -17.041261672973633,
          -37.78275680541992,
          -32.60380554199219,
          -1.5637179613113403,
          -25.667476654052734,
          -16.145729064941406,
          -20.692964553833008,
          -18.085819244384766,
          -16.874462127685547,
          -31.217758178710938,
          -6.924596786499023,
          -7.264645099639893,
          -13.158204078674316,
          -29.523422241210938,
          -16.803340911865234,
          -14.217265129089355,
          10.06849479675293,
          -18.239213943481445,
          -23.507104873657227,
          -0.6234342455863953,
          -14.44216537475586,
          6.496246814727783,
          8.864153861999512,
          14.452523231506348,
          15.227846145629883,
          13.685550689697266,
          36.88031768798828,
          27.404983520507812,
          10.263566970825195,
          58.764652252197266,
          27.750411987304688,
          26.407302856445312,
          18.516286849975586,
          53.199188232421875,
          7.678438186645508,
          36.111324310302734,
          31.474992752075195,
          25.520130157470703,
          29.55757713317871,
          29.74681854248047,
          42.49050521850586,
          31.05647087097168,
          28.77051544189453,
          32.74357223510742,
          62.20216751098633,
          41.26445770263672,
          29.993650436401367,
          -25.92782211303711,
          -15.068325996398926,
          -15.517126083374023,
          -34.95026397705078,
          -19.36119842529297,
          -11.907083511352539,
          0.3734930753707886,
          -29.315366744995117,
          5.3611931800842285,
          -27.380970001220703,
          6.6459197998046875,
          -29.755998611450195,
          -28.929641723632812,
          -36.97022247314453,
          -2.148327112197876,
          -6.88245153427124,
          -18.701251983642578,
          23.371082305908203,
          -20.945425033569336,
          -38.59202575683594,
          -30.341218948364258,
          -20.233068466186523,
          -35.785911560058594,
          -7.464908123016357,
          -16.515830993652344,
          -31.255416870117188,
          -31.999067306518555
         ],
         "yaxis": "y"
        },
        {
         "hovertemplate": "source=esaote<br>x=%{x}<br>y=%{y}<extra></extra>",
         "legendgroup": "esaote",
         "marker": {
          "color": "#EF553B",
          "symbol": "circle"
         },
         "mode": "markers",
         "name": "esaote",
         "orientation": "v",
         "showlegend": true,
         "type": "scatter",
         "x": [
          -14.181441307067871,
          -26.205780029296875,
          -33.070560455322266,
          -26.668415069580078,
          -15.35428524017334,
          -21.9544734954834,
          -22.295339584350586,
          -29.18073844909668,
          -34.39856719970703,
          -22.5865535736084,
          -11.681113243103027,
          -9.766910552978516,
          -3.950486421585083,
          -15.042350769042969,
          -13.830615997314453,
          -7.754922866821289,
          -15.441671371459961,
          -26.13546371459961,
          -35.056827545166016,
          -6.430662155151367,
          -17.971298217773438,
          -13.549962997436523,
          -21.700899124145508,
          -28.912879943847656,
          -4.7270002365112305,
          -24.864940643310547,
          -36.01509475708008,
          -28.316213607788086,
          -5.054012298583984,
          -2.4272520542144775,
          -22.429962158203125,
          -21.2236328125,
          -26.55583381652832,
          -29.84137535095215,
          -3.286224842071533,
          -7.877541542053223,
          -24.625757217407227,
          -9.863611221313477,
          -28.585783004760742,
          -19.231786727905273,
          -28.339244842529297,
          -33.9621696472168,
          -13.847034454345703,
          0.9573201537132263,
          -16.242189407348633,
          -33.6071662902832,
          -30.89109230041504,
          -16.19640350341797,
          -21.200510025024414,
          -20.246692657470703,
          -15.732256889343262,
          -18.455364227294922,
          -18.512773513793945,
          -23.613508224487305,
          -0.8383347988128662,
          -19.873157501220703,
          -2.6383538246154785,
          -3.9568352699279785,
          -5.206979751586914,
          -19.79423713684082,
          -33.43208694458008,
          -24.504165649414062,
          -20.81627082824707,
          -13.47617244720459,
          -15.821402549743652,
          -18.215354919433594,
          -6.85384464263916,
          -25.433143615722656,
          -18.47866439819336,
          -17.858047485351562,
          -26.272016525268555,
          -33.213653564453125,
          -6.916407585144043,
          -23.486692428588867,
          -28.446819305419922,
          -4.064754009246826,
          -31.392824172973633,
          -31.075010299682617,
          -4.534093856811523,
          -29.18861198425293,
          -6.660589694976807,
          -15.2892484664917,
          -19.36474609375,
          -30.520477294921875,
          -38.11640930175781,
          -19.799762725830078,
          -15.006163597106934,
          -40.5653190612793,
          -34.841087341308594,
          -26.227535247802734,
          -10.381954193115234,
          -26.819326400756836,
          -8.291902542114258,
          -26.301618576049805,
          -7.740090370178223,
          -21.85293960571289,
          -27.40427589416504,
          -24.388376235961914,
          -33.943546295166016,
          -17.956100463867188,
          -21.52400779724121,
          -10.532750129699707,
          -30.114707946777344,
          -24.9222412109375,
          -21.20235252380371,
          -10.052688598632812,
          -33.14934539794922,
          -8.391315460205078,
          -9.76274299621582,
          -10.615208625793457,
          -21.690814971923828,
          -20.781200408935547,
          -16.880077362060547,
          -15.04576301574707,
          -11.064591407775879,
          -20.94792938232422,
          -33.54117965698242,
          -16.650066375732422,
          -17.337648391723633,
          -27.33527946472168,
          -23.756589889526367,
          -5.796834468841553,
          -19.071880340576172,
          -36.92429733276367,
          -31.19466209411621,
          -4.661118030548096,
          -27.9432315826416,
          -16.18393325805664,
          -34.76958084106445,
          -26.0964298248291,
          -22.307918548583984,
          -23.21299171447754,
          -22.03226661682129,
          -15.054941177368164,
          -23.14735221862793,
          -25.41060447692871,
          -29.53773307800293,
          -21.490188598632812,
          -20.383056640625,
          -13.635682106018066,
          -8.742956161499023,
          -19.780467987060547,
          -20.210304260253906,
          -26.197473526000977,
          -33.168701171875,
          -20.52107810974121,
          -22.244956970214844,
          -5.240747928619385,
          -22.524377822875977,
          -16.718019485473633,
          -23.814897537231445,
          -29.30276870727539,
          -16.45316505432129,
          -28.891084671020508,
          -20.600351333618164,
          -13.152107238769531,
          -11.126729965209961,
          -22.21455192565918,
          -22.27939796447754,
          -21.288761138916016,
          -19.66027069091797,
          -36.50600814819336,
          -26.64772605895996,
          -16.173309326171875,
          -34.36290740966797,
          -29.808528900146484,
          -24.066455841064453,
          -16.34027099609375,
          -34.79615783691406,
          -3.026921510696411,
          -19.07810401916504,
          -26.759639739990234,
          -0.37124958634376526,
          -13.48100471496582,
          -28.179412841796875,
          -20.81195640563965,
          -21.157238006591797,
          -20.83355712890625,
          -11.996967315673828,
          -5.30224609375,
          -20.853782653808594,
          -29.303050994873047,
          -33.6829948425293,
          -8.186676979064941,
          -21.854095458984375,
          -9.968650817871094,
          -16.862194061279297,
          -28.097326278686523,
          -5.796898365020752,
          -10.422613143920898,
          -10.34696102142334,
          -15.41405963897705,
          -19.9830322265625,
          -24.03232765197754,
          -42.420440673828125,
          -3.177241802215576,
          -8.352363586425781,
          -12.529553413391113,
          -31.768980026245117,
          -19.63751983642578,
          -16.82801055908203,
          -25.292325973510742,
          -13.486392974853516,
          -28.156131744384766,
          -12.409744262695312,
          3.3846449851989746,
          -14.487547874450684,
          -9.873542785644531,
          -22.48680877685547,
          -18.014780044555664,
          -33.497886657714844,
          -21.400169372558594,
          -7.867639541625977,
          -9.811033248901367,
          -34.83750534057617,
          -28.259681701660156,
          -34.18937683105469,
          -29.08108139038086,
          -25.42395782470703,
          -16.112913131713867,
          -33.864925384521484,
          -18.004533767700195,
          -3.695640802383423,
          -23.125429153442383,
          -14.760265350341797,
          -15.995959281921387,
          -15.919146537780762,
          -22.975297927856445,
          -22.168811798095703,
          -6.8654913902282715,
          -7.77875280380249,
          -27.853952407836914,
          -12.958174705505371,
          -13.967867851257324,
          -14.481199264526367,
          -22.705610275268555,
          -24.10667610168457,
          -14.771124839782715,
          -30.1560001373291,
          -41.5274772644043,
          -23.633813858032227,
          -35.22662353515625,
          -30.558576583862305,
          -37.33726501464844,
          0.3893851637840271,
          2.0775012969970703,
          -28.2634334564209,
          -18.585695266723633,
          -28.546863555908203,
          -32.70408630371094,
          -12.506247520446777,
          -30.095884323120117,
          -28.574974060058594,
          -11.812264442443848,
          -27.946393966674805,
          1.9948275089263916
         ],
         "xaxis": "x",
         "y": [
          -9.409269332885742,
          7.010287761688232,
          7.3483500480651855,
          -10.362784385681152,
          -15.821905136108398,
          -8.54233455657959,
          -24.106481552124023,
          -8.712772369384766,
          8.856096267700195,
          -14.764728546142578,
          -11.567948341369629,
          -16.25308609008789,
          -16.238656997680664,
          -10.055035591125488,
          0.37919363379478455,
          -9.06106185913086,
          -12.79926586151123,
          -1.507455587387085,
          -5.777676582336426,
          -9.237326622009277,
          -6.618690013885498,
          -11.995624542236328,
          -9.135315895080566,
          -8.5530424118042,
          -24.195409774780273,
          -10.847641944885254,
          -0.5850324034690857,
          -9.333364486694336,
          -12.032270431518555,
          -16.43871307373047,
          -16.46019744873047,
          -13.580188751220703,
          -2.954008102416992,
          -9.26111125946045,
          -8.209632873535156,
          -9.839143753051758,
          15.103297233581543,
          -16.09942626953125,
          0.28489404916763306,
          -4.586422920227051,
          -2.4248948097229004,
          -14.585755348205566,
          -8.460955619812012,
          -13.353568077087402,
          -14.897048950195312,
          -8.058131217956543,
          -10.913886070251465,
          -8.947380065917969,
          -19.738468170166016,
          -15.537679672241211,
          2.7649168968200684,
          -19.005935668945312,
          -3.622300863265991,
          10.250834465026855,
          -19.5029354095459,
          -10.6139554977417,
          -12.060733795166016,
          -20.12913703918457,
          -12.544023513793945,
          -17.03242301940918,
          -4.911290168762207,
          0.5751448273658752,
          3.9001684188842773,
          -19.716875076293945,
          0.5425271391868591,
          -18.851987838745117,
          -7.438068866729736,
          4.261788368225098,
          -12.855862617492676,
          -9.779759407043457,
          4.169843673706055,
          -1.096171259880066,
          -3.5393621921539307,
          -7.60546875,
          -1.6099674701690674,
          -10.956815719604492,
          -5.943395137786865,
          -17.98335075378418,
          -19.616668701171875,
          -6.931564807891846,
          -15.636466979980469,
          -2.6921067237854004,
          -22.640260696411133,
          -9.693880081176758,
          -8.707939147949219,
          2.141230821609497,
          -23.142242431640625,
          10.307426452636719,
          -4.37645959854126,
          -10.739296913146973,
          -14.499924659729004,
          -5.887688159942627,
          -5.343100070953369,
          -2.151931047439575,
          -16.25212287902832,
          -4.506915092468262,
          5.84930419921875,
          -12.802835464477539,
          -11.921236991882324,
          -5.150052070617676,
          -20.687223434448242,
          -18.930301666259766,
          -2.897660732269287,
          -6.175828456878662,
          -13.618093490600586,
          -14.438619613647461,
          -12.759237289428711,
          -5.35219144821167,
          -18.090036392211914,
          -2.874307632446289,
          -17.605566024780273,
          -12.522698402404785,
          -18.528484344482422,
          -14.564627647399902,
          -11.954623222351074,
          0.5082904100418091,
          -9.36146068572998,
          1.2107980251312256,
          8.802868843078613,
          -5.539862155914307,
          -12.621868133544922,
          -19.3949031829834,
          0.42422887682914734,
          0.009551433846354485,
          -3.23165225982666,
          -20.732688903808594,
          -8.75394344329834,
          1.1085376739501953,
          -2.914935350418091,
          -19.702526092529297,
          -11.223457336425781,
          -22.160381317138672,
          -6.822079181671143,
          3.398348808288574,
          -19.576168060302734,
          -27.450902938842773,
          -2.1402153968811035,
          -3.6328208446502686,
          -11.07429313659668,
          -12.810445785522461,
          0.09123846143484116,
          -8.631315231323242,
          -8.760869979858398,
          1.5784763097763062,
          4.347721099853516,
          -15.425165176391602,
          -7.06137752532959,
          -21.389324188232422,
          1.2215914726257324,
          -15.21032428741455,
          -3.5580129623413086,
          -4.930729389190674,
          -17.46087646484375,
          -3.0500850677490234,
          -1.9312820434570312,
          -4.318089008331299,
          -5.057839393615723,
          -0.5172677636146545,
          -12.475234031677246,
          -8.413312911987305,
          -2.041041135787964,
          2.795747756958008,
          -7.1915459632873535,
          -7.707135200500488,
          4.561346530914307,
          -10.376973152160645,
          3.089707374572754,
          -13.994307518005371,
          -13.171289443969727,
          -16.994844436645508,
          -18.977191925048828,
          -1.6869966983795166,
          -15.424911499023438,
          -3.48709774017334,
          -9.853602409362793,
          -15.042976379394531,
          -0.755513072013855,
          -18.79081153869629,
          -23.59558868408203,
          -8.358062744140625,
          -17.724834442138672,
          -7.832771301269531,
          -5.289502143859863,
          -23.3424072265625,
          -2.736274242401123,
          -15.00973129272461,
          -27.453264236450195,
          -13.914969444274902,
          -10.057511329650879,
          -20.734516143798828,
          -10.719634056091309,
          -15.307061195373535,
          -8.233342170715332,
          -5.857406139373779,
          -2.61846923828125,
          -5.898718357086182,
          -5.354284286499023,
          -19.329795837402344,
          6.187934398651123,
          -3.921046257019043,
          -5.562795162200928,
          -16.071779251098633,
          -16.680152893066406,
          -6.866960525512695,
          -6.1247334480285645,
          -21.10673713684082,
          -1.7196155786514282,
          -15.45666790008545,
          4.123927593231201,
          -4.454554080963135,
          -0.9043939113616943,
          -8.262553215026855,
          -10.195538520812988,
          -16.626567840576172,
          -1.3248428106307983,
          -8.532122611999512,
          11.11210823059082,
          -3.566415786743164,
          -3.0440468788146973,
          -14.474108695983887,
          -4.980813026428223,
          -13.54517650604248,
          -16.923429489135742,
          -1.8598518371582031,
          10.61466121673584,
          -11.35706901550293,
          -13.605196952819824,
          -15.495698928833008,
          -5.632882118225098,
          -12.766290664672852,
          -12.907716751098633,
          -17.11058807373047,
          -4.969191074371338,
          -15.228325843811035,
          -21.04289436340332,
          1.8694771528244019,
          0.5110325813293457,
          -7.828015327453613,
          -0.7854355573654175,
          -0.261635959148407,
          -10.654783248901367,
          -3.6460657119750977,
          -14.262877464294434,
          -8.627527236938477,
          -20.280248641967773,
          -25.660816192626953,
          -18.71291160583496,
          -7.4530439376831055,
          -11.484726905822754,
          -9.724478721618652,
          -13.792860984802246,
          -4.881768703460693,
          -10.12013053894043,
          -9.063045501708984,
          -8.380242347717285,
          -13.991155624389648
         ],
         "yaxis": "y"
        },
        {
         "hovertemplate": "source=philips<br>x=%{x}<br>y=%{y}<extra></extra>",
         "legendgroup": "philips",
         "marker": {
          "color": "#00cc96",
          "symbol": "circle"
         },
         "mode": "markers",
         "name": "philips",
         "orientation": "v",
         "showlegend": true,
         "type": "scatter",
         "x": [
          -8.844109535217285,
          -11.295744895935059,
          -11.834673881530762,
          -14.91353702545166,
          -12.500389099121094,
          -10.091063499450684,
          -11.635337829589844,
          -18.58128547668457,
          -28.7541446685791,
          -24.211284637451172,
          -4.542384147644043,
          -16.035627365112305,
          -7.877452850341797,
          -24.65972137451172,
          -5.39529275894165,
          -2.907613754272461,
          -13.561376571655273,
          -13.099325180053711,
          -15.19046688079834,
          -25.140274047851562,
          -22.51808738708496,
          -11.380395889282227,
          -17.11358642578125,
          -7.483564376831055,
          -7.841286659240723,
          -4.779782772064209,
          -17.828319549560547,
          -12.19301986694336,
          -23.45829200744629,
          -10.531856536865234,
          -19.87849998474121,
          -13.770687103271484,
          -21.489931106567383,
          -8.705496788024902,
          -15.758724212646484,
          -12.577413558959961,
          -23.67059898376465,
          -14.074621200561523,
          -10.544227600097656,
          -9.104649543762207,
          -25.203277587890625,
          -15.651668548583984,
          -12.752974510192871,
          -15.944622039794922,
          -12.253865242004395,
          -15.089949607849121,
          -17.001436233520508,
          -16.238868713378906,
          -6.31399393081665,
          -21.89847755432129,
          -8.604415893554688,
          4.190106391906738,
          -20.307239532470703,
          -14.626154899597168,
          -13.433087348937988,
          -21.163345336914062,
          -7.12924337387085,
          -14.498364448547363,
          -3.5799036026000977,
          -21.02879524230957,
          -11.579386711120605,
          -18.01138687133789,
          -23.522602081298828,
          -17.86196517944336,
          -24.945768356323242,
          -6.507407188415527,
          -18.160213470458984,
          -5.924737453460693,
          -14.028570175170898,
          -27.730485916137695,
          -2.675978660583496,
          -6.6911187171936035,
          -0.5366189479827881,
          -16.74200439453125,
          -28.396764755249023,
          -8.560466766357422,
          -3.403749704360962,
          -14.275925636291504,
          -15.466706275939941,
          -21.48219108581543,
          -28.039457321166992,
          -19.95047950744629,
          -14.644384384155273,
          -14.55309772491455,
          -3.7503678798675537,
          -7.601699352264404,
          -11.50603199005127,
          -10.664769172668457,
          -7.312078952789307,
          -10.25891399383545,
          -9.441200256347656,
          -10.146345138549805,
          -4.400979042053223,
          -7.976381778717041,
          -15.251907348632812,
          -16.42918586730957,
          -19.561050415039062,
          -7.963218688964844,
          0.6537536978721619,
          -23.727108001708984,
          -25.97368049621582,
          -10.027260780334473,
          -5.846466064453125,
          -12.011635780334473,
          -4.136250019073486,
          -25.89488983154297,
          -17.750539779663086,
          -8.5589017868042,
          -20.455991744995117,
          -2.9126944541931152,
          -11.125753402709961,
          -14.255385398864746,
          -15.647625923156738,
          -25.201984405517578,
          -14.153401374816895,
          -10.976244926452637,
          -14.931849479675293,
          -3.238032579421997,
          -15.14915943145752,
          -4.7285308837890625,
          -7.946863174438477,
          -16.158226013183594,
          -32.762962341308594,
          -26.871633529663086,
          -7.1984052658081055,
          -23.8195858001709,
          -9.627098083496094,
          -28.754695892333984,
          -16.53803253173828,
          -6.104398250579834,
          3.2298271656036377,
          -13.151138305664062,
          -12.011453628540039,
          -1.0837900638580322,
          -18.989242553710938,
          -10.54322338104248,
          -19.11839485168457,
          -2.4619364738464355,
          -8.48930835723877,
          -1.5773589611053467,
          -0.599759042263031,
          -7.058833122253418,
          -15.73341178894043,
          -13.410489082336426,
          -13.719748497009277,
          -5.722339630126953,
          -24.27054786682129,
          -21.227811813354492,
          -18.962322235107422,
          -6.689251899719238,
          -6.614222049713135,
          -13.92635440826416,
          -7.839028835296631,
          -5.622075080871582,
          -5.4155049324035645,
          -14.766868591308594,
          -32.622684478759766,
          -5.369514465332031,
          -1.0283311605453491,
          -27.64389991760254,
          -29.558996200561523,
          -9.899953842163086,
          -3.151216745376587,
          -32.849674224853516,
          2.036952257156372,
          -6.182712078094482,
          -19.91225242614746,
          -12.277657508850098,
          -6.812201499938965,
          -12.17502212524414,
          -25.92926597595215,
          -14.144091606140137,
          -18.17342758178711,
          -15.891090393066406,
          -11.148038864135742,
          -8.246509552001953,
          -23.529094696044922,
          -17.61597442626953,
          -8.620022773742676,
          -2.841639757156372,
          -10.165401458740234,
          -3.3353476524353027,
          -23.72288703918457,
          -30.282699584960938,
          -12.356067657470703,
          -5.56593656539917,
          -28.536582946777344,
          2.142760753631592,
          1.3754825592041016,
          -11.74682331085205,
          -11.974562644958496,
          -12.540837287902832,
          -17.04850959777832,
          -15.821420669555664,
          -5.956258773803711,
          -7.985379219055176,
          -11.178672790527344,
          -12.28160572052002,
          -0.21387070417404175,
          -7.458921909332275,
          -7.711302280426025,
          1.561639428138733,
          -8.049566268920898,
          -23.195947647094727,
          -5.8878655433654785,
          -21.072694778442383,
          -16.00620460510254,
          -8.105245590209961,
          -22.02419090270996,
          -16.797056198120117,
          -4.571097373962402,
          -21.835439682006836,
          -12.906777381896973,
          -25.346073150634766,
          -25.816308975219727,
          -17.351152420043945,
          -9.957724571228027,
          -18.992664337158203,
          -11.896015167236328,
          -11.79051685333252,
          -4.331976890563965,
          -16.686006546020508,
          -8.454261779785156,
          -12.297767639160156,
          -1.2048368453979492,
          -14.404788970947266,
          -2.9827897548675537,
          -20.960224151611328,
          -20.951337814331055,
          -18.63224983215332,
          -11.092241287231445,
          -14.69089126586914,
          -3.669711112976074,
          -23.679668426513672,
          -20.12462043762207,
          -26.682340621948242,
          -0.10057377815246582,
          -15.704773902893066,
          -1.2347853183746338,
          -31.6442928314209,
          -0.7876474261283875,
          -16.09258270263672,
          -13.17519474029541,
          -18.343231201171875,
          -17.3880672454834,
          -10.905951499938965,
          -6.543788433074951,
          -12.23093318939209,
          -17.260282516479492,
          -2.972797393798828,
          -5.26226282119751,
          -14.168521881103516,
          -8.204131126403809,
          -7.010712146759033,
          -12.27623462677002,
          -22.830150604248047
         ],
         "xaxis": "x",
         "y": [
          7.061644554138184,
          20.45493507385254,
          5.749239921569824,
          18.025611877441406,
          8.802404403686523,
          -1.5382211208343506,
          8.583735466003418,
          14.214967727661133,
          15.466245651245117,
          25.008731842041016,
          2.3754732608795166,
          14.441325187683105,
          3.5129809379577637,
          19.343961715698242,
          6.776130676269531,
          8.552310943603516,
          2.4118430614471436,
          9.835604667663574,
          8.875203132629395,
          17.868513107299805,
          6.510483264923096,
          4.4849772453308105,
          10.899490356445312,
          10.71236801147461,
          13.30944538116455,
          -0.47445523738861084,
          23.623319625854492,
          6.988495349884033,
          11.229947090148926,
          7.709261894226074,
          12.323144912719727,
          17.840742111206055,
          19.14252471923828,
          -9.08719539642334,
          6.107349872589111,
          0.6463674902915955,
          16.39999771118164,
          -2.76101016998291,
          11.233436584472656,
          5.441423416137695,
          34.60753631591797,
          12.947335243225098,
          5.701612949371338,
          12.230547904968262,
          6.917758464813232,
          0.1072438582777977,
          22.709300994873047,
          16.15180015563965,
          17.929227828979492,
          -11.326653480529785,
          -1.0608844757080078,
          -6.004180908203125,
          3.4508204460144043,
          15.29752254486084,
          4.599467754364014,
          14.553854942321777,
          22.27606201171875,
          -0.9444772601127625,
          7.028916835784912,
          9.711068153381348,
          6.411075115203857,
          15.244861602783203,
          7.216407775878906,
          5.24037504196167,
          -5.442714691162109,
          2.72782039642334,
          1.4584511518478394,
          5.981326580047607,
          19.08129119873047,
          29.22216796875,
          9.966436386108398,
          6.231203079223633,
          0.5326144099235535,
          13.84798812866211,
          12.827776908874512,
          5.189345836639404,
          1.346355676651001,
          4.930371284484863,
          9.271621704101562,
          11.88698673248291,
          7.161774635314941,
          15.584009170532227,
          12.417797088623047,
          10.493904113769531,
          10.116098403930664,
          -11.707149505615234,
          22.41177749633789,
          9.707085609436035,
          -8.492337226867676,
          3.0994560718536377,
          -1.8796961307525635,
          2.853457450866699,
          -23.04403305053711,
          -7.418898582458496,
          7.950605392456055,
          16.582244873046875,
          16.235031127929688,
          20.030824661254883,
          -0.14067940413951874,
          12.193672180175781,
          19.932674407958984,
          7.9258646965026855,
          -7.6212053298950195,
          10.60241413116455,
          5.816098213195801,
          20.364316940307617,
          12.33891773223877,
          10.027276039123535,
          12.022991180419922,
          -0.7549924254417419,
          17.050046920776367,
          5.586407661437988,
          27.271516799926758,
          4.76069450378418,
          -1.4383366107940674,
          9.173456192016602,
          8.314188957214355,
          2.6805315017700195,
          9.191322326660156,
          -2.394514799118042,
          -4.914804458618164,
          7.09382963180542,
          24.752140045166016,
          9.390715599060059,
          13.799834251403809,
          0.862303614616394,
          16.160137176513672,
          11.242546081542969,
          15.548394203186035,
          4.212498664855957,
          -6.998267650604248,
          4.903306007385254,
          13.068116188049316,
          -3.836702346801758,
          14.264966011047363,
          12.24594497680664,
          29.963716506958008,
          14.252481460571289,
          -5.597550868988037,
          -0.5673894286155701,
          3.928501844406128,
          8.404923439025879,
          4.846425533294678,
          6.333716869354248,
          9.425518989562988,
          1.1421399116516113,
          -2.4446287155151367,
          5.27309513092041,
          12.5437650680542,
          16.304609298706055,
          -2.5985734462738037,
          5.386160373687744,
          22.694026947021484,
          4.704157829284668,
          11.691006660461426,
          5.510671138763428,
          15.7601318359375,
          -6.597603797912598,
          -5.25775671005249,
          8.103116035461426,
          28.027099609375,
          2.0803117752075195,
          -4.637094020843506,
          27.436002731323242,
          -3.67495059967041,
          8.410441398620605,
          10.811372756958008,
          7.761196136474609,
          14.413723945617676,
          3.9848339557647705,
          31.246824264526367,
          26.885496139526367,
          1.6740835905075073,
          28.32166290283203,
          5.049587249755859,
          34.174163818359375,
          6.450747013092041,
          10.738222122192383,
          18.889862060546875,
          2.428126096725464,
          7.781960964202881,
          -10.732913970947266,
          10.638629913330078,
          24.98395347595215,
          12.426396369934082,
          -2.2692604064941406,
          19.613525390625,
          -11.911230087280273,
          6.721362113952637,
          4.776830673217773,
          16.754287719726562,
          4.13694429397583,
          4.6417646408081055,
          5.824524402618408,
          7.138323783874512,
          -2.9207348823547363,
          19.60959243774414,
          10.327946662902832,
          1.3177763223648071,
          -5.7081193923950195,
          7.261250019073486,
          -8.155719757080078,
          -1.8877485990524292,
          8.990826606750488,
          15.446978569030762,
          25.52556610107422,
          3.8050713539123535,
          15.347938537597656,
          13.502960205078125,
          14.355918884277344,
          2.4231443405151367,
          12.547858238220215,
          32.8321533203125,
          20.805192947387695,
          33.58313751220703,
          11.987068176269531,
          7.604706764221191,
          3.2718896865844727,
          9.737469673156738,
          -5.162408828735352,
          12.735663414001465,
          15.540063858032227,
          -2.97255277633667,
          1.273016333580017,
          -1.5347477197647095,
          0.3294541835784912,
          -15.698756217956543,
          14.49021053314209,
          19.921030044555664,
          18.823383331298828,
          4.590148448944092,
          -2.9432497024536133,
          9.007121086120605,
          22.594444274902344,
          9.440821647644043,
          6.989405155181885,
          10.338067054748535,
          5.668411731719971,
          5.799994468688965,
          26.82025718688965,
          -7.881669998168945,
          7.9021077156066895,
          5.351912021636963,
          20.055538177490234,
          17.152626037597656,
          6.805881977081299,
          -0.6270502805709839,
          1.3956515789031982,
          30.882083892822266,
          1.0759873390197754,
          -2.232124090194702,
          21.062807083129883,
          13.490731239318848,
          14.283143043518066,
          16.885713577270508,
          4.824449062347412
         ],
         "yaxis": "y"
        }
       ],
       "layout": {
        "legend": {
         "title": {
          "text": "source"
         },
         "tracegroupgap": 0
        },
        "margin": {
         "t": 60
        },
        "template": {
         "data": {
          "bar": [
           {
            "error_x": {
             "color": "#2a3f5f"
            },
            "error_y": {
             "color": "#2a3f5f"
            },
            "marker": {
             "line": {
              "color": "#E5ECF6",
              "width": 0.5
             }
            },
            "type": "bar"
           }
          ],
          "barpolar": [
           {
            "marker": {
             "line": {
              "color": "#E5ECF6",
              "width": 0.5
             }
            },
            "type": "barpolar"
           }
          ],
          "carpet": [
           {
            "aaxis": {
             "endlinecolor": "#2a3f5f",
             "gridcolor": "white",
             "linecolor": "white",
             "minorgridcolor": "white",
             "startlinecolor": "#2a3f5f"
            },
            "baxis": {
             "endlinecolor": "#2a3f5f",
             "gridcolor": "white",
             "linecolor": "white",
             "minorgridcolor": "white",
             "startlinecolor": "#2a3f5f"
            },
            "type": "carpet"
           }
          ],
          "choropleth": [
           {
            "colorbar": {
             "outlinewidth": 0,
             "ticks": ""
            },
            "type": "choropleth"
           }
          ],
          "contour": [
           {
            "colorbar": {
             "outlinewidth": 0,
             "ticks": ""
            },
            "colorscale": [
             [
              0,
              "#0d0887"
             ],
             [
              0.1111111111111111,
              "#46039f"
             ],
             [
              0.2222222222222222,
              "#7201a8"
             ],
             [
              0.3333333333333333,
              "#9c179e"
             ],
             [
              0.4444444444444444,
              "#bd3786"
             ],
             [
              0.5555555555555556,
              "#d8576b"
             ],
             [
              0.6666666666666666,
              "#ed7953"
             ],
             [
              0.7777777777777778,
              "#fb9f3a"
             ],
             [
              0.8888888888888888,
              "#fdca26"
             ],
             [
              1,
              "#f0f921"
             ]
            ],
            "type": "contour"
           }
          ],
          "contourcarpet": [
           {
            "colorbar": {
             "outlinewidth": 0,
             "ticks": ""
            },
            "type": "contourcarpet"
           }
          ],
          "heatmap": [
           {
            "colorbar": {
             "outlinewidth": 0,
             "ticks": ""
            },
            "colorscale": [
             [
              0,
              "#0d0887"
             ],
             [
              0.1111111111111111,
              "#46039f"
             ],
             [
              0.2222222222222222,
              "#7201a8"
             ],
             [
              0.3333333333333333,
              "#9c179e"
             ],
             [
              0.4444444444444444,
              "#bd3786"
             ],
             [
              0.5555555555555556,
              "#d8576b"
             ],
             [
              0.6666666666666666,
              "#ed7953"
             ],
             [
              0.7777777777777778,
              "#fb9f3a"
             ],
             [
              0.8888888888888888,
              "#fdca26"
             ],
             [
              1,
              "#f0f921"
             ]
            ],
            "type": "heatmap"
           }
          ],
          "heatmapgl": [
           {
            "colorbar": {
             "outlinewidth": 0,
             "ticks": ""
            },
            "colorscale": [
             [
              0,
              "#0d0887"
             ],
             [
              0.1111111111111111,
              "#46039f"
             ],
             [
              0.2222222222222222,
              "#7201a8"
             ],
             [
              0.3333333333333333,
              "#9c179e"
             ],
             [
              0.4444444444444444,
              "#bd3786"
             ],
             [
              0.5555555555555556,
              "#d8576b"
             ],
             [
              0.6666666666666666,
              "#ed7953"
             ],
             [
              0.7777777777777778,
              "#fb9f3a"
             ],
             [
              0.8888888888888888,
              "#fdca26"
             ],
             [
              1,
              "#f0f921"
             ]
            ],
            "type": "heatmapgl"
           }
          ],
          "histogram": [
           {
            "marker": {
             "colorbar": {
              "outlinewidth": 0,
              "ticks": ""
             }
            },
            "type": "histogram"
           }
          ],
          "histogram2d": [
           {
            "colorbar": {
             "outlinewidth": 0,
             "ticks": ""
            },
            "colorscale": [
             [
              0,
              "#0d0887"
             ],
             [
              0.1111111111111111,
              "#46039f"
             ],
             [
              0.2222222222222222,
              "#7201a8"
             ],
             [
              0.3333333333333333,
              "#9c179e"
             ],
             [
              0.4444444444444444,
              "#bd3786"
             ],
             [
              0.5555555555555556,
              "#d8576b"
             ],
             [
              0.6666666666666666,
              "#ed7953"
             ],
             [
              0.7777777777777778,
              "#fb9f3a"
             ],
             [
              0.8888888888888888,
              "#fdca26"
             ],
             [
              1,
              "#f0f921"
             ]
            ],
            "type": "histogram2d"
           }
          ],
          "histogram2dcontour": [
           {
            "colorbar": {
             "outlinewidth": 0,
             "ticks": ""
            },
            "colorscale": [
             [
              0,
              "#0d0887"
             ],
             [
              0.1111111111111111,
              "#46039f"
             ],
             [
              0.2222222222222222,
              "#7201a8"
             ],
             [
              0.3333333333333333,
              "#9c179e"
             ],
             [
              0.4444444444444444,
              "#bd3786"
             ],
             [
              0.5555555555555556,
              "#d8576b"
             ],
             [
              0.6666666666666666,
              "#ed7953"
             ],
             [
              0.7777777777777778,
              "#fb9f3a"
             ],
             [
              0.8888888888888888,
              "#fdca26"
             ],
             [
              1,
              "#f0f921"
             ]
            ],
            "type": "histogram2dcontour"
           }
          ],
          "mesh3d": [
           {
            "colorbar": {
             "outlinewidth": 0,
             "ticks": ""
            },
            "type": "mesh3d"
           }
          ],
          "parcoords": [
           {
            "line": {
             "colorbar": {
              "outlinewidth": 0,
              "ticks": ""
             }
            },
            "type": "parcoords"
           }
          ],
          "pie": [
           {
            "automargin": true,
            "type": "pie"
           }
          ],
          "scatter": [
           {
            "marker": {
             "colorbar": {
              "outlinewidth": 0,
              "ticks": ""
             }
            },
            "type": "scatter"
           }
          ],
          "scatter3d": [
           {
            "line": {
             "colorbar": {
              "outlinewidth": 0,
              "ticks": ""
             }
            },
            "marker": {
             "colorbar": {
              "outlinewidth": 0,
              "ticks": ""
             }
            },
            "type": "scatter3d"
           }
          ],
          "scattercarpet": [
           {
            "marker": {
             "colorbar": {
              "outlinewidth": 0,
              "ticks": ""
             }
            },
            "type": "scattercarpet"
           }
          ],
          "scattergeo": [
           {
            "marker": {
             "colorbar": {
              "outlinewidth": 0,
              "ticks": ""
             }
            },
            "type": "scattergeo"
           }
          ],
          "scattergl": [
           {
            "marker": {
             "colorbar": {
              "outlinewidth": 0,
              "ticks": ""
             }
            },
            "type": "scattergl"
           }
          ],
          "scattermapbox": [
           {
            "marker": {
             "colorbar": {
              "outlinewidth": 0,
              "ticks": ""
             }
            },
            "type": "scattermapbox"
           }
          ],
          "scatterpolar": [
           {
            "marker": {
             "colorbar": {
              "outlinewidth": 0,
              "ticks": ""
             }
            },
            "type": "scatterpolar"
           }
          ],
          "scatterpolargl": [
           {
            "marker": {
             "colorbar": {
              "outlinewidth": 0,
              "ticks": ""
             }
            },
            "type": "scatterpolargl"
           }
          ],
          "scatterternary": [
           {
            "marker": {
             "colorbar": {
              "outlinewidth": 0,
              "ticks": ""
             }
            },
            "type": "scatterternary"
           }
          ],
          "surface": [
           {
            "colorbar": {
             "outlinewidth": 0,
             "ticks": ""
            },
            "colorscale": [
             [
              0,
              "#0d0887"
             ],
             [
              0.1111111111111111,
              "#46039f"
             ],
             [
              0.2222222222222222,
              "#7201a8"
             ],
             [
              0.3333333333333333,
              "#9c179e"
             ],
             [
              0.4444444444444444,
              "#bd3786"
             ],
             [
              0.5555555555555556,
              "#d8576b"
             ],
             [
              0.6666666666666666,
              "#ed7953"
             ],
             [
              0.7777777777777778,
              "#fb9f3a"
             ],
             [
              0.8888888888888888,
              "#fdca26"
             ],
             [
              1,
              "#f0f921"
             ]
            ],
            "type": "surface"
           }
          ],
          "table": [
           {
            "cells": {
             "fill": {
              "color": "#EBF0F8"
             },
             "line": {
              "color": "white"
             }
            },
            "header": {
             "fill": {
              "color": "#C8D4E3"
             },
             "line": {
              "color": "white"
             }
            },
            "type": "table"
           }
          ]
         },
         "layout": {
          "annotationdefaults": {
           "arrowcolor": "#2a3f5f",
           "arrowhead": 0,
           "arrowwidth": 1
          },
          "coloraxis": {
           "colorbar": {
            "outlinewidth": 0,
            "ticks": ""
           }
          },
          "colorscale": {
           "diverging": [
            [
             0,
             "#8e0152"
            ],
            [
             0.1,
             "#c51b7d"
            ],
            [
             0.2,
             "#de77ae"
            ],
            [
             0.3,
             "#f1b6da"
            ],
            [
             0.4,
             "#fde0ef"
            ],
            [
             0.5,
             "#f7f7f7"
            ],
            [
             0.6,
             "#e6f5d0"
            ],
            [
             0.7,
             "#b8e186"
            ],
            [
             0.8,
             "#7fbc41"
            ],
            [
             0.9,
             "#4d9221"
            ],
            [
             1,
             "#276419"
            ]
           ],
           "sequential": [
            [
             0,
             "#0d0887"
            ],
            [
             0.1111111111111111,
             "#46039f"
            ],
            [
             0.2222222222222222,
             "#7201a8"
            ],
            [
             0.3333333333333333,
             "#9c179e"
            ],
            [
             0.4444444444444444,
             "#bd3786"
            ],
            [
             0.5555555555555556,
             "#d8576b"
            ],
            [
             0.6666666666666666,
             "#ed7953"
            ],
            [
             0.7777777777777778,
             "#fb9f3a"
            ],
            [
             0.8888888888888888,
             "#fdca26"
            ],
            [
             1,
             "#f0f921"
            ]
           ],
           "sequentialminus": [
            [
             0,
             "#0d0887"
            ],
            [
             0.1111111111111111,
             "#46039f"
            ],
            [
             0.2222222222222222,
             "#7201a8"
            ],
            [
             0.3333333333333333,
             "#9c179e"
            ],
            [
             0.4444444444444444,
             "#bd3786"
            ],
            [
             0.5555555555555556,
             "#d8576b"
            ],
            [
             0.6666666666666666,
             "#ed7953"
            ],
            [
             0.7777777777777778,
             "#fb9f3a"
            ],
            [
             0.8888888888888888,
             "#fdca26"
            ],
            [
             1,
             "#f0f921"
            ]
           ]
          },
          "colorway": [
           "#636efa",
           "#EF553B",
           "#00cc96",
           "#ab63fa",
           "#FFA15A",
           "#19d3f3",
           "#FF6692",
           "#B6E880",
           "#FF97FF",
           "#FECB52"
          ],
          "font": {
           "color": "#2a3f5f"
          },
          "geo": {
           "bgcolor": "white",
           "lakecolor": "white",
           "landcolor": "#E5ECF6",
           "showlakes": true,
           "showland": true,
           "subunitcolor": "white"
          },
          "hoverlabel": {
           "align": "left"
          },
          "hovermode": "closest",
          "mapbox": {
           "style": "light"
          },
          "paper_bgcolor": "white",
          "plot_bgcolor": "#E5ECF6",
          "polar": {
           "angularaxis": {
            "gridcolor": "white",
            "linecolor": "white",
            "ticks": ""
           },
           "bgcolor": "#E5ECF6",
           "radialaxis": {
            "gridcolor": "white",
            "linecolor": "white",
            "ticks": ""
           }
          },
          "scene": {
           "xaxis": {
            "backgroundcolor": "#E5ECF6",
            "gridcolor": "white",
            "gridwidth": 2,
            "linecolor": "white",
            "showbackground": true,
            "ticks": "",
            "zerolinecolor": "white"
           },
           "yaxis": {
            "backgroundcolor": "#E5ECF6",
            "gridcolor": "white",
            "gridwidth": 2,
            "linecolor": "white",
            "showbackground": true,
            "ticks": "",
            "zerolinecolor": "white"
           },
           "zaxis": {
            "backgroundcolor": "#E5ECF6",
            "gridcolor": "white",
            "gridwidth": 2,
            "linecolor": "white",
            "showbackground": true,
            "ticks": "",
            "zerolinecolor": "white"
           }
          },
          "shapedefaults": {
           "line": {
            "color": "#2a3f5f"
           }
          },
          "ternary": {
           "aaxis": {
            "gridcolor": "white",
            "linecolor": "white",
            "ticks": ""
           },
           "baxis": {
            "gridcolor": "white",
            "linecolor": "white",
            "ticks": ""
           },
           "bgcolor": "#E5ECF6",
           "caxis": {
            "gridcolor": "white",
            "linecolor": "white",
            "ticks": ""
           }
          },
          "title": {
           "x": 0.05
          },
          "xaxis": {
           "automargin": true,
           "gridcolor": "white",
           "linecolor": "white",
           "ticks": "",
           "title": {
            "standoff": 15
           },
           "zerolinecolor": "white",
           "zerolinewidth": 2
          },
          "yaxis": {
           "automargin": true,
           "gridcolor": "white",
           "linecolor": "white",
           "ticks": "",
           "title": {
            "standoff": 15
           },
           "zerolinecolor": "white",
           "zerolinewidth": 2
          }
         }
        },
        "xaxis": {
         "anchor": "y",
         "domain": [
          0,
          1
         ],
         "title": {
          "text": "x"
         }
        },
        "yaxis": {
         "anchor": "x",
         "domain": [
          0,
          1
         ],
         "title": {
          "text": "y"
         }
        }
       }
      },
      "text/html": [
       "<div>\n",
       "        \n",
       "        \n",
       "            <div id=\"e3e8e53f-9e2c-4cfb-9dde-c88f2ddfa31d\" class=\"plotly-graph-div\" style=\"height:525px; width:100%;\"></div>\n",
       "            <script type=\"text/javascript\">\n",
       "                require([\"plotly\"], function(Plotly) {\n",
       "                    window.PLOTLYENV=window.PLOTLYENV || {};\n",
       "                    \n",
       "                if (document.getElementById(\"e3e8e53f-9e2c-4cfb-9dde-c88f2ddfa31d\")) {\n",
       "                    Plotly.newPlot(\n",
       "                        'e3e8e53f-9e2c-4cfb-9dde-c88f2ddfa31d',\n",
       "                        [{\"hovertemplate\": \"source=imagenet<br>x=%{x}<br>y=%{y}<extra></extra>\", \"legendgroup\": \"imagenet\", \"marker\": {\"color\": \"#636efa\", \"symbol\": \"circle\"}, \"mode\": \"markers\", \"name\": \"imagenet\", \"orientation\": \"v\", \"showlegend\": true, \"type\": \"scatter\", \"x\": [46.945091247558594, 38.30917739868164, 56.023555755615234, 39.826194763183594, 37.110843658447266, 53.1511116027832, 77.65992736816406, 64.72183990478516, 61.32585144042969, 73.65863800048828, 63.209503173828125, 43.0703010559082, 84.3115005493164, 56.156551361083984, 49.288002014160156, 51.78585433959961, 58.650787353515625, 88.8566665649414, 53.838539123535156, 60.07549285888672, 54.276031494140625, 58.09584426879883, 66.99211120605469, 36.95122146606445, 69.87217712402344, 62.93629837036133, 51.79142761230469, 58.8600959777832, 104.566650390625, 78.91046142578125, 36.704803466796875, 69.30226135253906, 61.721923828125, 65.5546646118164, 85.28874969482422, 60.41987991333008, 47.92056655883789, 65.86193084716797, 48.44105911254883, 82.772705078125, 60.09468078613281, 65.08956909179688, 76.07379150390625, 76.1195297241211, 58.717613220214844, 63.131160736083984, 65.47477722167969, 52.03092956542969, 50.6025276184082, 61.37923812866211, 62.33649826049805, 83.6378173828125, 63.13877487182617, 38.75616455078125, 61.88683319091797, 52.17493438720703, 55.12889862060547, 54.534122467041016, 19.609411239624023, 55.62885665893555, 80.5978775024414, 60.18286895751953, 48.1196174621582, 57.282352447509766, 41.808048248291016, 43.99637985229492, 42.90673065185547, 65.4328384399414, 55.1036376953125, 46.28172302246094, 66.7165298461914, 64.96306610107422, 64.4837875366211, 63.6070556640625, 49.53968048095703, 78.40311431884766, 57.78889846801758, 56.160255432128906, 21.19266700744629, 48.49999237060547, 60.45698928833008, 33.11846923828125, 50.594303131103516, 39.790496826171875, 54.78496551513672, 36.00013732910156, 28.83890724182129, 72.0814437866211, 71.4376449584961, 64.10331726074219, 61.1395378112793, 61.66483688354492, 85.4635009765625, 55.14073944091797, 77.64714813232422, 70.88040161132812, 55.79759979248047, 63.977447509765625, 67.69706726074219, 73.3558349609375, 65.17243194580078, 67.84990692138672, 70.15408325195312, 51.275936126708984, 57.30952453613281, 64.12715148925781, 71.2728271484375, 60.70272445678711, 79.1037826538086, 70.90351104736328, 58.67216110229492, 86.1844482421875, 71.64987182617188, 43.22150802612305, 66.65748596191406, 64.2817611694336, 69.2624282836914, 60.64712142944336, 60.642616271972656, 62.07280349731445, 78.55885314941406, 52.56358337402344, 76.52421569824219, 59.02223205566406, 76.93962097167969, 55.88239669799805, 66.82634735107422, 35.8381233215332, 81.79003143310547, 51.02452850341797, 50.127647399902344, 77.15240478515625, 78.66142272949219, 65.42472839355469, 72.40320587158203, 70.3931655883789, 58.09231948852539, 53.715606689453125, 57.69440460205078, 84.25882720947266], \"xaxis\": \"x\", \"y\": [49.17988204956055, 13.425861358642578, 21.175256729125977, 28.468631744384766, 28.006601333618164, 13.317190170288086, 2.5148985385894775, 1.0669047832489014, -21.657297134399414, 30.549488067626953, -5.550909042358398, 4.749303817749023, 12.457887649536133, 46.081459045410156, 30.158674240112305, 28.845333099365234, 50.216434478759766, 39.2873420715332, 40.38904571533203, 27.931331634521484, 38.66682052612305, 37.519798278808594, 40.62598419189453, 28.375505447387695, 18.743938446044922, 41.64251708984375, 40.18054962158203, 36.10408401489258, 32.45367431640625, 39.49898147583008, 43.79785919189453, 31.987327575683594, 49.7701301574707, 38.2690544128418, 29.437406539916992, 30.10546112060547, 12.016016006469727, -31.319522857666016, -34.4869384765625, -36.839725494384766, -42.38905334472656, -52.07199478149414, -41.81719207763672, -46.951988220214844, -26.679494857788086, -41.91489791870117, -38.61705017089844, -26.665149688720703, -24.81235122680664, -35.28451919555664, -38.22606658935547, -44.497901916503906, -24.07310676574707, -16.39552879333496, -19.479700088500977, -47.092567443847656, -23.429533004760742, -10.588050842285156, -3.806135654449463, -38.055503845214844, -39.94535446166992, -28.44605827331543, -25.616910934448242, -24.61777687072754, -10.565634727478027, -21.21586036682129, -17.041261672973633, -37.78275680541992, -32.60380554199219, -1.5637179613113403, -25.667476654052734, -16.145729064941406, -20.692964553833008, -18.085819244384766, -16.874462127685547, -31.217758178710938, -6.924596786499023, -7.264645099639893, -13.158204078674316, -29.523422241210938, -16.803340911865234, -14.217265129089355, 10.06849479675293, -18.239213943481445, -23.507104873657227, -0.6234342455863953, -14.44216537475586, 6.496246814727783, 8.864153861999512, 14.452523231506348, 15.227846145629883, 13.685550689697266, 36.88031768798828, 27.404983520507812, 10.263566970825195, 58.764652252197266, 27.750411987304688, 26.407302856445312, 18.516286849975586, 53.199188232421875, 7.678438186645508, 36.111324310302734, 31.474992752075195, 25.520130157470703, 29.55757713317871, 29.74681854248047, 42.49050521850586, 31.05647087097168, 28.77051544189453, 32.74357223510742, 62.20216751098633, 41.26445770263672, 29.993650436401367, -25.92782211303711, -15.068325996398926, -15.517126083374023, -34.95026397705078, -19.36119842529297, -11.907083511352539, 0.3734930753707886, -29.315366744995117, 5.3611931800842285, -27.380970001220703, 6.6459197998046875, -29.755998611450195, -28.929641723632812, -36.97022247314453, -2.148327112197876, -6.88245153427124, -18.701251983642578, 23.371082305908203, -20.945425033569336, -38.59202575683594, -30.341218948364258, -20.233068466186523, -35.785911560058594, -7.464908123016357, -16.515830993652344, -31.255416870117188, -31.999067306518555], \"yaxis\": \"y\"}, {\"hovertemplate\": \"source=esaote<br>x=%{x}<br>y=%{y}<extra></extra>\", \"legendgroup\": \"esaote\", \"marker\": {\"color\": \"#EF553B\", \"symbol\": \"circle\"}, \"mode\": \"markers\", \"name\": \"esaote\", \"orientation\": \"v\", \"showlegend\": true, \"type\": \"scatter\", \"x\": [-14.181441307067871, -26.205780029296875, -33.070560455322266, -26.668415069580078, -15.35428524017334, -21.9544734954834, -22.295339584350586, -29.18073844909668, -34.39856719970703, -22.5865535736084, -11.681113243103027, -9.766910552978516, -3.950486421585083, -15.042350769042969, -13.830615997314453, -7.754922866821289, -15.441671371459961, -26.13546371459961, -35.056827545166016, -6.430662155151367, -17.971298217773438, -13.549962997436523, -21.700899124145508, -28.912879943847656, -4.7270002365112305, -24.864940643310547, -36.01509475708008, -28.316213607788086, -5.054012298583984, -2.4272520542144775, -22.429962158203125, -21.2236328125, -26.55583381652832, -29.84137535095215, -3.286224842071533, -7.877541542053223, -24.625757217407227, -9.863611221313477, -28.585783004760742, -19.231786727905273, -28.339244842529297, -33.9621696472168, -13.847034454345703, 0.9573201537132263, -16.242189407348633, -33.6071662902832, -30.89109230041504, -16.19640350341797, -21.200510025024414, -20.246692657470703, -15.732256889343262, -18.455364227294922, -18.512773513793945, -23.613508224487305, -0.8383347988128662, -19.873157501220703, -2.6383538246154785, -3.9568352699279785, -5.206979751586914, -19.79423713684082, -33.43208694458008, -24.504165649414062, -20.81627082824707, -13.47617244720459, -15.821402549743652, -18.215354919433594, -6.85384464263916, -25.433143615722656, -18.47866439819336, -17.858047485351562, -26.272016525268555, -33.213653564453125, -6.916407585144043, -23.486692428588867, -28.446819305419922, -4.064754009246826, -31.392824172973633, -31.075010299682617, -4.534093856811523, -29.18861198425293, -6.660589694976807, -15.2892484664917, -19.36474609375, -30.520477294921875, -38.11640930175781, -19.799762725830078, -15.006163597106934, -40.5653190612793, -34.841087341308594, -26.227535247802734, -10.381954193115234, -26.819326400756836, -8.291902542114258, -26.301618576049805, -7.740090370178223, -21.85293960571289, -27.40427589416504, -24.388376235961914, -33.943546295166016, -17.956100463867188, -21.52400779724121, -10.532750129699707, -30.114707946777344, -24.9222412109375, -21.20235252380371, -10.052688598632812, -33.14934539794922, -8.391315460205078, -9.76274299621582, -10.615208625793457, -21.690814971923828, -20.781200408935547, -16.880077362060547, -15.04576301574707, -11.064591407775879, -20.94792938232422, -33.54117965698242, -16.650066375732422, -17.337648391723633, -27.33527946472168, -23.756589889526367, -5.796834468841553, -19.071880340576172, -36.92429733276367, -31.19466209411621, -4.661118030548096, -27.9432315826416, -16.18393325805664, -34.76958084106445, -26.0964298248291, -22.307918548583984, -23.21299171447754, -22.03226661682129, -15.054941177368164, -23.14735221862793, -25.41060447692871, -29.53773307800293, -21.490188598632812, -20.383056640625, -13.635682106018066, -8.742956161499023, -19.780467987060547, -20.210304260253906, -26.197473526000977, -33.168701171875, -20.52107810974121, -22.244956970214844, -5.240747928619385, -22.524377822875977, -16.718019485473633, -23.814897537231445, -29.30276870727539, -16.45316505432129, -28.891084671020508, -20.600351333618164, -13.152107238769531, -11.126729965209961, -22.21455192565918, -22.27939796447754, -21.288761138916016, -19.66027069091797, -36.50600814819336, -26.64772605895996, -16.173309326171875, -34.36290740966797, -29.808528900146484, -24.066455841064453, -16.34027099609375, -34.79615783691406, -3.026921510696411, -19.07810401916504, -26.759639739990234, -0.37124958634376526, -13.48100471496582, -28.179412841796875, -20.81195640563965, -21.157238006591797, -20.83355712890625, -11.996967315673828, -5.30224609375, -20.853782653808594, -29.303050994873047, -33.6829948425293, -8.186676979064941, -21.854095458984375, -9.968650817871094, -16.862194061279297, -28.097326278686523, -5.796898365020752, -10.422613143920898, -10.34696102142334, -15.41405963897705, -19.9830322265625, -24.03232765197754, -42.420440673828125, -3.177241802215576, -8.352363586425781, -12.529553413391113, -31.768980026245117, -19.63751983642578, -16.82801055908203, -25.292325973510742, -13.486392974853516, -28.156131744384766, -12.409744262695312, 3.3846449851989746, -14.487547874450684, -9.873542785644531, -22.48680877685547, -18.014780044555664, -33.497886657714844, -21.400169372558594, -7.867639541625977, -9.811033248901367, -34.83750534057617, -28.259681701660156, -34.18937683105469, -29.08108139038086, -25.42395782470703, -16.112913131713867, -33.864925384521484, -18.004533767700195, -3.695640802383423, -23.125429153442383, -14.760265350341797, -15.995959281921387, -15.919146537780762, -22.975297927856445, -22.168811798095703, -6.8654913902282715, -7.77875280380249, -27.853952407836914, -12.958174705505371, -13.967867851257324, -14.481199264526367, -22.705610275268555, -24.10667610168457, -14.771124839782715, -30.1560001373291, -41.5274772644043, -23.633813858032227, -35.22662353515625, -30.558576583862305, -37.33726501464844, 0.3893851637840271, 2.0775012969970703, -28.2634334564209, -18.585695266723633, -28.546863555908203, -32.70408630371094, -12.506247520446777, -30.095884323120117, -28.574974060058594, -11.812264442443848, -27.946393966674805, 1.9948275089263916], \"xaxis\": \"x\", \"y\": [-9.409269332885742, 7.010287761688232, 7.3483500480651855, -10.362784385681152, -15.821905136108398, -8.54233455657959, -24.106481552124023, -8.712772369384766, 8.856096267700195, -14.764728546142578, -11.567948341369629, -16.25308609008789, -16.238656997680664, -10.055035591125488, 0.37919363379478455, -9.06106185913086, -12.79926586151123, -1.507455587387085, -5.777676582336426, -9.237326622009277, -6.618690013885498, -11.995624542236328, -9.135315895080566, -8.5530424118042, -24.195409774780273, -10.847641944885254, -0.5850324034690857, -9.333364486694336, -12.032270431518555, -16.43871307373047, -16.46019744873047, -13.580188751220703, -2.954008102416992, -9.26111125946045, -8.209632873535156, -9.839143753051758, 15.103297233581543, -16.09942626953125, 0.28489404916763306, -4.586422920227051, -2.4248948097229004, -14.585755348205566, -8.460955619812012, -13.353568077087402, -14.897048950195312, -8.058131217956543, -10.913886070251465, -8.947380065917969, -19.738468170166016, -15.537679672241211, 2.7649168968200684, -19.005935668945312, -3.622300863265991, 10.250834465026855, -19.5029354095459, -10.6139554977417, -12.060733795166016, -20.12913703918457, -12.544023513793945, -17.03242301940918, -4.911290168762207, 0.5751448273658752, 3.9001684188842773, -19.716875076293945, 0.5425271391868591, -18.851987838745117, -7.438068866729736, 4.261788368225098, -12.855862617492676, -9.779759407043457, 4.169843673706055, -1.096171259880066, -3.5393621921539307, -7.60546875, -1.6099674701690674, -10.956815719604492, -5.943395137786865, -17.98335075378418, -19.616668701171875, -6.931564807891846, -15.636466979980469, -2.6921067237854004, -22.640260696411133, -9.693880081176758, -8.707939147949219, 2.141230821609497, -23.142242431640625, 10.307426452636719, -4.37645959854126, -10.739296913146973, -14.499924659729004, -5.887688159942627, -5.343100070953369, -2.151931047439575, -16.25212287902832, -4.506915092468262, 5.84930419921875, -12.802835464477539, -11.921236991882324, -5.150052070617676, -20.687223434448242, -18.930301666259766, -2.897660732269287, -6.175828456878662, -13.618093490600586, -14.438619613647461, -12.759237289428711, -5.35219144821167, -18.090036392211914, -2.874307632446289, -17.605566024780273, -12.522698402404785, -18.528484344482422, -14.564627647399902, -11.954623222351074, 0.5082904100418091, -9.36146068572998, 1.2107980251312256, 8.802868843078613, -5.539862155914307, -12.621868133544922, -19.3949031829834, 0.42422887682914734, 0.009551433846354485, -3.23165225982666, -20.732688903808594, -8.75394344329834, 1.1085376739501953, -2.914935350418091, -19.702526092529297, -11.223457336425781, -22.160381317138672, -6.822079181671143, 3.398348808288574, -19.576168060302734, -27.450902938842773, -2.1402153968811035, -3.6328208446502686, -11.07429313659668, -12.810445785522461, 0.09123846143484116, -8.631315231323242, -8.760869979858398, 1.5784763097763062, 4.347721099853516, -15.425165176391602, -7.06137752532959, -21.389324188232422, 1.2215914726257324, -15.21032428741455, -3.5580129623413086, -4.930729389190674, -17.46087646484375, -3.0500850677490234, -1.9312820434570312, -4.318089008331299, -5.057839393615723, -0.5172677636146545, -12.475234031677246, -8.413312911987305, -2.041041135787964, 2.795747756958008, -7.1915459632873535, -7.707135200500488, 4.561346530914307, -10.376973152160645, 3.089707374572754, -13.994307518005371, -13.171289443969727, -16.994844436645508, -18.977191925048828, -1.6869966983795166, -15.424911499023438, -3.48709774017334, -9.853602409362793, -15.042976379394531, -0.755513072013855, -18.79081153869629, -23.59558868408203, -8.358062744140625, -17.724834442138672, -7.832771301269531, -5.289502143859863, -23.3424072265625, -2.736274242401123, -15.00973129272461, -27.453264236450195, -13.914969444274902, -10.057511329650879, -20.734516143798828, -10.719634056091309, -15.307061195373535, -8.233342170715332, -5.857406139373779, -2.61846923828125, -5.898718357086182, -5.354284286499023, -19.329795837402344, 6.187934398651123, -3.921046257019043, -5.562795162200928, -16.071779251098633, -16.680152893066406, -6.866960525512695, -6.1247334480285645, -21.10673713684082, -1.7196155786514282, -15.45666790008545, 4.123927593231201, -4.454554080963135, -0.9043939113616943, -8.262553215026855, -10.195538520812988, -16.626567840576172, -1.3248428106307983, -8.532122611999512, 11.11210823059082, -3.566415786743164, -3.0440468788146973, -14.474108695983887, -4.980813026428223, -13.54517650604248, -16.923429489135742, -1.8598518371582031, 10.61466121673584, -11.35706901550293, -13.605196952819824, -15.495698928833008, -5.632882118225098, -12.766290664672852, -12.907716751098633, -17.11058807373047, -4.969191074371338, -15.228325843811035, -21.04289436340332, 1.8694771528244019, 0.5110325813293457, -7.828015327453613, -0.7854355573654175, -0.261635959148407, -10.654783248901367, -3.6460657119750977, -14.262877464294434, -8.627527236938477, -20.280248641967773, -25.660816192626953, -18.71291160583496, -7.4530439376831055, -11.484726905822754, -9.724478721618652, -13.792860984802246, -4.881768703460693, -10.12013053894043, -9.063045501708984, -8.380242347717285, -13.991155624389648], \"yaxis\": \"y\"}, {\"hovertemplate\": \"source=philips<br>x=%{x}<br>y=%{y}<extra></extra>\", \"legendgroup\": \"philips\", \"marker\": {\"color\": \"#00cc96\", \"symbol\": \"circle\"}, \"mode\": \"markers\", \"name\": \"philips\", \"orientation\": \"v\", \"showlegend\": true, \"type\": \"scatter\", \"x\": [-8.844109535217285, -11.295744895935059, -11.834673881530762, -14.91353702545166, -12.500389099121094, -10.091063499450684, -11.635337829589844, -18.58128547668457, -28.7541446685791, -24.211284637451172, -4.542384147644043, -16.035627365112305, -7.877452850341797, -24.65972137451172, -5.39529275894165, -2.907613754272461, -13.561376571655273, -13.099325180053711, -15.19046688079834, -25.140274047851562, -22.51808738708496, -11.380395889282227, -17.11358642578125, -7.483564376831055, -7.841286659240723, -4.779782772064209, -17.828319549560547, -12.19301986694336, -23.45829200744629, -10.531856536865234, -19.87849998474121, -13.770687103271484, -21.489931106567383, -8.705496788024902, -15.758724212646484, -12.577413558959961, -23.67059898376465, -14.074621200561523, -10.544227600097656, -9.104649543762207, -25.203277587890625, -15.651668548583984, -12.752974510192871, -15.944622039794922, -12.253865242004395, -15.089949607849121, -17.001436233520508, -16.238868713378906, -6.31399393081665, -21.89847755432129, -8.604415893554688, 4.190106391906738, -20.307239532470703, -14.626154899597168, -13.433087348937988, -21.163345336914062, -7.12924337387085, -14.498364448547363, -3.5799036026000977, -21.02879524230957, -11.579386711120605, -18.01138687133789, -23.522602081298828, -17.86196517944336, -24.945768356323242, -6.507407188415527, -18.160213470458984, -5.924737453460693, -14.028570175170898, -27.730485916137695, -2.675978660583496, -6.6911187171936035, -0.5366189479827881, -16.74200439453125, -28.396764755249023, -8.560466766357422, -3.403749704360962, -14.275925636291504, -15.466706275939941, -21.48219108581543, -28.039457321166992, -19.95047950744629, -14.644384384155273, -14.55309772491455, -3.7503678798675537, -7.601699352264404, -11.50603199005127, -10.664769172668457, -7.312078952789307, -10.25891399383545, -9.441200256347656, -10.146345138549805, -4.400979042053223, -7.976381778717041, -15.251907348632812, -16.42918586730957, -19.561050415039062, -7.963218688964844, 0.6537536978721619, -23.727108001708984, -25.97368049621582, -10.027260780334473, -5.846466064453125, -12.011635780334473, -4.136250019073486, -25.89488983154297, -17.750539779663086, -8.5589017868042, -20.455991744995117, -2.9126944541931152, -11.125753402709961, -14.255385398864746, -15.647625923156738, -25.201984405517578, -14.153401374816895, -10.976244926452637, -14.931849479675293, -3.238032579421997, -15.14915943145752, -4.7285308837890625, -7.946863174438477, -16.158226013183594, -32.762962341308594, -26.871633529663086, -7.1984052658081055, -23.8195858001709, -9.627098083496094, -28.754695892333984, -16.53803253173828, -6.104398250579834, 3.2298271656036377, -13.151138305664062, -12.011453628540039, -1.0837900638580322, -18.989242553710938, -10.54322338104248, -19.11839485168457, -2.4619364738464355, -8.48930835723877, -1.5773589611053467, -0.599759042263031, -7.058833122253418, -15.73341178894043, -13.410489082336426, -13.719748497009277, -5.722339630126953, -24.27054786682129, -21.227811813354492, -18.962322235107422, -6.689251899719238, -6.614222049713135, -13.92635440826416, -7.839028835296631, -5.622075080871582, -5.4155049324035645, -14.766868591308594, -32.622684478759766, -5.369514465332031, -1.0283311605453491, -27.64389991760254, -29.558996200561523, -9.899953842163086, -3.151216745376587, -32.849674224853516, 2.036952257156372, -6.182712078094482, -19.91225242614746, -12.277657508850098, -6.812201499938965, -12.17502212524414, -25.92926597595215, -14.144091606140137, -18.17342758178711, -15.891090393066406, -11.148038864135742, -8.246509552001953, -23.529094696044922, -17.61597442626953, -8.620022773742676, -2.841639757156372, -10.165401458740234, -3.3353476524353027, -23.72288703918457, -30.282699584960938, -12.356067657470703, -5.56593656539917, -28.536582946777344, 2.142760753631592, 1.3754825592041016, -11.74682331085205, -11.974562644958496, -12.540837287902832, -17.04850959777832, -15.821420669555664, -5.956258773803711, -7.985379219055176, -11.178672790527344, -12.28160572052002, -0.21387070417404175, -7.458921909332275, -7.711302280426025, 1.561639428138733, -8.049566268920898, -23.195947647094727, -5.8878655433654785, -21.072694778442383, -16.00620460510254, -8.105245590209961, -22.02419090270996, -16.797056198120117, -4.571097373962402, -21.835439682006836, -12.906777381896973, -25.346073150634766, -25.816308975219727, -17.351152420043945, -9.957724571228027, -18.992664337158203, -11.896015167236328, -11.79051685333252, -4.331976890563965, -16.686006546020508, -8.454261779785156, -12.297767639160156, -1.2048368453979492, -14.404788970947266, -2.9827897548675537, -20.960224151611328, -20.951337814331055, -18.63224983215332, -11.092241287231445, -14.69089126586914, -3.669711112976074, -23.679668426513672, -20.12462043762207, -26.682340621948242, -0.10057377815246582, -15.704773902893066, -1.2347853183746338, -31.6442928314209, -0.7876474261283875, -16.09258270263672, -13.17519474029541, -18.343231201171875, -17.3880672454834, -10.905951499938965, -6.543788433074951, -12.23093318939209, -17.260282516479492, -2.972797393798828, -5.26226282119751, -14.168521881103516, -8.204131126403809, -7.010712146759033, -12.27623462677002, -22.830150604248047], \"xaxis\": \"x\", \"y\": [7.061644554138184, 20.45493507385254, 5.749239921569824, 18.025611877441406, 8.802404403686523, -1.5382211208343506, 8.583735466003418, 14.214967727661133, 15.466245651245117, 25.008731842041016, 2.3754732608795166, 14.441325187683105, 3.5129809379577637, 19.343961715698242, 6.776130676269531, 8.552310943603516, 2.4118430614471436, 9.835604667663574, 8.875203132629395, 17.868513107299805, 6.510483264923096, 4.4849772453308105, 10.899490356445312, 10.71236801147461, 13.30944538116455, -0.47445523738861084, 23.623319625854492, 6.988495349884033, 11.229947090148926, 7.709261894226074, 12.323144912719727, 17.840742111206055, 19.14252471923828, -9.08719539642334, 6.107349872589111, 0.6463674902915955, 16.39999771118164, -2.76101016998291, 11.233436584472656, 5.441423416137695, 34.60753631591797, 12.947335243225098, 5.701612949371338, 12.230547904968262, 6.917758464813232, 0.1072438582777977, 22.709300994873047, 16.15180015563965, 17.929227828979492, -11.326653480529785, -1.0608844757080078, -6.004180908203125, 3.4508204460144043, 15.29752254486084, 4.599467754364014, 14.553854942321777, 22.27606201171875, -0.9444772601127625, 7.028916835784912, 9.711068153381348, 6.411075115203857, 15.244861602783203, 7.216407775878906, 5.24037504196167, -5.442714691162109, 2.72782039642334, 1.4584511518478394, 5.981326580047607, 19.08129119873047, 29.22216796875, 9.966436386108398, 6.231203079223633, 0.5326144099235535, 13.84798812866211, 12.827776908874512, 5.189345836639404, 1.346355676651001, 4.930371284484863, 9.271621704101562, 11.88698673248291, 7.161774635314941, 15.584009170532227, 12.417797088623047, 10.493904113769531, 10.116098403930664, -11.707149505615234, 22.41177749633789, 9.707085609436035, -8.492337226867676, 3.0994560718536377, -1.8796961307525635, 2.853457450866699, -23.04403305053711, -7.418898582458496, 7.950605392456055, 16.582244873046875, 16.235031127929688, 20.030824661254883, -0.14067940413951874, 12.193672180175781, 19.932674407958984, 7.9258646965026855, -7.6212053298950195, 10.60241413116455, 5.816098213195801, 20.364316940307617, 12.33891773223877, 10.027276039123535, 12.022991180419922, -0.7549924254417419, 17.050046920776367, 5.586407661437988, 27.271516799926758, 4.76069450378418, -1.4383366107940674, 9.173456192016602, 8.314188957214355, 2.6805315017700195, 9.191322326660156, -2.394514799118042, -4.914804458618164, 7.09382963180542, 24.752140045166016, 9.390715599060059, 13.799834251403809, 0.862303614616394, 16.160137176513672, 11.242546081542969, 15.548394203186035, 4.212498664855957, -6.998267650604248, 4.903306007385254, 13.068116188049316, -3.836702346801758, 14.264966011047363, 12.24594497680664, 29.963716506958008, 14.252481460571289, -5.597550868988037, -0.5673894286155701, 3.928501844406128, 8.404923439025879, 4.846425533294678, 6.333716869354248, 9.425518989562988, 1.1421399116516113, -2.4446287155151367, 5.27309513092041, 12.5437650680542, 16.304609298706055, -2.5985734462738037, 5.386160373687744, 22.694026947021484, 4.704157829284668, 11.691006660461426, 5.510671138763428, 15.7601318359375, -6.597603797912598, -5.25775671005249, 8.103116035461426, 28.027099609375, 2.0803117752075195, -4.637094020843506, 27.436002731323242, -3.67495059967041, 8.410441398620605, 10.811372756958008, 7.761196136474609, 14.413723945617676, 3.9848339557647705, 31.246824264526367, 26.885496139526367, 1.6740835905075073, 28.32166290283203, 5.049587249755859, 34.174163818359375, 6.450747013092041, 10.738222122192383, 18.889862060546875, 2.428126096725464, 7.781960964202881, -10.732913970947266, 10.638629913330078, 24.98395347595215, 12.426396369934082, -2.2692604064941406, 19.613525390625, -11.911230087280273, 6.721362113952637, 4.776830673217773, 16.754287719726562, 4.13694429397583, 4.6417646408081055, 5.824524402618408, 7.138323783874512, -2.9207348823547363, 19.60959243774414, 10.327946662902832, 1.3177763223648071, -5.7081193923950195, 7.261250019073486, -8.155719757080078, -1.8877485990524292, 8.990826606750488, 15.446978569030762, 25.52556610107422, 3.8050713539123535, 15.347938537597656, 13.502960205078125, 14.355918884277344, 2.4231443405151367, 12.547858238220215, 32.8321533203125, 20.805192947387695, 33.58313751220703, 11.987068176269531, 7.604706764221191, 3.2718896865844727, 9.737469673156738, -5.162408828735352, 12.735663414001465, 15.540063858032227, -2.97255277633667, 1.273016333580017, -1.5347477197647095, 0.3294541835784912, -15.698756217956543, 14.49021053314209, 19.921030044555664, 18.823383331298828, 4.590148448944092, -2.9432497024536133, 9.007121086120605, 22.594444274902344, 9.440821647644043, 6.989405155181885, 10.338067054748535, 5.668411731719971, 5.799994468688965, 26.82025718688965, -7.881669998168945, 7.9021077156066895, 5.351912021636963, 20.055538177490234, 17.152626037597656, 6.805881977081299, -0.6270502805709839, 1.3956515789031982, 30.882083892822266, 1.0759873390197754, -2.232124090194702, 21.062807083129883, 13.490731239318848, 14.283143043518066, 16.885713577270508, 4.824449062347412], \"yaxis\": \"y\"}],\n",
       "                        {\"legend\": {\"title\": {\"text\": \"source\"}, \"tracegroupgap\": 0}, \"margin\": {\"t\": 60}, \"template\": {\"data\": {\"bar\": [{\"error_x\": {\"color\": \"#2a3f5f\"}, \"error_y\": {\"color\": \"#2a3f5f\"}, \"marker\": {\"line\": {\"color\": \"#E5ECF6\", \"width\": 0.5}}, \"type\": \"bar\"}], \"barpolar\": [{\"marker\": {\"line\": {\"color\": \"#E5ECF6\", \"width\": 0.5}}, \"type\": \"barpolar\"}], \"carpet\": [{\"aaxis\": {\"endlinecolor\": \"#2a3f5f\", \"gridcolor\": \"white\", \"linecolor\": \"white\", \"minorgridcolor\": \"white\", \"startlinecolor\": \"#2a3f5f\"}, \"baxis\": {\"endlinecolor\": \"#2a3f5f\", \"gridcolor\": \"white\", \"linecolor\": \"white\", \"minorgridcolor\": \"white\", \"startlinecolor\": \"#2a3f5f\"}, \"type\": \"carpet\"}], \"choropleth\": [{\"colorbar\": {\"outlinewidth\": 0, \"ticks\": \"\"}, \"type\": \"choropleth\"}], \"contour\": [{\"colorbar\": {\"outlinewidth\": 0, \"ticks\": \"\"}, \"colorscale\": [[0.0, \"#0d0887\"], [0.1111111111111111, \"#46039f\"], [0.2222222222222222, \"#7201a8\"], [0.3333333333333333, \"#9c179e\"], [0.4444444444444444, \"#bd3786\"], [0.5555555555555556, \"#d8576b\"], [0.6666666666666666, \"#ed7953\"], [0.7777777777777778, \"#fb9f3a\"], [0.8888888888888888, \"#fdca26\"], [1.0, \"#f0f921\"]], \"type\": \"contour\"}], \"contourcarpet\": [{\"colorbar\": {\"outlinewidth\": 0, \"ticks\": \"\"}, \"type\": \"contourcarpet\"}], \"heatmap\": [{\"colorbar\": {\"outlinewidth\": 0, \"ticks\": \"\"}, \"colorscale\": [[0.0, \"#0d0887\"], [0.1111111111111111, \"#46039f\"], [0.2222222222222222, \"#7201a8\"], [0.3333333333333333, \"#9c179e\"], [0.4444444444444444, \"#bd3786\"], [0.5555555555555556, \"#d8576b\"], [0.6666666666666666, \"#ed7953\"], [0.7777777777777778, \"#fb9f3a\"], [0.8888888888888888, \"#fdca26\"], [1.0, \"#f0f921\"]], \"type\": \"heatmap\"}], \"heatmapgl\": [{\"colorbar\": {\"outlinewidth\": 0, \"ticks\": \"\"}, \"colorscale\": [[0.0, \"#0d0887\"], [0.1111111111111111, \"#46039f\"], [0.2222222222222222, \"#7201a8\"], [0.3333333333333333, \"#9c179e\"], [0.4444444444444444, \"#bd3786\"], [0.5555555555555556, \"#d8576b\"], [0.6666666666666666, \"#ed7953\"], [0.7777777777777778, \"#fb9f3a\"], [0.8888888888888888, \"#fdca26\"], [1.0, \"#f0f921\"]], \"type\": \"heatmapgl\"}], \"histogram\": [{\"marker\": {\"colorbar\": {\"outlinewidth\": 0, \"ticks\": \"\"}}, \"type\": \"histogram\"}], \"histogram2d\": [{\"colorbar\": {\"outlinewidth\": 0, \"ticks\": \"\"}, \"colorscale\": [[0.0, \"#0d0887\"], [0.1111111111111111, \"#46039f\"], [0.2222222222222222, \"#7201a8\"], [0.3333333333333333, \"#9c179e\"], [0.4444444444444444, \"#bd3786\"], [0.5555555555555556, \"#d8576b\"], [0.6666666666666666, \"#ed7953\"], [0.7777777777777778, \"#fb9f3a\"], [0.8888888888888888, \"#fdca26\"], [1.0, \"#f0f921\"]], \"type\": \"histogram2d\"}], \"histogram2dcontour\": [{\"colorbar\": {\"outlinewidth\": 0, \"ticks\": \"\"}, \"colorscale\": [[0.0, \"#0d0887\"], [0.1111111111111111, \"#46039f\"], [0.2222222222222222, \"#7201a8\"], [0.3333333333333333, \"#9c179e\"], [0.4444444444444444, \"#bd3786\"], [0.5555555555555556, \"#d8576b\"], [0.6666666666666666, \"#ed7953\"], [0.7777777777777778, \"#fb9f3a\"], [0.8888888888888888, \"#fdca26\"], [1.0, \"#f0f921\"]], \"type\": \"histogram2dcontour\"}], \"mesh3d\": [{\"colorbar\": {\"outlinewidth\": 0, \"ticks\": \"\"}, \"type\": \"mesh3d\"}], \"parcoords\": [{\"line\": {\"colorbar\": {\"outlinewidth\": 0, \"ticks\": \"\"}}, \"type\": \"parcoords\"}], \"pie\": [{\"automargin\": true, \"type\": \"pie\"}], \"scatter\": [{\"marker\": {\"colorbar\": {\"outlinewidth\": 0, \"ticks\": \"\"}}, \"type\": \"scatter\"}], \"scatter3d\": [{\"line\": {\"colorbar\": {\"outlinewidth\": 0, \"ticks\": \"\"}}, \"marker\": {\"colorbar\": {\"outlinewidth\": 0, \"ticks\": \"\"}}, \"type\": \"scatter3d\"}], \"scattercarpet\": [{\"marker\": {\"colorbar\": {\"outlinewidth\": 0, \"ticks\": \"\"}}, \"type\": \"scattercarpet\"}], \"scattergeo\": [{\"marker\": {\"colorbar\": {\"outlinewidth\": 0, \"ticks\": \"\"}}, \"type\": \"scattergeo\"}], \"scattergl\": [{\"marker\": {\"colorbar\": {\"outlinewidth\": 0, \"ticks\": \"\"}}, \"type\": \"scattergl\"}], \"scattermapbox\": [{\"marker\": {\"colorbar\": {\"outlinewidth\": 0, \"ticks\": \"\"}}, \"type\": \"scattermapbox\"}], \"scatterpolar\": [{\"marker\": {\"colorbar\": {\"outlinewidth\": 0, \"ticks\": \"\"}}, \"type\": \"scatterpolar\"}], \"scatterpolargl\": [{\"marker\": {\"colorbar\": {\"outlinewidth\": 0, \"ticks\": \"\"}}, \"type\": \"scatterpolargl\"}], \"scatterternary\": [{\"marker\": {\"colorbar\": {\"outlinewidth\": 0, \"ticks\": \"\"}}, \"type\": \"scatterternary\"}], \"surface\": [{\"colorbar\": {\"outlinewidth\": 0, \"ticks\": \"\"}, \"colorscale\": [[0.0, \"#0d0887\"], [0.1111111111111111, \"#46039f\"], [0.2222222222222222, \"#7201a8\"], [0.3333333333333333, \"#9c179e\"], [0.4444444444444444, \"#bd3786\"], [0.5555555555555556, \"#d8576b\"], [0.6666666666666666, \"#ed7953\"], [0.7777777777777778, \"#fb9f3a\"], [0.8888888888888888, \"#fdca26\"], [1.0, \"#f0f921\"]], \"type\": \"surface\"}], \"table\": [{\"cells\": {\"fill\": {\"color\": \"#EBF0F8\"}, \"line\": {\"color\": \"white\"}}, \"header\": {\"fill\": {\"color\": \"#C8D4E3\"}, \"line\": {\"color\": \"white\"}}, \"type\": \"table\"}]}, \"layout\": {\"annotationdefaults\": {\"arrowcolor\": \"#2a3f5f\", \"arrowhead\": 0, \"arrowwidth\": 1}, \"coloraxis\": {\"colorbar\": {\"outlinewidth\": 0, \"ticks\": \"\"}}, \"colorscale\": {\"diverging\": [[0, \"#8e0152\"], [0.1, \"#c51b7d\"], [0.2, \"#de77ae\"], [0.3, \"#f1b6da\"], [0.4, \"#fde0ef\"], [0.5, \"#f7f7f7\"], [0.6, \"#e6f5d0\"], [0.7, \"#b8e186\"], [0.8, \"#7fbc41\"], [0.9, \"#4d9221\"], [1, \"#276419\"]], \"sequential\": [[0.0, \"#0d0887\"], [0.1111111111111111, \"#46039f\"], [0.2222222222222222, \"#7201a8\"], [0.3333333333333333, \"#9c179e\"], [0.4444444444444444, \"#bd3786\"], [0.5555555555555556, \"#d8576b\"], [0.6666666666666666, \"#ed7953\"], [0.7777777777777778, \"#fb9f3a\"], [0.8888888888888888, \"#fdca26\"], [1.0, \"#f0f921\"]], \"sequentialminus\": [[0.0, \"#0d0887\"], [0.1111111111111111, \"#46039f\"], [0.2222222222222222, \"#7201a8\"], [0.3333333333333333, \"#9c179e\"], [0.4444444444444444, \"#bd3786\"], [0.5555555555555556, \"#d8576b\"], [0.6666666666666666, \"#ed7953\"], [0.7777777777777778, \"#fb9f3a\"], [0.8888888888888888, \"#fdca26\"], [1.0, \"#f0f921\"]]}, \"colorway\": [\"#636efa\", \"#EF553B\", \"#00cc96\", \"#ab63fa\", \"#FFA15A\", \"#19d3f3\", \"#FF6692\", \"#B6E880\", \"#FF97FF\", \"#FECB52\"], \"font\": {\"color\": \"#2a3f5f\"}, \"geo\": {\"bgcolor\": \"white\", \"lakecolor\": \"white\", \"landcolor\": \"#E5ECF6\", \"showlakes\": true, \"showland\": true, \"subunitcolor\": \"white\"}, \"hoverlabel\": {\"align\": \"left\"}, \"hovermode\": \"closest\", \"mapbox\": {\"style\": \"light\"}, \"paper_bgcolor\": \"white\", \"plot_bgcolor\": \"#E5ECF6\", \"polar\": {\"angularaxis\": {\"gridcolor\": \"white\", \"linecolor\": \"white\", \"ticks\": \"\"}, \"bgcolor\": \"#E5ECF6\", \"radialaxis\": {\"gridcolor\": \"white\", \"linecolor\": \"white\", \"ticks\": \"\"}}, \"scene\": {\"xaxis\": {\"backgroundcolor\": \"#E5ECF6\", \"gridcolor\": \"white\", \"gridwidth\": 2, \"linecolor\": \"white\", \"showbackground\": true, \"ticks\": \"\", \"zerolinecolor\": \"white\"}, \"yaxis\": {\"backgroundcolor\": \"#E5ECF6\", \"gridcolor\": \"white\", \"gridwidth\": 2, \"linecolor\": \"white\", \"showbackground\": true, \"ticks\": \"\", \"zerolinecolor\": \"white\"}, \"zaxis\": {\"backgroundcolor\": \"#E5ECF6\", \"gridcolor\": \"white\", \"gridwidth\": 2, \"linecolor\": \"white\", \"showbackground\": true, \"ticks\": \"\", \"zerolinecolor\": \"white\"}}, \"shapedefaults\": {\"line\": {\"color\": \"#2a3f5f\"}}, \"ternary\": {\"aaxis\": {\"gridcolor\": \"white\", \"linecolor\": \"white\", \"ticks\": \"\"}, \"baxis\": {\"gridcolor\": \"white\", \"linecolor\": \"white\", \"ticks\": \"\"}, \"bgcolor\": \"#E5ECF6\", \"caxis\": {\"gridcolor\": \"white\", \"linecolor\": \"white\", \"ticks\": \"\"}}, \"title\": {\"x\": 0.05}, \"xaxis\": {\"automargin\": true, \"gridcolor\": \"white\", \"linecolor\": \"white\", \"ticks\": \"\", \"title\": {\"standoff\": 15}, \"zerolinecolor\": \"white\", \"zerolinewidth\": 2}, \"yaxis\": {\"automargin\": true, \"gridcolor\": \"white\", \"linecolor\": \"white\", \"ticks\": \"\", \"title\": {\"standoff\": 15}, \"zerolinecolor\": \"white\", \"zerolinewidth\": 2}}}, \"xaxis\": {\"anchor\": \"y\", \"domain\": [0.0, 1.0], \"title\": {\"text\": \"x\"}}, \"yaxis\": {\"anchor\": \"x\", \"domain\": [0.0, 1.0], \"title\": {\"text\": \"y\"}}},\n",
       "                        {\"responsive\": true}\n",
       "                    ).then(function(){\n",
       "                            \n",
       "var gd = document.getElementById('e3e8e53f-9e2c-4cfb-9dde-c88f2ddfa31d');\n",
       "var x = new MutationObserver(function (mutations, observer) {{\n",
       "        var display = window.getComputedStyle(gd).display;\n",
       "        if (!display || display === 'none') {{\n",
       "            console.log([gd, 'removed!']);\n",
       "            Plotly.purge(gd);\n",
       "            observer.disconnect();\n",
       "        }}\n",
       "}});\n",
       "\n",
       "// Listen for the removal of the full notebook cells\n",
       "var notebookContainer = gd.closest('#notebook-container');\n",
       "if (notebookContainer) {{\n",
       "    x.observe(notebookContainer, {childList: true});\n",
       "}}\n",
       "\n",
       "// Listen for the clearing of the current output cell\n",
       "var outputEl = gd.closest('.output');\n",
       "if (outputEl) {{\n",
       "    x.observe(outputEl, {childList: true});\n",
       "}}\n",
       "\n",
       "                        })\n",
       "                };\n",
       "                });\n",
       "            </script>\n",
       "        </div>"
      ]
     },
     "metadata": {},
     "output_type": "display_data"
    }
   ],
   "source": [
    "px.scatter(tsne_frame,x='x', y='y',color='source')\n"
   ]
  },
  {
   "cell_type": "code",
   "execution_count": 49,
   "metadata": {},
   "outputs": [],
   "source": [
    "class_dict = get_imagenet_class_dict()\n",
    "labels = []\n",
    "for output in outputs:\n",
    "    max_ind = output.argmax()\n",
    "    label = class_dictionary[max_ind]\n",
    "    labels.append(label)\n",
    "tsne_frame['labels'] = labels"
   ]
  },
  {
   "cell_type": "code",
   "execution_count": null,
   "outputs": [],
   "source": [
    "tsne_frame.groupby(['source','labels']).size().nlargest(25)"
   ],
   "metadata": {
    "collapsed": false,
    "pycharm": {
     "name": "#%%\n"
    }
   }
  },
  {
   "cell_type": "code",
   "execution_count": 51,
   "metadata": {},
   "outputs": [
    {
     "data": {
      "text/plain": [
       "source    labels                                                                             \n",
       "philips   maze, labyrinth                                                                        89\n",
       "esaote    nematode, nematode worm, roundworm                                                     67\n",
       "philips   fountain                                                                               54\n",
       "          nematode, nematode worm, roundworm                                                     48\n",
       "esaote    thimble                                                                                37\n",
       "          toaster                                                                                28\n",
       "          saltshaker, salt shaker                                                                26\n",
       "imagenet  great white shark, white shark, man-eater, man-eating shark, Carcharodon carcharias    26\n",
       "          tench, Tinca tinca                                                                     26\n",
       "          tiger shark, Galeocerdo cuvieri                                                        25\n",
       "          goldfish, Carassius auratus                                                            24\n",
       "          hammerhead, hammerhead shark                                                           22\n",
       "esaote    maze, labyrinth                                                                        19\n",
       "philips   thimble                                                                                19\n",
       "esaote    fountain                                                                               18\n",
       "philips   window screen                                                                          16\n",
       "esaote    seashore, coast, seacoast, sea-coast                                                   12\n",
       "imagenet  electric ray, crampfish, numbfish, torpedo                                             11\n",
       "esaote    window shade                                                                            8\n",
       "          sax, saxophone                                                                          7\n",
       "          hay                                                                                     6\n",
       "          window screen                                                                           6\n",
       "philips   saltshaker, salt shaker                                                                 6\n",
       "esaote    breastplate, aegis, egis                                                                4\n",
       "philips   airship, dirigible                                                                      4\n",
       "dtype: int64"
      ]
     },
     "execution_count": 51,
     "metadata": {},
     "output_type": "execute_result"
    }
   ],
   "source": [
    "from torch import softmax\n",
    "px.bar(outputs[0])"
   ]
  },
  {
   "cell_type": "code",
   "execution_count": 2,
   "metadata": {},
   "outputs": [
    {
     "ename": "NameError",
     "evalue": "name 'outputs' is not defined",
     "output_type": "error",
     "traceback": [
      "\u001B[0;31m---------------------------------------------------------------------------\u001B[0m",
      "\u001B[0;31mNameError\u001B[0m                                 Traceback (most recent call last)",
      "\u001B[0;32m<ipython-input-2-e521bd0fe939>\u001B[0m in \u001B[0;36m<module>\u001B[0;34m\u001B[0m\n\u001B[1;32m      1\u001B[0m \u001B[0;32mfrom\u001B[0m \u001B[0mtorch\u001B[0m \u001B[0;32mimport\u001B[0m \u001B[0msoftmax\u001B[0m\u001B[0;34m\u001B[0m\u001B[0;34m\u001B[0m\u001B[0m\n\u001B[0;32m----> 2\u001B[0;31m \u001B[0mpx\u001B[0m\u001B[0;34m.\u001B[0m\u001B[0mbar\u001B[0m\u001B[0;34m(\u001B[0m\u001B[0moutputs\u001B[0m\u001B[0;34m[\u001B[0m\u001B[0;36m0\u001B[0m\u001B[0;34m]\u001B[0m\u001B[0;34m)\u001B[0m\u001B[0;34m\u001B[0m\u001B[0;34m\u001B[0m\u001B[0m\n\u001B[0m",
      "\u001B[0;31mNameError\u001B[0m: name 'outputs' is not defined"
     ]
    }
   ],
   "source": [
    "from torch import softmax\n",
    "px.bar(outputs[0])"
   ]
  },
  {
   "cell_type": "code",
   "execution_count": null,
   "metadata": {},
   "outputs": [],
   "source": []
  }
 ],
 "metadata": {
  "kernelspec": {
   "display_name": "Python 3",
   "language": "python",
   "name": "python3"
  },
  "language_info": {
   "codemirror_mode": {
    "name": "ipython",
    "version": 3
   },
   "file_extension": ".py",
   "mimetype": "text/x-python",
   "name": "python",
   "nbconvert_exporter": "python",
   "pygments_lexer": "ipython3",
   "version": "3.8.2"
  }
 },
 "nbformat": 4,
 "nbformat_minor": 1
}